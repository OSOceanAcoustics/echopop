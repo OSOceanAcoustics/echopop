{
 "cells": [
  {
   "cell_type": "markdown",
   "id": "f0aa0cbe",
   "metadata": {},
   "source": [
    "# EchoPro Semi-variogram Workflow"
   ]
  },
  {
   "cell_type": "markdown",
   "id": "ccaef1d6",
   "metadata": {},
   "source": [
    "## Import libraries and configure the Jupyter notebook"
   ]
  },
  {
   "cell_type": "code",
   "execution_count": 1,
   "id": "66ad49aa",
   "metadata": {
    "execution": {
     "iopub.execute_input": "2023-09-28T18:45:09.180346Z",
     "iopub.status.busy": "2023-09-28T18:45:09.180010Z",
     "iopub.status.idle": "2023-09-28T18:45:10.717300Z",
     "shell.execute_reply": "2023-09-28T18:45:10.716750Z"
    }
   },
   "outputs": [],
   "source": [
    "# libraries used in the Notebook\n",
    "import matplotlib.pyplot as plt\n",
    "import numpy as np \n",
    "\n",
    "# Python version of EchoPro\n",
    "import EchoPro\n",
    "\n",
    "# Allows us to grab the SemiVariogram class so we can use its models\n",
    "from EchoPro.computation import SemiVariogram as SV\n",
    "\n",
    "# Allows us to easily use matplotlib widgets in our Notebook\n",
    "%matplotlib widget"
   ]
  },
  {
   "cell_type": "markdown",
   "id": "62ccae43",
   "metadata": {},
   "source": [
    "## Set up  EchoPro for a specific survey year"
   ]
  },
  {
   "cell_type": "markdown",
   "id": "866dbb16",
   "metadata": {},
   "source": [
    "### Initialize EchoPro object  using configuration files\n",
    "\n",
    "* `initialization_config.yml` -- parameters independent of survey year\n",
    "* `survey_year_2019_config.yml` -- parameters specific to survey year\n",
    "* `source` -- Define the region of data to use e.g. US, CAN, US & CAN\n",
    "* `exclude_age1` -- States whether age 1 hake should be included in analysis."
   ]
  },
  {
   "cell_type": "code",
   "execution_count": 2,
   "id": "059a8a59",
   "metadata": {
    "execution": {
     "iopub.execute_input": "2023-09-28T18:45:10.720150Z",
     "iopub.status.busy": "2023-09-28T18:45:10.719866Z",
     "iopub.status.idle": "2023-09-28T18:45:10.730634Z",
     "shell.execute_reply": "2023-09-28T18:45:10.730260Z"
    }
   },
   "outputs": [
    {
     "name": "stdout",
     "output_type": "stream",
     "text": [
      "A full check of the initialization file contents needs to be done!\n",
      "A check of the survey year file contents needs to be done!\n",
      "CPU times: user 7.64 ms, sys: 0 ns, total: 7.64 ms\n",
      "Wall time: 7.58 ms\n"
     ]
    }
   ],
   "source": [
    "%%time\n",
    "survey_2019 = EchoPro.Survey(init_file_path='../config_files/initialization_config.yml',\n",
    "                             survey_year_file_path='../config_files/survey_year_2019_config.yml',\n",
    "                             source=3, \n",
    "                             exclude_age1=True)"
   ]
  },
  {
   "cell_type": "markdown",
   "id": "81e28c67",
   "metadata": {},
   "source": [
    "### Load and process input data \n",
    "* This data is stored in `survey_2019`"
   ]
  },
  {
   "cell_type": "code",
   "execution_count": 3,
   "id": "8c0d730c",
   "metadata": {
    "execution": {
     "iopub.execute_input": "2023-09-28T18:45:10.732708Z",
     "iopub.status.busy": "2023-09-28T18:45:10.732549Z",
     "iopub.status.idle": "2023-09-28T18:45:12.104091Z",
     "shell.execute_reply": "2023-09-28T18:45:12.103443Z"
    }
   },
   "outputs": [
    {
     "name": "stdout",
     "output_type": "stream",
     "text": [
      "CPU times: user 1.37 s, sys: 0 ns, total: 1.37 s\n",
      "Wall time: 1.37 s\n"
     ]
    }
   ],
   "source": [
    "%%time \n",
    "survey_2019.load_survey_data() "
   ]
  },
  {
   "cell_type": "markdown",
   "id": "75ecf293",
   "metadata": {},
   "source": [
    "### Compute the areal biomass density\n",
    "* The areal biomass density is stored in `survey_2019.bio_calc.transect_results_gdf` as `biomass_density_adult`"
   ]
  },
  {
   "cell_type": "code",
   "execution_count": 4,
   "id": "1a648765",
   "metadata": {
    "execution": {
     "iopub.execute_input": "2023-09-28T18:45:12.105994Z",
     "iopub.status.busy": "2023-09-28T18:45:12.105789Z",
     "iopub.status.idle": "2023-09-28T18:45:13.833755Z",
     "shell.execute_reply": "2023-09-28T18:45:13.833221Z"
    }
   },
   "outputs": [
    {
     "name": "stdout",
     "output_type": "stream",
     "text": [
      "CPU times: user 1.72 s, sys: 5.65 ms, total: 1.73 s\n",
      "Wall time: 1.73 s\n"
     ]
    }
   ],
   "source": [
    "%%time\n",
    "survey_2019.compute_transect_results()"
   ]
  },
  {
   "cell_type": "markdown",
   "id": "c5bd6ad7",
   "metadata": {},
   "source": [
    "## Obtain Kriging Mesh Data"
   ]
  },
  {
   "cell_type": "markdown",
   "id": "f26756c4",
   "metadata": {},
   "source": [
    "### Access Kriging mesh object\n",
    "* Reads mesh data files specified by `survey_2019` "
   ]
  },
  {
   "cell_type": "code",
   "execution_count": 5,
   "id": "c976b0b9",
   "metadata": {
    "execution": {
     "iopub.execute_input": "2023-09-28T18:45:13.836150Z",
     "iopub.status.busy": "2023-09-28T18:45:13.836022Z",
     "iopub.status.idle": "2023-09-28T18:45:14.844087Z",
     "shell.execute_reply": "2023-09-28T18:45:14.843723Z"
    }
   },
   "outputs": [],
   "source": [
    "krig_mesh = survey_2019.get_kriging_mesh()"
   ]
  },
  {
   "cell_type": "markdown",
   "id": "5c9580b0-40f1-47b0-b947-c410fdbd3fd2",
   "metadata": {},
   "source": [
    "### Apply coordinate transformations to transect data \n",
    "* Longitude transformation\n",
    "* Lat/Lon to distance"
   ]
  },
  {
   "cell_type": "markdown",
   "id": "1c2a3a9b",
   "metadata": {},
   "source": [
    "#### Transect points"
   ]
  },
  {
   "cell_type": "code",
   "execution_count": 6,
   "id": "9d447533",
   "metadata": {
    "execution": {
     "iopub.execute_input": "2023-09-28T18:45:14.846016Z",
     "iopub.status.busy": "2023-09-28T18:45:14.845887Z",
     "iopub.status.idle": "2023-09-28T18:45:15.508285Z",
     "shell.execute_reply": "2023-09-28T18:45:15.507665Z"
    }
   },
   "outputs": [],
   "source": [
    "krig_mesh.apply_coordinate_transformation(coord_type='transect')"
   ]
  },
  {
   "cell_type": "markdown",
   "id": "09e17c81",
   "metadata": {},
   "source": [
    "## Compute biomass density Semi-Variogram and fit a model\n",
    "\n",
    "* Compute the normalized semi-variogram using the areal biomass density\n",
    "* Fit a model to the semi-variogram values"
   ]
  },
  {
   "cell_type": "markdown",
   "id": "44b1346d",
   "metadata": {},
   "source": [
    "### Compute the semi-variogram"
   ]
  },
  {
   "cell_type": "markdown",
   "id": "4340fbab",
   "metadata": {},
   "source": [
    "#### Initialize semi-variogram calculation\n",
    "* Transformed transect points\n",
    "* Parameters specific to semi-variogram algorithm"
   ]
  },
  {
   "cell_type": "code",
   "execution_count": 7,
   "id": "39f0ac8c",
   "metadata": {
    "execution": {
     "iopub.execute_input": "2023-09-28T18:45:15.510398Z",
     "iopub.status.busy": "2023-09-28T18:45:15.510280Z",
     "iopub.status.idle": "2023-09-28T18:45:15.512852Z",
     "shell.execute_reply": "2023-09-28T18:45:15.512552Z"
    }
   },
   "outputs": [],
   "source": [
    "semi_vario = survey_2019.get_semi_variogram(\n",
    "    krig_mesh,\n",
    "    params=dict(nlag=30, lag_res=0.002)\n",
    ")"
   ]
  },
  {
   "cell_type": "markdown",
   "id": "f4fb890b",
   "metadata": {},
   "source": [
    "#### Compute the normalized semi-variogram"
   ]
  },
  {
   "cell_type": "code",
   "execution_count": 8,
   "id": "e6f9146f",
   "metadata": {
    "execution": {
     "iopub.execute_input": "2023-09-28T18:45:15.514757Z",
     "iopub.status.busy": "2023-09-28T18:45:15.514625Z",
     "iopub.status.idle": "2023-09-28T18:45:18.857388Z",
     "shell.execute_reply": "2023-09-28T18:45:18.856935Z"
    }
   },
   "outputs": [
    {
     "name": "stdout",
     "output_type": "stream",
     "text": [
      "CPU times: user 3.7 s, sys: 1.95 s, total: 5.66 s\n",
      "Wall time: 3.34 s\n"
     ]
    }
   ],
   "source": [
    "%%time\n",
    "semi_vario.calculate_semi_variogram()"
   ]
  },
  {
   "cell_type": "code",
   "execution_count": 9,
   "id": "58b8dd8b",
   "metadata": {
    "execution": {
     "iopub.execute_input": "2023-09-28T18:45:18.859463Z",
     "iopub.status.busy": "2023-09-28T18:45:18.859322Z",
     "iopub.status.idle": "2023-09-28T18:45:18.862782Z",
     "shell.execute_reply": "2023-09-28T18:45:18.862502Z"
    }
   },
   "outputs": [
    {
     "data": {
      "text/plain": [
       "array([0.55956903, 0.2787168 , 0.50171389, 0.62853021, 0.81700132,\n",
       "       0.84808277, 0.85626558, 0.88805863, 0.87678714, 0.89533099,\n",
       "       0.92552751, 0.92969092, 0.92622266, 0.93359387, 0.94453168,\n",
       "       0.94983155, 0.92341107, 0.91565978, 0.93721164, 0.96212835,\n",
       "       0.94361429, 0.93675359, 0.96621853, 0.97465786, 0.977012  ,\n",
       "       0.96146394, 0.98101596, 0.98020563, 0.98974628, 0.95737046])"
      ]
     },
     "execution_count": 9,
     "metadata": {},
     "output_type": "execute_result"
    }
   ],
   "source": [
    "semi_vario.gamma_normalized"
   ]
  },
  {
   "cell_type": "markdown",
   "id": "0024c1f6",
   "metadata": {},
   "source": [
    "### Fit a model to the semi-variogram\n",
    "\n",
    "* A widget to easily fit the model\n",
    "\n",
    "**Note: The below Least Squares fit has a default bound on all float parameters. All parameters except `Length scale hole effect` and `Nugget` are in the bounds `(0, infinity)`. The parameters `Length scale hole effect` and `Nugget` have the bounds (0, 1e-13) so that they produce near zero values.**"
   ]
  },
  {
   "cell_type": "code",
   "execution_count": 10,
   "id": "475b4f4c",
   "metadata": {
    "execution": {
     "iopub.execute_input": "2023-09-28T18:45:18.864457Z",
     "iopub.status.busy": "2023-09-28T18:45:18.864337Z",
     "iopub.status.idle": "2023-09-28T18:45:19.032860Z",
     "shell.execute_reply": "2023-09-28T18:45:19.032371Z"
    }
   },
   "outputs": [
    {
     "data": {
      "application/vnd.jupyter.widget-view+json": {
       "model_id": "edfe9cff64754c0dad1aa51bfca406d0",
       "version_major": 2,
       "version_minor": 0
      },
      "text/plain": [
       "GridspecLayout(children=(Dropdown(description='Semi-variogram model', index=1, layout=Layout(grid_area='widget…"
      ]
     },
     "metadata": {},
     "output_type": "display_data"
    }
   ],
   "source": [
    "semi_vario.get_widget()"
   ]
  },
  {
   "cell_type": "markdown",
   "id": "1513fc9c",
   "metadata": {},
   "source": [
    "#### Get semi-variogram model Parameters \n",
    "- Obtain semi-variogram model parameters \n",
    "\n",
    "**Note: If one fits the model using the above widget and then reruns the below line, the updated model parameters can be obtained.**"
   ]
  },
  {
   "cell_type": "code",
   "execution_count": 11,
   "id": "08458ac0",
   "metadata": {
    "execution": {
     "iopub.execute_input": "2023-09-28T18:45:19.044822Z",
     "iopub.status.busy": "2023-09-28T18:45:19.043293Z",
     "iopub.status.idle": "2023-09-28T18:45:19.049470Z",
     "shell.execute_reply": "2023-09-28T18:45:19.048986Z"
    }
   },
   "outputs": [
    {
     "data": {
      "text/plain": [
       "{'s_v_model': <function EchoPro.computation.semivariogram.SemiVariogram.generalized_exp_bessel(lag_vec: numpy.ndarray, sill: float, ls: float, exp_pow: float, ls_hole_eff: float, nugget: float) -> numpy.ndarray>,\n",
       " 's_v_params': {'sill': 1.0,\n",
       "  'ls': 1.0,\n",
       "  'exp_pow': 1.0,\n",
       "  'ls_hole_eff': 1.0,\n",
       "  'nugget': 0.0}}"
      ]
     },
     "execution_count": 11,
     "metadata": {},
     "output_type": "execute_result"
    }
   ],
   "source": [
    "semi_vario.get_params_for_kriging()"
   ]
  },
  {
   "cell_type": "markdown",
   "id": "c945015b",
   "metadata": {},
   "source": [
    "### Compare Python normalized gamma against Matlab output\n",
    "- We see that the results are matching to about 4 decimal places"
   ]
  },
  {
   "cell_type": "code",
   "execution_count": 12,
   "id": "64ed1ba8",
   "metadata": {
    "execution": {
     "iopub.execute_input": "2023-09-28T18:45:19.052077Z",
     "iopub.status.busy": "2023-09-28T18:45:19.051612Z",
     "iopub.status.idle": "2023-09-28T18:45:19.058896Z",
     "shell.execute_reply": "2023-09-28T18:45:19.058503Z"
    }
   },
   "outputs": [
    {
     "data": {
      "text/plain": [
       "True"
      ]
     },
     "execution_count": 12,
     "metadata": {},
     "output_type": "execute_result"
    }
   ],
   "source": [
    "# output produced by Matlab EchoPro\n",
    "matlab_gamma = np.array([0.55957167, 0.27871057, 0.5017043 , 0.6285182 , 0.81699518,\n",
    "       0.84807799, 0.85626063, 0.88805541, 0.87678417, 0.89532938,\n",
    "       0.925526  , 0.92969017, 0.92621991, 0.93359212, 0.94452939,\n",
    "       0.94982919, 0.92340754, 0.91565693, 0.93720898, 0.96212605,\n",
    "       0.94361212, 0.93675056, 0.96621628, 0.97465567, 0.97700998,\n",
    "       0.96146162, 0.98101481, 0.98020469, 0.98974528, 0.95736852])\n",
    "\n",
    "np.allclose(semi_vario.gamma_normalized, matlab_gamma, rtol=1e-4)"
   ]
  }
 ],
 "metadata": {
  "kernelspec": {
   "display_name": "echopro_conda",
   "language": "python",
   "name": "echopro_conda"
  },
  "language_info": {
   "codemirror_mode": {
    "name": "ipython",
    "version": 3
   },
   "file_extension": ".py",
   "mimetype": "text/x-python",
   "name": "python",
   "nbconvert_exporter": "python",
   "pygments_lexer": "ipython3",
   "version": "3.9.16"
  },
  "toc": {
   "base_numbering": 1,
   "nav_menu": {
    "height": "332px",
    "width": "838px"
   },
   "number_sections": true,
   "sideBar": true,
   "skip_h1_title": false,
   "title_cell": "Table of Contents",
   "title_sidebar": "Contents",
   "toc_cell": false,
   "toc_position": {
    "height": "calc(100% - 180px)",
    "left": "10px",
    "top": "150px",
    "width": "217.2px"
   },
   "toc_section_display": true,
   "toc_window_display": true
  },
  "toc-autonumbering": true,
  "widgets": {
   "application/vnd.jupyter.widget-state+json": {
    "state": {
     "0476aed4c9b14aa4a0ec7e91962496e8": {
      "model_module": "@jupyter-widgets/controls",
      "model_module_version": "1.5.0",
      "model_name": "FloatTextModel",
      "state": {
       "_dom_classes": [],
       "_model_module": "@jupyter-widgets/controls",
       "_model_module_version": "1.5.0",
       "_model_name": "FloatTextModel",
       "_view_count": null,
       "_view_module": "@jupyter-widgets/controls",
       "_view_module_version": "1.5.0",
       "_view_name": "FloatTextView",
       "continuous_update": false,
       "description": "Length scale hole effect",
       "description_tooltip": null,
       "disabled": false,
       "layout": "IPY_MODEL_82aab1f4aa044607a1c83a7f63183c8e",
       "step": null,
       "style": "IPY_MODEL_df5dae1310764fe6a16b12de37c2fa4f",
       "value": 1.0
      }
     },
     "0a86f225664a478188026df1cb503f76": {
      "model_module": "jupyter-matplotlib",
      "model_module_version": "^0.11",
      "model_name": "MPLCanvasModel",
      "state": {
       "_cursor": "pointer",
       "_data_url": null,
       "_dom_classes": [],
       "_figure_label": "",
       "_image_mode": "full",
       "_message": "",
       "_model_module": "jupyter-matplotlib",
       "_model_module_version": "^0.11",
       "_model_name": "MPLCanvasModel",
       "_rubberband_height": 0,
       "_rubberband_width": 0,
       "_rubberband_x": 0,
       "_rubberband_y": 0,
       "_size": [
        0,
        0
       ],
       "_view_count": null,
       "_view_module": "jupyter-matplotlib",
       "_view_module_version": "^0.11",
       "_view_name": "MPLCanvasView",
       "capture_scroll": false,
       "footer_visible": true,
       "header_visible": true,
       "layout": "IPY_MODEL_d745f10643784662af85de8088d01201",
       "pan_zoom_throttle": 33.0,
       "resizable": true,
       "toolbar": "IPY_MODEL_9d6af242099446afbb237715058b4ea7",
       "toolbar_position": "left",
       "toolbar_visible": "fade-in-fade-out"
      }
     },
     "0d79ae927de742679ea1296c9b9c4223": {
      "model_module": "@jupyter-widgets/controls",
      "model_module_version": "1.5.0",
      "model_name": "DescriptionStyleModel",
      "state": {
       "_model_module": "@jupyter-widgets/controls",
       "_model_module_version": "1.5.0",
       "_model_name": "DescriptionStyleModel",
       "_view_count": null,
       "_view_module": "@jupyter-widgets/base",
       "_view_module_version": "1.2.0",
       "_view_name": "StyleView",
       "description_width": "initial"
      }
     },
     "2951ba8e15044dd0afee526bf79934be": {
      "model_module": "@jupyter-widgets/base",
      "model_module_version": "1.2.0",
      "model_name": "LayoutModel",
      "state": {
       "_model_module": "@jupyter-widgets/base",
       "_model_module_version": "1.2.0",
       "_model_name": "LayoutModel",
       "_view_count": null,
       "_view_module": "@jupyter-widgets/base",
       "_view_module_version": "1.2.0",
       "_view_name": "LayoutView",
       "align_content": null,
       "align_items": null,
       "align_self": null,
       "border": null,
       "bottom": null,
       "display": null,
       "flex": null,
       "flex_flow": null,
       "grid_area": "widget001",
       "grid_auto_columns": null,
       "grid_auto_flow": null,
       "grid_auto_rows": null,
       "grid_column": null,
       "grid_gap": null,
       "grid_row": null,
       "grid_template_areas": null,
       "grid_template_columns": null,
       "grid_template_rows": null,
       "height": null,
       "justify_content": null,
       "justify_items": null,
       "left": null,
       "margin": null,
       "max_height": null,
       "max_width": null,
       "min_height": null,
       "min_width": null,
       "object_fit": null,
       "object_position": null,
       "order": null,
       "overflow": null,
       "overflow_x": null,
       "overflow_y": null,
       "padding": null,
       "right": null,
       "top": null,
       "visibility": null,
       "width": null
      }
     },
     "2dd981b56c4d4021bfab1d755197bd9e": {
      "model_module": "@jupyter-widgets/controls",
      "model_module_version": "1.5.0",
      "model_name": "ToggleButtonModel",
      "state": {
       "_dom_classes": [],
       "_model_module": "@jupyter-widgets/controls",
       "_model_module_version": "1.5.0",
       "_model_name": "ToggleButtonModel",
       "_view_count": null,
       "_view_module": "@jupyter-widgets/controls",
       "_view_module_version": "1.5.0",
       "_view_name": "ToggleButtonView",
       "button_style": "info",
       "description": "Run Least Squares fit",
       "description_tooltip": null,
       "disabled": false,
       "icon": "",
       "layout": "IPY_MODEL_f616bff0c49a4eb9abe61a5cd6e85c28",
       "style": "IPY_MODEL_9e1bc27532e344a1aa054c462f8c7d6a",
       "tooltip": "Description",
       "value": false
      }
     },
     "3bb4f90300ff45af9553df1ebb82e591": {
      "model_module": "@jupyter-widgets/base",
      "model_module_version": "1.2.0",
      "model_name": "LayoutModel",
      "state": {
       "_model_module": "@jupyter-widgets/base",
       "_model_module_version": "1.2.0",
       "_model_name": "LayoutModel",
       "_view_count": null,
       "_view_module": "@jupyter-widgets/base",
       "_view_module_version": "1.2.0",
       "_view_name": "LayoutView",
       "align_content": null,
       "align_items": null,
       "align_self": null,
       "border": null,
       "bottom": null,
       "display": null,
       "flex": null,
       "flex_flow": null,
       "grid_area": "widget004",
       "grid_auto_columns": null,
       "grid_auto_flow": null,
       "grid_auto_rows": null,
       "grid_column": null,
       "grid_gap": null,
       "grid_row": null,
       "grid_template_areas": null,
       "grid_template_columns": null,
       "grid_template_rows": null,
       "height": null,
       "justify_content": null,
       "justify_items": null,
       "left": null,
       "margin": null,
       "max_height": null,
       "max_width": null,
       "min_height": null,
       "min_width": null,
       "object_fit": null,
       "object_position": null,
       "order": null,
       "overflow": null,
       "overflow_x": null,
       "overflow_y": null,
       "padding": null,
       "right": null,
       "top": null,
       "visibility": null,
       "width": null
      }
     },
     "3f902d63f9654a109deffb6469236240": {
      "model_module": "@jupyter-widgets/controls",
      "model_module_version": "1.5.0",
      "model_name": "FloatTextModel",
      "state": {
       "_dom_classes": [],
       "_model_module": "@jupyter-widgets/controls",
       "_model_module_version": "1.5.0",
       "_model_name": "FloatTextModel",
       "_view_count": null,
       "_view_module": "@jupyter-widgets/controls",
       "_view_module_version": "1.5.0",
       "_view_name": "FloatTextView",
       "continuous_update": false,
       "description": "Sill",
       "description_tooltip": null,
       "disabled": false,
       "layout": "IPY_MODEL_cca93169e1da44d9a17fdcb0b0d375b3",
       "step": null,
       "style": "IPY_MODEL_5ccc50484902446885cc91be4dd10880",
       "value": 1.0
      }
     },
     "464a774983fb4b40abf0cf9792249f8f": {
      "model_module": "@jupyter-widgets/base",
      "model_module_version": "1.2.0",
      "model_name": "LayoutModel",
      "state": {
       "_model_module": "@jupyter-widgets/base",
       "_model_module_version": "1.2.0",
       "_model_name": "LayoutModel",
       "_view_count": null,
       "_view_module": "@jupyter-widgets/base",
       "_view_module_version": "1.2.0",
       "_view_name": "LayoutView",
       "align_content": null,
       "align_items": null,
       "align_self": null,
       "border": null,
       "bottom": null,
       "display": null,
       "flex": null,
       "flex_flow": null,
       "grid_area": null,
       "grid_auto_columns": null,
       "grid_auto_flow": null,
       "grid_auto_rows": null,
       "grid_column": null,
       "grid_gap": null,
       "grid_row": null,
       "grid_template_areas": null,
       "grid_template_columns": null,
       "grid_template_rows": null,
       "height": null,
       "justify_content": null,
       "justify_items": null,
       "left": null,
       "margin": null,
       "max_height": null,
       "max_width": null,
       "min_height": null,
       "min_width": null,
       "object_fit": null,
       "object_position": null,
       "order": null,
       "overflow": null,
       "overflow_x": null,
       "overflow_y": null,
       "padding": null,
       "right": null,
       "top": null,
       "visibility": null,
       "width": null
      }
     },
     "54e4f68a11cb460e82066c45b9635ae3": {
      "model_module": "@jupyter-widgets/controls",
      "model_module_version": "1.5.0",
      "model_name": "DescriptionStyleModel",
      "state": {
       "_model_module": "@jupyter-widgets/controls",
       "_model_module_version": "1.5.0",
       "_model_name": "DescriptionStyleModel",
       "_view_count": null,
       "_view_module": "@jupyter-widgets/base",
       "_view_module_version": "1.2.0",
       "_view_name": "StyleView",
       "description_width": "initial"
      }
     },
     "58144bd7c8db47bbb8565d3e1cbaf962": {
      "model_module": "@jupyter-widgets/controls",
      "model_module_version": "1.5.0",
      "model_name": "DescriptionStyleModel",
      "state": {
       "_model_module": "@jupyter-widgets/controls",
       "_model_module_version": "1.5.0",
       "_model_name": "DescriptionStyleModel",
       "_view_count": null,
       "_view_module": "@jupyter-widgets/base",
       "_view_module_version": "1.2.0",
       "_view_name": "StyleView",
       "description_width": "initial"
      }
     },
     "5ccc50484902446885cc91be4dd10880": {
      "model_module": "@jupyter-widgets/controls",
      "model_module_version": "1.5.0",
      "model_name": "DescriptionStyleModel",
      "state": {
       "_model_module": "@jupyter-widgets/controls",
       "_model_module_version": "1.5.0",
       "_model_name": "DescriptionStyleModel",
       "_view_count": null,
       "_view_module": "@jupyter-widgets/base",
       "_view_module_version": "1.2.0",
       "_view_name": "StyleView",
       "description_width": ""
      }
     },
     "621f6c9e5d0b4247a9f6a6e5bc0cf35a": {
      "model_module": "@jupyter-widgets/controls",
      "model_module_version": "1.5.0",
      "model_name": "DescriptionStyleModel",
      "state": {
       "_model_module": "@jupyter-widgets/controls",
       "_model_module_version": "1.5.0",
       "_model_name": "DescriptionStyleModel",
       "_view_count": null,
       "_view_module": "@jupyter-widgets/base",
       "_view_module_version": "1.2.0",
       "_view_name": "StyleView",
       "description_width": ""
      }
     },
     "649dd2fcdac14044984cf21f8d98f604": {
      "model_module": "@jupyter-widgets/output",
      "model_module_version": "1.0.0",
      "model_name": "OutputModel",
      "state": {
       "_dom_classes": [],
       "_model_module": "@jupyter-widgets/output",
       "_model_module_version": "1.0.0",
       "_model_name": "OutputModel",
       "_view_count": null,
       "_view_module": "@jupyter-widgets/output",
       "_view_module_version": "1.0.0",
       "_view_name": "OutputView",
       "layout": "IPY_MODEL_97c36b1334a7412ea3e62d8ad9cb7c9a",
       "msg_id": "",
       "outputs": [
        {
         "data": {
          "application/vnd.jupyter.widget-view+json": {
           "model_id": "0a86f225664a478188026df1cb503f76",
           "version_major": 2,
           "version_minor": 0
          },
          "image/png": "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",
          "text/html": "\n            <div style=\"display: inline-block;\">\n                <div class=\"jupyter-widgets widget-label\" style=\"text-align: center;\">\n                    \n                </div>\n                <img src='data:image/png;base64,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' width=800.0/>\n            </div>\n        ",
          "text/plain": "Canvas(toolbar=Toolbar(toolitems=[('Home', 'Reset original view', 'home', 'home'), ('Back', 'Back to previous …"
         },
         "metadata": {},
         "output_type": "display_data"
        }
       ]
      }
     },
     "7fb9c12106574d94a2890f1030bfc65f": {
      "model_module": "@jupyter-widgets/controls",
      "model_module_version": "1.5.0",
      "model_name": "FloatTextModel",
      "state": {
       "_dom_classes": [],
       "_model_module": "@jupyter-widgets/controls",
       "_model_module_version": "1.5.0",
       "_model_name": "FloatTextModel",
       "_view_count": null,
       "_view_module": "@jupyter-widgets/controls",
       "_view_module_version": "1.5.0",
       "_view_name": "FloatTextView",
       "continuous_update": false,
       "description": "Exponential power",
       "description_tooltip": null,
       "disabled": false,
       "layout": "IPY_MODEL_3bb4f90300ff45af9553df1ebb82e591",
       "step": null,
       "style": "IPY_MODEL_54e4f68a11cb460e82066c45b9635ae3",
       "value": 1.0
      }
     },
     "82aab1f4aa044607a1c83a7f63183c8e": {
      "model_module": "@jupyter-widgets/base",
      "model_module_version": "1.2.0",
      "model_name": "LayoutModel",
      "state": {
       "_model_module": "@jupyter-widgets/base",
       "_model_module_version": "1.2.0",
       "_model_name": "LayoutModel",
       "_view_count": null,
       "_view_module": "@jupyter-widgets/base",
       "_view_module_version": "1.2.0",
       "_view_name": "LayoutView",
       "align_content": null,
       "align_items": null,
       "align_self": null,
       "border": null,
       "bottom": null,
       "display": null,
       "flex": null,
       "flex_flow": null,
       "grid_area": "widget005",
       "grid_auto_columns": null,
       "grid_auto_flow": null,
       "grid_auto_rows": null,
       "grid_column": null,
       "grid_gap": null,
       "grid_row": null,
       "grid_template_areas": null,
       "grid_template_columns": null,
       "grid_template_rows": null,
       "height": null,
       "justify_content": null,
       "justify_items": null,
       "left": null,
       "margin": null,
       "max_height": null,
       "max_width": null,
       "min_height": null,
       "min_width": null,
       "object_fit": null,
       "object_position": null,
       "order": null,
       "overflow": null,
       "overflow_x": null,
       "overflow_y": null,
       "padding": null,
       "right": null,
       "top": null,
       "visibility": null,
       "width": null
      }
     },
     "92ab36738b694d85a637daffd3223a62": {
      "model_module": "@jupyter-widgets/base",
      "model_module_version": "1.2.0",
      "model_name": "LayoutModel",
      "state": {
       "_model_module": "@jupyter-widgets/base",
       "_model_module_version": "1.2.0",
       "_model_name": "LayoutModel",
       "_view_count": null,
       "_view_module": "@jupyter-widgets/base",
       "_view_module_version": "1.2.0",
       "_view_name": "LayoutView",
       "align_content": null,
       "align_items": null,
       "align_self": null,
       "border": null,
       "bottom": null,
       "display": null,
       "flex": null,
       "flex_flow": null,
       "grid_area": "widget003",
       "grid_auto_columns": null,
       "grid_auto_flow": null,
       "grid_auto_rows": null,
       "grid_column": null,
       "grid_gap": null,
       "grid_row": null,
       "grid_template_areas": null,
       "grid_template_columns": null,
       "grid_template_rows": null,
       "height": null,
       "justify_content": null,
       "justify_items": null,
       "left": null,
       "margin": null,
       "max_height": null,
       "max_width": null,
       "min_height": null,
       "min_width": null,
       "object_fit": null,
       "object_position": null,
       "order": null,
       "overflow": null,
       "overflow_x": null,
       "overflow_y": null,
       "padding": null,
       "right": null,
       "top": null,
       "visibility": null,
       "width": null
      }
     },
     "97c36b1334a7412ea3e62d8ad9cb7c9a": {
      "model_module": "@jupyter-widgets/base",
      "model_module_version": "1.2.0",
      "model_name": "LayoutModel",
      "state": {
       "_model_module": "@jupyter-widgets/base",
       "_model_module_version": "1.2.0",
       "_model_name": "LayoutModel",
       "_view_count": null,
       "_view_module": "@jupyter-widgets/base",
       "_view_module_version": "1.2.0",
       "_view_name": "LayoutView",
       "align_content": null,
       "align_items": null,
       "align_self": null,
       "border": null,
       "bottom": null,
       "display": null,
       "flex": null,
       "flex_flow": null,
       "grid_area": "widget009",
       "grid_auto_columns": null,
       "grid_auto_flow": null,
       "grid_auto_rows": null,
       "grid_column": null,
       "grid_gap": null,
       "grid_row": null,
       "grid_template_areas": null,
       "grid_template_columns": null,
       "grid_template_rows": null,
       "height": null,
       "justify_content": null,
       "justify_items": null,
       "left": null,
       "margin": null,
       "max_height": null,
       "max_width": null,
       "min_height": null,
       "min_width": null,
       "object_fit": null,
       "object_position": null,
       "order": null,
       "overflow": null,
       "overflow_x": null,
       "overflow_y": null,
       "padding": null,
       "right": null,
       "top": null,
       "visibility": null,
       "width": null
      }
     },
     "9971cb1ef9e341b4bf6c7a818b3ef4b5": {
      "model_module": "@jupyter-widgets/controls",
      "model_module_version": "1.5.0",
      "model_name": "FloatTextModel",
      "state": {
       "_dom_classes": [],
       "_model_module": "@jupyter-widgets/controls",
       "_model_module_version": "1.5.0",
       "_model_name": "FloatTextModel",
       "_view_count": null,
       "_view_module": "@jupyter-widgets/controls",
       "_view_module_version": "1.5.0",
       "_view_name": "FloatTextView",
       "continuous_update": false,
       "description": "Nugget",
       "description_tooltip": null,
       "disabled": false,
       "layout": "IPY_MODEL_bf9f077ff71c46e2baac98224de4a3a0",
       "step": null,
       "style": "IPY_MODEL_621f6c9e5d0b4247a9f6a6e5bc0cf35a",
       "value": 0.0
      }
     },
     "9d6af242099446afbb237715058b4ea7": {
      "model_module": "jupyter-matplotlib",
      "model_module_version": "^0.11",
      "model_name": "ToolbarModel",
      "state": {
       "_current_action": "",
       "_dom_classes": [],
       "_model_module": "jupyter-matplotlib",
       "_model_module_version": "^0.11",
       "_model_name": "ToolbarModel",
       "_view_count": null,
       "_view_module": "jupyter-matplotlib",
       "_view_module_version": "^0.11",
       "_view_name": "ToolbarView",
       "button_style": "",
       "collapsed": true,
       "layout": "IPY_MODEL_464a774983fb4b40abf0cf9792249f8f",
       "orientation": "vertical",
       "toolitems": [
        [
         "Home",
         "Reset original view",
         "home",
         "home"
        ],
        [
         "Back",
         "Back to previous view",
         "arrow-left",
         "back"
        ],
        [
         "Forward",
         "Forward to next view",
         "arrow-right",
         "forward"
        ],
        [
         "Pan",
         "Left button pans, Right button zooms\nx/y fixes axis, CTRL fixes aspect",
         "arrows",
         "pan"
        ],
        [
         "Zoom",
         "Zoom to rectangle\nx/y fixes axis",
         "square-o",
         "zoom"
        ],
        [
         "Download",
         "Download plot",
         "floppy-o",
         "save_figure"
        ]
       ]
      }
     },
     "9e1bc27532e344a1aa054c462f8c7d6a": {
      "model_module": "@jupyter-widgets/controls",
      "model_module_version": "1.5.0",
      "model_name": "DescriptionStyleModel",
      "state": {
       "_model_module": "@jupyter-widgets/controls",
       "_model_module_version": "1.5.0",
       "_model_name": "DescriptionStyleModel",
       "_view_count": null,
       "_view_module": "@jupyter-widgets/base",
       "_view_module_version": "1.2.0",
       "_view_name": "StyleView",
       "description_width": "initial"
      }
     },
     "a9e29467645c4a0cb6f1feb3aaa25b97": {
      "model_module": "@jupyter-widgets/controls",
      "model_module_version": "1.5.0",
      "model_name": "FloatTextModel",
      "state": {
       "_dom_classes": [],
       "_model_module": "@jupyter-widgets/controls",
       "_model_module_version": "1.5.0",
       "_model_name": "FloatTextModel",
       "_view_count": null,
       "_view_module": "@jupyter-widgets/controls",
       "_view_module_version": "1.5.0",
       "_view_name": "FloatTextView",
       "continuous_update": false,
       "description": "Length Scale",
       "description_tooltip": null,
       "disabled": false,
       "layout": "IPY_MODEL_92ab36738b694d85a637daffd3223a62",
       "step": null,
       "style": "IPY_MODEL_dc5cb003fb6745f9b0a68fc99a77af8e",
       "value": 1.0
      }
     },
     "bf9f077ff71c46e2baac98224de4a3a0": {
      "model_module": "@jupyter-widgets/base",
      "model_module_version": "1.2.0",
      "model_name": "LayoutModel",
      "state": {
       "_model_module": "@jupyter-widgets/base",
       "_model_module_version": "1.2.0",
       "_model_name": "LayoutModel",
       "_view_count": null,
       "_view_module": "@jupyter-widgets/base",
       "_view_module_version": "1.2.0",
       "_view_name": "LayoutView",
       "align_content": null,
       "align_items": null,
       "align_self": null,
       "border": null,
       "bottom": null,
       "display": null,
       "flex": null,
       "flex_flow": null,
       "grid_area": "widget006",
       "grid_auto_columns": null,
       "grid_auto_flow": null,
       "grid_auto_rows": null,
       "grid_column": null,
       "grid_gap": null,
       "grid_row": null,
       "grid_template_areas": null,
       "grid_template_columns": null,
       "grid_template_rows": null,
       "height": null,
       "justify_content": null,
       "justify_items": null,
       "left": null,
       "margin": null,
       "max_height": null,
       "max_width": null,
       "min_height": null,
       "min_width": null,
       "object_fit": null,
       "object_position": null,
       "order": null,
       "overflow": null,
       "overflow_x": null,
       "overflow_y": null,
       "padding": null,
       "right": null,
       "top": null,
       "visibility": null,
       "width": null
      }
     },
     "c04b057348e0481ab75a64dc7f68d53b": {
      "model_module": "@jupyter-widgets/controls",
      "model_module_version": "1.5.0",
      "model_name": "DropdownModel",
      "state": {
       "_dom_classes": [],
       "_model_module": "@jupyter-widgets/controls",
       "_model_module_version": "1.5.0",
       "_model_name": "DropdownModel",
       "_options_labels": [
        "Exponential",
        "Generalized exponential-Bessel"
       ],
       "_view_count": null,
       "_view_module": "@jupyter-widgets/controls",
       "_view_module_version": "1.5.0",
       "_view_name": "DropdownView",
       "description": "Semi-variogram model",
       "description_tooltip": null,
       "disabled": false,
       "index": 1,
       "layout": "IPY_MODEL_2951ba8e15044dd0afee526bf79934be",
       "style": "IPY_MODEL_58144bd7c8db47bbb8565d3e1cbaf962"
      }
     },
     "cca93169e1da44d9a17fdcb0b0d375b3": {
      "model_module": "@jupyter-widgets/base",
      "model_module_version": "1.2.0",
      "model_name": "LayoutModel",
      "state": {
       "_model_module": "@jupyter-widgets/base",
       "_model_module_version": "1.2.0",
       "_model_name": "LayoutModel",
       "_view_count": null,
       "_view_module": "@jupyter-widgets/base",
       "_view_module_version": "1.2.0",
       "_view_name": "LayoutView",
       "align_content": null,
       "align_items": null,
       "align_self": null,
       "border": null,
       "bottom": null,
       "display": null,
       "flex": null,
       "flex_flow": null,
       "grid_area": "widget002",
       "grid_auto_columns": null,
       "grid_auto_flow": null,
       "grid_auto_rows": null,
       "grid_column": null,
       "grid_gap": null,
       "grid_row": null,
       "grid_template_areas": null,
       "grid_template_columns": null,
       "grid_template_rows": null,
       "height": null,
       "justify_content": null,
       "justify_items": null,
       "left": null,
       "margin": null,
       "max_height": null,
       "max_width": null,
       "min_height": null,
       "min_width": null,
       "object_fit": null,
       "object_position": null,
       "order": null,
       "overflow": null,
       "overflow_x": null,
       "overflow_y": null,
       "padding": null,
       "right": null,
       "top": null,
       "visibility": null,
       "width": null
      }
     },
     "d745f10643784662af85de8088d01201": {
      "model_module": "@jupyter-widgets/base",
      "model_module_version": "1.2.0",
      "model_name": "LayoutModel",
      "state": {
       "_model_module": "@jupyter-widgets/base",
       "_model_module_version": "1.2.0",
       "_model_name": "LayoutModel",
       "_view_count": null,
       "_view_module": "@jupyter-widgets/base",
       "_view_module_version": "1.2.0",
       "_view_name": "LayoutView",
       "align_content": null,
       "align_items": null,
       "align_self": null,
       "border": null,
       "bottom": null,
       "display": null,
       "flex": null,
       "flex_flow": null,
       "grid_area": null,
       "grid_auto_columns": null,
       "grid_auto_flow": null,
       "grid_auto_rows": null,
       "grid_column": null,
       "grid_gap": null,
       "grid_row": null,
       "grid_template_areas": null,
       "grid_template_columns": null,
       "grid_template_rows": null,
       "height": null,
       "justify_content": null,
       "justify_items": null,
       "left": null,
       "margin": null,
       "max_height": null,
       "max_width": null,
       "min_height": null,
       "min_width": null,
       "object_fit": null,
       "object_position": null,
       "order": null,
       "overflow": null,
       "overflow_x": null,
       "overflow_y": null,
       "padding": null,
       "right": null,
       "top": null,
       "visibility": null,
       "width": null
      }
     },
     "d952395d465f43ed8e3f7c6855ea8ad0": {
      "model_module": "@jupyter-widgets/base",
      "model_module_version": "1.2.0",
      "model_name": "LayoutModel",
      "state": {
       "_model_module": "@jupyter-widgets/base",
       "_model_module_version": "1.2.0",
       "_model_name": "LayoutModel",
       "_view_count": null,
       "_view_module": "@jupyter-widgets/base",
       "_view_module_version": "1.2.0",
       "_view_name": "LayoutView",
       "align_content": null,
       "align_items": null,
       "align_self": null,
       "border": null,
       "bottom": null,
       "display": null,
       "flex": null,
       "flex_flow": null,
       "grid_area": "widget007",
       "grid_auto_columns": null,
       "grid_auto_flow": null,
       "grid_auto_rows": null,
       "grid_column": null,
       "grid_gap": null,
       "grid_row": null,
       "grid_template_areas": null,
       "grid_template_columns": null,
       "grid_template_rows": null,
       "height": null,
       "justify_content": null,
       "justify_items": null,
       "left": null,
       "margin": null,
       "max_height": null,
       "max_width": null,
       "min_height": null,
       "min_width": null,
       "object_fit": null,
       "object_position": null,
       "order": null,
       "overflow": null,
       "overflow_x": null,
       "overflow_y": null,
       "padding": null,
       "right": null,
       "top": null,
       "visibility": null,
       "width": null
      }
     },
     "dc5cb003fb6745f9b0a68fc99a77af8e": {
      "model_module": "@jupyter-widgets/controls",
      "model_module_version": "1.5.0",
      "model_name": "DescriptionStyleModel",
      "state": {
       "_model_module": "@jupyter-widgets/controls",
       "_model_module_version": "1.5.0",
       "_model_name": "DescriptionStyleModel",
       "_view_count": null,
       "_view_module": "@jupyter-widgets/base",
       "_view_module_version": "1.2.0",
       "_view_name": "StyleView",
       "description_width": "initial"
      }
     },
     "df5dae1310764fe6a16b12de37c2fa4f": {
      "model_module": "@jupyter-widgets/controls",
      "model_module_version": "1.5.0",
      "model_name": "DescriptionStyleModel",
      "state": {
       "_model_module": "@jupyter-widgets/controls",
       "_model_module_version": "1.5.0",
       "_model_name": "DescriptionStyleModel",
       "_view_count": null,
       "_view_module": "@jupyter-widgets/base",
       "_view_module_version": "1.2.0",
       "_view_name": "StyleView",
       "description_width": "initial"
      }
     },
     "e2c53d90f64349a69a534b46412731ba": {
      "model_module": "@jupyter-widgets/controls",
      "model_module_version": "1.5.0",
      "model_name": "ToggleButtonModel",
      "state": {
       "_dom_classes": [],
       "_model_module": "@jupyter-widgets/controls",
       "_model_module_version": "1.5.0",
       "_model_name": "ToggleButtonModel",
       "_view_count": null,
       "_view_module": "@jupyter-widgets/controls",
       "_view_module_version": "1.5.0",
       "_view_name": "ToggleButtonView",
       "button_style": "info",
       "description": "Apply model",
       "description_tooltip": null,
       "disabled": false,
       "icon": "line-chart",
       "layout": "IPY_MODEL_d952395d465f43ed8e3f7c6855ea8ad0",
       "style": "IPY_MODEL_0d79ae927de742679ea1296c9b9c4223",
       "tooltip": "Description",
       "value": false
      }
     },
     "edfe9cff64754c0dad1aa51bfca406d0": {
      "model_module": "@jupyter-widgets/controls",
      "model_module_version": "1.5.0",
      "model_name": "GridBoxModel",
      "state": {
       "_dom_classes": [],
       "_model_module": "@jupyter-widgets/controls",
       "_model_module_version": "1.5.0",
       "_model_name": "GridBoxModel",
       "_view_count": null,
       "_view_module": "@jupyter-widgets/controls",
       "_view_module_version": "1.5.0",
       "_view_name": "GridBoxView",
       "box_style": "",
       "children": [
        "IPY_MODEL_c04b057348e0481ab75a64dc7f68d53b",
        "IPY_MODEL_3f902d63f9654a109deffb6469236240",
        "IPY_MODEL_a9e29467645c4a0cb6f1feb3aaa25b97",
        "IPY_MODEL_7fb9c12106574d94a2890f1030bfc65f",
        "IPY_MODEL_0476aed4c9b14aa4a0ec7e91962496e8",
        "IPY_MODEL_9971cb1ef9e341b4bf6c7a818b3ef4b5",
        "IPY_MODEL_e2c53d90f64349a69a534b46412731ba",
        "IPY_MODEL_2dd981b56c4d4021bfab1d755197bd9e",
        "IPY_MODEL_649dd2fcdac14044984cf21f8d98f604"
       ],
       "layout": "IPY_MODEL_fa87b957898442edb0612ba7b06e443b"
      }
     },
     "f616bff0c49a4eb9abe61a5cd6e85c28": {
      "model_module": "@jupyter-widgets/base",
      "model_module_version": "1.2.0",
      "model_name": "LayoutModel",
      "state": {
       "_model_module": "@jupyter-widgets/base",
       "_model_module_version": "1.2.0",
       "_model_name": "LayoutModel",
       "_view_count": null,
       "_view_module": "@jupyter-widgets/base",
       "_view_module_version": "1.2.0",
       "_view_name": "LayoutView",
       "align_content": null,
       "align_items": null,
       "align_self": null,
       "border": null,
       "bottom": null,
       "display": null,
       "flex": null,
       "flex_flow": null,
       "grid_area": "widget008",
       "grid_auto_columns": null,
       "grid_auto_flow": null,
       "grid_auto_rows": null,
       "grid_column": null,
       "grid_gap": null,
       "grid_row": null,
       "grid_template_areas": null,
       "grid_template_columns": null,
       "grid_template_rows": null,
       "height": null,
       "justify_content": null,
       "justify_items": null,
       "left": null,
       "margin": null,
       "max_height": null,
       "max_width": null,
       "min_height": null,
       "min_width": null,
       "object_fit": null,
       "object_position": null,
       "order": null,
       "overflow": null,
       "overflow_x": null,
       "overflow_y": null,
       "padding": null,
       "right": null,
       "top": null,
       "visibility": null,
       "width": null
      }
     },
     "fa87b957898442edb0612ba7b06e443b": {
      "model_module": "@jupyter-widgets/base",
      "model_module_version": "1.2.0",
      "model_name": "LayoutModel",
      "state": {
       "_model_module": "@jupyter-widgets/base",
       "_model_module_version": "1.2.0",
       "_model_name": "LayoutModel",
       "_view_count": null,
       "_view_module": "@jupyter-widgets/base",
       "_view_module_version": "1.2.0",
       "_view_name": "LayoutView",
       "align_content": null,
       "align_items": null,
       "align_self": null,
       "border": null,
       "bottom": null,
       "display": null,
       "flex": null,
       "flex_flow": null,
       "grid_area": null,
       "grid_auto_columns": null,
       "grid_auto_flow": null,
       "grid_auto_rows": null,
       "grid_column": null,
       "grid_gap": null,
       "grid_row": null,
       "grid_template_areas": "\"widget001 widget009\"\n\"widget002 widget009\"\n\"widget003 widget009\"\n\"widget004 widget009\"\n\"widget005 widget009\"\n\"widget006 widget009\"\n\"widget007 widget009\"\n\"widget008 widget009\"",
       "grid_template_columns": "repeat(2, 1fr)",
       "grid_template_rows": "repeat(8, 1fr)",
       "height": "auto",
       "justify_content": null,
       "justify_items": null,
       "left": null,
       "margin": null,
       "max_height": null,
       "max_width": null,
       "min_height": null,
       "min_width": null,
       "object_fit": null,
       "object_position": null,
       "order": null,
       "overflow": null,
       "overflow_x": null,
       "overflow_y": null,
       "padding": null,
       "right": null,
       "top": null,
       "visibility": null,
       "width": "80%"
      }
     }
    },
    "version_major": 2,
    "version_minor": 0
   }
  }
 },
 "nbformat": 4,
 "nbformat_minor": 5
}
