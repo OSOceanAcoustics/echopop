{
 "cells": [
  {
   "cell_type": "markdown",
   "metadata": {},
   "source": [
    "# Generating reports\n",
    "\n",
    "A variety of reports can be generated and saved as `*.xlsx` via the `feat_reports` extension that extracts required data from an `echopop.survey.Survey` object. This first requires the `echopop.extension` module to be imported:"
   ]
  },
  {
   "cell_type": "code",
   "execution_count": 1,
   "metadata": {
    "tags": [
     "remove_cell"
    ]
   },
   "outputs": [],
   "source": [
    "from echopop.survey import Survey\n",
    "\n",
    "survey = Survey(init_config_path = \"C:/Users/Brandyn/Documents/GitHub/echopop/config_files/initialization_config.yml\",\n",
    "                survey_year_config_path = \"C:/Users/Brandyn/Documents/GitHub/echopop/config_files/survey_year_2019_config.yml\")\n",
    "survey.load_survey_data(verbose=False)\n",
    "survey.load_acoustic_data(verbose=False)\n",
    "survey.transect_analysis(verbose=False)\n",
    "survey.kriging_analysis(variogram_parameters=dict(model=[\"exponential\", \"bessel\"], \n",
    "                                                  n_lags=30), variable=\"biomass_density\", \n",
    "                        verbose=False)"
   ]
  },
  {
   "cell_type": "code",
   "execution_count": 2,
   "metadata": {},
   "outputs": [],
   "source": [
    "from echopop.extensions import generate_reports"
   ]
  },
  {
   "cell_type": "markdown",
   "metadata": {},
   "source": [
    "Alternatively, *all* extentions to the `Survey`-class can be imported simultaneously via:\n",
    "\n",
    "```python\n",
    "import echopop.extensions\n",
    "```\n",
    "\n",
    "Regardless, importing this extension provides two new methods to the `Survey`-class:\n",
    "* `report_options`: provides a list of report-types that can be produced by `Echopop`\n",
    "* `generate_reports`: the main workhorse method that takes the results from the `Survey`-class object and writes them to `*.xlsx` files\n",
    "\n",
    "Generally, reports can be written via:"
   ]
  },
  {
   "cell_type": "code",
   "execution_count": 3,
   "metadata": {
    "tags": [
     "remove-output"
    ]
   },
   "outputs": [
    {
     "name": "stdout",
     "output_type": "stream",
     "text": [
      "The following report tables were generated:\n",
      "   -'C:/Users/Brandyn/Documents/GitHub/EchoPro_data/Data/reports/aged_len_haul_counts_table.xlsx'\n",
      "   -'C:/Users/Brandyn/Documents/GitHub/EchoPro_data/Data/reports/EchoPro_kriged_aged_output_0.xlsx'\n",
      "   -'C:/Users/Brandyn/Documents/GitHub/EchoPro_data/Data/reports/EchoPro_kriged_aged_output_1.xlsx'\n",
      "   -'C:/Users/Brandyn/Documents/GitHub/EchoPro_data/Data/reports/EchoPro_kriged_output_0.xlsx'\n",
      "   -'C:/Users/Brandyn/Documents/GitHub/EchoPro_data/Data/reports/EchoPro_kriged_output_1.xlsx'\n",
      "   -'C:/Users/Brandyn/Documents/GitHub/EchoPro_data/Data/reports/kriged_len_age_abundance_table.xlsx'\n",
      "   -'C:/Users/Brandyn/Documents/GitHub/EchoPro_data/Data/reports/kriged_len_age_biomass_table.xlsx'\n",
      "   -'C:/Users/Brandyn/Documents/GitHub/EchoPro_data/Data/reports/kriging_input.xlsx'\n",
      "   -'C:/Users/Brandyn/Documents/GitHub/EchoPro_data/Data/reports/total_len_haul_counts_table.xlsx'\n",
      "   -'C:/Users/Brandyn/Documents/GitHub/EchoPro_data/Data/reports/EchoPro_un-kriged_aged_output_0.xlsx'\n",
      "   -'C:/Users/Brandyn/Documents/GitHub/EchoPro_data/Data/reports/EchoPro_un-kriged_aged_output_1.xlsx'\n",
      "   -'C:/Users/Brandyn/Documents/GitHub/EchoPro_data/Data/reports/un-kriged_len_age_abundance_table.xlsx'\n",
      "   -'C:/Users/Brandyn/Documents/GitHub/EchoPro_data/Data/reports/un-kriged_len_age_biomass_table.xlsx'\n",
      "   -'C:/Users/Brandyn/Documents/GitHub/EchoPro_data/Data/reports/EchoPro_un-kriged_output_0.xlsx'\n",
      "   -'C:/Users/Brandyn/Documents/GitHub/EchoPro_data/Data/reports/EchoPro_un-kriged_output_1.xlsx'\n"
     ]
    }
   ],
   "source": [
    "survey.generate_reports()"
   ]
  },
  {
   "cell_type": "code",
   "execution_count": 4,
   "metadata": {
    "tags": [
     "remove-input"
    ]
   },
   "outputs": [
    {
     "name": "stdout",
     "output_type": "stream",
     "text": [
      "The following report tables were generated:\n",
      "    -'C:/Project/Data/Reports/aged_len_haul_counts_table.xlsx'\n",
      "    -'C:/Project/Data/Reports/EchoPro_kriged_aged_output_0.xlsx'\n",
      "    -'C:/Project/Data/Reports/EchoPro_kriged_aged_output_1.xlsx'\n",
      "    -'C:/Project/Data/Reports/EchoPro_kriged_output_0.xlsx'\n",
      "    -'C:/Project/Data/Reports/EchoPro_kriged_output_1.xlsx'\n",
      "    -'C:/Project/Data/Reports/kriged_len_age_abundance_table.xlsx'\n",
      "    -'C:/Project/Data/Reports/kriged_len_age_biomass_table.xlsx'\n",
      "    -'C:/Project/Data/Reports/kriging_input.xlsx'\n",
      "    -'C:/Project/Data/Reports/total_len_haul_counts_table.xlsx'\n",
      "    -'C:/Project/Data/Reports/EchoPro_un-kriged_aged_output_0.xlsx'\n",
      "    -'C:/Project/Data/Reports/EchoPro_un-kriged_aged_output_1.xlsx'\n",
      "    -'C:/Project/Data/Reports/un-kriged_len_age_abundance_table.xlsx'\n",
      "    -'C:/Project/Data/Reports/un-kriged_len_age_biomass_table.xlsx'\n",
      "    -'C:/Project/Data/Reports/EchoPro_un-kriged_output_0.xlsx'\n",
      "    -'C:/Project/Data/Reports/EchoPro_un-kriged_output_1.xlsx'\n"
     ]
    }
   ],
   "source": [
    "print(\n",
    "    \"The following report tables were generated:\\n\",\n",
    "    \"   -'C:/Project/Data/Reports/aged_len_haul_counts_table.xlsx'\\n\",\n",
    "    \"   -'C:/Project/Data/Reports/EchoPro_kriged_aged_output_0.xlsx'\\n\",\n",
    "    \"   -'C:/Project/Data/Reports/EchoPro_kriged_aged_output_1.xlsx'\\n\",\n",
    "    \"   -'C:/Project/Data/Reports/EchoPro_kriged_output_0.xlsx'\\n\",\n",
    "    \"   -'C:/Project/Data/Reports/EchoPro_kriged_output_1.xlsx'\\n\",\n",
    "    \"   -'C:/Project/Data/Reports/kriged_len_age_abundance_table.xlsx'\\n\",\n",
    "    \"   -'C:/Project/Data/Reports/kriged_len_age_biomass_table.xlsx'\\n\",\n",
    "    \"   -'C:/Project/Data/Reports/kriging_input.xlsx'\\n\",\n",
    "    \"   -'C:/Project/Data/Reports/total_len_haul_counts_table.xlsx'\\n\",\n",
    "    \"   -'C:/Project/Data/Reports/EchoPro_un-kriged_aged_output_0.xlsx'\\n\",\n",
    "    \"   -'C:/Project/Data/Reports/EchoPro_un-kriged_aged_output_1.xlsx'\\n\",\n",
    "    \"   -'C:/Project/Data/Reports/un-kriged_len_age_abundance_table.xlsx'\\n\",\n",
    "    \"   -'C:/Project/Data/Reports/un-kriged_len_age_biomass_table.xlsx'\\n\",\n",
    "    \"   -'C:/Project/Data/Reports/EchoPro_un-kriged_output_0.xlsx'\\n\",\n",
    "    \"   -'C:/Project/Data/Reports/EchoPro_un-kriged_output_1.xlsx'\"\n",
    ")"
   ]
  },
  {
   "cell_type": "markdown",
   "metadata": {},
   "source": [
    "```{note}\n",
    "Depending on the number of reports being generated, this step can take some time to process.\n",
    "```"
   ]
  },
  {
   "cell_type": "markdown",
   "metadata": {},
   "source": [
    "There a variety of report-types that `Survey.generate_reports` can produce. Compatible report-types are documented either in the help documentation (i.e. `help(survey.generate_reports)`) or via`Survey.report_options()`:"
   ]
  },
  {
   "cell_type": "code",
   "execution_count": 5,
   "metadata": {},
   "outputs": [
    {
     "name": "stdout",
     "output_type": "stream",
     "text": [
      "The following report-types are available for export:\n",
      "   -'aged_length_haul_counts'\n",
      "   -'kriged_aged_biomass_mesh'\n",
      "   -'kriging_input'\n",
      "   -'kriged_length_age_abundance'\n",
      "   -'kriged_length_age_biomass'\n",
      "   -'kriged_mesh_results'\n",
      "   -'total_length_haul_counts'\n",
      "   -'transect_aged_biomass'\n",
      "   -'transect_length_age_abundance'\n",
      "   -'transect_length_age_biomass'\n",
      "   -'transect_population_results'\n"
     ]
    }
   ],
   "source": [
    "report_list = survey.report_options()"
   ]
  },
  {
   "cell_type": "markdown",
   "metadata": {},
   "source": [
    "This both produces a console message and can further be saved as a `List` variable for convenient copy-and-pasting. \n",
    "\n",
    "The `reports` argument for `Survey.generate_reports` is a `List` of possible report-types, which comprises the below options:\n",
    "- `\"aged_length_haul_counts\"`\n",
    "  - Table comprising distributions of counts from aged fish for each haul\n",
    "- `\"kriged_mesh_results\"`\n",
    "  - Dataframe comprising georeferenced kriged mesh results with biomass estimates and back-calculated abundance and $\\textit{NASC}$ values\n",
    "- `\"kriged_aged_biomass_mesh\"`\n",
    "  - Dataframe comprising georeferenced kriged mesh results with biomass distributed across \n",
    "all age bins\n",
    "- `\"kriging_input\"`\n",
    "  - Dataframe comprising georeferenced abundance, biomass, and NASC values that can be used \n",
    "for the kriging analysis. Note that only the 'biomass' column is currently used within \n",
    "`Echopop`\n",
    "- `\"kriged_length_age_abundance\"`\n",
    "  - Table comprising (back-calculated) kriged abundance estimates distributed over age and length bins\n",
    "- `\"kriged_length_age_biomass\"`\n",
    "  - Table comprising kriged biomass estimates distributed over age and length bins\n",
    "- `\"transect_aged_biomass\"`\n",
    "  - Dataframe comprising georeferenced along-transect biomass estimates with biomass \n",
    "distributed across age bins\n",
    "- `\"transect_length_age_abundance\"`\n",
    "  - Table comprising along-transect abundance estimates distributed over age and length bins\n",
    "- `\"transect_length_age_biomass\"`\n",
    "  - Table comprising along-transect biomass estimates distributed over age and length bins\n",
    "- `\"transect_population_estimates\"`\n",
    "  - Dataframe comprising georeferenced along-transect population estimates with that \n",
    "includes abundance, biomass, biomass density, number density, and values specific to \n",
    "each sex   \n",
    "\n",
    "For instance, a single table can be specified via:"
   ]
  },
  {
   "cell_type": "code",
   "execution_count": 6,
   "metadata": {
    "tags": [
     "remove-output"
    ]
   },
   "outputs": [
    {
     "name": "stdout",
     "output_type": "stream",
     "text": [
      "The following report tables were generated:\n",
      "   -'C:/Users/Brandyn/Documents/GitHub/EchoPro_data/Data/reports/aged_len_haul_counts_table.xlsx'\n"
     ]
    }
   ],
   "source": [
    "survey.generate_reports(reports=[\"aged_length_haul_counts\"])"
   ]
  },
  {
   "cell_type": "code",
   "execution_count": 7,
   "metadata": {
    "tags": [
     "remove-input"
    ]
   },
   "outputs": [
    {
     "name": "stdout",
     "output_type": "stream",
     "text": [
      "The following report tables were generated:\n",
      "    -'C:/Project/Data/Reports/aged_len_haul_counts_table.xlsx'\n",
      "\n"
     ]
    }
   ],
   "source": [
    "print(\n",
    "    \"The following report tables were generated:\\n\",\n",
    "    \"   -'C:/Project/Data/Reports/aged_len_haul_counts_table.xlsx'\\n\"\n",
    ")"
   ]
  },
  {
   "cell_type": "markdown",
   "metadata": {},
   "source": [
    "This can be done for any number of unique tables:"
   ]
  },
  {
   "cell_type": "code",
   "execution_count": 8,
   "metadata": {
    "tags": [
     "remove-output"
    ]
   },
   "outputs": [
    {
     "name": "stdout",
     "output_type": "stream",
     "text": [
      "The following report tables were generated:\n",
      "   -'C:/Users/Brandyn/Documents/GitHub/EchoPro_data/Data/reports/aged_len_haul_counts_table.xlsx'\n",
      "   -'C:/Users/Brandyn/Documents/GitHub/EchoPro_data/Data/reports/kriging_input.xlsx'\n"
     ]
    }
   ],
   "source": [
    "\n",
    "survey.generate_reports(reports=[\"aged_length_haul_counts\", \"kriging_input\"])"
   ]
  },
  {
   "cell_type": "code",
   "execution_count": 9,
   "metadata": {
    "tags": [
     "remove-input"
    ]
   },
   "outputs": [
    {
     "name": "stdout",
     "output_type": "stream",
     "text": [
      "The following report tables were generated:\n",
      "    -'C:/Project/Data/Reports/aged_len_haul_counts_table.xlsx'\n",
      "    -'C:/Project/Data/Reports/kriging_input.xlsx'\n",
      "\n"
     ]
    }
   ],
   "source": [
    "print(\n",
    "    \"The following report tables were generated:\\n\",\n",
    "    \"   -'C:/Project/Data/Reports/aged_len_haul_counts_table.xlsx'\\n\",\n",
    "    \"   -'C:/Project/Data/Reports/kriging_input.xlsx'\\n\",\n",
    ")"
   ]
  },
  {
   "cell_type": "markdown",
   "metadata": {},
   "source": [
    "Alternatively, the `List` produced from `Survey.report_options` (i.e. `report_list`) can also be used:"
   ]
  },
  {
   "cell_type": "code",
   "execution_count": 10,
   "metadata": {
    "tags": [
     "remove-output"
    ]
   },
   "outputs": [
    {
     "name": "stdout",
     "output_type": "stream",
     "text": [
      "The following report tables were generated:\n",
      "   -'C:/Users/Brandyn/Documents/GitHub/EchoPro_data/Data/reports/aged_len_haul_counts_table.xlsx'\n",
      "   -'C:/Users/Brandyn/Documents/GitHub/EchoPro_data/Data/reports/EchoPro_kriged_aged_output_0.xlsx'\n",
      "   -'C:/Users/Brandyn/Documents/GitHub/EchoPro_data/Data/reports/EchoPro_kriged_aged_output_1.xlsx'\n",
      "   -'C:/Users/Brandyn/Documents/GitHub/EchoPro_data/Data/reports/kriging_input.xlsx'\n",
      "   -'C:/Users/Brandyn/Documents/GitHub/EchoPro_data/Data/reports/kriged_len_age_abundance_table.xlsx'\n",
      "   -'C:/Users/Brandyn/Documents/GitHub/EchoPro_data/Data/reports/kriged_len_age_biomass_table.xlsx'\n",
      "   -'C:/Users/Brandyn/Documents/GitHub/EchoPro_data/Data/reports/EchoPro_kriged_output_0.xlsx'\n",
      "   -'C:/Users/Brandyn/Documents/GitHub/EchoPro_data/Data/reports/EchoPro_kriged_output_1.xlsx'\n",
      "   -'C:/Users/Brandyn/Documents/GitHub/EchoPro_data/Data/reports/total_len_haul_counts_table.xlsx'\n",
      "   -'C:/Users/Brandyn/Documents/GitHub/EchoPro_data/Data/reports/EchoPro_un-kriged_aged_output_0.xlsx'\n",
      "   -'C:/Users/Brandyn/Documents/GitHub/EchoPro_data/Data/reports/EchoPro_un-kriged_aged_output_1.xlsx'\n",
      "   -'C:/Users/Brandyn/Documents/GitHub/EchoPro_data/Data/reports/un-kriged_len_age_abundance_table.xlsx'\n",
      "   -'C:/Users/Brandyn/Documents/GitHub/EchoPro_data/Data/reports/un-kriged_len_age_biomass_table.xlsx'\n",
      "   -'C:/Users/Brandyn/Documents/GitHub/EchoPro_data/Data/reports/EchoPro_un-kriged_output_0.xlsx'\n",
      "   -'C:/Users/Brandyn/Documents/GitHub/EchoPro_data/Data/reports/EchoPro_un-kriged_output_1.xlsx'\n"
     ]
    }
   ],
   "source": [
    "survey.generate_reports(reports=report_list)"
   ]
  },
  {
   "cell_type": "code",
   "execution_count": 11,
   "metadata": {
    "tags": [
     "remove-input"
    ]
   },
   "outputs": [
    {
     "name": "stdout",
     "output_type": "stream",
     "text": [
      "The following report tables were generated:\n",
      "    -'C:/Project/Data/Reports/aged_len_haul_counts_table.xlsx'\n",
      "    -'C:/Project/Data/Reports/EchoPro_kriged_aged_output_0.xlsx'\n",
      "    -'C:/Project/Data/Reports/EchoPro_kriged_aged_output_1.xlsx'\n",
      "    -'C:/Project/Data/Reports/EchoPro_kriged_output_0.xlsx'\n",
      "    -'C:/Project/Data/Reports/EchoPro_kriged_output_1.xlsx'\n",
      "    -'C:/Project/Data/Reports/kriged_len_age_abundance_table.xlsx'\n",
      "    -'C:/Project/Data/Reports/kriged_len_age_biomass_table.xlsx'\n",
      "    -'C:/Project/Data/Reports/kriging_input.xlsx'\n",
      "    -'C:/Project/Data/Reports/total_len_haul_counts_table.xlsx'\n",
      "    -'C:/Project/Data/Reports/EchoPro_un-kriged_aged_output_0.xlsx'\n",
      "    -'C:/Project/Data/Reports/EchoPro_un-kriged_aged_output_1.xlsx'\n",
      "    -'C:/Project/Data/Reports/un-kriged_len_age_abundance_table.xlsx'\n",
      "    -'C:/Project/Data/Reports/un-kriged_len_age_biomass_table.xlsx'\n",
      "    -'C:/Project/Data/Reports/EchoPro_un-kriged_output_0.xlsx'\n",
      "    -'C:/Project/Data/Reports/EchoPro_un-kriged_output_1.xlsx'\n"
     ]
    }
   ],
   "source": [
    "print(\n",
    "    \"The following report tables were generated:\\n\",\n",
    "    \"   -'C:/Project/Data/Reports/aged_len_haul_counts_table.xlsx'\\n\",\n",
    "    \"   -'C:/Project/Data/Reports/EchoPro_kriged_aged_output_0.xlsx'\\n\",\n",
    "    \"   -'C:/Project/Data/Reports/EchoPro_kriged_aged_output_1.xlsx'\\n\",\n",
    "    \"   -'C:/Project/Data/Reports/EchoPro_kriged_output_0.xlsx'\\n\",\n",
    "    \"   -'C:/Project/Data/Reports/EchoPro_kriged_output_1.xlsx'\\n\",\n",
    "    \"   -'C:/Project/Data/Reports/kriged_len_age_abundance_table.xlsx'\\n\",\n",
    "    \"   -'C:/Project/Data/Reports/kriged_len_age_biomass_table.xlsx'\\n\",\n",
    "    \"   -'C:/Project/Data/Reports/kriging_input.xlsx'\\n\",\n",
    "    \"   -'C:/Project/Data/Reports/total_len_haul_counts_table.xlsx'\\n\",\n",
    "    \"   -'C:/Project/Data/Reports/EchoPro_un-kriged_aged_output_0.xlsx'\\n\",\n",
    "    \"   -'C:/Project/Data/Reports/EchoPro_un-kriged_aged_output_1.xlsx'\\n\",\n",
    "    \"   -'C:/Project/Data/Reports/un-kriged_len_age_abundance_table.xlsx'\\n\",\n",
    "    \"   -'C:/Project/Data/Reports/un-kriged_len_age_biomass_table.xlsx'\\n\",\n",
    "    \"   -'C:/Project/Data/Reports/EchoPro_un-kriged_output_0.xlsx'\\n\",\n",
    "    \"   -'C:/Project/Data/Reports/EchoPro_un-kriged_output_1.xlsx'\"\n",
    ")"
   ]
  },
  {
   "cell_type": "markdown",
   "metadata": {},
   "source": [
    "Spelling mistakes and otherwise erroneously defined report-types are also noted. The `Survey.generate_reports` method will always attempt to write as many files as possible while also announcing which ones have been skipped. For instance, say we misspelled `\"tranect_population_results\"` when the correct report-type is actually `\"transect_population_results\"`:"
   ]
  },
  {
   "cell_type": "code",
   "execution_count": 12,
   "metadata": {
    "tags": [
     "remove-output"
    ]
   },
   "outputs": [
    {
     "name": "stdout",
     "output_type": "stream",
     "text": [
      "The following requested reports do not match available report-types (use `.report_options()` for a complete list/print-out of available reports):\n",
      "   -'tranect_population_results'\n",
      "The following report tables were generated:\n",
      "   -'C:/Users/Brandyn/Documents/GitHub/EchoPro_data/Data/reports/aged_len_haul_counts_table.xlsx'\n"
     ]
    }
   ],
   "source": [
    "survey.generate_reports(reports=[\"aged_length_haul_counts\", \"tranect_population_results\"])"
   ]
  },
  {
   "cell_type": "code",
   "execution_count": 13,
   "metadata": {
    "tags": [
     "remove-input"
    ]
   },
   "outputs": [
    {
     "name": "stdout",
     "output_type": "stream",
     "text": [
      "The following requested reports do not match available report-types (use `.report_options()` for a complete list/print-out of available reports):\n",
      "    -'tranect_population_results'\n",
      " The following report tables were generated:\n",
      "    -'C:/Project/Data/Reports/aged_len_haul_counts_table.xlsx'\n",
      "\n"
     ]
    }
   ],
   "source": [
    "print(\n",
    "    \"The following requested reports do not match available report-types (use `.report_options()` \"\n",
    "    \"for a complete list/print-out of available reports):\\n\",\n",
    "    \"   -'tranect_population_results'\\n\",\n",
    "    \"The following report tables were generated:\\n\",\n",
    "    \"   -'C:/Project/Data/Reports/aged_len_haul_counts_table.xlsx'\\n\",    \n",
    ")"
   ]
  },
  {
   "cell_type": "markdown",
   "metadata": {},
   "source": [
    "The directory and filepath for these saved files (e.g. `\"C:/Project/Data/Reports/\"`) must be defined by the user in one of two ways. First, the user can supply a directory to the `save_directory` argument within `Survey.generate_reports` either as a string (`str`) *or* `pathlib.Path` object via:"
   ]
  },
  {
   "cell_type": "code",
   "execution_count": null,
   "metadata": {},
   "outputs": [],
   "source": [
    "survey.generate_reports(reports=[\"aged_length_haul_counts\"],\n",
    "                        save_directory=\"C:/Project/Output/Reports\")"
   ]
  },
  {
   "cell_type": "code",
   "execution_count": 15,
   "metadata": {
    "tags": [
     "remove-input"
    ]
   },
   "outputs": [
    {
     "name": "stdout",
     "output_type": "stream",
     "text": [
      "The following report tables were generated:\n",
      "    -'C:/Project/Output/Reports/aged_len_haul_counts_table.xlsx'\n",
      "\n"
     ]
    }
   ],
   "source": [
    "print(\n",
    "    \"The following report tables were generated:\\n\",\n",
    "    \"   -'C:/Project/Output/Reports/aged_len_haul_counts_table.xlsx'\\n\"\n",
    ")"
   ]
  },
  {
   "cell_type": "markdown",
   "metadata": {},
   "source": [
    "The second method requires defining the report save directory via the `report_path` keyword argument within the [**`survey_year_{YEAR}_config.yml`**](../implementation/preprocessing_data.md#configuring-files) configuration file. When this is provided, it is stored within the `Survey` object regardless of whether or not the `feat_report` extension is imported. For instance, this can be appended to the configuration file:\n",
    "\n",
    "```yaml\n",
    "##############################################################################\n",
    "# Report generation\n",
    "###################\n",
    "# Where the reports are saved\n",
    "report_path: C:/Project/Output/Reports  \n",
    "```\n",
    "\n",
    "Then once the configuration settings are ingested by `Echopop` into the `Survey` object, this directory path can be accessed via:"
   ]
  },
  {
   "cell_type": "markdown",
   "metadata": {},
   "source": [
    "Similarly, the `save_directory` argument can be modified that instructs the `Survey.generate_reports` method where to write the `*.xlsx` reports:"
   ]
  },
  {
   "cell_type": "code",
   "execution_count": null,
   "metadata": {
    "tags": [
     "remove-output"
    ]
   },
   "outputs": [],
   "source": [
    "survey.config[\"report_path\"]"
   ]
  },
  {
   "cell_type": "code",
   "execution_count": 47,
   "metadata": {
    "tags": [
     "remove-input"
    ]
   },
   "outputs": [
    {
     "name": "stdout",
     "output_type": "stream",
     "text": [
      "'C:/Project/Output/Reports'\n"
     ]
    }
   ],
   "source": [
    "print(repr(\"C:/Project/Output/Reports\"))"
   ]
  },
  {
   "cell_type": "markdown",
   "metadata": {},
   "source": [
    "So now even if the `save_directory` argument is not defined, a valid directory can be supplied to `Survey.generate_reports` once the results have been generated within the `Survey` object:"
   ]
  },
  {
   "cell_type": "code",
   "execution_count": null,
   "metadata": {
    "tags": [
     "remove-output"
    ]
   },
   "outputs": [],
   "source": [
    "survey.generate_reports(reports=[\"aged_length_haul_counts\"])"
   ]
  },
  {
   "cell_type": "code",
   "execution_count": 16,
   "metadata": {
    "tags": [
     "remove-input"
    ]
   },
   "outputs": [
    {
     "name": "stdout",
     "output_type": "stream",
     "text": [
      "The following report tables were generated:\n",
      "    -'C:/Project/Output/Reports/aged_len_haul_counts_table.xlsx'\n",
      "\n"
     ]
    }
   ],
   "source": [
    "print(\n",
    "    \"The following report tables were generated:\\n\",\n",
    "    \"   -'C:/Project/Output/Reports/aged_len_haul_counts_table.xlsx'\\n\"\n",
    ")"
   ]
  },
  {
   "cell_type": "markdown",
   "metadata": {},
   "source": [
    "::::{warning}\n",
    "If `save_directory` is not defined as an argument within `Survey.generate_reports` or as a keyword argument in `survey_year_{YEAR}_config.yml`, an error will be raised. For instance:\n",
    "\n",
    "```python\n",
    "# Delete `report_path` from survey\n",
    "del survey.config[\"report_path\"]\n",
    "\n",
    "# Try running \n",
    "survey.generate_reports(reports=[\"aged_length_haul_counts\"])\n",
    "\n",
    "```\n",
    "\n",
    "```python\n",
    "---------------------------------------------------------------------------\n",
    "KeyError                                  Traceback (most recent call last)\n",
    "KeyError: 'report_path'\n",
    "\n",
    "During handling of the above exception, another exception occurred:\n",
    "\n",
    "KeyError                                  Traceback (most recent call last)\n",
    "Cell In[49], line 3\n",
    "      1 del survey.config[\"report_path\"]\n",
    "----> 3 survey.generate_reports(reports=[\"aged_length_haul_counts\"])\n",
    "\n",
    "File ~\\Documents\\GitHub\\echopop\\echopop\\extensions\\survey_extensions.py:13, in _generate_reports(self, **kwargs)\n",
    "     10 def _generate_reports(self: Survey, **kwargs) -> None:\n",
    "     11 \n",
    "     12     # Create `FEATReports` insance\n",
    "---> 13     reports_instance = FEATReports(self, **kwargs)\n",
    "     15     # Return the result for `FEATReports` class methods\n",
    "     16     return reports_instance.generate()\n",
    "\n",
    "File ~\\Documents\\GitHub\\echopop\\echopop\\extensions\\feat_report.py:659, in FEATReports.__init__(self, survey, reports, save_directory)\n",
    "    656 except KeyError as e:\n",
    "    657     # ---- Drop traceback\n",
    "    658     e.__traceback__ = None\n",
    "--> 659     raise KeyError(\n",
    "    660         \"Report save directory not defined. Either a value for argument \"\n",
    "...\n",
    "    663     )\n",
    "    664 # ---- Create the directory, if needed\n",
    "    665 save_directory.mkdir(parents=True, exist_ok=True)\n",
    "\n",
    "KeyError: \"Report save directory not defined. Either a value for argument 'save_directory' must be fined, or a valid directory must be defined via 'report_path' in the file configuration `*.yml` file.\"\n",
    "```\n",
    "::::"
   ]
  }
 ],
 "metadata": {
  "kernelspec": {
   "display_name": "echopop_3_12",
   "language": "python",
   "name": "python3"
  },
  "language_info": {
   "codemirror_mode": {
    "name": "ipython",
    "version": 3
   },
   "file_extension": ".py",
   "mimetype": "text/x-python",
   "name": "python",
   "nbconvert_exporter": "python",
   "pygments_lexer": "ipython3",
   "version": "3.12.2"
  }
 },
 "nbformat": 4,
 "nbformat_minor": 2
}
