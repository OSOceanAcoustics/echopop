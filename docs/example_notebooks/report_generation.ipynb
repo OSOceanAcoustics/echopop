{
 "cells": [
  {
   "cell_type": "markdown",
   "metadata": {},
   "source": [
    "# Generating reports\n",
    "\n",
    "A variety of reports can be generated using the `FEATReports` class object, which extracts required data from `echopop.survey.Survey` objects and saves them as `*.xlsx` reports. This can be achieved via:"
   ]
  },
  {
   "cell_type": "code",
   "execution_count": 1,
   "metadata": {
    "tags": [
     "remove_cell"
    ]
   },
   "outputs": [],
   "source": [
    "from echopop.survey import Survey\n",
    "\n",
    "survey = Survey(init_config_path = \"C:/Users/Brandyn/Documents/GitHub/echopop/config_files/initialization_config.yml\",\n",
    "                survey_year_config_path = \"C:/Users/Brandyn/Documents/GitHub/echopop/config_files/survey_year_2019_config.yml\")\n",
    "survey.load_survey_data(verbose=False)\n",
    "survey.load_acoustic_data(verbose=False)\n",
    "survey.transect_analysis(verbose=False)\n",
    "survey.kriging_analysis(variogram_parameters=dict(model=[\"exponential\", \"bessel\"], \n",
    "                                                  n_lags=30), variable=\"biomass_density\", \n",
    "                        verbose=False)"
   ]
  },
  {
   "cell_type": "code",
   "execution_count": 3,
   "metadata": {},
   "outputs": [
    {
     "name": "stdout",
     "output_type": "stream",
     "text": [
      "The following report tables were generated:\n",
      "   -'C:/Users/Brandyn/Documents/GitHub/EchoPro_data/Data/reports/aged_length_haul_counts_table.xlsx'\n",
      "   -'C:/Users/Brandyn/Documents/GitHub/EchoPro_data/Data/reports/kriged_aged_biomass_mesh_dataframe.xlsx'\n",
      "   -'C:/Users/Brandyn/Documents/GitHub/EchoPro_data/Data/reports/kriged_aged_biomass_reduced_mesh_dataframe.xlsx'\n",
      "   -'C:/Users/Brandyn/Documents/GitHub/EchoPro_data/Data/reports/kriged_biomass_mesh_dataframe.xlsx'\n",
      "   -'C:/Users/Brandyn/Documents/GitHub/EchoPro_data/Data/reports/kriged_biomass_mesh_reduced_dataframe.xlsx'\n",
      "   -'C:/Users/Brandyn/Documents/GitHub/EchoPro_data/Data/reports/kriged_length_age_biomass_table.xlsx'\n",
      "   -'C:/Users/Brandyn/Documents/GitHub/EchoPro_data/Data/reports/kriging_input_dataframe.xlsx'\n",
      "   -'C:/Users/Brandyn/Documents/GitHub/EchoPro_data/Data/reports/total_length_haul_counts_table.xlsx'\n",
      "   -'C:/Users/Brandyn/Documents/GitHub/EchoPro_data/Data/reports/transect_aged_biomass_dataframe.xlsx'\n",
      "   -'C:/Users/Brandyn/Documents/GitHub/EchoPro_data/Data/reports/transect_aged_biomass_reduced_dataframe.xlsx'\n",
      "   -'C:/Users/Brandyn/Documents/GitHub/EchoPro_data/Data/reports/transect_length_age_abundance_table.xlsx'\n",
      "   -'C:/Users/Brandyn/Documents/GitHub/EchoPro_data/Data/reports/transect_length_age_biomass_table.xlsx'\n",
      "   -'C:/Users/Brandyn/Documents/GitHub/EchoPro_data/Data/reports/transect_population_results_dataframe.xlsx'\n"
     ]
    }
   ],
   "source": [
    "from echopop.extensions.FEATreports import FEATReports\n",
    "\n",
    "FEATReports(survey).generate()"
   ]
  },
  {
   "cell_type": "markdown",
   "metadata": {},
   "source": [
    "When the `FEATReports` object succeeds, the above code produces the subsequent console message detailing which files have been generating (and their respective filepaths). This can be slightly modified by changing the inputs for the other two input arguments for `FEATReports`: \n",
    "- `reports`\n",
    "- `save_directory`\n",
    "\n",
    "The `reports` argument is a `List` of possible report-types, which comprises the below options:\n",
    "- `\"aged_length_haul_counts\"`\n",
    "  - Table comprising distributions of counts from aged fish for each haul\n",
    "- `\"kriged_biomass_mesh\"`\n",
    "  - Dataframe comprising georeferenced kriged mesh results with biomass estimates\n",
    "- `\"kriged_aged_biomass_mesh\"`\n",
    "  - Dataframe comprising georeferenced kriged mesh results with biomass distributed across \n",
    "all age bins\n",
    "- `\"kriging_input\"`\n",
    "  - Dataframe comprising georeferenced abundance, biomass, and NASC values that can be used \n",
    "for the kriging analysis. Note that only the 'biomass' column is currently used within \n",
    "`Echopop`\n",
    "- `\"kriged_length_age_biomass\"`\n",
    "  - Table comprising kriged biomass estimates distributed over age and length bins\n",
    "- `\"transect_aged_biomass\"`\n",
    "  - Dataframe comprising georeferenced along-transect biomass estimates with biomass \n",
    "distributed across age bins\n",
    "- `\"transect_length_age_abundance\"`\n",
    "  - Table comprising along-transect abundance estimates distributed over age and length bins\n",
    "- `\"transect_length_age_biomass\"`\n",
    "  - Table comprising along-transect biomass estimates distributed over age and length bins\n",
    "- `\"transect_population_estimates\"`\n",
    "  - Dataframe comprising georeferenced along-transect population estimates with that \n",
    "includes abundance, biomass, biomass density, number density, and values specific to \n",
    "each sex   \n",
    "\n",
    "For instance, if only a specific set of reports is required, then this can be achieved via:"
   ]
  },
  {
   "cell_type": "code",
   "execution_count": null,
   "metadata": {},
   "outputs": [
    {
     "name": "stdout",
     "output_type": "stream",
     "text": [
      "The following report tables were generated:\n",
      "   -'C:/Users/Brandyn/Documents/GitHub/EchoPro_data/Data/reports/aged_length_haul_counts_table.xlsx'\n",
      "   -'C:/Users/Brandyn/Documents/GitHub/EchoPro_data/Data/reports/kriging_input_dataframe.xlsx'\n"
     ]
    }
   ],
   "source": [
    "FEATReports(survey, \n",
    "            reports=[\"aged_length_haul_counts\", \"kriging_input\"]).generate()"
   ]
  },
  {
   "cell_type": "markdown",
   "metadata": {},
   "source": [
    "Similarly, the `save_directory` argument can be modified that instructs `FEATReports` where to write the `*.xlsx` reports:"
   ]
  },
  {
   "cell_type": "code",
   "execution_count": 5,
   "metadata": {},
   "outputs": [
    {
     "name": "stdout",
     "output_type": "stream",
     "text": [
      "The following report tables were generated:\n",
      "   -'C:/Users/Brandyn/Documents/aged_length_haul_counts_table.xlsx'\n",
      "   -'C:/Users/Brandyn/Documents/kriging_input_dataframe.xlsx'\n"
     ]
    }
   ],
   "source": [
    "FEATReports(survey, \n",
    "            reports=[\"aged_length_haul_counts\", \"kriging_input\"], \n",
    "            save_directory=\"C:/Users/Brandyn/Documents\").generate()"
   ]
  }
 ],
 "metadata": {
  "kernelspec": {
   "display_name": "echopop_3_12",
   "language": "python",
   "name": "python3"
  },
  "language_info": {
   "codemirror_mode": {
    "name": "ipython",
    "version": 3
   },
   "file_extension": ".py",
   "mimetype": "text/x-python",
   "name": "python",
   "nbconvert_exporter": "python",
   "pygments_lexer": "ipython3",
   "version": "3.12.2"
  }
 },
 "nbformat": 4,
 "nbformat_minor": 2
}
