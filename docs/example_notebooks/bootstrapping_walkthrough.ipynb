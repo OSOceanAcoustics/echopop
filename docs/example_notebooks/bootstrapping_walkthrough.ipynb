{
 "cells": [
  {
   "cell_type": "markdown",
   "id": "f0aa0cbe",
   "metadata": {},
   "source": [
    "# EchoPro Bootstrapping Workflow"
   ]
  },
  {
   "cell_type": "markdown",
   "id": "ccaef1d6",
   "metadata": {},
   "source": [
    "## Import libraries and configure the Jupyter notebook"
   ]
  },
  {
   "cell_type": "code",
   "execution_count": 1,
   "id": "66ad49aa",
   "metadata": {
    "execution": {
     "iopub.execute_input": "2023-01-12T05:49:39.009309Z",
     "iopub.status.busy": "2023-01-12T05:49:39.008898Z",
     "iopub.status.idle": "2023-01-12T05:49:40.347583Z",
     "shell.execute_reply": "2023-01-12T05:49:40.346852Z"
    }
   },
   "outputs": [],
   "source": [
    "# libraries used in the Notebook\n",
    "import matplotlib.pyplot as plt\n",
    "import numpy as np\n",
    "import pandas as pd \n",
    "\n",
    "# Python version of EchoPro\n",
    "import EchoPro\n",
    "\n",
    "# Allows us to grab the SemiVariogram class so we can use its models\n",
    "from EchoPro.computation import SemiVariogram as SV\n",
    "\n",
    "# Allows us to easily use matplotlib widgets in our Notebook\n",
    "#%matplotlib widget"
   ]
  },
  {
   "cell_type": "code",
   "execution_count": 2,
   "id": "059a8a59",
   "metadata": {
    "execution": {
     "iopub.execute_input": "2023-01-12T05:49:40.349981Z",
     "iopub.status.busy": "2023-01-12T05:49:40.349800Z",
     "iopub.status.idle": "2023-01-12T05:49:40.360016Z",
     "shell.execute_reply": "2023-01-12T05:49:40.359520Z"
    }
   },
   "outputs": [
    {
     "name": "stdout",
     "output_type": "stream",
     "text": [
      "A full check of the initialization file contents needs to be done!\n",
      "A check of the survey year file contents needs to be done!\n",
      "CPU times: user 6.21 ms, sys: 0 ns, total: 6.21 ms\n",
      "Wall time: 6.33 ms\n"
     ]
    }
   ],
   "source": [
    "%%time\n",
    "survey_2019 = EchoPro.Survey(init_file_path='../config_files/initialization_config.yml',\n",
    "                             survey_year_file_path='../config_files/survey_year_2019_config.yml',\n",
    "                             source=3, \n",
    "                             exclude_age1=True)"
   ]
  },
  {
   "cell_type": "code",
   "execution_count": 3,
   "id": "8c0d730c",
   "metadata": {
    "execution": {
     "iopub.execute_input": "2023-01-12T05:49:40.361838Z",
     "iopub.status.busy": "2023-01-12T05:49:40.361742Z",
     "iopub.status.idle": "2023-01-12T05:49:41.611636Z",
     "shell.execute_reply": "2023-01-12T05:49:41.611216Z"
    }
   },
   "outputs": [
    {
     "name": "stdout",
     "output_type": "stream",
     "text": [
      "CPU times: user 1.25 s, sys: 636 µs, total: 1.25 s\n",
      "Wall time: 1.25 s\n"
     ]
    }
   ],
   "source": [
    "%%time \n",
    "survey_2019.load_survey_data() "
   ]
  },
  {
   "cell_type": "markdown",
   "id": "4a4a8b75",
   "metadata": {},
   "source": [
    "## Get bootstrapping object\n",
    "- Obtain a bootstrapping object tied to a specific survey year"
   ]
  },
  {
   "cell_type": "code",
   "execution_count": 4,
   "id": "59bb2978",
   "metadata": {
    "execution": {
     "iopub.execute_input": "2023-01-12T05:49:41.613264Z",
     "iopub.status.busy": "2023-01-12T05:49:41.613127Z",
     "iopub.status.idle": "2023-01-12T05:49:41.615759Z",
     "shell.execute_reply": "2023-01-12T05:49:41.615286Z"
    }
   },
   "outputs": [],
   "source": [
    "boot_obj = survey_2019.get_bootstrapping()"
   ]
  },
  {
   "cell_type": "markdown",
   "id": "95a032cd",
   "metadata": {},
   "source": [
    "## Run bootstrapping without Kriging\n",
    "In EchoPro we can perform bootstrapping on a reduced number of transects and obtain the areal biomass density for each iteration of bootstrapping as well as the associated mean Jolly-Hampton CV value. "
   ]
  },
  {
   "cell_type": "code",
   "execution_count": 5,
   "id": "db75cb6a",
   "metadata": {
    "execution": {
     "iopub.execute_input": "2023-01-12T05:49:41.617237Z",
     "iopub.status.busy": "2023-01-12T05:49:41.617082Z",
     "iopub.status.idle": "2023-01-12T05:49:43.466397Z",
     "shell.execute_reply": "2023-01-12T05:49:43.465832Z"
    }
   },
   "outputs": [
    {
     "name": "stdout",
     "output_type": "stream",
     "text": [
      "CPU times: user 1.84 s, sys: 5.62 ms, total: 1.85 s\n",
      "Wall time: 1.85 s\n"
     ]
    }
   ],
   "source": [
    "%%time\n",
    "boot_results_no_krig = boot_obj.run_bootstrapping(run_kriging=False,\n",
    "                                                  removal_percentage=50.0,\n",
    "                                                  num_iterations=5,\n",
    "                                                  seed=1234)"
   ]
  },
  {
   "cell_type": "code",
   "execution_count": 6,
   "id": "56ffbe04",
   "metadata": {
    "execution": {
     "iopub.execute_input": "2023-01-12T05:49:43.468696Z",
     "iopub.status.busy": "2023-01-12T05:49:43.468550Z",
     "iopub.status.idle": "2023-01-12T05:49:43.475608Z",
     "shell.execute_reply": "2023-01-12T05:49:43.475256Z"
    }
   },
   "outputs": [
    {
     "data": {
      "text/html": [
       "<div>\n",
       "<style scoped>\n",
       "    .dataframe tbody tr th:only-of-type {\n",
       "        vertical-align: middle;\n",
       "    }\n",
       "\n",
       "    .dataframe tbody tr th {\n",
       "        vertical-align: top;\n",
       "    }\n",
       "\n",
       "    .dataframe thead th {\n",
       "        text-align: right;\n",
       "    }\n",
       "</style>\n",
       "<table border=\"1\" class=\"dataframe\">\n",
       "  <thead>\n",
       "    <tr style=\"text-align: right;\">\n",
       "      <th></th>\n",
       "      <th>tot_biomass_no_kriging</th>\n",
       "      <th>CV_JH_mean_no_kriging</th>\n",
       "    </tr>\n",
       "    <tr>\n",
       "      <th>iteration</th>\n",
       "      <th></th>\n",
       "      <th></th>\n",
       "    </tr>\n",
       "  </thead>\n",
       "  <tbody>\n",
       "    <tr>\n",
       "      <th>1</th>\n",
       "      <td>4.823803e+08</td>\n",
       "      <td>0.259434</td>\n",
       "    </tr>\n",
       "    <tr>\n",
       "      <th>2</th>\n",
       "      <td>6.287572e+08</td>\n",
       "      <td>0.299466</td>\n",
       "    </tr>\n",
       "    <tr>\n",
       "      <th>3</th>\n",
       "      <td>4.268083e+08</td>\n",
       "      <td>0.277076</td>\n",
       "    </tr>\n",
       "    <tr>\n",
       "      <th>4</th>\n",
       "      <td>6.319543e+08</td>\n",
       "      <td>0.260436</td>\n",
       "    </tr>\n",
       "    <tr>\n",
       "      <th>5</th>\n",
       "      <td>5.654719e+08</td>\n",
       "      <td>0.280947</td>\n",
       "    </tr>\n",
       "  </tbody>\n",
       "</table>\n",
       "</div>"
      ],
      "text/plain": [
       "           tot_biomass_no_kriging  CV_JH_mean_no_kriging\n",
       "iteration                                               \n",
       "1                    4.823803e+08               0.259434\n",
       "2                    6.287572e+08               0.299466\n",
       "3                    4.268083e+08               0.277076\n",
       "4                    6.319543e+08               0.260436\n",
       "5                    5.654719e+08               0.280947"
      ]
     },
     "execution_count": 6,
     "metadata": {},
     "output_type": "execute_result"
    }
   ],
   "source": [
    "boot_results_no_krig"
   ]
  },
  {
   "cell_type": "code",
   "execution_count": 7,
   "id": "9ab18c8b",
   "metadata": {
    "execution": {
     "iopub.execute_input": "2023-01-12T05:49:43.477237Z",
     "iopub.status.busy": "2023-01-12T05:49:43.477080Z",
     "iopub.status.idle": "2023-01-12T05:49:43.479793Z",
     "shell.execute_reply": "2023-01-12T05:49:43.479450Z"
    }
   },
   "outputs": [
    {
     "name": "stdout",
     "output_type": "stream",
     "text": [
      "Mean total biomass without Kriging: 547.074 kmt\n"
     ]
    }
   ],
   "source": [
    "print(f\"Mean total biomass without Kriging: {1e-6 * boot_results_no_krig['tot_biomass_no_kriging'].mean():.3f} kmt\")"
   ]
  },
  {
   "cell_type": "markdown",
   "id": "83df8971",
   "metadata": {},
   "source": [
    "## Run bootstrapping with Kriging\n",
    "Now, we demonstrate how to run bootstrapping with Kriging "
   ]
  },
  {
   "cell_type": "markdown",
   "id": "75ecf293",
   "metadata": {},
   "source": [
    "### Initialize Kriging Mesh\n",
    "Before we run bootstrapping we need to establish what Kriging mesh we will be using. Note: In bootstrapping the transformation of all meshes will be done automatically.   "
   ]
  },
  {
   "cell_type": "code",
   "execution_count": 8,
   "id": "020bed87",
   "metadata": {
    "execution": {
     "iopub.execute_input": "2023-01-12T05:49:43.481883Z",
     "iopub.status.busy": "2023-01-12T05:49:43.481636Z",
     "iopub.status.idle": "2023-01-12T05:49:44.420856Z",
     "shell.execute_reply": "2023-01-12T05:49:44.420469Z"
    }
   },
   "outputs": [],
   "source": [
    "krig_mesh = survey_2019.get_kriging_mesh()"
   ]
  },
  {
   "cell_type": "markdown",
   "id": "5d5456a0",
   "metadata": {},
   "source": [
    "### Set appropriate bootstrap Kriging parameters and run boostrapping "
   ]
  },
  {
   "cell_type": "code",
   "execution_count": 9,
   "id": "cb914d68",
   "metadata": {
    "execution": {
     "iopub.execute_input": "2023-01-12T05:49:44.423128Z",
     "iopub.status.busy": "2023-01-12T05:49:44.423004Z",
     "iopub.status.idle": "2023-01-12T05:49:44.425492Z",
     "shell.execute_reply": "2023-01-12T05:49:44.425220Z"
    }
   },
   "outputs": [],
   "source": [
    "bootstrap_kriging_params = dict(\n",
    "    # kriging parameters\n",
    "    k_max=10,\n",
    "    k_min=3,\n",
    "    R=0.0226287,\n",
    "    ratio=0.001,\n",
    "    \n",
    "    # parameters for semi-variogram model\n",
    "    s_v_params={'nugget': 0.0, 'sill': 0.95279, 'ls': 0.0075429,\n",
    "                'exp_pow': 1.5, 'ls_hole_eff': 0.0},\n",
    "    \n",
    "    # grab appropriate semi-variogram model\n",
    "    s_v_model=SV.generalized_exp_bessel,\n",
    "    \n",
    "    # set Kriging mesh\n",
    "    krig_mesh=krig_mesh \n",
    ")"
   ]
  },
  {
   "cell_type": "code",
   "execution_count": 10,
   "id": "0af95f56",
   "metadata": {
    "execution": {
     "iopub.execute_input": "2023-01-12T05:49:44.427162Z",
     "iopub.status.busy": "2023-01-12T05:49:44.427060Z",
     "iopub.status.idle": "2023-01-12T05:50:01.104843Z",
     "shell.execute_reply": "2023-01-12T05:50:01.104338Z"
    }
   },
   "outputs": [
    {
     "name": "stdout",
     "output_type": "stream",
     "text": [
      "CPU times: user 19.4 s, sys: 4.97 s, total: 24.4 s\n",
      "Wall time: 16.7 s\n"
     ]
    }
   ],
   "source": [
    "%%time\n",
    "boot_results_krig = boot_obj.run_bootstrapping(run_kriging=True,\n",
    "                                               kriging_params=bootstrap_kriging_params,\n",
    "                                               removal_percentage=50.0,\n",
    "                                               num_iterations=5,\n",
    "                                               seed=1234)"
   ]
  },
  {
   "cell_type": "code",
   "execution_count": 11,
   "id": "349e4485",
   "metadata": {
    "execution": {
     "iopub.execute_input": "2023-01-12T05:50:01.106492Z",
     "iopub.status.busy": "2023-01-12T05:50:01.106379Z",
     "iopub.status.idle": "2023-01-12T05:50:01.111247Z",
     "shell.execute_reply": "2023-01-12T05:50:01.110886Z"
    }
   },
   "outputs": [
    {
     "data": {
      "text/html": [
       "<div>\n",
       "<style scoped>\n",
       "    .dataframe tbody tr th:only-of-type {\n",
       "        vertical-align: middle;\n",
       "    }\n",
       "\n",
       "    .dataframe tbody tr th {\n",
       "        vertical-align: top;\n",
       "    }\n",
       "\n",
       "    .dataframe thead th {\n",
       "        text-align: right;\n",
       "    }\n",
       "</style>\n",
       "<table border=\"1\" class=\"dataframe\">\n",
       "  <thead>\n",
       "    <tr style=\"text-align: right;\">\n",
       "      <th></th>\n",
       "      <th>tot_biomass_no_kriging</th>\n",
       "      <th>CV_JH_mean_no_kriging</th>\n",
       "      <th>tot_biomass_kriging</th>\n",
       "      <th>CV_JH_mean_kriging</th>\n",
       "    </tr>\n",
       "    <tr>\n",
       "      <th>iteration</th>\n",
       "      <th></th>\n",
       "      <th></th>\n",
       "      <th></th>\n",
       "      <th></th>\n",
       "    </tr>\n",
       "  </thead>\n",
       "  <tbody>\n",
       "    <tr>\n",
       "      <th>1</th>\n",
       "      <td>4.823803e+08</td>\n",
       "      <td>0.259377</td>\n",
       "      <td>1.060860e+09</td>\n",
       "      <td>0.135921</td>\n",
       "    </tr>\n",
       "    <tr>\n",
       "      <th>2</th>\n",
       "      <td>6.287572e+08</td>\n",
       "      <td>0.299328</td>\n",
       "      <td>1.687877e+09</td>\n",
       "      <td>0.150624</td>\n",
       "    </tr>\n",
       "    <tr>\n",
       "      <th>3</th>\n",
       "      <td>4.268083e+08</td>\n",
       "      <td>0.277195</td>\n",
       "      <td>1.056840e+09</td>\n",
       "      <td>0.140577</td>\n",
       "    </tr>\n",
       "    <tr>\n",
       "      <th>4</th>\n",
       "      <td>6.319543e+08</td>\n",
       "      <td>0.260299</td>\n",
       "      <td>1.594250e+09</td>\n",
       "      <td>0.135660</td>\n",
       "    </tr>\n",
       "    <tr>\n",
       "      <th>5</th>\n",
       "      <td>5.654719e+08</td>\n",
       "      <td>0.281380</td>\n",
       "      <td>1.470527e+09</td>\n",
       "      <td>0.155070</td>\n",
       "    </tr>\n",
       "  </tbody>\n",
       "</table>\n",
       "</div>"
      ],
      "text/plain": [
       "           tot_biomass_no_kriging  CV_JH_mean_no_kriging  tot_biomass_kriging  \\\n",
       "iteration                                                                       \n",
       "1                    4.823803e+08               0.259377         1.060860e+09   \n",
       "2                    6.287572e+08               0.299328         1.687877e+09   \n",
       "3                    4.268083e+08               0.277195         1.056840e+09   \n",
       "4                    6.319543e+08               0.260299         1.594250e+09   \n",
       "5                    5.654719e+08               0.281380         1.470527e+09   \n",
       "\n",
       "           CV_JH_mean_kriging  \n",
       "iteration                      \n",
       "1                    0.135921  \n",
       "2                    0.150624  \n",
       "3                    0.140577  \n",
       "4                    0.135660  \n",
       "5                    0.155070  "
      ]
     },
     "execution_count": 11,
     "metadata": {},
     "output_type": "execute_result"
    }
   ],
   "source": [
    "boot_results_krig"
   ]
  },
  {
   "cell_type": "code",
   "execution_count": 12,
   "id": "85da1c32",
   "metadata": {
    "execution": {
     "iopub.execute_input": "2023-01-12T05:50:01.112494Z",
     "iopub.status.busy": "2023-01-12T05:50:01.112401Z",
     "iopub.status.idle": "2023-01-12T05:50:01.114805Z",
     "shell.execute_reply": "2023-01-12T05:50:01.114446Z"
    }
   },
   "outputs": [
    {
     "name": "stdout",
     "output_type": "stream",
     "text": [
      "Mean total biomass with Kriging: 1374.071 kmt\n"
     ]
    }
   ],
   "source": [
    "print(f\"Mean total biomass with Kriging: {1e-6 * boot_results_krig['tot_biomass_kriging'].mean():.3f} kmt\")"
   ]
  },
  {
   "cell_type": "code",
   "execution_count": null,
   "id": "7ecce36e",
   "metadata": {},
   "outputs": [],
   "source": []
  }
 ],
 "metadata": {
  "kernelspec": {
   "display_name": "Python [conda env:echopro_jupnb] *",
   "language": "python",
   "name": "conda-env-echopro_jupnb-py"
  },
  "language_info": {
   "codemirror_mode": {
    "name": "ipython",
    "version": 3
   },
   "file_extension": ".py",
   "mimetype": "text/x-python",
   "name": "python",
   "nbconvert_exporter": "python",
   "pygments_lexer": "ipython3",
   "version": "3.9.15"
  },
  "toc": {
   "base_numbering": 1,
   "nav_menu": {
    "height": "332px",
    "width": "838px"
   },
   "number_sections": true,
   "sideBar": true,
   "skip_h1_title": false,
   "title_cell": "Table of Contents",
   "title_sidebar": "Contents",
   "toc_cell": false,
   "toc_position": {
    "height": "calc(100% - 180px)",
    "left": "10px",
    "top": "150px",
    "width": "217.2px"
   },
   "toc_section_display": true,
   "toc_window_display": true
  },
  "toc-autonumbering": true
 },
 "nbformat": 4,
 "nbformat_minor": 5
}
