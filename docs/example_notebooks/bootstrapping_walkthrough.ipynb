{
 "cells": [
  {
   "cell_type": "markdown",
   "id": "f0aa0cbe",
   "metadata": {},
   "source": [
    "# EchoPro Bootstrapping Workflow"
   ]
  },
  {
   "cell_type": "markdown",
   "id": "ccaef1d6",
   "metadata": {},
   "source": [
    "## Import libraries and configure the Jupyter notebook"
   ]
  },
  {
   "cell_type": "code",
   "execution_count": 1,
   "id": "66ad49aa",
   "metadata": {
    "execution": {
     "iopub.execute_input": "2023-02-04T00:52:36.499226Z",
     "iopub.status.busy": "2023-02-04T00:52:36.498901Z",
     "iopub.status.idle": "2023-02-04T00:52:38.047652Z",
     "shell.execute_reply": "2023-02-04T00:52:38.046791Z"
    }
   },
   "outputs": [],
   "source": [
    "# libraries used in the Notebook\n",
    "import matplotlib.pyplot as plt\n",
    "import numpy as np\n",
    "import pandas as pd \n",
    "\n",
    "# Python version of EchoPro\n",
    "import EchoPro\n",
    "\n",
    "# Allows us to grab the SemiVariogram class so we can use its models\n",
    "from EchoPro.computation import SemiVariogram as SV\n",
    "\n",
    "# Allows us to easily use matplotlib widgets in our Notebook\n",
    "#%matplotlib widget"
   ]
  },
  {
   "cell_type": "code",
   "execution_count": 2,
   "id": "059a8a59",
   "metadata": {
    "execution": {
     "iopub.execute_input": "2023-02-04T00:52:38.049906Z",
     "iopub.status.busy": "2023-02-04T00:52:38.049705Z",
     "iopub.status.idle": "2023-02-04T00:52:38.059183Z",
     "shell.execute_reply": "2023-02-04T00:52:38.058601Z"
    }
   },
   "outputs": [
    {
     "name": "stdout",
     "output_type": "stream",
     "text": [
      "A full check of the initialization file contents needs to be done!\n",
      "A check of the survey year file contents needs to be done!\n",
      "CPU times: user 2.67 ms, sys: 3.35 ms, total: 6.02 ms\n",
      "Wall time: 6.15 ms\n"
     ]
    }
   ],
   "source": [
    "%%time\n",
    "survey_2019 = EchoPro.Survey(init_file_path='../config_files/initialization_config.yml',\n",
    "                             survey_year_file_path='../config_files/survey_year_2019_config.yml',\n",
    "                             source=3, \n",
    "                             exclude_age1=True)"
   ]
  },
  {
   "cell_type": "code",
   "execution_count": 3,
   "id": "8c0d730c",
   "metadata": {
    "execution": {
     "iopub.execute_input": "2023-02-04T00:52:38.060794Z",
     "iopub.status.busy": "2023-02-04T00:52:38.060686Z",
     "iopub.status.idle": "2023-02-04T00:52:39.615926Z",
     "shell.execute_reply": "2023-02-04T00:52:39.615354Z"
    }
   },
   "outputs": [
    {
     "name": "stdout",
     "output_type": "stream",
     "text": [
      "CPU times: user 1.55 s, sys: 5.56 ms, total: 1.55 s\n",
      "Wall time: 1.55 s\n"
     ]
    }
   ],
   "source": [
    "%%time \n",
    "survey_2019.load_survey_data() "
   ]
  },
  {
   "cell_type": "markdown",
   "id": "4a4a8b75",
   "metadata": {},
   "source": [
    "## Get bootstrapping object\n",
    "- Obtain a bootstrapping object tied to a specific survey year"
   ]
  },
  {
   "cell_type": "code",
   "execution_count": 4,
   "id": "59bb2978",
   "metadata": {
    "execution": {
     "iopub.execute_input": "2023-02-04T00:52:39.617817Z",
     "iopub.status.busy": "2023-02-04T00:52:39.617596Z",
     "iopub.status.idle": "2023-02-04T00:52:39.620532Z",
     "shell.execute_reply": "2023-02-04T00:52:39.620021Z"
    }
   },
   "outputs": [],
   "source": [
    "boot_obj = survey_2019.get_bootstrapping()"
   ]
  },
  {
   "cell_type": "markdown",
   "id": "95a032cd",
   "metadata": {},
   "source": [
    "## Run bootstrapping without Kriging\n",
    "In EchoPro we can perform bootstrapping on a reduced number of transects and obtain the areal biomass density for each iteration of bootstrapping as well as the associated mean Jolly-Hampton CV value. "
   ]
  },
  {
   "cell_type": "code",
   "execution_count": 5,
   "id": "db75cb6a",
   "metadata": {
    "execution": {
     "iopub.execute_input": "2023-02-04T00:52:39.622130Z",
     "iopub.status.busy": "2023-02-04T00:52:39.621996Z",
     "iopub.status.idle": "2023-02-04T00:52:49.398176Z",
     "shell.execute_reply": "2023-02-04T00:52:49.397528Z"
    }
   },
   "outputs": [
    {
     "name": "stdout",
     "output_type": "stream",
     "text": [
      "CPU times: user 9.74 s, sys: 33.4 ms, total: 9.77 s\n",
      "Wall time: 9.77 s\n"
     ]
    }
   ],
   "source": [
    "%%time\n",
    "boot_results_no_krig = boot_obj.run_bootstrapping(run_kriging=False,\n",
    "                                                  removal_percentage=50.0,\n",
    "                                                  num_iterations=5,\n",
    "                                                  seed=1234)"
   ]
  },
  {
   "cell_type": "code",
   "execution_count": 6,
   "id": "56ffbe04",
   "metadata": {
    "execution": {
     "iopub.execute_input": "2023-02-04T00:52:49.400474Z",
     "iopub.status.busy": "2023-02-04T00:52:49.400326Z",
     "iopub.status.idle": "2023-02-04T00:52:49.406821Z",
     "shell.execute_reply": "2023-02-04T00:52:49.406479Z"
    }
   },
   "outputs": [
    {
     "data": {
      "text/html": [
       "<div>\n",
       "<style scoped>\n",
       "    .dataframe tbody tr th:only-of-type {\n",
       "        vertical-align: middle;\n",
       "    }\n",
       "\n",
       "    .dataframe tbody tr th {\n",
       "        vertical-align: top;\n",
       "    }\n",
       "\n",
       "    .dataframe thead th {\n",
       "        text-align: right;\n",
       "    }\n",
       "</style>\n",
       "<table border=\"1\" class=\"dataframe\">\n",
       "  <thead>\n",
       "    <tr style=\"text-align: right;\">\n",
       "      <th></th>\n",
       "      <th>tot_biomass_no_kriging</th>\n",
       "      <th>CV_JH_mean_no_kriging</th>\n",
       "    </tr>\n",
       "    <tr>\n",
       "      <th>iteration</th>\n",
       "      <th></th>\n",
       "      <th></th>\n",
       "    </tr>\n",
       "  </thead>\n",
       "  <tbody>\n",
       "    <tr>\n",
       "      <th>1</th>\n",
       "      <td>4.823803e+08</td>\n",
       "      <td>0.259509</td>\n",
       "    </tr>\n",
       "    <tr>\n",
       "      <th>2</th>\n",
       "      <td>6.287572e+08</td>\n",
       "      <td>0.299433</td>\n",
       "    </tr>\n",
       "    <tr>\n",
       "      <th>3</th>\n",
       "      <td>4.268084e+08</td>\n",
       "      <td>0.277257</td>\n",
       "    </tr>\n",
       "    <tr>\n",
       "      <th>4</th>\n",
       "      <td>6.319543e+08</td>\n",
       "      <td>0.260371</td>\n",
       "    </tr>\n",
       "    <tr>\n",
       "      <th>5</th>\n",
       "      <td>5.654719e+08</td>\n",
       "      <td>0.281114</td>\n",
       "    </tr>\n",
       "  </tbody>\n",
       "</table>\n",
       "</div>"
      ],
      "text/plain": [
       "           tot_biomass_no_kriging  CV_JH_mean_no_kriging\n",
       "iteration                                               \n",
       "1                    4.823803e+08               0.259509\n",
       "2                    6.287572e+08               0.299433\n",
       "3                    4.268084e+08               0.277257\n",
       "4                    6.319543e+08               0.260371\n",
       "5                    5.654719e+08               0.281114"
      ]
     },
     "execution_count": 6,
     "metadata": {},
     "output_type": "execute_result"
    }
   ],
   "source": [
    "boot_results_no_krig"
   ]
  },
  {
   "cell_type": "code",
   "execution_count": 7,
   "id": "9ab18c8b",
   "metadata": {
    "execution": {
     "iopub.execute_input": "2023-02-04T00:52:49.408428Z",
     "iopub.status.busy": "2023-02-04T00:52:49.408321Z",
     "iopub.status.idle": "2023-02-04T00:52:49.411010Z",
     "shell.execute_reply": "2023-02-04T00:52:49.410629Z"
    }
   },
   "outputs": [
    {
     "name": "stdout",
     "output_type": "stream",
     "text": [
      "Mean total biomass without Kriging: 547.074 kmt\n"
     ]
    }
   ],
   "source": [
    "print(f\"Mean total biomass without Kriging: {1e-6 * boot_results_no_krig['tot_biomass_no_kriging'].mean():.3f} kmt\")"
   ]
  },
  {
   "cell_type": "markdown",
   "id": "83df8971",
   "metadata": {},
   "source": [
    "## Run bootstrapping with Kriging\n",
    "Now, we demonstrate how to run bootstrapping with Kriging "
   ]
  },
  {
   "cell_type": "markdown",
   "id": "75ecf293",
   "metadata": {},
   "source": [
    "### Initialize Kriging Mesh\n",
    "Before we run bootstrapping we need to establish what Kriging mesh we will be using. Note: In bootstrapping the transformation of all meshes will be done automatically.   "
   ]
  },
  {
   "cell_type": "code",
   "execution_count": 8,
   "id": "020bed87",
   "metadata": {
    "execution": {
     "iopub.execute_input": "2023-02-04T00:52:49.412753Z",
     "iopub.status.busy": "2023-02-04T00:52:49.412607Z",
     "iopub.status.idle": "2023-02-04T00:52:50.708745Z",
     "shell.execute_reply": "2023-02-04T00:52:50.707855Z"
    }
   },
   "outputs": [],
   "source": [
    "krig_mesh = survey_2019.get_kriging_mesh()"
   ]
  },
  {
   "cell_type": "markdown",
   "id": "5d5456a0",
   "metadata": {},
   "source": [
    "### Set appropriate bootstrap Kriging parameters and run boostrapping "
   ]
  },
  {
   "cell_type": "code",
   "execution_count": 9,
   "id": "cb914d68",
   "metadata": {
    "execution": {
     "iopub.execute_input": "2023-02-04T00:52:50.712178Z",
     "iopub.status.busy": "2023-02-04T00:52:50.711888Z",
     "iopub.status.idle": "2023-02-04T00:52:50.716228Z",
     "shell.execute_reply": "2023-02-04T00:52:50.715722Z"
    }
   },
   "outputs": [],
   "source": [
    "bootstrap_kriging_params = dict(\n",
    "    # kriging parameters\n",
    "    k_max=10,\n",
    "    k_min=3,\n",
    "    R=0.0226287,\n",
    "    ratio=0.001,\n",
    "    \n",
    "    # parameters for semi-variogram model\n",
    "    s_v_params={'nugget': 0.0, 'sill': 0.95279, 'ls': 0.0075429,\n",
    "                'exp_pow': 1.5, 'ls_hole_eff': 0.0},\n",
    "    \n",
    "    # grab appropriate semi-variogram model\n",
    "    s_v_model=SV.generalized_exp_bessel,\n",
    "    \n",
    "    # set Kriging mesh\n",
    "    krig_mesh=krig_mesh \n",
    ")"
   ]
  },
  {
   "cell_type": "code",
   "execution_count": 10,
   "id": "0af95f56",
   "metadata": {
    "execution": {
     "iopub.execute_input": "2023-02-04T00:52:50.718541Z",
     "iopub.status.busy": "2023-02-04T00:52:50.718313Z",
     "iopub.status.idle": "2023-02-04T00:53:19.085420Z",
     "shell.execute_reply": "2023-02-04T00:53:19.084674Z"
    }
   },
   "outputs": [
    {
     "name": "stdout",
     "output_type": "stream",
     "text": [
      "CPU times: user 31.9 s, sys: 4.39 s, total: 36.3 s\n",
      "Wall time: 28.4 s\n"
     ]
    }
   ],
   "source": [
    "%%time\n",
    "boot_results_krig = boot_obj.run_bootstrapping(run_kriging=True,\n",
    "                                               kriging_params=bootstrap_kriging_params,\n",
    "                                               removal_percentage=50.0,\n",
    "                                               num_iterations=5,\n",
    "                                               seed=1234)"
   ]
  },
  {
   "cell_type": "code",
   "execution_count": 11,
   "id": "349e4485",
   "metadata": {
    "execution": {
     "iopub.execute_input": "2023-02-04T00:53:19.087350Z",
     "iopub.status.busy": "2023-02-04T00:53:19.087246Z",
     "iopub.status.idle": "2023-02-04T00:53:19.091651Z",
     "shell.execute_reply": "2023-02-04T00:53:19.091380Z"
    }
   },
   "outputs": [
    {
     "data": {
      "text/html": [
       "<div>\n",
       "<style scoped>\n",
       "    .dataframe tbody tr th:only-of-type {\n",
       "        vertical-align: middle;\n",
       "    }\n",
       "\n",
       "    .dataframe tbody tr th {\n",
       "        vertical-align: top;\n",
       "    }\n",
       "\n",
       "    .dataframe thead th {\n",
       "        text-align: right;\n",
       "    }\n",
       "</style>\n",
       "<table border=\"1\" class=\"dataframe\">\n",
       "  <thead>\n",
       "    <tr style=\"text-align: right;\">\n",
       "      <th></th>\n",
       "      <th>tot_biomass_no_kriging</th>\n",
       "      <th>CV_JH_mean_no_kriging</th>\n",
       "      <th>tot_biomass_kriging</th>\n",
       "      <th>CV_JH_mean_kriging</th>\n",
       "    </tr>\n",
       "    <tr>\n",
       "      <th>iteration</th>\n",
       "      <th></th>\n",
       "      <th></th>\n",
       "      <th></th>\n",
       "      <th></th>\n",
       "    </tr>\n",
       "  </thead>\n",
       "  <tbody>\n",
       "    <tr>\n",
       "      <th>1</th>\n",
       "      <td>4.823803e+08</td>\n",
       "      <td>0.259458</td>\n",
       "      <td>1.060860e+09</td>\n",
       "      <td>0.135964</td>\n",
       "    </tr>\n",
       "    <tr>\n",
       "      <th>2</th>\n",
       "      <td>6.287572e+08</td>\n",
       "      <td>0.299280</td>\n",
       "      <td>1.687877e+09</td>\n",
       "      <td>0.150531</td>\n",
       "    </tr>\n",
       "    <tr>\n",
       "      <th>3</th>\n",
       "      <td>4.268084e+08</td>\n",
       "      <td>0.277408</td>\n",
       "      <td>1.056840e+09</td>\n",
       "      <td>0.140598</td>\n",
       "    </tr>\n",
       "    <tr>\n",
       "      <th>4</th>\n",
       "      <td>6.319543e+08</td>\n",
       "      <td>0.260353</td>\n",
       "      <td>1.594250e+09</td>\n",
       "      <td>0.135785</td>\n",
       "    </tr>\n",
       "    <tr>\n",
       "      <th>5</th>\n",
       "      <td>5.654719e+08</td>\n",
       "      <td>0.281390</td>\n",
       "      <td>1.470527e+09</td>\n",
       "      <td>0.155058</td>\n",
       "    </tr>\n",
       "  </tbody>\n",
       "</table>\n",
       "</div>"
      ],
      "text/plain": [
       "           tot_biomass_no_kriging  CV_JH_mean_no_kriging  tot_biomass_kriging  \\\n",
       "iteration                                                                       \n",
       "1                    4.823803e+08               0.259458         1.060860e+09   \n",
       "2                    6.287572e+08               0.299280         1.687877e+09   \n",
       "3                    4.268084e+08               0.277408         1.056840e+09   \n",
       "4                    6.319543e+08               0.260353         1.594250e+09   \n",
       "5                    5.654719e+08               0.281390         1.470527e+09   \n",
       "\n",
       "           CV_JH_mean_kriging  \n",
       "iteration                      \n",
       "1                    0.135964  \n",
       "2                    0.150531  \n",
       "3                    0.140598  \n",
       "4                    0.135785  \n",
       "5                    0.155058  "
      ]
     },
     "execution_count": 11,
     "metadata": {},
     "output_type": "execute_result"
    }
   ],
   "source": [
    "boot_results_krig"
   ]
  },
  {
   "cell_type": "code",
   "execution_count": 12,
   "id": "85da1c32",
   "metadata": {
    "execution": {
     "iopub.execute_input": "2023-02-04T00:53:19.093526Z",
     "iopub.status.busy": "2023-02-04T00:53:19.093385Z",
     "iopub.status.idle": "2023-02-04T00:53:19.095548Z",
     "shell.execute_reply": "2023-02-04T00:53:19.095270Z"
    }
   },
   "outputs": [
    {
     "name": "stdout",
     "output_type": "stream",
     "text": [
      "Mean total biomass with Kriging: 1374.071 kmt\n"
     ]
    }
   ],
   "source": [
    "print(f\"Mean total biomass with Kriging: {1e-6 * boot_results_krig['tot_biomass_kriging'].mean():.3f} kmt\")"
   ]
  },
  {
   "cell_type": "code",
   "execution_count": null,
   "id": "7ecce36e",
   "metadata": {},
   "outputs": [],
   "source": []
  }
 ],
 "metadata": {
  "kernelspec": {
   "display_name": "echopro_conda",
   "language": "python",
   "name": "echopro_conda"
  },
  "language_info": {
   "codemirror_mode": {
    "name": "ipython",
    "version": 3
   },
   "file_extension": ".py",
   "mimetype": "text/x-python",
   "name": "python",
   "nbconvert_exporter": "python",
   "pygments_lexer": "ipython3",
   "version": "3.9.16"
  },
  "toc": {
   "base_numbering": 1,
   "nav_menu": {
    "height": "332px",
    "width": "838px"
   },
   "number_sections": true,
   "sideBar": true,
   "skip_h1_title": false,
   "title_cell": "Table of Contents",
   "title_sidebar": "Contents",
   "toc_cell": false,
   "toc_position": {
    "height": "calc(100% - 180px)",
    "left": "10px",
    "top": "150px",
    "width": "217.2px"
   },
   "toc_section_display": true,
   "toc_window_display": true
  },
  "toc-autonumbering": true
 },
 "nbformat": 4,
 "nbformat_minor": 5
}
