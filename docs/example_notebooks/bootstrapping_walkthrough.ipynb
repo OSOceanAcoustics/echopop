{
 "cells": [
  {
   "cell_type": "markdown",
   "id": "f0aa0cbe",
   "metadata": {},
   "source": [
    "# EchoPro Bootstrapping Workflow"
   ]
  },
  {
   "cell_type": "markdown",
   "id": "ccaef1d6",
   "metadata": {},
   "source": [
    "## Import libraries and configure the Jupyter notebook"
   ]
  },
  {
   "cell_type": "code",
   "execution_count": 1,
   "id": "66ad49aa",
   "metadata": {
    "execution": {
     "iopub.execute_input": "2023-09-28T18:42:46.121752Z",
     "iopub.status.busy": "2023-09-28T18:42:46.121446Z",
     "iopub.status.idle": "2023-09-28T18:42:47.709122Z",
     "shell.execute_reply": "2023-09-28T18:42:47.708538Z"
    }
   },
   "outputs": [],
   "source": [
    "# libraries used in the Notebook\n",
    "import matplotlib.pyplot as plt\n",
    "import numpy as np\n",
    "import pandas as pd \n",
    "\n",
    "# Python version of EchoPro\n",
    "import EchoPro\n",
    "\n",
    "# Allows us to grab the SemiVariogram class so we can use its models\n",
    "from EchoPro.computation import SemiVariogram as SV\n",
    "\n",
    "# Allows us to easily use matplotlib widgets in our Notebook\n",
    "#%matplotlib widget"
   ]
  },
  {
   "cell_type": "code",
   "execution_count": 2,
   "id": "059a8a59",
   "metadata": {
    "execution": {
     "iopub.execute_input": "2023-09-28T18:42:47.711466Z",
     "iopub.status.busy": "2023-09-28T18:42:47.711273Z",
     "iopub.status.idle": "2023-09-28T18:42:47.719056Z",
     "shell.execute_reply": "2023-09-28T18:42:47.718704Z"
    }
   },
   "outputs": [
    {
     "name": "stdout",
     "output_type": "stream",
     "text": [
      "A full check of the initialization file contents needs to be done!\n",
      "A check of the survey year file contents needs to be done!\n",
      "CPU times: user 4.42 ms, sys: 174 µs, total: 4.59 ms\n",
      "Wall time: 4.61 ms\n"
     ]
    }
   ],
   "source": [
    "%%time\n",
    "survey_2019 = EchoPro.Survey(init_file_path='../config_files/initialization_config.yml',\n",
    "                             survey_year_file_path='../config_files/survey_year_2019_config.yml',\n",
    "                             source=3, \n",
    "                             exclude_age1=True)"
   ]
  },
  {
   "cell_type": "code",
   "execution_count": 3,
   "id": "8c0d730c",
   "metadata": {
    "execution": {
     "iopub.execute_input": "2023-09-28T18:42:47.720860Z",
     "iopub.status.busy": "2023-09-28T18:42:47.720724Z",
     "iopub.status.idle": "2023-09-28T18:42:49.210997Z",
     "shell.execute_reply": "2023-09-28T18:42:49.210531Z"
    }
   },
   "outputs": [
    {
     "name": "stdout",
     "output_type": "stream",
     "text": [
      "CPU times: user 1.47 s, sys: 9.18 ms, total: 1.48 s\n",
      "Wall time: 1.49 s\n"
     ]
    }
   ],
   "source": [
    "%%time \n",
    "survey_2019.load_survey_data() "
   ]
  },
  {
   "cell_type": "markdown",
   "id": "4a4a8b75",
   "metadata": {},
   "source": [
    "## Get bootstrapping object\n",
    "- Obtain a bootstrapping object tied to a specific survey year"
   ]
  },
  {
   "cell_type": "code",
   "execution_count": 4,
   "id": "59bb2978",
   "metadata": {
    "execution": {
     "iopub.execute_input": "2023-09-28T18:42:49.213277Z",
     "iopub.status.busy": "2023-09-28T18:42:49.213065Z",
     "iopub.status.idle": "2023-09-28T18:42:49.215622Z",
     "shell.execute_reply": "2023-09-28T18:42:49.215176Z"
    }
   },
   "outputs": [],
   "source": [
    "boot_obj = survey_2019.get_bootstrapping()"
   ]
  },
  {
   "cell_type": "markdown",
   "id": "95a032cd",
   "metadata": {},
   "source": [
    "## Run bootstrapping without Kriging\n",
    "In EchoPro we can perform bootstrapping on a reduced number of transects and obtain the areal biomass density for each iteration of bootstrapping as well as the associated mean Jolly-Hampton CV value. "
   ]
  },
  {
   "cell_type": "code",
   "execution_count": 5,
   "id": "db75cb6a",
   "metadata": {
    "execution": {
     "iopub.execute_input": "2023-09-28T18:42:49.216905Z",
     "iopub.status.busy": "2023-09-28T18:42:49.216770Z",
     "iopub.status.idle": "2023-09-28T18:42:59.418553Z",
     "shell.execute_reply": "2023-09-28T18:42:59.418078Z"
    }
   },
   "outputs": [],
   "source": [
    "# %%time\n",
    "boot_results_no_krig = boot_obj.run_bootstrapping(\n",
    "    run_kriging=False,\n",
    "    removal_percentage=28.0,  # 60.0,\n",
    "    num_iterations=5,\n",
    "    seed=1234\n",
    ")"
   ]
  },
  {
   "cell_type": "code",
   "execution_count": 6,
   "id": "56ffbe04",
   "metadata": {
    "execution": {
     "iopub.execute_input": "2023-09-28T18:42:59.420857Z",
     "iopub.status.busy": "2023-09-28T18:42:59.420466Z",
     "iopub.status.idle": "2023-09-28T18:42:59.435784Z",
     "shell.execute_reply": "2023-09-28T18:42:59.435273Z"
    }
   },
   "outputs": [
    {
     "data": {
      "text/html": [
       "<div>\n",
       "<style scoped>\n",
       "    .dataframe tbody tr th:only-of-type {\n",
       "        vertical-align: middle;\n",
       "    }\n",
       "\n",
       "    .dataframe tbody tr th {\n",
       "        vertical-align: top;\n",
       "    }\n",
       "\n",
       "    .dataframe thead th {\n",
       "        text-align: right;\n",
       "    }\n",
       "</style>\n",
       "<table border=\"1\" class=\"dataframe\">\n",
       "  <thead>\n",
       "    <tr style=\"text-align: right;\">\n",
       "      <th></th>\n",
       "      <th>tot_biomass_no_kriging</th>\n",
       "      <th>CV_JH_mean_no_kriging</th>\n",
       "    </tr>\n",
       "    <tr>\n",
       "      <th>iteration</th>\n",
       "      <th></th>\n",
       "      <th></th>\n",
       "    </tr>\n",
       "  </thead>\n",
       "  <tbody>\n",
       "    <tr>\n",
       "      <th>1</th>\n",
       "      <td>1.760122e+09</td>\n",
       "      <td>0.157517</td>\n",
       "    </tr>\n",
       "    <tr>\n",
       "      <th>2</th>\n",
       "      <td>1.765738e+09</td>\n",
       "      <td>0.162523</td>\n",
       "    </tr>\n",
       "    <tr>\n",
       "      <th>3</th>\n",
       "      <td>1.614304e+09</td>\n",
       "      <td>0.162167</td>\n",
       "    </tr>\n",
       "    <tr>\n",
       "      <th>4</th>\n",
       "      <td>1.807980e+09</td>\n",
       "      <td>0.155896</td>\n",
       "    </tr>\n",
       "    <tr>\n",
       "      <th>5</th>\n",
       "      <td>1.482937e+09</td>\n",
       "      <td>0.174824</td>\n",
       "    </tr>\n",
       "  </tbody>\n",
       "</table>\n",
       "</div>"
      ],
      "text/plain": [
       "           tot_biomass_no_kriging  CV_JH_mean_no_kriging\n",
       "iteration                                               \n",
       "1                    1.760122e+09               0.157517\n",
       "2                    1.765738e+09               0.162523\n",
       "3                    1.614304e+09               0.162167\n",
       "4                    1.807980e+09               0.155896\n",
       "5                    1.482937e+09               0.174824"
      ]
     },
     "execution_count": 6,
     "metadata": {},
     "output_type": "execute_result"
    }
   ],
   "source": [
    "boot_results_no_krig"
   ]
  },
  {
   "cell_type": "code",
   "execution_count": 7,
   "id": "9ab18c8b",
   "metadata": {
    "execution": {
     "iopub.execute_input": "2023-09-28T18:42:59.437156Z",
     "iopub.status.busy": "2023-09-28T18:42:59.437064Z",
     "iopub.status.idle": "2023-09-28T18:42:59.439545Z",
     "shell.execute_reply": "2023-09-28T18:42:59.439192Z"
    }
   },
   "outputs": [
    {
     "name": "stdout",
     "output_type": "stream",
     "text": [
      "Mean total biomass without Kriging: 1686.216 kmt\n"
     ]
    }
   ],
   "source": [
    "print(f\"Mean total biomass without Kriging: {1e-6 * boot_results_no_krig['tot_biomass_no_kriging'].mean():.3f} kmt\")"
   ]
  },
  {
   "cell_type": "markdown",
   "id": "83df8971",
   "metadata": {},
   "source": [
    "## Run bootstrapping with Kriging\n",
    "Now, we demonstrate how to run bootstrapping with Kriging "
   ]
  },
  {
   "cell_type": "markdown",
   "id": "75ecf293",
   "metadata": {},
   "source": [
    "### Initialize Kriging Mesh\n",
    "Before we run bootstrapping we need to establish what Kriging mesh we will be using. Note: In bootstrapping the transformation of all meshes will be done automatically.   "
   ]
  },
  {
   "cell_type": "code",
   "execution_count": 8,
   "id": "020bed87",
   "metadata": {
    "execution": {
     "iopub.execute_input": "2023-09-28T18:42:59.440878Z",
     "iopub.status.busy": "2023-09-28T18:42:59.440785Z",
     "iopub.status.idle": "2023-09-28T18:43:00.610656Z",
     "shell.execute_reply": "2023-09-28T18:43:00.609969Z"
    }
   },
   "outputs": [],
   "source": [
    "krig_mesh = survey_2019.get_kriging_mesh()"
   ]
  },
  {
   "cell_type": "markdown",
   "id": "5d5456a0",
   "metadata": {},
   "source": [
    "### Set appropriate bootstrap Kriging parameters and run boostrapping "
   ]
  },
  {
   "cell_type": "code",
   "execution_count": 9,
   "id": "cb914d68",
   "metadata": {
    "execution": {
     "iopub.execute_input": "2023-09-28T18:43:00.612954Z",
     "iopub.status.busy": "2023-09-28T18:43:00.612713Z",
     "iopub.status.idle": "2023-09-28T18:43:00.616776Z",
     "shell.execute_reply": "2023-09-28T18:43:00.616208Z"
    }
   },
   "outputs": [],
   "source": [
    "bootstrap_kriging_params = dict(\n",
    "    # kriging parameters\n",
    "    k_max=10,\n",
    "    k_min=3,\n",
    "    R=0.0226287,\n",
    "    ratio=0.001,\n",
    "    \n",
    "    # parameters for semi-variogram model\n",
    "    s_v_params={'nugget': 0.0, 'sill': 0.95279, 'ls': 0.0075429,\n",
    "                'exp_pow': 1.5, 'ls_hole_eff': 0.0},\n",
    "    \n",
    "    # grab appropriate semi-variogram model\n",
    "    s_v_model=SV.generalized_exp_bessel,\n",
    "    \n",
    "    # set Kriging mesh\n",
    "    krig_mesh=krig_mesh \n",
    ")"
   ]
  },
  {
   "cell_type": "code",
   "execution_count": 10,
   "id": "0af95f56",
   "metadata": {
    "execution": {
     "iopub.execute_input": "2023-09-28T18:43:00.619255Z",
     "iopub.status.busy": "2023-09-28T18:43:00.619064Z",
     "iopub.status.idle": "2023-09-28T18:43:28.073014Z",
     "shell.execute_reply": "2023-09-28T18:43:28.072398Z"
    }
   },
   "outputs": [
    {
     "name": "stdout",
     "output_type": "stream",
     "text": [
      "CPU times: user 30.3 s, sys: 6.55 s, total: 36.8 s\n",
      "Wall time: 27.4 s\n"
     ]
    }
   ],
   "source": [
    "%%time\n",
    "boot_results_krig = boot_obj.run_bootstrapping(\n",
    "    run_kriging=True,\n",
    "    kriging_params=bootstrap_kriging_params,\n",
    "    removal_percentage=60.0,\n",
    "    num_iterations=5,\n",
    "    seed=1234\n",
    ")"
   ]
  },
  {
   "cell_type": "code",
   "execution_count": 11,
   "id": "349e4485",
   "metadata": {
    "execution": {
     "iopub.execute_input": "2023-09-28T18:43:28.075213Z",
     "iopub.status.busy": "2023-09-28T18:43:28.075063Z",
     "iopub.status.idle": "2023-09-28T18:43:28.080349Z",
     "shell.execute_reply": "2023-09-28T18:43:28.079975Z"
    }
   },
   "outputs": [
    {
     "data": {
      "text/html": [
       "<div>\n",
       "<style scoped>\n",
       "    .dataframe tbody tr th:only-of-type {\n",
       "        vertical-align: middle;\n",
       "    }\n",
       "\n",
       "    .dataframe tbody tr th {\n",
       "        vertical-align: top;\n",
       "    }\n",
       "\n",
       "    .dataframe thead th {\n",
       "        text-align: right;\n",
       "    }\n",
       "</style>\n",
       "<table border=\"1\" class=\"dataframe\">\n",
       "  <thead>\n",
       "    <tr style=\"text-align: right;\">\n",
       "      <th></th>\n",
       "      <th>tot_biomass_no_kriging</th>\n",
       "      <th>CV_JH_mean_no_kriging</th>\n",
       "      <th>tot_biomass_kriging</th>\n",
       "      <th>CV_JH_mean_kriging</th>\n",
       "    </tr>\n",
       "    <tr>\n",
       "      <th>iteration</th>\n",
       "      <th></th>\n",
       "      <th></th>\n",
       "      <th></th>\n",
       "      <th></th>\n",
       "    </tr>\n",
       "  </thead>\n",
       "  <tbody>\n",
       "    <tr>\n",
       "      <th>1</th>\n",
       "      <td>1.253618e+09</td>\n",
       "      <td>0.277415</td>\n",
       "      <td>1.218500e+09</td>\n",
       "      <td>0.149868</td>\n",
       "    </tr>\n",
       "    <tr>\n",
       "      <th>2</th>\n",
       "      <td>1.477359e+09</td>\n",
       "      <td>0.223805</td>\n",
       "      <td>1.371196e+09</td>\n",
       "      <td>0.131175</td>\n",
       "    </tr>\n",
       "    <tr>\n",
       "      <th>3</th>\n",
       "      <td>2.003946e+09</td>\n",
       "      <td>0.275839</td>\n",
       "      <td>1.757508e+09</td>\n",
       "      <td>0.159848</td>\n",
       "    </tr>\n",
       "    <tr>\n",
       "      <th>4</th>\n",
       "      <td>1.393173e+09</td>\n",
       "      <td>0.230566</td>\n",
       "      <td>1.620391e+09</td>\n",
       "      <td>0.152921</td>\n",
       "    </tr>\n",
       "    <tr>\n",
       "      <th>5</th>\n",
       "      <td>1.650924e+09</td>\n",
       "      <td>0.229959</td>\n",
       "      <td>1.614687e+09</td>\n",
       "      <td>0.135550</td>\n",
       "    </tr>\n",
       "  </tbody>\n",
       "</table>\n",
       "</div>"
      ],
      "text/plain": [
       "           tot_biomass_no_kriging  CV_JH_mean_no_kriging  tot_biomass_kriging  \\\n",
       "iteration                                                                       \n",
       "1                    1.253618e+09               0.277415         1.218500e+09   \n",
       "2                    1.477359e+09               0.223805         1.371196e+09   \n",
       "3                    2.003946e+09               0.275839         1.757508e+09   \n",
       "4                    1.393173e+09               0.230566         1.620391e+09   \n",
       "5                    1.650924e+09               0.229959         1.614687e+09   \n",
       "\n",
       "           CV_JH_mean_kriging  \n",
       "iteration                      \n",
       "1                    0.149868  \n",
       "2                    0.131175  \n",
       "3                    0.159848  \n",
       "4                    0.152921  \n",
       "5                    0.135550  "
      ]
     },
     "execution_count": 11,
     "metadata": {},
     "output_type": "execute_result"
    }
   ],
   "source": [
    "boot_results_krig"
   ]
  },
  {
   "cell_type": "code",
   "execution_count": 12,
   "id": "85da1c32",
   "metadata": {
    "execution": {
     "iopub.execute_input": "2023-09-28T18:43:28.081796Z",
     "iopub.status.busy": "2023-09-28T18:43:28.081634Z",
     "iopub.status.idle": "2023-09-28T18:43:28.084386Z",
     "shell.execute_reply": "2023-09-28T18:43:28.084047Z"
    }
   },
   "outputs": [
    {
     "name": "stdout",
     "output_type": "stream",
     "text": [
      "Mean total biomass with Kriging: 1516.456 kmt\n"
     ]
    }
   ],
   "source": [
    "print(f\"Mean total biomass with Kriging: {1e-6 * boot_results_krig['tot_biomass_kriging'].mean():.3f} kmt\")"
   ]
  }
 ],
 "metadata": {
  "kernelspec": {
   "display_name": "echopro_dev",
   "language": "python",
   "name": "python3"
  },
  "language_info": {
   "codemirror_mode": {
    "name": "ipython",
    "version": 3
   },
   "file_extension": ".py",
   "mimetype": "text/x-python",
   "name": "python",
   "nbconvert_exporter": "python",
   "pygments_lexer": "ipython3",
   "version": "3.9.18"
  },
  "toc": {
   "base_numbering": 1,
   "nav_menu": {
    "height": "332px",
    "width": "838px"
   },
   "number_sections": true,
   "sideBar": true,
   "skip_h1_title": false,
   "title_cell": "Table of Contents",
   "title_sidebar": "Contents",
   "toc_cell": false,
   "toc_position": {
    "height": "calc(100% - 180px)",
    "left": "10px",
    "top": "150px",
    "width": "217.2px"
   },
   "toc_section_display": true,
   "toc_window_display": true
  },
  "toc-autonumbering": true
 },
 "nbformat": 4,
 "nbformat_minor": 5
}
