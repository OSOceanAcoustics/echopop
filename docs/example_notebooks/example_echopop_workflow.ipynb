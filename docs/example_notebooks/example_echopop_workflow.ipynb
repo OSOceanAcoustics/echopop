{
 "cells": [
  {
   "cell_type": "markdown",
   "metadata": {},
   "source": [
    "(echopop-example-workflow)=\n",
    "\n",
    "# **Example overview of the `echopop` dataflow**"
   ]
  },
  {
   "cell_type": "markdown",
   "metadata": {},
   "source": [
    "## **`Survey`-class initialization**\n",
    "\n",
    "Import the latest version of `echopop`."
   ]
  },
  {
   "cell_type": "code",
   "execution_count": 36,
   "metadata": {},
   "outputs": [],
   "source": [
    "import pprint\n",
    "\n",
    "from echopop.survey import Survey"
   ]
  },
  {
   "cell_type": "markdown",
   "metadata": {},
   "source": [
    "Initialize the `Survey` object by loading in input data (`Survey.input`) and configuration settings (`Survey.config`). The former reads in data from all the defined input files contained within the `./config_files/survey_year_2019_config.yml` configuration file. The latter reads in various arguments as well as the file paths that point to the input files. "
   ]
  },
  {
   "cell_type": "code",
   "execution_count": 38,
   "metadata": {},
   "outputs": [],
   "source": [
    "survey = Survey( init_config_path = \"C:/Users/Brandyn/Documents/GitHub/echopop/config_files/initialization_config.yml\" ,\n",
    "                 survey_year_config_path = \"C:/Users/Brandyn/Documents/GitHub/echopop/config_files/survey_year_2019_config.yml\" )"
   ]
  },
  {
   "cell_type": "markdown",
   "metadata": {},
   "source": [
    "Not only are all the necessary acoustic, biological, kriging, and stratification data imported and contained with `survey`, but they can also be parsed in a relatively straightforward manner. There are five `Survey`-class attributes to be aware of: \n",
    "* `Survey.meta`: this is currently undeveloped, but this is where necessary information such as the date the object was created and general data workflow/provenance would be collected.\n",
    "* `Survey.config`: this stores the background configuration settings. \n",
    "* `Survey.input`: this contains the imported acoustic, biological, kriging, and stratification data. This can be further investigated via the various nested dictionaries that correspond to specific types of dataset. \n",
    "* `Survey.analysis`: this is the working directory that contains relevant intermediate data products and calculations that may be of interest to the user and/or are required for later calculations. \n",
    "* `Survey.results`: this stores the overall results each analysis. \n",
    "  \n",
    "## **Initial data processing**\n",
    "\n",
    "**`Survey.meta`**\n",
    "\n",
    "As previously mentioned, `Survey.meta` is undeveloped, but the `provenance` key will be iteratively updated with the performed analyses. Additional metadata can also be appended to this attribute."
   ]
  },
  {
   "cell_type": "code",
   "execution_count": 39,
   "metadata": {},
   "outputs": [
    {
     "name": "stdout",
     "output_type": "stream",
     "text": [
      "{'date': '2024-05-28 07:13:38', 'provenance': {}}\n"
     ]
    }
   ],
   "source": [
    "pprint.pprint( survey.meta )"
   ]
  },
  {
   "cell_type": "markdown",
   "metadata": {},
   "source": [
    "**`Survey.config`**\n",
    "\n",
    "This attribute contains a variety of nested dictionaries that help to organize the entries in an intentional format that ideally minimizes ambiguity on how to access the associated values. Accessible dictionaries can be listed via `survey.config.keys()`:"
   ]
  },
  {
   "cell_type": "code",
   "execution_count": 40,
   "metadata": {},
   "outputs": [
    {
     "data": {
      "text/plain": [
       "dict_keys(['stratified_survey_mean_parameters', 'TS_length_regression_parameters', 'geospatial', 'survey_year', 'species', 'CAN_haul_offset', 'data_root_dir', 'biological', 'stratification', 'NASC', 'kriging'])"
      ]
     },
     "execution_count": 40,
     "metadata": {},
     "output_type": "execute_result"
    }
   ],
   "source": [
    "survey.config.keys( )"
   ]
  },
  {
   "cell_type": "markdown",
   "metadata": {},
   "source": [
    "The overall dictionary structure of `self.config` can also be accessed. Although not required for printing out the values in this attribute, the `pprint` library is helpful for formatting nested dictionaries into a legible format in both the console and interactive notebooks. "
   ]
  },
  {
   "cell_type": "code",
   "execution_count": 41,
   "metadata": {},
   "outputs": [
    {
     "name": "stdout",
     "output_type": "stream",
     "text": [
      "{'CAN_haul_offset': 200,\n",
      " 'NASC': {'all_ages': {'filename': 'Exports/US_CAN_detailsa_2019_table1y+_ALL_final '\n",
      "                                   '- updated.xlsx',\n",
      "                       'sheetname': 'Sheet1'},\n",
      "          'no_age1': {'filename': 'Exports/US_CAN_detailsa_2019_table2y+_ALL_final '\n",
      "                                  '- updated.xlsx',\n",
      "                      'sheetname': 'Sheet1'}},\n",
      " 'TS_length_regression_parameters': {'pacific_hake': {'TS_L_intercept': -68.0,\n",
      "                                                      'TS_L_slope': 20.0,\n",
      "                                                      'length_units': 'cm',\n",
      "                                                      'number_code': 22500}},\n",
      " 'biological': {'catch': {'CAN': {'filename': 'Biological/CAN/2019_biodata_catch_CAN.xlsx',\n",
      "                                  'sheetname': 'biodata_catch_CAN'},\n",
      "                          'US': {'filename': 'Biological/US/2019_biodata_catch.xlsx',\n",
      "                                 'sheetname': 'biodata_catch'}},\n",
      "                'haul_to_transect': {'CAN': {'filename': 'Biological/CAN/haul_to_transect_mapping_2019_CAN.xlsx',\n",
      "                                             'sheetname': 'Sheet1'},\n",
      "                                     'US': {'filename': 'Biological/US/haul_to_transect_mapping_2019.xlsx',\n",
      "                                            'sheetname': 'Sheet1'}},\n",
      "                'length': {'CAN': {'filename': 'Biological/CAN/2019_biodata_length_CAN.xlsx',\n",
      "                                   'sheetname': 'biodata_length_CAN'},\n",
      "                           'US': {'filename': 'Biological/US/2019_biodata_length.xlsx',\n",
      "                                  'sheetname': 'biodata_length'}},\n",
      "                'specimen': {'CAN': {'filename': 'Biological/CAN/2019_biodata_specimen_CAN_AGES.xlsx',\n",
      "                                     'sheetname': 'biodata_specimen_CAN'},\n",
      "                             'US': {'filename': 'Biological/US/2019_biodata_specimen_AGES.xlsx',\n",
      "                                    'sheetname': 'biodata_specimen'}}},\n",
      " 'data_root_dir': 'C:/Users/Brandyn/Documents/GitHub/EchoPro_data/2019_consolidated_files',\n",
      " 'geospatial': {'init': 'epsg:4326'},\n",
      " 'kriging': {'isobath_200m': {'filename': 'Kriging_files/Kriging_grid_files/transformation_isobath_coordinates.xlsx',\n",
      "                              'sheetname': 'Smoothing_EasyKrig'},\n",
      "             'mesh': {'filename': 'Kriging_files/Kriging_grid_files/krig_grid2_5nm_cut_centroids_2013.xlsx',\n",
      "                      'sheetname': 'krigedgrid2_5nm_forChu'},\n",
      "             'vario_krig_para': {'filename': 'Kriging_files/default_vario_krig_settings_2019_US_CAN.xlsx',\n",
      "                                 'sheetname': 'Sheet1'}},\n",
      " 'species': {'number_code': 22500, 'text_code': 'pacific_hake'},\n",
      " 'stratification': {'geo_strata': {'filename': 'Stratification/Stratification_geographic_Lat_2019_final.xlsx',\n",
      "                                   'sheetname': ['INPFC', 'stratification1']},\n",
      "                    'strata': {'filename': 'Stratification/US_CAN strata '\n",
      "                                           '2019_final.xlsx',\n",
      "                               'sheetname': 'Base KS'}},\n",
      " 'stratified_survey_mean_parameters': {'mesh_transects_per_latitude': 5,\n",
      "                                       'num_replicates': 10000,\n",
      "                                       'strata_transect_proportion': 0.75},\n",
      " 'survey_year': 2019}\n"
     ]
    }
   ],
   "source": [
    "pprint.pprint( survey.config )"
   ]
  },
  {
   "cell_type": "markdown",
   "metadata": {},
   "source": [
    "**`Survey.input`**\n",
    "\n",
    "Similar to `Survey.config`, the input data are grouped into various nested dictionaries. Data contained within the `Survey.input` attribute are specifically stored in four general nested dictionaries: `acoustics`, `biology`, `spatial`, and `statistics`. "
   ]
  },
  {
   "cell_type": "code",
   "execution_count": 42,
   "metadata": {},
   "outputs": [
    {
     "data": {
      "text/plain": [
       "dict_keys(['acoustics', 'biology', 'spatial', 'statistics'])"
      ]
     },
     "execution_count": 42,
     "metadata": {},
     "output_type": "execute_result"
    }
   ],
   "source": [
    "survey.input.keys()"
   ]
  },
  {
   "cell_type": "markdown",
   "metadata": {},
   "source": [
    "This results in the following branched data structure for `Survey.input`:\n",
    "* `acoustics`\n",
    "  * `nasc_df`: acoustic trawl data (all age and age-2+ NASC)\n",
    "* `biology`\n",
    "  * `catch_df`: unaged haul weight totals\n",
    "  * `distributions`\n",
    "    * `age_bins_df`: age distribution histogram bins\n",
    "    * `length_bins_df`: length distribution histogram bins\n",
    "  * `haul_to_transect_df`: haul-to-transect key that links haul numbers to their respective transects\n",
    "  * `length_df`: unaged length measurements\n",
    "  * `specimen_df`: aged length and weight measurements\n",
    "* `spatial`\n",
    "  * `strata_df`: the `KS` stratum definitions and fraction of hake for each haul\n",
    "  * `geo_strata_df`: latitudinal limits of the `KS` strata\n",
    "  * `inpfc_strata_df`: the `INPFC` stratum definitions and their respective latitudinal limits\n",
    "* `statistics`\n",
    "  * `kriging`\n",
    "    * `mesh_df`: kriging mesh\n",
    "    * `isobath_200m_df`: 200 m isobath coordinates\n",
    "    * `model_config`: dictionary comprising all required arguments for the kriging analysis\n",
    "  * `variogram`\n",
    "    * `model_config`: dictionary comprising all required arguments for the variogram analysis"
   ]
  },
  {
   "cell_type": "markdown",
   "metadata": {},
   "source": [
    "### **`Survey.transect_analysis(...)`**\n",
    "\n",
    "<div class=\"alert alert-block alert-success\">\n",
    "<b>TIP:</b> Hover your cursor over the various functions included in the code blocks below to get additional type hints and context for usage\n",
    "</div>\n",
    "\n",
    "The method `Survey.transect_analysis(...)` populates various analysis variables (`Survey.analysis`) and results (`Survey.results`). This class-method currently takes four user arguments:\n",
    "\n",
    "* `species_id (integer, list)`: the species number code(s) (default: `22500`)\n",
    "* `exclude_age1 (boolean)`: whether age-1 fish should be excluded from the analysis (default: `True`)\n",
    "* `stratum (string)`: the stratum used for the various acoustic and biological calculations (default: `'ks'`)\n",
    "* `verbose (boolean)`: dialogue messages will appear in the console including a summary report of the results when this is set to `True` (default: `True`) \n",
    "  \n",
    "This is the primary biological data processing workhorse that is further used for later analyses, such as computing the number and weight proportions across all animals."
   ]
  },
  {
   "cell_type": "code",
   "execution_count": 43,
   "metadata": {},
   "outputs": [
    {
     "name": "stdout",
     "output_type": "stream",
     "text": [
      "\n",
      "    --------------------------------\n",
      "    TRANSECT RESULTS\n",
      "    --------------------------------\n",
      "    | Variable: Biomass (kmt)\n",
      "    | Age-1 fish excluded: True\n",
      "    | Stratum definition: KS\n",
      "    --------------------------------\n",
      "    GENERAL RESULTS\n",
      "    --------------------------------\n",
      "    Total biomass: 1651.1 kmt\n",
      "        Age-1: 7.9 kmt\n",
      "        Age-2+: 1643.2 kmt\n",
      "    Total female biomass: 832.2 kmt\n",
      "        Age-1: 4.0 kmt\n",
      "        Age-2+: 828.2 kmt\n",
      "    Total male biomass: 818.5 kmt\n",
      "        Age-1: 3.9 kmt\n",
      "        Age-2+: 814.6 kmt\n",
      "    Total unsexed biomass: 0.4 kmt\n",
      "    Total mixed biomass: 36.8 kmt\n",
      "    --------------------------------\n"
     ]
    }
   ],
   "source": [
    "survey.transect_analysis( species_id = 22500 , exclude_age1 = True , stratum = 'ks' , verbose = True )"
   ]
  },
  {
   "cell_type": "markdown",
   "metadata": {},
   "source": [
    "A variety of intermediate data products are stored in `Survey.analysis` under currently four nested dictionaries: \n",
    "* `kriging`: intermediate results specific to the kriging analysis (`Survey.kriging_analysis(...)`)\n",
    "* `settings`: this provides a full recording of user-inputs and other variable definitions used for each analysis to improve replicability\n",
    "* `stratified`: intermediate results specific to the stratified sampling analysis (`Survey.stratified_analysis(...)`)\n",
    "* `transect`: intermediate results specific to the transect analysis (`Survey.transect_analysis(...)`)"
   ]
  },
  {
   "cell_type": "code",
   "execution_count": 44,
   "metadata": {},
   "outputs": [
    {
     "data": {
      "text/plain": [
       "dict_keys(['transect', 'settings', 'stratified'])"
      ]
     },
     "execution_count": 44,
     "metadata": {},
     "output_type": "execute_result"
    }
   ],
   "source": [
    "survey.analysis.keys( )"
   ]
  },
  {
   "cell_type": "markdown",
   "metadata": {},
   "source": [
    "Since `Survey.transect_analysis(...)` was ran, the specific arguments used for the analysis can be directly accessed via:"
   ]
  },
  {
   "cell_type": "code",
   "execution_count": 45,
   "metadata": {},
   "outputs": [
    {
     "name": "stdout",
     "output_type": "stream",
     "text": [
      "{'exclude_age1': True,\n",
      " 'species_id': 22500,\n",
      " 'stratum': 'ks',\n",
      " 'stratum_name': 'stratum_num'}\n"
     ]
    }
   ],
   "source": [
    "pprint.pprint( survey.analysis[ 'settings' ][ 'transect' ] )"
   ]
  },
  {
   "cell_type": "markdown",
   "metadata": {},
   "source": [
    "The intermediate data products can be similarly accessed under the `transect` dictionary within `Survey.analysis`: "
   ]
  },
  {
   "cell_type": "code",
   "execution_count": 46,
   "metadata": {},
   "outputs": [
    {
     "data": {
      "text/plain": [
       "dict_keys(['acoustics', 'biology', 'coordinates'])"
      ]
     },
     "execution_count": 46,
     "metadata": {},
     "output_type": "execute_result"
    }
   ],
   "source": [
    "survey.analysis[ 'transect' ].keys()"
   ]
  },
  {
   "cell_type": "markdown",
   "metadata": {},
   "source": [
    "The results from each analysis are then stored within the `Survey.results` attribute:"
   ]
  },
  {
   "cell_type": "code",
   "execution_count": 47,
   "metadata": {},
   "outputs": [
    {
     "data": {
      "text/plain": [
       "dict_keys(['transect', 'stratified', 'kriging'])"
      ]
     },
     "execution_count": 47,
     "metadata": {},
     "output_type": "execute_result"
    }
   ],
   "source": [
    "survey.results.keys()"
   ]
  },
  {
   "cell_type": "markdown",
   "metadata": {},
   "source": [
    "So we can generally glean all results recorded within `Survey.results` and also access those specific to `Survey.transect_analysis(...)` within `transect`:"
   ]
  },
  {
   "cell_type": "code",
   "execution_count": 48,
   "metadata": {},
   "outputs": [
    {
     "name": "stdout",
     "output_type": "stream",
     "text": [
      "{'kriging': {},\n",
      " 'stratified': {},\n",
      " 'transect': {'biomass_summary_df':        sex  biomass_adult  biomass_age1   biomass_all\n",
      "0      all   1.643215e+09  7.869992e+06  1.651085e+09\n",
      "1   female   8.282280e+08  3.950822e+06  8.321788e+08\n",
      "2     male   8.146257e+08  3.919170e+06  8.185449e+08\n",
      "3  unsexed   3.609296e+05  0.000000e+00  3.609296e+05\n",
      "4    mixed   3.680784e+07  0.000000e+00  3.680784e+07}}\n"
     ]
    }
   ],
   "source": [
    "pprint.pprint( survey.results )"
   ]
  },
  {
   "cell_type": "code",
   "execution_count": 49,
   "metadata": {},
   "outputs": [
    {
     "data": {
      "text/plain": [
       "{'biomass_summary_df':        sex  biomass_adult  biomass_age1   biomass_all\n",
       " 0      all   1.643215e+09  7.869992e+06  1.651085e+09\n",
       " 1   female   8.282280e+08  3.950822e+06  8.321788e+08\n",
       " 2     male   8.146257e+08  3.919170e+06  8.185449e+08\n",
       " 3  unsexed   3.609296e+05  0.000000e+00  3.609296e+05\n",
       " 4    mixed   3.680784e+07  0.000000e+00  3.680784e+07}"
      ]
     },
     "execution_count": 49,
     "metadata": {},
     "output_type": "execute_result"
    }
   ],
   "source": [
    "survey.results[ 'transect' ]"
   ]
  },
  {
   "cell_type": "markdown",
   "metadata": {},
   "source": [
    "## **`Survey.stratified_analysis(...)`**"
   ]
  },
  {
   "cell_type": "markdown",
   "metadata": {},
   "source": [
    "`Survey.stratified_analysis(...)` computes various stratified statistics, including the coefficient of variation (*CV*) estimates using the Jolly and Hampton (1990) stratified sampling method. There are a variety of arguments used for this function: \n",
    "* `dataset ('transect', 'kriging')`: data input selection (default: `'transect'`). This will use either the results of `Survey.transect_analysis(...)` or `Survey.kriging_analysis(...)`\n",
    "* `stratum ('ks','inpfc')`: the stratum used for the various acoustic and biological calculations (default: `'inpfc'`)\n",
    "* `variable( 'abundance' , 'biomass' , 'nasc')`: the data variable that will be used for the stratified resampling analysis (default: `'biomass'`)\n",
    "* `verbose (boolean)`: dialogue messages will appear in the console including a summary report of the results when this is set to `True` (default: `True`)\n",
    "\n",
    "There are also analysis-specific optional arguments that are used depending on how `dataset` is defined:\n",
    "\n",
    "* `mesh_transect_per_latitude (integer)`: the number of virtual transects per degree latitude when `dataset = 'kriging'`\n",
    "* `transect_sample`: the resampling proportion used to resample transects within each stratum without replacement (default: inherits value from `Survey.config['stratified_survey_mean_parameters']`)\n",
    "* `transect_replicates`: the number of resampling iterations that will be run (default: inherits value from `Survey.config['stratified_survey_mean_parameters']`)\n"
   ]
  },
  {
   "cell_type": "code",
   "execution_count": 50,
   "metadata": {},
   "outputs": [
    {
     "name": "stdout",
     "output_type": "stream",
     "text": [
      "\n",
      "    --------------------------------\n",
      "    STRATIFIED RESULTS (TRANSECT)\n",
      "    --------------------------------\n",
      "    | Stratified variable: Biomass (kmt)\n",
      "    | Number of transects: 113\n",
      "    | Total strata area coverage: 53509.0 nmi^2\n",
      "    | Age-1 fish excluded: True\n",
      "    | Stratum definition: INPFC\n",
      "    | Bootstrap replicates: 10000 samples\n",
      "    | Resampling proportion: 0.75\n",
      "    --------------------------------\n",
      "    STRATUM-SPECIFIC ESTIMATES\n",
      "    --------------------------------\n",
      "    _coming soon_\n",
      "    --------------------------------\n",
      "    GENERAL RESULTS\n",
      "    --------------------------------\n",
      "    CV: 0.1329 [0.1238, 0.1419; 95% CI]\n",
      "    Total (across sub-sampled transects): 1227.6 kmt [1074.8, 1380.4; 95% CI]\n",
      "          (back-transformed): 1636.8 kmt [1433.1, 1840.5; 95% CI]\n",
      "    Mean (across sub-sampled transects):        203.4 kmt [172.1, 234.6; 95% CI]\n",
      "    --------------------------------\n"
     ]
    }
   ],
   "source": [
    "survey.stratified_analysis( dataset = 'transect' , stratum = 'inpfc' , variable = 'biomass' , verbose = True )"
   ]
  },
  {
   "cell_type": "markdown",
   "metadata": {},
   "source": [
    "<div class=\"alert alert-block alert-warning\">\n",
    "<b>NOTE:</b> You cannot run `Survey.stratified_analysis( dataset = 'kriging' , ... )` unless you have already computed the kriging results via `Survey.kriging_analysis(...)`.\n",
    "</div>"
   ]
  },
  {
   "cell_type": "markdown",
   "metadata": {},
   "source": [
    "Depending on how `dataset` is parameterized, the intermediate and final results are stored within a sub-dictionary so the outputs from both `dataset = 'transect'` and `dataset = 'kriging'` can be compared. For `Survey.analysis`, these are separated immediately below the top-level dictionary: "
   ]
  },
  {
   "cell_type": "code",
   "execution_count": 51,
   "metadata": {},
   "outputs": [
    {
     "data": {
      "text/plain": [
       "dict_keys(['transect'])"
      ]
     },
     "execution_count": 51,
     "metadata": {},
     "output_type": "execute_result"
    }
   ],
   "source": [
    "survey.analysis[ 'stratified' ].keys( )"
   ]
  },
  {
   "cell_type": "markdown",
   "metadata": {},
   "source": [
    "Here the resampled distributions of multiple statistics can be directly accessed for additional uncertainty analyses and visualizing the underlying statistical distributions: "
   ]
  },
  {
   "cell_type": "code",
   "execution_count": 52,
   "metadata": {},
   "outputs": [
    {
     "data": {
      "text/plain": [
       "dict_keys(['stratified_replicates_df'])"
      ]
     },
     "execution_count": 52,
     "metadata": {},
     "output_type": "execute_result"
    }
   ],
   "source": [
    "survey.analysis[ 'stratified' ][ 'transect' ].keys()"
   ]
  },
  {
   "cell_type": "code",
   "execution_count": 53,
   "metadata": {},
   "outputs": [
    {
     "data": {
      "text/html": [
       "<div>\n",
       "<style scoped>\n",
       "    .dataframe tbody tr th:only-of-type {\n",
       "        vertical-align: middle;\n",
       "    }\n",
       "\n",
       "    .dataframe tbody tr th {\n",
       "        vertical-align: top;\n",
       "    }\n",
       "\n",
       "    .dataframe thead th {\n",
       "        text-align: right;\n",
       "    }\n",
       "</style>\n",
       "<table border=\"1\" class=\"dataframe\">\n",
       "  <thead>\n",
       "    <tr style=\"text-align: right;\">\n",
       "      <th></th>\n",
       "      <th>realization</th>\n",
       "      <th>mean_standardized</th>\n",
       "      <th>standard_deviation</th>\n",
       "      <th>variance</th>\n",
       "      <th>cv</th>\n",
       "      <th>mean</th>\n",
       "      <th>total</th>\n",
       "    </tr>\n",
       "  </thead>\n",
       "  <tbody>\n",
       "    <tr>\n",
       "      <th>0</th>\n",
       "      <td>1</td>\n",
       "      <td>8.421319e+11</td>\n",
       "      <td>1.077189e+11</td>\n",
       "      <td>1.160337e+22</td>\n",
       "      <td>0.127912</td>\n",
       "      <td>2.099707e+08</td>\n",
       "      <td>1.194333e+09</td>\n",
       "    </tr>\n",
       "    <tr>\n",
       "      <th>1</th>\n",
       "      <td>2</td>\n",
       "      <td>9.374169e+11</td>\n",
       "      <td>1.218862e+11</td>\n",
       "      <td>1.485625e+22</td>\n",
       "      <td>0.130023</td>\n",
       "      <td>2.338089e+08</td>\n",
       "      <td>1.394089e+09</td>\n",
       "    </tr>\n",
       "    <tr>\n",
       "      <th>2</th>\n",
       "      <td>3</td>\n",
       "      <td>7.952674e+11</td>\n",
       "      <td>1.029277e+11</td>\n",
       "      <td>1.059411e+22</td>\n",
       "      <td>0.129425</td>\n",
       "      <td>1.929758e+08</td>\n",
       "      <td>1.131455e+09</td>\n",
       "    </tr>\n",
       "    <tr>\n",
       "      <th>3</th>\n",
       "      <td>4</td>\n",
       "      <td>8.666584e+11</td>\n",
       "      <td>1.147664e+11</td>\n",
       "      <td>1.317133e+22</td>\n",
       "      <td>0.132424</td>\n",
       "      <td>2.092199e+08</td>\n",
       "      <td>1.273637e+09</td>\n",
       "    </tr>\n",
       "    <tr>\n",
       "      <th>4</th>\n",
       "      <td>5</td>\n",
       "      <td>8.381991e+11</td>\n",
       "      <td>1.133317e+11</td>\n",
       "      <td>1.284406e+22</td>\n",
       "      <td>0.135209</td>\n",
       "      <td>2.022384e+08</td>\n",
       "      <td>1.222494e+09</td>\n",
       "    </tr>\n",
       "    <tr>\n",
       "      <th>...</th>\n",
       "      <td>...</td>\n",
       "      <td>...</td>\n",
       "      <td>...</td>\n",
       "      <td>...</td>\n",
       "      <td>...</td>\n",
       "      <td>...</td>\n",
       "      <td>...</td>\n",
       "    </tr>\n",
       "    <tr>\n",
       "      <th>9995</th>\n",
       "      <td>9996</td>\n",
       "      <td>8.784094e+11</td>\n",
       "      <td>1.180293e+11</td>\n",
       "      <td>1.393092e+22</td>\n",
       "      <td>0.134367</td>\n",
       "      <td>2.137757e+08</td>\n",
       "      <td>1.296847e+09</td>\n",
       "    </tr>\n",
       "    <tr>\n",
       "      <th>9996</th>\n",
       "      <td>9997</td>\n",
       "      <td>8.133567e+11</td>\n",
       "      <td>1.081531e+11</td>\n",
       "      <td>1.169708e+22</td>\n",
       "      <td>0.132971</td>\n",
       "      <td>1.993702e+08</td>\n",
       "      <td>1.201448e+09</td>\n",
       "    </tr>\n",
       "    <tr>\n",
       "      <th>9997</th>\n",
       "      <td>9998</td>\n",
       "      <td>8.169507e+11</td>\n",
       "      <td>1.044826e+11</td>\n",
       "      <td>1.091661e+22</td>\n",
       "      <td>0.127893</td>\n",
       "      <td>2.020326e+08</td>\n",
       "      <td>1.194972e+09</td>\n",
       "    </tr>\n",
       "    <tr>\n",
       "      <th>9998</th>\n",
       "      <td>9999</td>\n",
       "      <td>7.087371e+11</td>\n",
       "      <td>1.018084e+11</td>\n",
       "      <td>1.036495e+22</td>\n",
       "      <td>0.143648</td>\n",
       "      <td>1.780005e+08</td>\n",
       "      <td>1.139261e+09</td>\n",
       "    </tr>\n",
       "    <tr>\n",
       "      <th>9999</th>\n",
       "      <td>10000</td>\n",
       "      <td>8.609808e+11</td>\n",
       "      <td>1.108811e+11</td>\n",
       "      <td>1.229461e+22</td>\n",
       "      <td>0.128785</td>\n",
       "      <td>2.165638e+08</td>\n",
       "      <td>1.254708e+09</td>\n",
       "    </tr>\n",
       "  </tbody>\n",
       "</table>\n",
       "<p>10000 rows × 7 columns</p>\n",
       "</div>"
      ],
      "text/plain": [
       "      realization  mean_standardized  standard_deviation      variance  \\\n",
       "0               1       8.421319e+11        1.077189e+11  1.160337e+22   \n",
       "1               2       9.374169e+11        1.218862e+11  1.485625e+22   \n",
       "2               3       7.952674e+11        1.029277e+11  1.059411e+22   \n",
       "3               4       8.666584e+11        1.147664e+11  1.317133e+22   \n",
       "4               5       8.381991e+11        1.133317e+11  1.284406e+22   \n",
       "...           ...                ...                 ...           ...   \n",
       "9995         9996       8.784094e+11        1.180293e+11  1.393092e+22   \n",
       "9996         9997       8.133567e+11        1.081531e+11  1.169708e+22   \n",
       "9997         9998       8.169507e+11        1.044826e+11  1.091661e+22   \n",
       "9998         9999       7.087371e+11        1.018084e+11  1.036495e+22   \n",
       "9999        10000       8.609808e+11        1.108811e+11  1.229461e+22   \n",
       "\n",
       "            cv          mean         total  \n",
       "0     0.127912  2.099707e+08  1.194333e+09  \n",
       "1     0.130023  2.338089e+08  1.394089e+09  \n",
       "2     0.129425  1.929758e+08  1.131455e+09  \n",
       "3     0.132424  2.092199e+08  1.273637e+09  \n",
       "4     0.135209  2.022384e+08  1.222494e+09  \n",
       "...        ...           ...           ...  \n",
       "9995  0.134367  2.137757e+08  1.296847e+09  \n",
       "9996  0.132971  1.993702e+08  1.201448e+09  \n",
       "9997  0.127893  2.020326e+08  1.194972e+09  \n",
       "9998  0.143648  1.780005e+08  1.139261e+09  \n",
       "9999  0.128785  2.165638e+08  1.254708e+09  \n",
       "\n",
       "[10000 rows x 7 columns]"
      ]
     },
     "execution_count": 53,
     "metadata": {},
     "output_type": "execute_result"
    }
   ],
   "source": [
    "survey.analysis[ 'stratified' ][ 'transect' ][ 'stratified_replicates_df' ]"
   ]
  },
  {
   "cell_type": "markdown",
   "metadata": {},
   "source": [
    "The final results stored within `Survey.results` are formatted in an identical way:"
   ]
  },
  {
   "cell_type": "code",
   "execution_count": 54,
   "metadata": {},
   "outputs": [
    {
     "data": {
      "text/plain": [
       "dict_keys(['transect'])"
      ]
     },
     "execution_count": 54,
     "metadata": {},
     "output_type": "execute_result"
    }
   ],
   "source": [
    "survey.results[ 'stratified' ].keys( )"
   ]
  },
  {
   "cell_type": "code",
   "execution_count": 55,
   "metadata": {},
   "outputs": [
    {
     "data": {
      "text/plain": [
       "dict_keys(['variable', 'ci_percentile', 'num_transects', 'total_area', 'mean', 'variance', 'cv', 'total'])"
      ]
     },
     "execution_count": 55,
     "metadata": {},
     "output_type": "execute_result"
    }
   ],
   "source": [
    "survey.results[ 'stratified' ][ 'transect' ].keys()"
   ]
  },
  {
   "cell_type": "code",
   "execution_count": 56,
   "metadata": {},
   "outputs": [
    {
     "name": "stdout",
     "output_type": "stream",
     "text": [
      "{'ci_percentile': 0.95,\n",
      " 'cv': {'confidence_interval': array([0.1238229 , 0.14190188]),\n",
      "        'estimate': 0.13286238737496395},\n",
      " 'mean': {'unweighted_confidence_interval': array([1.72072437e+08, 2.34630809e+08]),\n",
      "          'unweighted_estimate': 203351623.02741227,\n",
      "          'weighted_confidence_interval': array([7.04140693e+11, 9.60798852e+11]),\n",
      "          'weighted_estimate': 832469772839.8756},\n",
      " 'num_transects': 113,\n",
      " 'total': {'confidence_interval': array([1.07480518e+09, 1.38038733e+09]),\n",
      "           'estimate': 1227596254.6756964},\n",
      " 'total_area': 53508.99736238332,\n",
      " 'variable': 'biomass',\n",
      " 'variance': {'confidence_interval': array([9.14291115e+21, 1.53506205e+22]),\n",
      "              'estimate': 1.2246765839809253e+22}}\n"
     ]
    }
   ],
   "source": [
    "pprint.pprint( survey.results[ 'stratified' ][ 'transect' ])"
   ]
  },
  {
   "cell_type": "markdown",
   "metadata": {},
   "source": [
    "## **`Survey.kriging_analysis(...)`**"
   ]
  },
  {
   "cell_type": "markdown",
   "metadata": {},
   "source": [
    "`Survey.kriging_analysis(...)` computes the kriged estimates for the target variable via ordinary kriging with an adaptive search radius. The arguments to `Survey.kriging_analysis(...)` include:\n",
    "* `coordinate_transform (boolean)`: when `True`, the transect and mesh longitude/latitude coordinates are transformed to a standardized format as x/y (default: `True`)\n",
    "* `crop_method ('interpolation', 'convex_hull')`: when `extrapolate = False`, this determines the method used for cropping the kriging mesh. Setting `crop_method = 'interpolation'` (*default*) resamples the latitudinal resolution of the mesh grid and interpolates over the extent of the eastern and western endpoints of each transect line. This is conducted in a piece-wise fashion to account for the island of Haida Gwaii. Setting `crop_method = 'convex_hull'` uses a polygon-based approach for cropping the mesh grid based on the survey extent.\n",
    "* `extrapolate(boolean)`: when `True`, the entire kriging mesh is used. Otherwise, different methods are used to crop the kriging mesh to limit extrapolation beyond the extent of the survey transects. \n",
    "* `stratum ('ks','inpfc')`: the stratum used for mapping the defined kriged `variable` (default: `'ks'`) \n",
    "* `variable(string)`: the data variable that will be used for the kriging analysis (default: `'biomass_density'`)\n",
    "* `verbose (boolean)`: dialogue messages will appear in the console including a summary report of the results when this is set to `True` (default: `True`)\n",
    "\n",
    "There are also analysis-specific optional arguments that are used depending on how `crop_method` is defined:\n",
    "* When `crop_method = 'interpolation'`:\n",
    "  * `latitude_resolution (float)`: the updated latitudinal resolution (**in nmi**) used for interpolation\n",
    "* When `crop_method = 'convex_hull'`:\n",
    "  * `mesh_buffer_distance`: this is a dilation factor (**in nmi**) that expands/buffers the extent of the polygon defining the survey extent (default: `1.25`)\n",
    "  * `num_nearest_transects`: this defines the number of nearest neighboring transects used for generating smaller polygons that are then constructed into the survey-wide polygon\n",
    "\n",
    "Lastly, there are additional arguments that are optional since they are otherwise inherited from various parts of the `Survey` object: \n",
    "* `kriging_parameters (dictionary)`: a dictionary containing various kriging parameter variables and arguments\n",
    "* `projection (string)`: an EPSG string that defines the mapping projection\n",
    "* `variogram_parameters (dictionary)`: a dictionary containing various variogram parameter variables and arguments"
   ]
  },
  {
   "cell_type": "code",
   "execution_count": 57,
   "metadata": {},
   "outputs": [
    {
     "name": "stdout",
     "output_type": "stream",
     "text": [
      "Longitude and latitude coordinates (WGS84) converted to standardized coordinates (x and y).\n",
      "Extrapolation applied to kriging mesh points (81 of 9463):\n",
      "            * 77 points had 0 valid range estimates without extrapolation\n",
      "            * 4 points had at least 1 valid point but fewer than 3 valid neighbors\n",
      "Imputed apportioned unaged male biomass at length bins:\n",
      "(17.0, 19.0], (59.0, 61.0], (61.0, 63.0], (63.0, 65.0], (65.0, 67.0], (67.0, 69.0], (69.0, 71.0], (71.0, 73.0], (73.0, 75.0], (75.0, 77.0]\n",
      "Imputed apportioned unaged female biomass at length bins:\n",
      "(17.0, 19.0], (73.0, 75.0], (75.0, 77.0]\n",
      "\n",
      "    --------------------------------\n",
      "    KRIGING RESULTS (MESH)\n",
      "    --------------------------------\n",
      "    | Kriged variable: Biomass density (kg/nmi^2)\n",
      "    | Age-1 fish excluded: True\n",
      "    | Stratum definition: KS\n",
      "    | Mesh extrapolation: False\n",
      "    --- Mesh cropping method: Interpolation\n",
      "    | Mesh and transect coordinate standardization: True\n",
      "    --------------------------------\n",
      "    GENERAL RESULTS\n",
      "    --------------------------------\n",
      "    Mean biomass density: 27812.73 kg/nmi^2\n",
      "    Total survey biomass estimate: 1644.73 kmt\n",
      "    Mean mesh sample CV: 0.0255\n",
      "    Overall survey CV: 0.0283\n",
      "    Total area coverage: 58186.9 nmi^2\n",
      "   --------------------------------\n"
     ]
    }
   ],
   "source": [
    "survey.kriging_analysis( bearing_tolerance = 15.0 , coordinate_transform = True , crop_method = 'interpolation' , extrapolate = False , latitude_resolution = 1.25 , stratum = 'ks' , variable = 'biomass_density' , verbose = True )"
   ]
  },
  {
   "cell_type": "markdown",
   "metadata": {},
   "source": [
    "There are then various results stored within `Survey.results[ 'kriging' ]`:"
   ]
  },
  {
   "cell_type": "code",
   "execution_count": 58,
   "metadata": {},
   "outputs": [
    {
     "data": {
      "text/plain": [
       "dict_keys(['variable', 'survey_mean', 'survey_estimate', 'survey_cv', 'mesh_results_df', 'tables'])"
      ]
     },
     "execution_count": 58,
     "metadata": {},
     "output_type": "execute_result"
    }
   ],
   "source": [
    "survey.results[ 'kriging' ].keys()"
   ]
  },
  {
   "cell_type": "markdown",
   "metadata": {},
   "source": [
    "Some of these values are single values:"
   ]
  },
  {
   "cell_type": "code",
   "execution_count": 59,
   "metadata": {},
   "outputs": [
    {
     "name": "stdout",
     "output_type": "stream",
     "text": [
      "['biomass_density', 27812.72904530149, 1644729100.704989, 0.02827148127046275]\n"
     ]
    }
   ],
   "source": [
    "pprint.pprint( [survey.results['kriging'].get(key) for key in ['variable' , 'survey_mean' , 'survey_estimate' , 'survey_cv'] ] )"
   ]
  },
  {
   "cell_type": "markdown",
   "metadata": {},
   "source": [
    "The meshed results can also be retrieved:"
   ]
  },
  {
   "cell_type": "code",
   "execution_count": 60,
   "metadata": {},
   "outputs": [
    {
     "data": {
      "text/html": [
       "<div>\n",
       "<style scoped>\n",
       "    .dataframe tbody tr th:only-of-type {\n",
       "        vertical-align: middle;\n",
       "    }\n",
       "\n",
       "    .dataframe tbody tr th {\n",
       "        vertical-align: top;\n",
       "    }\n",
       "\n",
       "    .dataframe thead th {\n",
       "        text-align: right;\n",
       "    }\n",
       "</style>\n",
       "<table border=\"1\" class=\"dataframe\">\n",
       "  <thead>\n",
       "    <tr style=\"text-align: right;\">\n",
       "      <th></th>\n",
       "      <th>latitude</th>\n",
       "      <th>longitude</th>\n",
       "      <th>area</th>\n",
       "      <th>kriged_mean</th>\n",
       "      <th>kriged_variance</th>\n",
       "      <th>sample_variance</th>\n",
       "      <th>sample_cv</th>\n",
       "      <th>biomass</th>\n",
       "      <th>stratum_num</th>\n",
       "    </tr>\n",
       "  </thead>\n",
       "  <tbody>\n",
       "    <tr>\n",
       "      <th>1</th>\n",
       "      <td>49.057959</td>\n",
       "      <td>-126.024127</td>\n",
       "      <td>6.250000</td>\n",
       "      <td>0.000000</td>\n",
       "      <td>0.031410</td>\n",
       "      <td>NaN</td>\n",
       "      <td>0.008405</td>\n",
       "      <td>0.000000</td>\n",
       "      <td>7</td>\n",
       "    </tr>\n",
       "    <tr>\n",
       "      <th>2</th>\n",
       "      <td>49.016196</td>\n",
       "      <td>-126.024110</td>\n",
       "      <td>6.250000</td>\n",
       "      <td>0.000000</td>\n",
       "      <td>0.278348</td>\n",
       "      <td>NaN</td>\n",
       "      <td>0.025021</td>\n",
       "      <td>0.000000</td>\n",
       "      <td>7</td>\n",
       "    </tr>\n",
       "    <tr>\n",
       "      <th>3</th>\n",
       "      <td>48.974438</td>\n",
       "      <td>-126.024093</td>\n",
       "      <td>6.250000</td>\n",
       "      <td>0.000000</td>\n",
       "      <td>0.584354</td>\n",
       "      <td>NaN</td>\n",
       "      <td>0.036254</td>\n",
       "      <td>0.000000</td>\n",
       "      <td>7</td>\n",
       "    </tr>\n",
       "    <tr>\n",
       "      <th>4</th>\n",
       "      <td>48.932686</td>\n",
       "      <td>-126.024076</td>\n",
       "      <td>6.250000</td>\n",
       "      <td>48215.463859</td>\n",
       "      <td>0.739334</td>\n",
       "      <td>1.303223</td>\n",
       "      <td>0.040779</td>\n",
       "      <td>301346.649118</td>\n",
       "      <td>7</td>\n",
       "    </tr>\n",
       "    <tr>\n",
       "      <th>5</th>\n",
       "      <td>48.890939</td>\n",
       "      <td>-126.024060</td>\n",
       "      <td>6.250000</td>\n",
       "      <td>0.000000</td>\n",
       "      <td>0.783366</td>\n",
       "      <td>NaN</td>\n",
       "      <td>0.041975</td>\n",
       "      <td>0.000000</td>\n",
       "      <td>8</td>\n",
       "    </tr>\n",
       "    <tr>\n",
       "      <th>...</th>\n",
       "      <td>...</td>\n",
       "      <td>...</td>\n",
       "      <td>...</td>\n",
       "      <td>...</td>\n",
       "      <td>...</td>\n",
       "      <td>...</td>\n",
       "      <td>...</td>\n",
       "      <td>...</td>\n",
       "      <td>...</td>\n",
       "    </tr>\n",
       "    <tr>\n",
       "      <th>19804</th>\n",
       "      <td>52.895008</td>\n",
       "      <td>-132.337719</td>\n",
       "      <td>0.011343</td>\n",
       "      <td>0.000000</td>\n",
       "      <td>0.947455</td>\n",
       "      <td>NaN</td>\n",
       "      <td>0.046163</td>\n",
       "      <td>0.000000</td>\n",
       "      <td>1</td>\n",
       "    </tr>\n",
       "    <tr>\n",
       "      <th>19806</th>\n",
       "      <td>52.813140</td>\n",
       "      <td>-132.260812</td>\n",
       "      <td>0.009924</td>\n",
       "      <td>0.000000</td>\n",
       "      <td>0.539868</td>\n",
       "      <td>NaN</td>\n",
       "      <td>0.034846</td>\n",
       "      <td>0.000000</td>\n",
       "      <td>1</td>\n",
       "    </tr>\n",
       "    <tr>\n",
       "      <th>19814</th>\n",
       "      <td>38.025533</td>\n",
       "      <td>-123.013372</td>\n",
       "      <td>0.006006</td>\n",
       "      <td>0.000000</td>\n",
       "      <td>0.346581</td>\n",
       "      <td>NaN</td>\n",
       "      <td>0.027920</td>\n",
       "      <td>0.000000</td>\n",
       "      <td>5</td>\n",
       "    </tr>\n",
       "    <tr>\n",
       "      <th>19830</th>\n",
       "      <td>35.646423</td>\n",
       "      <td>-121.257388</td>\n",
       "      <td>0.001815</td>\n",
       "      <td>0.000000</td>\n",
       "      <td>0.365594</td>\n",
       "      <td>NaN</td>\n",
       "      <td>0.028676</td>\n",
       "      <td>0.000000</td>\n",
       "      <td>3</td>\n",
       "    </tr>\n",
       "    <tr>\n",
       "      <th>19831</th>\n",
       "      <td>51.789454</td>\n",
       "      <td>-128.241684</td>\n",
       "      <td>0.001462</td>\n",
       "      <td>0.000000</td>\n",
       "      <td>1.240780</td>\n",
       "      <td>NaN</td>\n",
       "      <td>0.052828</td>\n",
       "      <td>0.000000</td>\n",
       "      <td>1</td>\n",
       "    </tr>\n",
       "  </tbody>\n",
       "</table>\n",
       "<p>9463 rows × 9 columns</p>\n",
       "</div>"
      ],
      "text/plain": [
       "        latitude   longitude      area   kriged_mean  kriged_variance  \\\n",
       "1      49.057959 -126.024127  6.250000      0.000000         0.031410   \n",
       "2      49.016196 -126.024110  6.250000      0.000000         0.278348   \n",
       "3      48.974438 -126.024093  6.250000      0.000000         0.584354   \n",
       "4      48.932686 -126.024076  6.250000  48215.463859         0.739334   \n",
       "5      48.890939 -126.024060  6.250000      0.000000         0.783366   \n",
       "...          ...         ...       ...           ...              ...   \n",
       "19804  52.895008 -132.337719  0.011343      0.000000         0.947455   \n",
       "19806  52.813140 -132.260812  0.009924      0.000000         0.539868   \n",
       "19814  38.025533 -123.013372  0.006006      0.000000         0.346581   \n",
       "19830  35.646423 -121.257388  0.001815      0.000000         0.365594   \n",
       "19831  51.789454 -128.241684  0.001462      0.000000         1.240780   \n",
       "\n",
       "       sample_variance  sample_cv        biomass stratum_num  \n",
       "1                  NaN   0.008405       0.000000           7  \n",
       "2                  NaN   0.025021       0.000000           7  \n",
       "3                  NaN   0.036254       0.000000           7  \n",
       "4             1.303223   0.040779  301346.649118           7  \n",
       "5                  NaN   0.041975       0.000000           8  \n",
       "...                ...        ...            ...         ...  \n",
       "19804              NaN   0.046163       0.000000           1  \n",
       "19806              NaN   0.034846       0.000000           1  \n",
       "19814              NaN   0.027920       0.000000           5  \n",
       "19830              NaN   0.028676       0.000000           3  \n",
       "19831              NaN   0.052828       0.000000           1  \n",
       "\n",
       "[9463 rows x 9 columns]"
      ]
     },
     "execution_count": 60,
     "metadata": {},
     "output_type": "execute_result"
    }
   ],
   "source": [
    "survey.results[ 'kriging' ][ 'mesh_results_df' ]"
   ]
  },
  {
   "cell_type": "markdown",
   "metadata": {},
   "source": [
    "The `tables` sub-dictionary includes the sum of each variable distributed over age, length, and sex (in this case, `variable = biomass_density` produces estimates of kriged `biomass` for these tables).\n",
    "\n",
    "Biomass distributed over age, length, and sex for aged fish:"
   ]
  },
  {
   "cell_type": "code",
   "execution_count": 61,
   "metadata": {},
   "outputs": [
    {
     "data": {
      "text/html": [
       "<div>\n",
       "<style scoped>\n",
       "    .dataframe tbody tr th:only-of-type {\n",
       "        vertical-align: middle;\n",
       "    }\n",
       "\n",
       "    .dataframe tbody tr th {\n",
       "        vertical-align: top;\n",
       "    }\n",
       "\n",
       "    .dataframe thead th {\n",
       "        text-align: right;\n",
       "    }\n",
       "</style>\n",
       "<table border=\"1\" class=\"dataframe\">\n",
       "  <thead>\n",
       "    <tr style=\"text-align: right;\">\n",
       "      <th></th>\n",
       "      <th>age_bin</th>\n",
       "      <th>(0.5, 1.5]</th>\n",
       "      <th>(1.5, 2.5]</th>\n",
       "      <th>(2.5, 3.5]</th>\n",
       "      <th>(3.5, 4.5]</th>\n",
       "      <th>(4.5, 5.5]</th>\n",
       "      <th>(5.5, 6.5]</th>\n",
       "      <th>(6.5, 7.5]</th>\n",
       "      <th>(7.5, 8.5]</th>\n",
       "      <th>(8.5, 9.5]</th>\n",
       "      <th>(9.5, 10.5]</th>\n",
       "      <th>...</th>\n",
       "      <th>(12.5, 13.5]</th>\n",
       "      <th>(13.5, 14.5]</th>\n",
       "      <th>(14.5, 15.5]</th>\n",
       "      <th>(15.5, 16.5]</th>\n",
       "      <th>(16.5, 17.5]</th>\n",
       "      <th>(17.5, 18.5]</th>\n",
       "      <th>(18.5, 19.5]</th>\n",
       "      <th>(19.5, 20.5]</th>\n",
       "      <th>(20.5, 21.5]</th>\n",
       "      <th>(21.5, 22.5]</th>\n",
       "    </tr>\n",
       "    <tr>\n",
       "      <th>sex</th>\n",
       "      <th>length_bin</th>\n",
       "      <th></th>\n",
       "      <th></th>\n",
       "      <th></th>\n",
       "      <th></th>\n",
       "      <th></th>\n",
       "      <th></th>\n",
       "      <th></th>\n",
       "      <th></th>\n",
       "      <th></th>\n",
       "      <th></th>\n",
       "      <th></th>\n",
       "      <th></th>\n",
       "      <th></th>\n",
       "      <th></th>\n",
       "      <th></th>\n",
       "      <th></th>\n",
       "      <th></th>\n",
       "      <th></th>\n",
       "      <th></th>\n",
       "      <th></th>\n",
       "      <th></th>\n",
       "    </tr>\n",
       "  </thead>\n",
       "  <tbody>\n",
       "    <tr>\n",
       "      <th rowspan=\"5\" valign=\"top\">female</th>\n",
       "      <th>(1.0, 3.0]</th>\n",
       "      <td>0.0</td>\n",
       "      <td>0.0</td>\n",
       "      <td>0.0</td>\n",
       "      <td>0.0</td>\n",
       "      <td>0.0</td>\n",
       "      <td>0.0</td>\n",
       "      <td>0.0</td>\n",
       "      <td>0.0</td>\n",
       "      <td>0.0</td>\n",
       "      <td>0.0</td>\n",
       "      <td>...</td>\n",
       "      <td>0.0</td>\n",
       "      <td>0.0</td>\n",
       "      <td>0.0</td>\n",
       "      <td>0.0</td>\n",
       "      <td>0.0</td>\n",
       "      <td>0.0</td>\n",
       "      <td>0.0</td>\n",
       "      <td>0.0</td>\n",
       "      <td>0.0</td>\n",
       "      <td>0.0</td>\n",
       "    </tr>\n",
       "    <tr>\n",
       "      <th>(3.0, 5.0]</th>\n",
       "      <td>0.0</td>\n",
       "      <td>0.0</td>\n",
       "      <td>0.0</td>\n",
       "      <td>0.0</td>\n",
       "      <td>0.0</td>\n",
       "      <td>0.0</td>\n",
       "      <td>0.0</td>\n",
       "      <td>0.0</td>\n",
       "      <td>0.0</td>\n",
       "      <td>0.0</td>\n",
       "      <td>...</td>\n",
       "      <td>0.0</td>\n",
       "      <td>0.0</td>\n",
       "      <td>0.0</td>\n",
       "      <td>0.0</td>\n",
       "      <td>0.0</td>\n",
       "      <td>0.0</td>\n",
       "      <td>0.0</td>\n",
       "      <td>0.0</td>\n",
       "      <td>0.0</td>\n",
       "      <td>0.0</td>\n",
       "    </tr>\n",
       "    <tr>\n",
       "      <th>(5.0, 7.0]</th>\n",
       "      <td>0.0</td>\n",
       "      <td>0.0</td>\n",
       "      <td>0.0</td>\n",
       "      <td>0.0</td>\n",
       "      <td>0.0</td>\n",
       "      <td>0.0</td>\n",
       "      <td>0.0</td>\n",
       "      <td>0.0</td>\n",
       "      <td>0.0</td>\n",
       "      <td>0.0</td>\n",
       "      <td>...</td>\n",
       "      <td>0.0</td>\n",
       "      <td>0.0</td>\n",
       "      <td>0.0</td>\n",
       "      <td>0.0</td>\n",
       "      <td>0.0</td>\n",
       "      <td>0.0</td>\n",
       "      <td>0.0</td>\n",
       "      <td>0.0</td>\n",
       "      <td>0.0</td>\n",
       "      <td>0.0</td>\n",
       "    </tr>\n",
       "    <tr>\n",
       "      <th>(7.0, 9.0]</th>\n",
       "      <td>0.0</td>\n",
       "      <td>0.0</td>\n",
       "      <td>0.0</td>\n",
       "      <td>0.0</td>\n",
       "      <td>0.0</td>\n",
       "      <td>0.0</td>\n",
       "      <td>0.0</td>\n",
       "      <td>0.0</td>\n",
       "      <td>0.0</td>\n",
       "      <td>0.0</td>\n",
       "      <td>...</td>\n",
       "      <td>0.0</td>\n",
       "      <td>0.0</td>\n",
       "      <td>0.0</td>\n",
       "      <td>0.0</td>\n",
       "      <td>0.0</td>\n",
       "      <td>0.0</td>\n",
       "      <td>0.0</td>\n",
       "      <td>0.0</td>\n",
       "      <td>0.0</td>\n",
       "      <td>0.0</td>\n",
       "    </tr>\n",
       "    <tr>\n",
       "      <th>(9.0, 11.0]</th>\n",
       "      <td>0.0</td>\n",
       "      <td>0.0</td>\n",
       "      <td>0.0</td>\n",
       "      <td>0.0</td>\n",
       "      <td>0.0</td>\n",
       "      <td>0.0</td>\n",
       "      <td>0.0</td>\n",
       "      <td>0.0</td>\n",
       "      <td>0.0</td>\n",
       "      <td>0.0</td>\n",
       "      <td>...</td>\n",
       "      <td>0.0</td>\n",
       "      <td>0.0</td>\n",
       "      <td>0.0</td>\n",
       "      <td>0.0</td>\n",
       "      <td>0.0</td>\n",
       "      <td>0.0</td>\n",
       "      <td>0.0</td>\n",
       "      <td>0.0</td>\n",
       "      <td>0.0</td>\n",
       "      <td>0.0</td>\n",
       "    </tr>\n",
       "    <tr>\n",
       "      <th>...</th>\n",
       "      <th>...</th>\n",
       "      <td>...</td>\n",
       "      <td>...</td>\n",
       "      <td>...</td>\n",
       "      <td>...</td>\n",
       "      <td>...</td>\n",
       "      <td>...</td>\n",
       "      <td>...</td>\n",
       "      <td>...</td>\n",
       "      <td>...</td>\n",
       "      <td>...</td>\n",
       "      <td>...</td>\n",
       "      <td>...</td>\n",
       "      <td>...</td>\n",
       "      <td>...</td>\n",
       "      <td>...</td>\n",
       "      <td>...</td>\n",
       "      <td>...</td>\n",
       "      <td>...</td>\n",
       "      <td>...</td>\n",
       "      <td>...</td>\n",
       "      <td>...</td>\n",
       "    </tr>\n",
       "    <tr>\n",
       "      <th rowspan=\"5\" valign=\"top\">male</th>\n",
       "      <th>(71.0, 73.0]</th>\n",
       "      <td>0.0</td>\n",
       "      <td>0.0</td>\n",
       "      <td>0.0</td>\n",
       "      <td>0.0</td>\n",
       "      <td>0.0</td>\n",
       "      <td>0.0</td>\n",
       "      <td>0.0</td>\n",
       "      <td>0.0</td>\n",
       "      <td>0.0</td>\n",
       "      <td>0.0</td>\n",
       "      <td>...</td>\n",
       "      <td>0.0</td>\n",
       "      <td>0.0</td>\n",
       "      <td>0.0</td>\n",
       "      <td>0.0</td>\n",
       "      <td>0.0</td>\n",
       "      <td>0.0</td>\n",
       "      <td>0.0</td>\n",
       "      <td>0.0</td>\n",
       "      <td>0.0</td>\n",
       "      <td>0.0</td>\n",
       "    </tr>\n",
       "    <tr>\n",
       "      <th>(73.0, 75.0]</th>\n",
       "      <td>0.0</td>\n",
       "      <td>0.0</td>\n",
       "      <td>0.0</td>\n",
       "      <td>0.0</td>\n",
       "      <td>0.0</td>\n",
       "      <td>0.0</td>\n",
       "      <td>0.0</td>\n",
       "      <td>0.0</td>\n",
       "      <td>0.0</td>\n",
       "      <td>0.0</td>\n",
       "      <td>...</td>\n",
       "      <td>0.0</td>\n",
       "      <td>0.0</td>\n",
       "      <td>0.0</td>\n",
       "      <td>0.0</td>\n",
       "      <td>0.0</td>\n",
       "      <td>0.0</td>\n",
       "      <td>0.0</td>\n",
       "      <td>0.0</td>\n",
       "      <td>0.0</td>\n",
       "      <td>0.0</td>\n",
       "    </tr>\n",
       "    <tr>\n",
       "      <th>(75.0, 77.0]</th>\n",
       "      <td>0.0</td>\n",
       "      <td>0.0</td>\n",
       "      <td>0.0</td>\n",
       "      <td>0.0</td>\n",
       "      <td>0.0</td>\n",
       "      <td>0.0</td>\n",
       "      <td>0.0</td>\n",
       "      <td>0.0</td>\n",
       "      <td>0.0</td>\n",
       "      <td>0.0</td>\n",
       "      <td>...</td>\n",
       "      <td>0.0</td>\n",
       "      <td>0.0</td>\n",
       "      <td>0.0</td>\n",
       "      <td>0.0</td>\n",
       "      <td>0.0</td>\n",
       "      <td>0.0</td>\n",
       "      <td>0.0</td>\n",
       "      <td>0.0</td>\n",
       "      <td>0.0</td>\n",
       "      <td>0.0</td>\n",
       "    </tr>\n",
       "    <tr>\n",
       "      <th>(77.0, 79.0]</th>\n",
       "      <td>0.0</td>\n",
       "      <td>0.0</td>\n",
       "      <td>0.0</td>\n",
       "      <td>0.0</td>\n",
       "      <td>0.0</td>\n",
       "      <td>0.0</td>\n",
       "      <td>0.0</td>\n",
       "      <td>0.0</td>\n",
       "      <td>0.0</td>\n",
       "      <td>0.0</td>\n",
       "      <td>...</td>\n",
       "      <td>0.0</td>\n",
       "      <td>0.0</td>\n",
       "      <td>0.0</td>\n",
       "      <td>0.0</td>\n",
       "      <td>0.0</td>\n",
       "      <td>0.0</td>\n",
       "      <td>0.0</td>\n",
       "      <td>0.0</td>\n",
       "      <td>0.0</td>\n",
       "      <td>0.0</td>\n",
       "    </tr>\n",
       "    <tr>\n",
       "      <th>(79.0, 81.0]</th>\n",
       "      <td>0.0</td>\n",
       "      <td>0.0</td>\n",
       "      <td>0.0</td>\n",
       "      <td>0.0</td>\n",
       "      <td>0.0</td>\n",
       "      <td>0.0</td>\n",
       "      <td>0.0</td>\n",
       "      <td>0.0</td>\n",
       "      <td>0.0</td>\n",
       "      <td>0.0</td>\n",
       "      <td>...</td>\n",
       "      <td>0.0</td>\n",
       "      <td>0.0</td>\n",
       "      <td>0.0</td>\n",
       "      <td>0.0</td>\n",
       "      <td>0.0</td>\n",
       "      <td>0.0</td>\n",
       "      <td>0.0</td>\n",
       "      <td>0.0</td>\n",
       "      <td>0.0</td>\n",
       "      <td>0.0</td>\n",
       "    </tr>\n",
       "  </tbody>\n",
       "</table>\n",
       "<p>80 rows × 22 columns</p>\n",
       "</div>"
      ],
      "text/plain": [
       "age_bin              (0.5, 1.5]  (1.5, 2.5]  (2.5, 3.5]  (3.5, 4.5]  \\\n",
       "sex    length_bin                                                     \n",
       "female (1.0, 3.0]           0.0         0.0         0.0         0.0   \n",
       "       (3.0, 5.0]           0.0         0.0         0.0         0.0   \n",
       "       (5.0, 7.0]           0.0         0.0         0.0         0.0   \n",
       "       (7.0, 9.0]           0.0         0.0         0.0         0.0   \n",
       "       (9.0, 11.0]          0.0         0.0         0.0         0.0   \n",
       "...                         ...         ...         ...         ...   \n",
       "male   (71.0, 73.0]         0.0         0.0         0.0         0.0   \n",
       "       (73.0, 75.0]         0.0         0.0         0.0         0.0   \n",
       "       (75.0, 77.0]         0.0         0.0         0.0         0.0   \n",
       "       (77.0, 79.0]         0.0         0.0         0.0         0.0   \n",
       "       (79.0, 81.0]         0.0         0.0         0.0         0.0   \n",
       "\n",
       "age_bin              (4.5, 5.5]  (5.5, 6.5]  (6.5, 7.5]  (7.5, 8.5]  \\\n",
       "sex    length_bin                                                     \n",
       "female (1.0, 3.0]           0.0         0.0         0.0         0.0   \n",
       "       (3.0, 5.0]           0.0         0.0         0.0         0.0   \n",
       "       (5.0, 7.0]           0.0         0.0         0.0         0.0   \n",
       "       (7.0, 9.0]           0.0         0.0         0.0         0.0   \n",
       "       (9.0, 11.0]          0.0         0.0         0.0         0.0   \n",
       "...                         ...         ...         ...         ...   \n",
       "male   (71.0, 73.0]         0.0         0.0         0.0         0.0   \n",
       "       (73.0, 75.0]         0.0         0.0         0.0         0.0   \n",
       "       (75.0, 77.0]         0.0         0.0         0.0         0.0   \n",
       "       (77.0, 79.0]         0.0         0.0         0.0         0.0   \n",
       "       (79.0, 81.0]         0.0         0.0         0.0         0.0   \n",
       "\n",
       "age_bin              (8.5, 9.5]  (9.5, 10.5]  ...  (12.5, 13.5]  (13.5, 14.5]  \\\n",
       "sex    length_bin                             ...                               \n",
       "female (1.0, 3.0]           0.0          0.0  ...           0.0           0.0   \n",
       "       (3.0, 5.0]           0.0          0.0  ...           0.0           0.0   \n",
       "       (5.0, 7.0]           0.0          0.0  ...           0.0           0.0   \n",
       "       (7.0, 9.0]           0.0          0.0  ...           0.0           0.0   \n",
       "       (9.0, 11.0]          0.0          0.0  ...           0.0           0.0   \n",
       "...                         ...          ...  ...           ...           ...   \n",
       "male   (71.0, 73.0]         0.0          0.0  ...           0.0           0.0   \n",
       "       (73.0, 75.0]         0.0          0.0  ...           0.0           0.0   \n",
       "       (75.0, 77.0]         0.0          0.0  ...           0.0           0.0   \n",
       "       (77.0, 79.0]         0.0          0.0  ...           0.0           0.0   \n",
       "       (79.0, 81.0]         0.0          0.0  ...           0.0           0.0   \n",
       "\n",
       "age_bin              (14.5, 15.5]  (15.5, 16.5]  (16.5, 17.5]  (17.5, 18.5]  \\\n",
       "sex    length_bin                                                             \n",
       "female (1.0, 3.0]             0.0           0.0           0.0           0.0   \n",
       "       (3.0, 5.0]             0.0           0.0           0.0           0.0   \n",
       "       (5.0, 7.0]             0.0           0.0           0.0           0.0   \n",
       "       (7.0, 9.0]             0.0           0.0           0.0           0.0   \n",
       "       (9.0, 11.0]            0.0           0.0           0.0           0.0   \n",
       "...                           ...           ...           ...           ...   \n",
       "male   (71.0, 73.0]           0.0           0.0           0.0           0.0   \n",
       "       (73.0, 75.0]           0.0           0.0           0.0           0.0   \n",
       "       (75.0, 77.0]           0.0           0.0           0.0           0.0   \n",
       "       (77.0, 79.0]           0.0           0.0           0.0           0.0   \n",
       "       (79.0, 81.0]           0.0           0.0           0.0           0.0   \n",
       "\n",
       "age_bin              (18.5, 19.5]  (19.5, 20.5]  (20.5, 21.5]  (21.5, 22.5]  \n",
       "sex    length_bin                                                            \n",
       "female (1.0, 3.0]             0.0           0.0           0.0           0.0  \n",
       "       (3.0, 5.0]             0.0           0.0           0.0           0.0  \n",
       "       (5.0, 7.0]             0.0           0.0           0.0           0.0  \n",
       "       (7.0, 9.0]             0.0           0.0           0.0           0.0  \n",
       "       (9.0, 11.0]            0.0           0.0           0.0           0.0  \n",
       "...                           ...           ...           ...           ...  \n",
       "male   (71.0, 73.0]           0.0           0.0           0.0           0.0  \n",
       "       (73.0, 75.0]           0.0           0.0           0.0           0.0  \n",
       "       (75.0, 77.0]           0.0           0.0           0.0           0.0  \n",
       "       (77.0, 79.0]           0.0           0.0           0.0           0.0  \n",
       "       (79.0, 81.0]           0.0           0.0           0.0           0.0  \n",
       "\n",
       "[80 rows x 22 columns]"
      ]
     },
     "execution_count": 61,
     "metadata": {},
     "output_type": "execute_result"
    }
   ],
   "source": [
    "survey.results['kriging']['tables'][ 'aged_tbl' ]"
   ]
  },
  {
   "cell_type": "markdown",
   "metadata": {},
   "source": [
    "Biomass distributed over length and sex for unaged fish:"
   ]
  },
  {
   "cell_type": "code",
   "execution_count": 65,
   "metadata": {},
   "outputs": [
    {
     "data": {
      "text/html": [
       "<div>\n",
       "<style scoped>\n",
       "    .dataframe tbody tr th:only-of-type {\n",
       "        vertical-align: middle;\n",
       "    }\n",
       "\n",
       "    .dataframe tbody tr th {\n",
       "        vertical-align: top;\n",
       "    }\n",
       "\n",
       "    .dataframe thead th {\n",
       "        text-align: right;\n",
       "    }\n",
       "</style>\n",
       "<table border=\"1\" class=\"dataframe\">\n",
       "  <thead>\n",
       "    <tr style=\"text-align: right;\">\n",
       "      <th>sex</th>\n",
       "      <th>female</th>\n",
       "      <th>male</th>\n",
       "    </tr>\n",
       "    <tr>\n",
       "      <th>length_bin</th>\n",
       "      <th></th>\n",
       "      <th></th>\n",
       "    </tr>\n",
       "  </thead>\n",
       "  <tbody>\n",
       "    <tr>\n",
       "      <th>(1.0, 3.0]</th>\n",
       "      <td>0.000000e+00</td>\n",
       "      <td>0.000000e+00</td>\n",
       "    </tr>\n",
       "    <tr>\n",
       "      <th>(3.0, 5.0]</th>\n",
       "      <td>0.000000e+00</td>\n",
       "      <td>0.000000e+00</td>\n",
       "    </tr>\n",
       "    <tr>\n",
       "      <th>(5.0, 7.0]</th>\n",
       "      <td>0.000000e+00</td>\n",
       "      <td>0.000000e+00</td>\n",
       "    </tr>\n",
       "    <tr>\n",
       "      <th>(7.0, 9.0]</th>\n",
       "      <td>0.000000e+00</td>\n",
       "      <td>0.000000e+00</td>\n",
       "    </tr>\n",
       "    <tr>\n",
       "      <th>(9.0, 11.0]</th>\n",
       "      <td>0.000000e+00</td>\n",
       "      <td>0.000000e+00</td>\n",
       "    </tr>\n",
       "    <tr>\n",
       "      <th>(11.0, 13.0]</th>\n",
       "      <td>0.000000e+00</td>\n",
       "      <td>0.000000e+00</td>\n",
       "    </tr>\n",
       "    <tr>\n",
       "      <th>(13.0, 15.0]</th>\n",
       "      <td>0.000000e+00</td>\n",
       "      <td>0.000000e+00</td>\n",
       "    </tr>\n",
       "    <tr>\n",
       "      <th>(15.0, 17.0]</th>\n",
       "      <td>0.000000e+00</td>\n",
       "      <td>0.000000e+00</td>\n",
       "    </tr>\n",
       "    <tr>\n",
       "      <th>(17.0, 19.0]</th>\n",
       "      <td>5.703125e+03</td>\n",
       "      <td>6.802037e+03</td>\n",
       "    </tr>\n",
       "    <tr>\n",
       "      <th>(19.0, 21.0]</th>\n",
       "      <td>1.400938e+06</td>\n",
       "      <td>1.628223e+06</td>\n",
       "    </tr>\n",
       "    <tr>\n",
       "      <th>(21.0, 23.0]</th>\n",
       "      <td>5.202123e+06</td>\n",
       "      <td>5.949636e+06</td>\n",
       "    </tr>\n",
       "    <tr>\n",
       "      <th>(23.0, 25.0]</th>\n",
       "      <td>3.693883e+06</td>\n",
       "      <td>4.001951e+06</td>\n",
       "    </tr>\n",
       "    <tr>\n",
       "      <th>(25.0, 27.0]</th>\n",
       "      <td>8.927971e+05</td>\n",
       "      <td>8.808627e+05</td>\n",
       "    </tr>\n",
       "    <tr>\n",
       "      <th>(27.0, 29.0]</th>\n",
       "      <td>1.269599e+06</td>\n",
       "      <td>1.246869e+06</td>\n",
       "    </tr>\n",
       "    <tr>\n",
       "      <th>(29.0, 31.0]</th>\n",
       "      <td>3.859624e+06</td>\n",
       "      <td>3.475295e+06</td>\n",
       "    </tr>\n",
       "    <tr>\n",
       "      <th>(31.0, 33.0]</th>\n",
       "      <td>8.193509e+06</td>\n",
       "      <td>7.553885e+06</td>\n",
       "    </tr>\n",
       "    <tr>\n",
       "      <th>(33.0, 35.0]</th>\n",
       "      <td>1.152067e+07</td>\n",
       "      <td>1.162574e+07</td>\n",
       "    </tr>\n",
       "    <tr>\n",
       "      <th>(35.0, 37.0]</th>\n",
       "      <td>2.024740e+07</td>\n",
       "      <td>2.141594e+07</td>\n",
       "    </tr>\n",
       "    <tr>\n",
       "      <th>(37.0, 39.0]</th>\n",
       "      <td>4.578233e+07</td>\n",
       "      <td>4.873872e+07</td>\n",
       "    </tr>\n",
       "    <tr>\n",
       "      <th>(39.0, 41.0]</th>\n",
       "      <td>1.125504e+08</td>\n",
       "      <td>1.203944e+08</td>\n",
       "    </tr>\n",
       "    <tr>\n",
       "      <th>(41.0, 43.0]</th>\n",
       "      <td>1.559804e+08</td>\n",
       "      <td>1.664774e+08</td>\n",
       "    </tr>\n",
       "    <tr>\n",
       "      <th>(43.0, 45.0]</th>\n",
       "      <td>1.465955e+08</td>\n",
       "      <td>1.534172e+08</td>\n",
       "    </tr>\n",
       "    <tr>\n",
       "      <th>(45.0, 47.0]</th>\n",
       "      <td>8.930276e+07</td>\n",
       "      <td>8.673495e+07</td>\n",
       "    </tr>\n",
       "    <tr>\n",
       "      <th>(47.0, 49.0]</th>\n",
       "      <td>5.525989e+07</td>\n",
       "      <td>4.462383e+07</td>\n",
       "    </tr>\n",
       "    <tr>\n",
       "      <th>(49.0, 51.0]</th>\n",
       "      <td>3.392202e+07</td>\n",
       "      <td>2.102213e+07</td>\n",
       "    </tr>\n",
       "    <tr>\n",
       "      <th>(51.0, 53.0]</th>\n",
       "      <td>2.515778e+07</td>\n",
       "      <td>1.027499e+07</td>\n",
       "    </tr>\n",
       "    <tr>\n",
       "      <th>(53.0, 55.0]</th>\n",
       "      <td>1.913040e+07</td>\n",
       "      <td>5.890606e+06</td>\n",
       "    </tr>\n",
       "    <tr>\n",
       "      <th>(55.0, 57.0]</th>\n",
       "      <td>1.496758e+07</td>\n",
       "      <td>4.015732e+06</td>\n",
       "    </tr>\n",
       "    <tr>\n",
       "      <th>(57.0, 59.0]</th>\n",
       "      <td>1.288600e+07</td>\n",
       "      <td>3.508466e+06</td>\n",
       "    </tr>\n",
       "    <tr>\n",
       "      <th>(59.0, 61.0]</th>\n",
       "      <td>1.090508e+07</td>\n",
       "      <td>3.089305e+06</td>\n",
       "    </tr>\n",
       "    <tr>\n",
       "      <th>(61.0, 63.0]</th>\n",
       "      <td>3.358786e+06</td>\n",
       "      <td>1.011261e+06</td>\n",
       "    </tr>\n",
       "    <tr>\n",
       "      <th>(63.0, 65.0]</th>\n",
       "      <td>3.544112e+06</td>\n",
       "      <td>1.369389e+06</td>\n",
       "    </tr>\n",
       "    <tr>\n",
       "      <th>(65.0, 67.0]</th>\n",
       "      <td>1.444376e+06</td>\n",
       "      <td>1.093341e+06</td>\n",
       "    </tr>\n",
       "    <tr>\n",
       "      <th>(67.0, 69.0]</th>\n",
       "      <td>1.510414e+06</td>\n",
       "      <td>7.176171e+05</td>\n",
       "    </tr>\n",
       "    <tr>\n",
       "      <th>(69.0, 71.0]</th>\n",
       "      <td>1.360164e+06</td>\n",
       "      <td>8.776033e+05</td>\n",
       "    </tr>\n",
       "    <tr>\n",
       "      <th>(71.0, 73.0]</th>\n",
       "      <td>1.096553e+06</td>\n",
       "      <td>7.073947e+05</td>\n",
       "    </tr>\n",
       "    <tr>\n",
       "      <th>(73.0, 75.0]</th>\n",
       "      <td>3.236632e+05</td>\n",
       "      <td>3.486269e+05</td>\n",
       "    </tr>\n",
       "    <tr>\n",
       "      <th>(75.0, 77.0]</th>\n",
       "      <td>7.041512e+05</td>\n",
       "      <td>7.584613e+05</td>\n",
       "    </tr>\n",
       "    <tr>\n",
       "      <th>(77.0, 79.0]</th>\n",
       "      <td>0.000000e+00</td>\n",
       "      <td>0.000000e+00</td>\n",
       "    </tr>\n",
       "    <tr>\n",
       "      <th>(79.0, 81.0]</th>\n",
       "      <td>0.000000e+00</td>\n",
       "      <td>0.000000e+00</td>\n",
       "    </tr>\n",
       "  </tbody>\n",
       "</table>\n",
       "</div>"
      ],
      "text/plain": [
       "sex                 female          male\n",
       "length_bin                              \n",
       "(1.0, 3.0]    0.000000e+00  0.000000e+00\n",
       "(3.0, 5.0]    0.000000e+00  0.000000e+00\n",
       "(5.0, 7.0]    0.000000e+00  0.000000e+00\n",
       "(7.0, 9.0]    0.000000e+00  0.000000e+00\n",
       "(9.0, 11.0]   0.000000e+00  0.000000e+00\n",
       "(11.0, 13.0]  0.000000e+00  0.000000e+00\n",
       "(13.0, 15.0]  0.000000e+00  0.000000e+00\n",
       "(15.0, 17.0]  0.000000e+00  0.000000e+00\n",
       "(17.0, 19.0]  5.703125e+03  6.802037e+03\n",
       "(19.0, 21.0]  1.400938e+06  1.628223e+06\n",
       "(21.0, 23.0]  5.202123e+06  5.949636e+06\n",
       "(23.0, 25.0]  3.693883e+06  4.001951e+06\n",
       "(25.0, 27.0]  8.927971e+05  8.808627e+05\n",
       "(27.0, 29.0]  1.269599e+06  1.246869e+06\n",
       "(29.0, 31.0]  3.859624e+06  3.475295e+06\n",
       "(31.0, 33.0]  8.193509e+06  7.553885e+06\n",
       "(33.0, 35.0]  1.152067e+07  1.162574e+07\n",
       "(35.0, 37.0]  2.024740e+07  2.141594e+07\n",
       "(37.0, 39.0]  4.578233e+07  4.873872e+07\n",
       "(39.0, 41.0]  1.125504e+08  1.203944e+08\n",
       "(41.0, 43.0]  1.559804e+08  1.664774e+08\n",
       "(43.0, 45.0]  1.465955e+08  1.534172e+08\n",
       "(45.0, 47.0]  8.930276e+07  8.673495e+07\n",
       "(47.0, 49.0]  5.525989e+07  4.462383e+07\n",
       "(49.0, 51.0]  3.392202e+07  2.102213e+07\n",
       "(51.0, 53.0]  2.515778e+07  1.027499e+07\n",
       "(53.0, 55.0]  1.913040e+07  5.890606e+06\n",
       "(55.0, 57.0]  1.496758e+07  4.015732e+06\n",
       "(57.0, 59.0]  1.288600e+07  3.508466e+06\n",
       "(59.0, 61.0]  1.090508e+07  3.089305e+06\n",
       "(61.0, 63.0]  3.358786e+06  1.011261e+06\n",
       "(63.0, 65.0]  3.544112e+06  1.369389e+06\n",
       "(65.0, 67.0]  1.444376e+06  1.093341e+06\n",
       "(67.0, 69.0]  1.510414e+06  7.176171e+05\n",
       "(69.0, 71.0]  1.360164e+06  8.776033e+05\n",
       "(71.0, 73.0]  1.096553e+06  7.073947e+05\n",
       "(73.0, 75.0]  3.236632e+05  3.486269e+05\n",
       "(75.0, 77.0]  7.041512e+05  7.584613e+05\n",
       "(77.0, 79.0]  0.000000e+00  0.000000e+00\n",
       "(79.0, 81.0]  0.000000e+00  0.000000e+00"
      ]
     },
     "execution_count": 65,
     "metadata": {},
     "output_type": "execute_result"
    }
   ],
   "source": [
    "survey.results['kriging']['tables']['unaged_tbl']"
   ]
  },
  {
   "cell_type": "markdown",
   "metadata": {},
   "source": [
    "Combined biomass from both the aged and unaged fish distributed over length, age, and sex: "
   ]
  },
  {
   "cell_type": "code",
   "execution_count": 64,
   "metadata": {},
   "outputs": [
    {
     "data": {
      "text/html": [
       "<div>\n",
       "<style scoped>\n",
       "    .dataframe tbody tr th:only-of-type {\n",
       "        vertical-align: middle;\n",
       "    }\n",
       "\n",
       "    .dataframe tbody tr th {\n",
       "        vertical-align: top;\n",
       "    }\n",
       "\n",
       "    .dataframe thead th {\n",
       "        text-align: right;\n",
       "    }\n",
       "</style>\n",
       "<table border=\"1\" class=\"dataframe\">\n",
       "  <thead>\n",
       "    <tr style=\"text-align: right;\">\n",
       "      <th></th>\n",
       "      <th>age_bin</th>\n",
       "      <th>sex</th>\n",
       "      <th>length_bin</th>\n",
       "      <th>biomass_apportioned</th>\n",
       "    </tr>\n",
       "  </thead>\n",
       "  <tbody>\n",
       "    <tr>\n",
       "      <th>0</th>\n",
       "      <td>(0.5, 1.5]</td>\n",
       "      <td>all</td>\n",
       "      <td>(1.0, 3.0]</td>\n",
       "      <td>0.0</td>\n",
       "    </tr>\n",
       "    <tr>\n",
       "      <th>1</th>\n",
       "      <td>(0.5, 1.5]</td>\n",
       "      <td>female</td>\n",
       "      <td>(1.0, 3.0]</td>\n",
       "      <td>0.0</td>\n",
       "    </tr>\n",
       "    <tr>\n",
       "      <th>2</th>\n",
       "      <td>(0.5, 1.5]</td>\n",
       "      <td>male</td>\n",
       "      <td>(1.0, 3.0]</td>\n",
       "      <td>0.0</td>\n",
       "    </tr>\n",
       "    <tr>\n",
       "      <th>3</th>\n",
       "      <td>(1.5, 2.5]</td>\n",
       "      <td>all</td>\n",
       "      <td>(1.0, 3.0]</td>\n",
       "      <td>0.0</td>\n",
       "    </tr>\n",
       "    <tr>\n",
       "      <th>4</th>\n",
       "      <td>(1.5, 2.5]</td>\n",
       "      <td>female</td>\n",
       "      <td>(1.0, 3.0]</td>\n",
       "      <td>0.0</td>\n",
       "    </tr>\n",
       "    <tr>\n",
       "      <th>...</th>\n",
       "      <td>...</td>\n",
       "      <td>...</td>\n",
       "      <td>...</td>\n",
       "      <td>...</td>\n",
       "    </tr>\n",
       "    <tr>\n",
       "      <th>2635</th>\n",
       "      <td>(20.5, 21.5]</td>\n",
       "      <td>female</td>\n",
       "      <td>(79.0, 81.0]</td>\n",
       "      <td>0.0</td>\n",
       "    </tr>\n",
       "    <tr>\n",
       "      <th>2636</th>\n",
       "      <td>(20.5, 21.5]</td>\n",
       "      <td>male</td>\n",
       "      <td>(79.0, 81.0]</td>\n",
       "      <td>0.0</td>\n",
       "    </tr>\n",
       "    <tr>\n",
       "      <th>2637</th>\n",
       "      <td>(21.5, 22.5]</td>\n",
       "      <td>all</td>\n",
       "      <td>(79.0, 81.0]</td>\n",
       "      <td>0.0</td>\n",
       "    </tr>\n",
       "    <tr>\n",
       "      <th>2638</th>\n",
       "      <td>(21.5, 22.5]</td>\n",
       "      <td>female</td>\n",
       "      <td>(79.0, 81.0]</td>\n",
       "      <td>0.0</td>\n",
       "    </tr>\n",
       "    <tr>\n",
       "      <th>2639</th>\n",
       "      <td>(21.5, 22.5]</td>\n",
       "      <td>male</td>\n",
       "      <td>(79.0, 81.0]</td>\n",
       "      <td>0.0</td>\n",
       "    </tr>\n",
       "  </tbody>\n",
       "</table>\n",
       "<p>2640 rows × 4 columns</p>\n",
       "</div>"
      ],
      "text/plain": [
       "           age_bin     sex    length_bin  biomass_apportioned\n",
       "0       (0.5, 1.5]     all    (1.0, 3.0]                  0.0\n",
       "1       (0.5, 1.5]  female    (1.0, 3.0]                  0.0\n",
       "2       (0.5, 1.5]    male    (1.0, 3.0]                  0.0\n",
       "3       (1.5, 2.5]     all    (1.0, 3.0]                  0.0\n",
       "4       (1.5, 2.5]  female    (1.0, 3.0]                  0.0\n",
       "...            ...     ...           ...                  ...\n",
       "2635  (20.5, 21.5]  female  (79.0, 81.0]                  0.0\n",
       "2636  (20.5, 21.5]    male  (79.0, 81.0]                  0.0\n",
       "2637  (21.5, 22.5]     all  (79.0, 81.0]                  0.0\n",
       "2638  (21.5, 22.5]  female  (79.0, 81.0]                  0.0\n",
       "2639  (21.5, 22.5]    male  (79.0, 81.0]                  0.0\n",
       "\n",
       "[2640 rows x 4 columns]"
      ]
     },
     "execution_count": 64,
     "metadata": {},
     "output_type": "execute_result"
    }
   ],
   "source": [
    "survey.results['kriging']['tables']['overall_apportionment_df']"
   ]
  },
  {
   "cell_type": "markdown",
   "metadata": {},
   "source": [
    "Now that the kriging results are computed, they can then be used to parameterize `Survey.stratified_analysis( dataset = 'kriging' , ...)` to conduct the stratified resampling analysis: "
   ]
  },
  {
   "cell_type": "code",
   "execution_count": 33,
   "metadata": {},
   "outputs": [
    {
     "name": "stdout",
     "output_type": "stream",
     "text": [
      "\n",
      "    --------------------------------\n",
      "    STRATIFIED RESULTS (KRIGING)\n",
      "    --------------------------------\n",
      "    | Stratified variable: Biomass (kmt)\n",
      "    | Number of virtual transects: 102\n",
      "    | Total strata area coverage: 35289.9 nmi^2\n",
      "    | Age-1 fish excluded: True\n",
      "    | Stratum definition: INPFC\n",
      "    | Bootstrap replicates: 10000 samples\n",
      "    | Resampling proportion: 0.75\n",
      "    --------------------------------\n",
      "    STRATUM-SPECIFIC ESTIMATES\n",
      "    --------------------------------\n",
      "    _coming soon_\n",
      "    --------------------------------\n",
      "    GENERAL RESULTS\n",
      "    --------------------------------\n",
      "    CV: 0.1373 [0.1301, 0.1445; 95% CI]\n",
      "    Total (across sub-sampled transects): 1230.7 kmt [1098.4, 1363.0; 95% CI]\n",
      "          (back-transformed): 1640.9 kmt [1464.5, 1817.3; 95% CI]\n",
      "    Mean (across sub-sampled transects):        191.4 kmt [162.8, 220.0; 95% CI]\n",
      "    --------------------------------\n"
     ]
    }
   ],
   "source": [
    "survey.stratified_analysis( 'kriging' )"
   ]
  },
  {
   "cell_type": "markdown",
   "metadata": {},
   "source": [
    "## **Other 'useful' features**"
   ]
  },
  {
   "cell_type": "markdown",
   "metadata": {},
   "source": [
    "Although a summary of the results are printed in the console when `verbose = True`, it is a bit obnoxious to have to re-run the entire analysis to re-generate the same message. This is addressed via the `Survey.summary(...)` method that comprises a single input: \n",
    "* `results_name (string)`: this is the name of the analysis results that should be printed into the console. This can either be formatted as a single input name (e.g. 'transect' , 'kriging') or a nested/layered variable (e.g. 'stratified:transect') where a colon (':') is used as the delimiter that separates the two result layer names."
   ]
  },
  {
   "cell_type": "code",
   "execution_count": 34,
   "metadata": {},
   "outputs": [
    {
     "name": "stdout",
     "output_type": "stream",
     "text": [
      "\n",
      "    --------------------------------\n",
      "    TRANSECT RESULTS\n",
      "    --------------------------------\n",
      "    | Variable: Biomass (kmt)\n",
      "    | Age-1 fish excluded: True\n",
      "    | Stratum definition: KS\n",
      "    --------------------------------\n",
      "    GENERAL RESULTS\n",
      "    --------------------------------\n",
      "    Total biomass: 1651.1 kmt\n",
      "        Age-1: 7.9 kmt\n",
      "        Age-2+: 1643.2 kmt\n",
      "    Total female biomass: 832.2 kmt\n",
      "        Age-1: 4.0 kmt\n",
      "        Age-2+: 828.2 kmt\n",
      "    Total male biomass: 818.5 kmt\n",
      "        Age-1: 3.9 kmt\n",
      "        Age-2+: 814.6 kmt\n",
      "    Total unsexed biomass: 0.4 kmt\n",
      "    Total mixed biomass: 36.8 kmt\n",
      "    --------------------------------\n"
     ]
    }
   ],
   "source": [
    "survey.summary( 'transect' )"
   ]
  },
  {
   "cell_type": "code",
   "execution_count": 35,
   "metadata": {},
   "outputs": [
    {
     "name": "stdout",
     "output_type": "stream",
     "text": [
      "\n",
      "    --------------------------------\n",
      "    STRATIFIED RESULTS (KRIGING)\n",
      "    --------------------------------\n",
      "    | Stratified variable: Biomass (kmt)\n",
      "    | Number of virtual transects: 113\n",
      "    | Total strata area coverage: 53509.0 nmi^2\n",
      "    | Age-1 fish excluded: True\n",
      "    | Stratum definition: INPFC\n",
      "    | Bootstrap replicates: 10000 samples\n",
      "    | Resampling proportion: 0.75\n",
      "    --------------------------------\n",
      "    STRATUM-SPECIFIC ESTIMATES\n",
      "    --------------------------------\n",
      "    _coming soon_\n",
      "    --------------------------------\n",
      "    GENERAL RESULTS\n",
      "    --------------------------------\n",
      "    CV: 0.1328 [0.1239, 0.1417; 95% CI]\n",
      "    Total (across sub-sampled transects): 1227.9 kmt [1074.9, 1380.9; 95% CI]\n",
      "          (back-transformed): 1637.2 kmt [1433.2, 1841.2; 95% CI]\n",
      "    Mean (across sub-sampled transects):        203.5 kmt [172.2, 234.7; 95% CI]\n",
      "    --------------------------------\n"
     ]
    }
   ],
   "source": [
    "survey.summary( 'stratified:transect' )"
   ]
  },
  {
   "cell_type": "code",
   "execution_count": 36,
   "metadata": {},
   "outputs": [
    {
     "name": "stdout",
     "output_type": "stream",
     "text": [
      "\n",
      "    --------------------------------\n",
      "    STRATIFIED RESULTS (KRIGING)\n",
      "    --------------------------------\n",
      "    | Stratified variable: Biomass (kmt)\n",
      "    | Number of virtual transects: 102\n",
      "    | Total strata area coverage: 35289.9 nmi^2\n",
      "    | Age-1 fish excluded: True\n",
      "    | Stratum definition: INPFC\n",
      "    | Bootstrap replicates: 10000 samples\n",
      "    | Resampling proportion: 0.75\n",
      "    --------------------------------\n",
      "    STRATUM-SPECIFIC ESTIMATES\n",
      "    --------------------------------\n",
      "    _coming soon_\n",
      "    --------------------------------\n",
      "    GENERAL RESULTS\n",
      "    --------------------------------\n",
      "    CV: 0.1373 [0.1301, 0.1445; 95% CI]\n",
      "    Total (across sub-sampled transects): 1230.7 kmt [1098.4, 1363.0; 95% CI]\n",
      "          (back-transformed): 1640.9 kmt [1464.5, 1817.3; 95% CI]\n",
      "    Mean (across sub-sampled transects):        191.4 kmt [162.8, 220.0; 95% CI]\n",
      "    --------------------------------\n"
     ]
    }
   ],
   "source": [
    "survey.summary( 'stratified:kriging' )"
   ]
  },
  {
   "cell_type": "code",
   "execution_count": 37,
   "metadata": {},
   "outputs": [
    {
     "name": "stdout",
     "output_type": "stream",
     "text": [
      "\n",
      "    --------------------------------\n",
      "    KRIGING RESULTS (MESH)\n",
      "    --------------------------------\n",
      "    | Kriged variable: Biomass density (kg/nmi^2)\n",
      "    | Age-1 fish excluded: True\n",
      "    | Stratum definition: KS\n",
      "    | Mesh extrapolation: False\n",
      "    --- Mesh cropping method: Interpolation\n",
      "    | Mesh and transect coordinate standardization: True\n",
      "    --------------------------------\n",
      "    GENERAL RESULTS\n",
      "    --------------------------------\n",
      "    Mean biomass density: 27812.73 kg/nmi^2\n",
      "    Total survey biomass estimate: 1644.73 kmt\n",
      "    Mean mesh sample CV: 0.0255\n",
      "    Overall survey CV: 0.0283\n",
      "    Total area coverage: 58186.9 nmi^2\n",
      "   --------------------------------\n"
     ]
    }
   ],
   "source": [
    "survey.summary( 'kriging' )"
   ]
  }
 ],
 "metadata": {
  "kernelspec": {
   "display_name": "echopop_3_12",
   "language": "python",
   "name": "python3"
  },
  "language_info": {
   "codemirror_mode": {
    "name": "ipython",
    "version": 3
   },
   "file_extension": ".py",
   "mimetype": "text/x-python",
   "name": "python",
   "nbconvert_exporter": "python",
   "pygments_lexer": "ipython3",
   "version": "3.12.2"
  }
 },
 "nbformat": 4,
 "nbformat_minor": 2
}
