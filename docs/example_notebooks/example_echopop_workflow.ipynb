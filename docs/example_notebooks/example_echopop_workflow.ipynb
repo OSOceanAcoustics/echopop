{
 "cells": [
  {
   "cell_type": "markdown",
   "metadata": {},
   "source": [
    "# **Example overview of the `echopop` dataflow**"
   ]
  },
  {
   "cell_type": "markdown",
   "metadata": {},
   "source": [
    "## **`Survey`-class initialization**\n",
    "\n",
    "Import the latest version of `echopop`."
   ]
  },
  {
   "cell_type": "code",
   "execution_count": 1,
   "metadata": {},
   "outputs": [],
   "source": [
    "import pprint\n",
    "\n",
    "from echopop.survey import Survey"
   ]
  },
  {
   "cell_type": "markdown",
   "metadata": {},
   "source": [
    "Initialize the `Survey` object by loading in input data (`Survey.input`) and configuration settings (`Survey.config`). The former reads in data from all the defined input files contained within the `./config_files/survey_year_2019_config.yml` configuration file. The latter reads in various arguments as well as the file paths that point to the input files. "
   ]
  },
  {
   "cell_type": "code",
   "execution_count": 2,
   "metadata": {},
   "outputs": [],
   "source": [
    "survey = Survey( init_config_path = \"C:/Users/Brandyn/Documents/GitHub/echopop/config_files/initialization_config.yml\" ,\n",
    "                 survey_year_config_path = \"C:/Users/Brandyn/Documents/GitHub/echopop/config_files/survey_year_2019_config.yml\" )"
   ]
  },
  {
   "cell_type": "markdown",
   "metadata": {},
   "source": [
    "Not only are all the necessary acoustic, biological, kriging, and stratification data imported and contained with `survey`, but they can also be parsed in a relatively straightforward manner. There are five `Survey`-class attributes to be aware of: \n",
    "* `Survey.meta`: this is currently undeveloped, but this is where necessary information such as the date the object was created and general data workflow/provenance would be collected.\n",
    "* `Survey.config`: this stores the background configuration settings. \n",
    "* `Survey.input`: this contains the imported acoustic, biological, kriging, and stratification data. This can be further investigated via the various nested dictionaries that correspond to specific types of dataset. \n",
    "* `Survey.analysis`: this is the working directory that contains relevant intermediate data productions and calculations that may be of interest to the user and/or are required for later calculations. \n",
    "* `Survey.results`: this stores the overall results each analysis. \n",
    "  \n",
    "## **Initial data processing**\n",
    "\n",
    "**`Survey.meta`**\n",
    "\n",
    "As previously mentioned, `Survey.meta` is undeveloped, but the `provenance` key will be iteratively updated with the performed analyses. Additional metadata can also be appended to this attribute."
   ]
  },
  {
   "cell_type": "code",
   "execution_count": 3,
   "metadata": {},
   "outputs": [
    {
     "name": "stdout",
     "output_type": "stream",
     "text": [
      "{'date': '2024-05-31 18:23:15', 'provenance': {}}\n"
     ]
    }
   ],
   "source": [
    "pprint.pprint( survey.meta )"
   ]
  },
  {
   "cell_type": "markdown",
   "metadata": {},
   "source": [
    "**`Survey.config`**\n",
    "\n",
    "This attribute contains a variety of nested dictionaries that help to organize the entries in an intentional format that ideally minimizes ambiguity on how to access the associated values. Accessible dictionaries can be listed via `survey.config.keys()`:"
   ]
  },
  {
   "cell_type": "code",
   "execution_count": 4,
   "metadata": {},
   "outputs": [
    {
     "data": {
      "text/plain": [
       "dict_keys(['stratified_survey_mean_parameters', 'TS_length_regression_parameters', 'geospatial', 'survey_year', 'species', 'CAN_haul_offset', 'data_root_dir', 'biological', 'stratification', 'NASC', 'kriging'])"
      ]
     },
     "execution_count": 4,
     "metadata": {},
     "output_type": "execute_result"
    }
   ],
   "source": [
    "survey.config.keys( )"
   ]
  },
  {
   "cell_type": "markdown",
   "metadata": {},
   "source": [
    "The overall dictionary structure of `self.config` can also be accessed. Although not required for printing out the values in this attribute, the `pprint` library is helpful for formatting nested dictionaries into a legible format in both the console and interactive notebooks. "
   ]
  },
  {
   "cell_type": "code",
   "execution_count": 5,
   "metadata": {},
   "outputs": [
    {
     "name": "stdout",
     "output_type": "stream",
     "text": [
      "{'CAN_haul_offset': 200,\n",
      " 'NASC': {'all_ages': {'filename': 'Exports/US_CAN_detailsa_2019_table1y+_ALL_final '\n",
      "                                   '- updated.xlsx',\n",
      "                       'sheetname': 'Sheet1'},\n",
      "          'no_age1': {'filename': 'Exports/US_CAN_detailsa_2019_table2y+_ALL_final '\n",
      "                                  '- updated.xlsx',\n",
      "                      'sheetname': 'Sheet1'}},\n",
      " 'TS_length_regression_parameters': {'pacific_hake': {'TS_L_intercept': -68.0,\n",
      "                                                      'TS_L_slope': 20.0,\n",
      "                                                      'length_units': 'cm',\n",
      "                                                      'number_code': 22500}},\n",
      " 'biological': {'catch': {'CAN': {'filename': 'Biological/CAN/2019_biodata_catch_CAN.xlsx',\n",
      "                                  'sheetname': 'biodata_catch_CAN'},\n",
      "                          'US': {'filename': 'Biological/US/2019_biodata_catch.xlsx',\n",
      "                                 'sheetname': 'biodata_catch'}},\n",
      "                'haul_to_transect': {'CAN': {'filename': 'Biological/CAN/haul_to_transect_mapping_2019_CAN.xlsx',\n",
      "                                             'sheetname': 'Sheet1'},\n",
      "                                     'US': {'filename': 'Biological/US/haul_to_transect_mapping_2019.xlsx',\n",
      "                                            'sheetname': 'Sheet1'}},\n",
      "                'length': {'CAN': {'filename': 'Biological/CAN/2019_biodata_length_CAN.xlsx',\n",
      "                                   'sheetname': 'biodata_length_CAN'},\n",
      "                           'US': {'filename': 'Biological/US/2019_biodata_length.xlsx',\n",
      "                                  'sheetname': 'biodata_length'}},\n",
      "                'specimen': {'CAN': {'filename': 'Biological/CAN/2019_biodata_specimen_CAN_AGES.xlsx',\n",
      "                                     'sheetname': 'biodata_specimen_CAN'},\n",
      "                             'US': {'filename': 'Biological/US/2019_biodata_specimen_AGES.xlsx',\n",
      "                                    'sheetname': 'biodata_specimen'}}},\n",
      " 'data_root_dir': 'C:/Users/Brandyn/Documents/GitHub/EchoPro_data/2019_consolidated_files',\n",
      " 'geospatial': {'init': 'epsg:4326'},\n",
      " 'kriging': {'isobath_200m': {'filename': 'Kriging_files/Kriging_grid_files/transformation_isobath_coordinates.xlsx',\n",
      "                              'sheetname': 'Smoothing_EasyKrig'},\n",
      "             'mesh': {'filename': 'Kriging_files/Kriging_grid_files/krig_grid2_5nm_cut_centroids_2013.xlsx',\n",
      "                      'sheetname': 'krigedgrid2_5nm_forChu'},\n",
      "             'vario_krig_para': {'filename': 'Kriging_files/default_vario_krig_settings_2019_US_CAN.xlsx',\n",
      "                                 'sheetname': 'Sheet1'}},\n",
      " 'species': {'number_code': 22500, 'text_code': 'pacific_hake'},\n",
      " 'stratification': {'geo_strata': {'filename': 'Stratification/Stratification_geographic_Lat_2019_final.xlsx',\n",
      "                                   'sheetname': ['INPFC', 'stratification1']},\n",
      "                    'strata': {'filename': 'Stratification/US_CAN strata '\n",
      "                                           '2019_final.xlsx',\n",
      "                               'sheetname': 'Base KS'}},\n",
      " 'stratified_survey_mean_parameters': {'mesh_transects_per_latitude': 5,\n",
      "                                       'num_replicates': 10000,\n",
      "                                       'strata_transect_proportion': 0.75},\n",
      " 'survey_year': 2019}\n"
     ]
    }
   ],
   "source": [
    "pprint.pprint( survey.config )"
   ]
  },
  {
   "cell_type": "markdown",
   "metadata": {},
   "source": [
    "**`Survey.input`**\n",
    "\n",
    "Similar to `Survey.config`, the input data are grouped into various nested dictionaries. Data contained within the `Survey.input` attribute are specifically stored in four general nested dictionaries: `acoustics`, `biology`, `spatial`, and `statistics`. "
   ]
  },
  {
   "cell_type": "code",
   "execution_count": 6,
   "metadata": {},
   "outputs": [
    {
     "data": {
      "text/plain": [
       "dict_keys(['acoustics', 'biology', 'spatial', 'statistics'])"
      ]
     },
     "execution_count": 6,
     "metadata": {},
     "output_type": "execute_result"
    }
   ],
   "source": [
    "survey.input.keys()"
   ]
  },
  {
   "cell_type": "markdown",
   "metadata": {},
   "source": [
    "This results in the following branched data structure for `Survey.input`:\n",
    "* `acoustics`\n",
    "  * `nasc_df`: acoustic trawl data (all age and age-2+ NASC)\n",
    "* `biology`\n",
    "  * `catch_df`: unaged haul weight totals\n",
    "  * `distributions`\n",
    "    * `age_bins_df`: age distribution histogram bins\n",
    "    * `length_bins_df`: length distribution histogram bins\n",
    "  * `haul_to_transect_df`: haul-to-transect key that links haul numbers to their respective transects\n",
    "  * `length_df`: unaged length measurements\n",
    "  * `specimen_df`: aged length and weight measurements\n",
    "* `spatial`\n",
    "  * `strata_df`: the `KS` stratum definitions and fraction of hake for each haul\n",
    "  * `geo_strata_df`: latitudinal limits of the `KS` strata\n",
    "  * `inpfc_strata_df`: the `INPFC` stratum definitions and their respective latitudinal limits\n",
    "* `statistics`\n",
    "  * `kriging`\n",
    "    * `mesh_df`: kriging mesh\n",
    "    * `isobath_200m_df`: 200 m isobath coordinates\n",
    "    * `model_config`: dictionary comprising all required arguments for the kriging analysis\n",
    "  * `variogram`\n",
    "    * `model_config`: dictionary comprising all required arguments for the variogram analysis"
   ]
  },
  {
   "cell_type": "markdown",
   "metadata": {},
   "source": [
    "## **`Survey.transect_analysis(...)`**\n",
    "\n",
    "`````{admonition} Type-hinting\n",
    ":class: tip\n",
    "Hover your cursor over the various functions included in the code blocks below to get additional type hints and context for usage\n",
    "`````\n",
    "\n",
    "The method `Survey.transect_analysis(...)` populates various analysis variables (`Survey.analysis`) and results (`Survey.results`). This class-method currently takes four user arguments:\n",
    "\n",
    "* `species_id (integer, list)`: the species number code(s) (default: `22500`)\n",
    "* `exclude_age1 (boolean)`: whether age-1 fish should be excluded from the analysis (default: `True`)\n",
    "* `stratum (string)`: the stratum used for the various acoustic and biological calculations (default: `'ks'`)\n",
    "* `verbose (boolean)`: dialogue messages will appear in the console including a summary report of the results when this is set to `True` (default: `True`) \n",
    "  \n",
    "This is the primary biological data processing workhorse that is further used for later analyses, such as computing the number and weight proportions across all animals."
   ]
  },
  {
   "cell_type": "code",
   "execution_count": 7,
   "metadata": {},
   "outputs": [
    {
     "name": "stdout",
     "output_type": "stream",
     "text": [
      "\n",
      "    --------------------------------\n",
      "    TRANSECT RESULTS\n",
      "    --------------------------------\n",
      "    | Variable: Biomass (kmt)\n",
      "    | Age-1 fish excluded: True\n",
      "    | Stratum definition: KS\n",
      "    --------------------------------\n",
      "    GENERAL RESULTS\n",
      "    --------------------------------\n",
      "    Total biomass: 1651.1 kmt\n",
      "        Age-1: 7.9 kmt\n",
      "        Age-2+: 1643.2 kmt\n",
      "    Total female biomass: 832.2 kmt\n",
      "        Age-1: 4.0 kmt\n",
      "        Age-2+: 828.2 kmt\n",
      "    Total male biomass: 818.5 kmt\n",
      "        Age-1: 3.9 kmt\n",
      "        Age-2+: 814.6 kmt\n",
      "    Total unsexed biomass: 0.4 kmt\n",
      "    Total mixed biomass: 36.8 kmt\n",
      "    --------------------------------\n"
     ]
    }
   ],
   "source": [
    "survey.transect_analysis( species_id = 22500 , exclude_age1 = True , stratum = 'ks' , verbose = True )"
   ]
  },
  {
   "cell_type": "markdown",
   "metadata": {},
   "source": [
    "A variety of intermediate data products are stored in `Survey.analysis` under currently four nested dictionaries: \n",
    "* `kriging`: intermediate results specific to the kriging analysis (`Survey.kriging_analysis(...)`)\n",
    "* `settings`: this provides a full recording of user-inputs and other variable definitions used for each analysis to improve replicability\n",
    "* `stratified`: intermediate results specific to the stratified sampling analysis (`Survey.stratified_analysis(...)`)\n",
    "* `transect`: intermediate results specific to the transect analysis (`Survey.transect_analysis(...)`)"
   ]
  },
  {
   "cell_type": "code",
   "execution_count": 8,
   "metadata": {},
   "outputs": [
    {
     "data": {
      "text/plain": [
       "dict_keys(['transect', 'settings', 'stratified'])"
      ]
     },
     "execution_count": 8,
     "metadata": {},
     "output_type": "execute_result"
    }
   ],
   "source": [
    "survey.analysis.keys( )"
   ]
  },
  {
   "cell_type": "markdown",
   "metadata": {},
   "source": [
    "Since `Survey.transect_analysis(...)` was ran, the specific arguments used for the analysis can be directly accessed via:"
   ]
  },
  {
   "cell_type": "code",
   "execution_count": 9,
   "metadata": {},
   "outputs": [
    {
     "name": "stdout",
     "output_type": "stream",
     "text": [
      "{'exclude_age1': True,\n",
      " 'species_id': 22500,\n",
      " 'stratum': 'ks',\n",
      " 'stratum_name': 'stratum_num'}\n"
     ]
    }
   ],
   "source": [
    "pprint.pprint( survey.analysis[ 'settings' ][ 'transect' ] )"
   ]
  },
  {
   "cell_type": "markdown",
   "metadata": {},
   "source": [
    "The intermediate data products can be similarly accessed under the `transect` dictionary within `Survey.analysis`: "
   ]
  },
  {
   "cell_type": "code",
   "execution_count": 10,
   "metadata": {},
   "outputs": [
    {
     "data": {
      "text/plain": [
       "dict_keys(['acoustics', 'biology', 'coordinates'])"
      ]
     },
     "execution_count": 10,
     "metadata": {},
     "output_type": "execute_result"
    }
   ],
   "source": [
    "survey.analysis[ 'transect' ].keys()"
   ]
  },
  {
   "cell_type": "markdown",
   "metadata": {},
   "source": [
    "The results from each analysis are then stored within the `Survey.results` attribute:"
   ]
  },
  {
   "cell_type": "code",
   "execution_count": 11,
   "metadata": {},
   "outputs": [
    {
     "data": {
      "text/plain": [
       "dict_keys(['transect', 'stratified', 'kriging'])"
      ]
     },
     "execution_count": 11,
     "metadata": {},
     "output_type": "execute_result"
    }
   ],
   "source": [
    "survey.results.keys()"
   ]
  },
  {
   "cell_type": "markdown",
   "metadata": {},
   "source": [
    "So we can generally glean all results recorded within `Survey.results` and also access those specific to `Survey.transect_analysis(...)` within `transect`:"
   ]
  },
  {
   "cell_type": "code",
   "execution_count": 12,
   "metadata": {},
   "outputs": [
    {
     "name": "stdout",
     "output_type": "stream",
     "text": [
      "{'kriging': {},\n",
      " 'stratified': {},\n",
      " 'transect': {'biomass_summary_df':        sex  biomass_adult  biomass_age1   biomass_all\n",
      "0      all   1.643215e+09  7.869992e+06  1.651085e+09\n",
      "1   female   8.282280e+08  3.950822e+06  8.321788e+08\n",
      "2     male   8.146258e+08  3.919170e+06  8.185449e+08\n",
      "3  unsexed   3.609296e+05  0.000000e+00  3.609296e+05\n",
      "4    mixed   3.680784e+07 -4.656613e-10  3.680784e+07}}\n"
     ]
    }
   ],
   "source": [
    "pprint.pprint( survey.results )"
   ]
  },
  {
   "cell_type": "code",
   "execution_count": 13,
   "metadata": {},
   "outputs": [
    {
     "data": {
      "text/plain": [
       "{'biomass_summary_df':        sex  biomass_adult  biomass_age1   biomass_all\n",
       " 0      all   1.643215e+09  7.869992e+06  1.651085e+09\n",
       " 1   female   8.282280e+08  3.950822e+06  8.321788e+08\n",
       " 2     male   8.146258e+08  3.919170e+06  8.185449e+08\n",
       " 3  unsexed   3.609296e+05  0.000000e+00  3.609296e+05\n",
       " 4    mixed   3.680784e+07 -4.656613e-10  3.680784e+07}"
      ]
     },
     "execution_count": 13,
     "metadata": {},
     "output_type": "execute_result"
    }
   ],
   "source": [
    "survey.results[ 'transect' ]"
   ]
  },
  {
   "cell_type": "markdown",
   "metadata": {},
   "source": [
    "## **`Survey.stratified_analysis(...)`**"
   ]
  },
  {
   "cell_type": "markdown",
   "metadata": {},
   "source": [
    "`Survey.stratified_analysis(...)` computes various stratified statistics, including the coefficient of variation (*CV*) estimates using the Jolly and Hampton (1990) stratified sampling method. There are a variety of arguments used for this function: \n",
    "* `dataset ('transect', 'kriging')`: data input selection (default: `'transect'`). This will use either the results of `Survey.transect_analysis(...)` or `Survey.kriging_analysis(...)`\n",
    "* `stratum ('ks','inpfc')`: the stratum used for the various acoustic and biological calculations (default: `'inpfc'`)\n",
    "* `variable( 'abundance' , 'biomass' , 'nasc')`: the data variable that will be used for the stratified resampling analysis (default: `'biomass'`)\n",
    "* `bootstrap_ci`: the confidence interval (default: `0.95`) used for copmuting the uncertainty intervals around population and coefficient of variation (*CV*) estimates\n",
    "* `bootstrap_ci_method`: the specific method/algorithm used for computing the bootstrap intervals (default: `'BCa'`)\n",
    "* `bootstrap_ci_method_alt`: an optional argument that provides an alternative `bootstrap_ci_method` in case of skewness issues\n",
    "* `bootstrap_adjust_bias`: a boolean argument (default: `True`) that determines whether the bootstrap intervals should be adjusted to account for the bootstrap bias\n",
    "* `verbose (boolean)`: dialogue messages will appear in the console including a summary report of the results when this is set to `True` (default: `True`)\n",
    "\n",
    "There are also analysis-specific optional arguments that are used depending on how `dataset` is defined:\n",
    "\n",
    "* `mesh_transect_per_latitude (integer)`: the number of virtual transects per degree latitude when `dataset = 'kriging'`\n",
    "* `transect_sample`: the resampling proportion used to resample transects within each stratum without replacement (default: inherits value from `Survey.config['stratified_survey_mean_parameters']`)\n",
    "* `transect_replicates`: the number of resampling iterations that will be run (default: inherits value from `Survey.config['stratified_survey_mean_parameters']`)\n"
   ]
  },
  {
   "cell_type": "code",
   "execution_count": 14,
   "metadata": {},
   "outputs": [
    {
     "ename": "TypeError",
     "evalue": "Survey.stratified_analysis() got an unexpected keyword argument 'bootstrap_method'",
     "output_type": "error",
     "traceback": [
      "\u001b[1;31m---------------------------------------------------------------------------\u001b[0m",
      "\u001b[1;31mTypeError\u001b[0m                                 Traceback (most recent call last)",
      "Cell \u001b[1;32mIn[14], line 1\u001b[0m\n\u001b[1;32m----> 1\u001b[0m \u001b[43msurvey\u001b[49m\u001b[38;5;241;43m.\u001b[39;49m\u001b[43mstratified_analysis\u001b[49m\u001b[43m(\u001b[49m\u001b[43m \u001b[49m\u001b[43mdataset\u001b[49m\u001b[43m \u001b[49m\u001b[38;5;241;43m=\u001b[39;49m\u001b[43m \u001b[49m\u001b[38;5;124;43m'\u001b[39;49m\u001b[38;5;124;43mtransect\u001b[39;49m\u001b[38;5;124;43m'\u001b[39;49m\u001b[43m \u001b[49m\u001b[43m,\u001b[49m\u001b[43m \u001b[49m\u001b[43mstratum\u001b[49m\u001b[43m \u001b[49m\u001b[38;5;241;43m=\u001b[39;49m\u001b[43m \u001b[49m\u001b[38;5;124;43m'\u001b[39;49m\u001b[38;5;124;43minpfc\u001b[39;49m\u001b[38;5;124;43m'\u001b[39;49m\u001b[43m \u001b[49m\u001b[43m,\u001b[49m\u001b[43m \u001b[49m\u001b[43mvariable\u001b[49m\u001b[43m \u001b[49m\u001b[38;5;241;43m=\u001b[39;49m\u001b[43m \u001b[49m\u001b[38;5;124;43m'\u001b[39;49m\u001b[38;5;124;43mbiomass\u001b[39;49m\u001b[38;5;124;43m'\u001b[39;49m\u001b[43m \u001b[49m\u001b[43m,\u001b[49m\u001b[43m \u001b[49m\u001b[43mbootstrap_ci\u001b[49m\u001b[43m \u001b[49m\u001b[38;5;241;43m=\u001b[39;49m\u001b[43m \u001b[49m\u001b[38;5;241;43m0.95\u001b[39;49m\u001b[43m \u001b[49m\u001b[43m,\u001b[49m\u001b[43m \u001b[49m\u001b[43mbootstrap_method\u001b[49m\u001b[43m \u001b[49m\u001b[38;5;241;43m=\u001b[39;49m\u001b[43m \u001b[49m\u001b[38;5;124;43m\"\u001b[39;49m\u001b[38;5;124;43mBCa\u001b[39;49m\u001b[38;5;124;43m\"\u001b[39;49m\u001b[43m \u001b[49m\u001b[43m,\u001b[49m\u001b[43m \u001b[49m\u001b[43mbootstrap_ci_method_alt\u001b[49m\u001b[43m \u001b[49m\u001b[38;5;241;43m=\u001b[39;49m\u001b[43m \u001b[49m\u001b[38;5;124;43m\"\u001b[39;49m\u001b[38;5;124;43mt-jackknife\u001b[39;49m\u001b[38;5;124;43m\"\u001b[39;49m\u001b[43m,\u001b[49m\u001b[43m \u001b[49m\u001b[43mverbose\u001b[49m\u001b[43m \u001b[49m\u001b[38;5;241;43m=\u001b[39;49m\u001b[43m \u001b[49m\u001b[38;5;28;43;01mTrue\u001b[39;49;00m\u001b[43m \u001b[49m\u001b[43m)\u001b[49m\n",
      "\u001b[1;31mTypeError\u001b[0m: Survey.stratified_analysis() got an unexpected keyword argument 'bootstrap_method'"
     ]
    }
   ],
   "source": [
    "survey.stratified_analysis( dataset = 'transect' , stratum = 'inpfc' , variable = 'biomass' , bootstrap_ci = 0.95 , bootstrap_method = \"BCa\" , bootstrap_ci_method_alt = \"t-jackknife\", verbose = True )"
   ]
  },
  {
   "cell_type": "markdown",
   "metadata": {},
   "source": [
    "```{warning}\n",
    "You cannot run `Survey.stratified_analysis( dataset = 'kriging' , ... )` unless you have already computed the kriging results via `Survey.kriging_analysis.\n",
    "```"
   ]
  },
  {
   "cell_type": "markdown",
   "metadata": {},
   "source": [
    "Depending on how `dataset` is parameterized, the intermediate and final results are stored within a sub-dictionary so the outputs from both `dataset = 'transect'` and `dataset = 'kriging'` can be compared. For `Survey.analysis`, these are separated immediately below the top-level dictionary: "
   ]
  },
  {
   "cell_type": "code",
   "execution_count": null,
   "metadata": {},
   "outputs": [],
   "source": [
    "survey.analysis[ 'stratified' ].keys( )"
   ]
  },
  {
   "cell_type": "markdown",
   "metadata": {},
   "source": [
    "Here the resampled distributions of multiple statistics can be directly accessed for additional uncertainty analyses and visualizing the underlying statistical distributions: "
   ]
  },
  {
   "cell_type": "code",
   "execution_count": null,
   "metadata": {},
   "outputs": [],
   "source": [
    "survey.analysis[ 'stratified' ][ 'transect' ].keys()"
   ]
  },
  {
   "cell_type": "code",
   "execution_count": null,
   "metadata": {},
   "outputs": [],
   "source": [
    "survey.analysis[ 'stratified' ][ 'transect' ][ 'stratified_replicates_df' ]"
   ]
  },
  {
   "cell_type": "markdown",
   "metadata": {},
   "source": [
    "The final results stored within `Survey.results` are formatted in an identical way:"
   ]
  },
  {
   "cell_type": "code",
   "execution_count": null,
   "metadata": {},
   "outputs": [],
   "source": [
    "survey.results[ 'stratified' ].keys( )"
   ]
  },
  {
   "cell_type": "code",
   "execution_count": null,
   "metadata": {},
   "outputs": [],
   "source": [
    "survey.results[ 'stratified' ][ 'transect' ].keys()"
   ]
  },
  {
   "cell_type": "code",
   "execution_count": null,
   "metadata": {},
   "outputs": [],
   "source": [
    "pprint.pprint( survey.results[ 'stratified' ][ 'transect' ])"
   ]
  },
  {
   "cell_type": "markdown",
   "metadata": {},
   "source": [
    "## **`Survey.kriging_analysis(...)`**"
   ]
  },
  {
   "cell_type": "markdown",
   "metadata": {},
   "source": [
    "`Survey.kriging_analysis(...)` computes the kriged estimates for the target variable via ordinary kriging with an adaptive search radius. The arguments to `Survey.kriging_analysis(...)` include:\n",
    "* `coordinate_transform (boolean)`: when `True`, the transect and mesh longitude/latitude coordinates are transformed to a standardized format as x/y (default: `True`)\n",
    "* `crop_method ('interpolation', 'convex_hull')`: when `extrapolate = False`, this determines the method used for cropping the kriging mesh. Setting `crop_method = 'interpolation'` (*default*) resamples the latitudinal resolution of the mesh grid and interpolates over the extent of the eastern and western endpoints of each transect line. This is conducted in a piece-wise fashion to account for the island of Haida Gwaii. Setting `crop_method = 'convex_hull'` uses a polygon-based approach for cropping the mesh grid based on the survey extent.\n",
    "* `extrapolate(boolean)`: when `True`, the entire kriging mesh is used. Otherwise, different methods are used to crop the kriging mesh to limit extrapolation beyond the extent of the survey transects. \n",
    "* `stratum ('ks','inpfc')`: the stratum used for mapping the defined kriged `variable` (default: `'ks'`) \n",
    "* `variable(string)`: the data variable that will be used for the kriging analysis (default: `'biomass_density'`)\n",
    "* `verbose (boolean)`: dialogue messages will appear in the console including a summary report of the results when this is set to `True` (default: `True`)\n",
    "\n",
    "There are also analysis-specific optional arguments that are used depending on how `crop_method` is defined:\n",
    "* When `crop_method = 'interpolation'`:\n",
    "  * `latitude_resolution (float)`: the updated latitudinal resolution (**in nmi**) used for interpolation\n",
    "* When `crop_method = 'convex_hull'`:\n",
    "  * `mesh_buffer_distance`: this is a dilation factor (**in nmi**) that expands/buffers the extent of the polygon defining the survey extent (default: `1.25`)\n",
    "  * `num_nearest_transects`: this defines the number of nearest neighboring transects used for generating smaller polygons that are then constructed into the survey-wide polygon\n",
    "\n",
    "Lastly, there are additional arguments that are optional since they are otherwise inherited from various parts of the `Survey` object: \n",
    "* `kriging_parameters (dictionary)`: a dictionary containing various kriging parameter variables and arguments\n",
    "* `projection (string)`: an EPSG string that defines the mapping projection\n",
    "* `variogram_parameters (dictionary)`: a dictionary containing various variogram parameter variables and arguments"
   ]
  },
  {
   "cell_type": "code",
   "execution_count": null,
   "metadata": {},
   "outputs": [],
   "source": [
    "survey.kriging_analysis( bearing_tolerance = 15.0 , coordinate_transform = True , crop_method = 'interpolation' , extrapolate = False , latitude_resolution = 1.25 , stratum = 'ks' , variable = 'biomass_density' , verbose = True )"
   ]
  },
  {
   "cell_type": "markdown",
   "metadata": {},
   "source": [
    "There are then various results stored within `Survey.results[ 'kriging' ]`:"
   ]
  },
  {
   "cell_type": "code",
   "execution_count": null,
   "metadata": {},
   "outputs": [],
   "source": [
    "survey.results[ 'kriging' ].keys()"
   ]
  },
  {
   "cell_type": "markdown",
   "metadata": {},
   "source": [
    "Some of these values are single values:"
   ]
  },
  {
   "cell_type": "code",
   "execution_count": null,
   "metadata": {},
   "outputs": [],
   "source": [
    "pprint.pprint( [survey.results['kriging'].get(key) for key in ['variable' , 'survey_mean' , 'survey_estimate' , 'survey_cv'] ] )"
   ]
  },
  {
   "cell_type": "markdown",
   "metadata": {},
   "source": [
    "The meshed results can also be retrieved:"
   ]
  },
  {
   "cell_type": "code",
   "execution_count": null,
   "metadata": {},
   "outputs": [],
   "source": [
    "survey.results[ 'kriging' ][ 'mesh_results_df' ]"
   ]
  },
  {
   "cell_type": "markdown",
   "metadata": {},
   "source": [
    "The `tables` sub-dictionary includes the sum of each variable distributed over age, length, and sex (in this case, `variable = biomass_density` produces estimates of kriged `biomass` for these tables).\n",
    "\n",
    "Biomass distributed over age, length, and sex for aged fish:"
   ]
  },
  {
   "cell_type": "code",
   "execution_count": null,
   "metadata": {},
   "outputs": [],
   "source": [
    "survey.results['kriging']['tables'][ 'aged_tbl' ]"
   ]
  },
  {
   "cell_type": "markdown",
   "metadata": {},
   "source": [
    "Biomass distributed over length and sex for unaged fish:"
   ]
  },
  {
   "cell_type": "code",
   "execution_count": null,
   "metadata": {},
   "outputs": [],
   "source": [
    "survey.results['kriging']['tables']['unaged_tbl']"
   ]
  },
  {
   "cell_type": "markdown",
   "metadata": {},
   "source": [
    "Combined biomass from both the aged and unaged fish distributed over length, age, and sex: "
   ]
  },
  {
   "cell_type": "code",
   "execution_count": null,
   "metadata": {},
   "outputs": [],
   "source": [
    "survey.results['kriging']['tables']['overall_apportionment_df']"
   ]
  },
  {
   "cell_type": "markdown",
   "metadata": {},
   "source": [
    "Now that the kriging results are computed, they can then be used to parameterize `Survey.stratified_analysis( dataset = 'kriging' , ...)` to conduct the stratified resampling analysis: "
   ]
  },
  {
   "cell_type": "code",
   "execution_count": null,
   "metadata": {},
   "outputs": [],
   "source": [
    "survey.stratified_analysis( 'kriging' )"
   ]
  },
  {
   "cell_type": "markdown",
   "metadata": {},
   "source": [
    "## **Other 'useful' features**"
   ]
  },
  {
   "cell_type": "markdown",
   "metadata": {},
   "source": [
    "Although a summary of the results are printed in the console when `verbose = True`, it is a bit obnoxious to have to re-run the entire analysis to re-generate the same message. This is addressed via the `Survey.summary(...)` method that comprises a single input: \n",
    "* `results_name (string)`: this is the name of the analysis results that should be printed into the console. This can either be formatted as a single input name (e.g. 'transect' , 'kriging') or a nested/layered variable (e.g. 'stratified:transect') where a colon (':') is used as the delimiter that separates the two result layer names."
   ]
  },
  {
   "cell_type": "code",
   "execution_count": null,
   "metadata": {},
   "outputs": [],
   "source": [
    "survey.summary( 'transect' )"
   ]
  },
  {
   "cell_type": "code",
   "execution_count": null,
   "metadata": {},
   "outputs": [],
   "source": [
    "survey.summary( 'stratified:transect' )"
   ]
  },
  {
   "cell_type": "code",
   "execution_count": null,
   "metadata": {},
   "outputs": [],
   "source": [
    "survey.summary( 'stratified:kriging' )"
   ]
  },
  {
   "cell_type": "code",
   "execution_count": null,
   "metadata": {},
   "outputs": [],
   "source": [
    "survey.summary( 'kriging' )"
   ]
  }
 ],
 "metadata": {
  "kernelspec": {
   "display_name": "echopop_3_12",
   "language": "python",
   "name": "python3"
  },
  "language_info": {
   "codemirror_mode": {
    "name": "ipython",
    "version": 3
   },
   "file_extension": ".py",
   "mimetype": "text/x-python",
   "name": "python",
   "nbconvert_exporter": "python",
   "pygments_lexer": "ipython3",
   "version": "3.12.2"
  }
 },
 "nbformat": 4,
 "nbformat_minor": 2
}
