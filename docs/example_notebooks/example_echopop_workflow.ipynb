{
 "cells": [
  {
   "cell_type": "markdown",
   "metadata": {},
   "source": [
    "# **Example overview of the `echopop` dataflow**"
   ]
  },
  {
   "cell_type": "markdown",
   "metadata": {},
   "source": [
    "## **`Survey`-class initialization**\n",
    "\n",
    "Import the latest version of `echopop`."
   ]
  },
  {
   "cell_type": "code",
   "execution_count": 1,
   "metadata": {},
   "outputs": [],
   "source": [
    "import pprint\n",
    "\n",
    "from echopop.survey import Survey"
   ]
  },
  {
   "cell_type": "markdown",
   "metadata": {},
   "source": [
    "Initialize the `Survey` object by loading in input data (`Survey.input`) and configuration settings (`Survey.config`). The former reads in data from all the defined input files contained within the `./config_files/survey_year_2019_config.yml` configuration file. The latter reads in various arguments as well as the file paths that point to the input files. "
   ]
  },
  {
   "cell_type": "code",
   "execution_count": 2,
   "metadata": {},
   "outputs": [],
   "source": [
    "survey = Survey( init_config_path = \"C:/Users/Brandyn/Documents/GitHub/echopop/config_files/initialization_config.yml\" ,\n",
    "                 survey_year_config_path = \"C:/Users/Brandyn/Documents/GitHub/echopop/config_files/survey_year_2019_config.yml\" )"
   ]
  },
  {
   "cell_type": "markdown",
   "metadata": {},
   "source": [
    "Not only are all the necessary acoustic, biological, kriging, and stratification data imported and contained with `survey`, but they can also be parsed in a relatively straightforward manner. There are five `Survey`-class attributes to be aware of: \n",
    "* `Survey.meta`: this is currently undeveloped, but this is where necessary information such as the date the object was created and general data workflow/provenance would be collected.\n",
    "* `Survey.config`: this stores the background configuration settings. \n",
    "* `Survey.input`: this contains the imported acoustic, biological, kriging, and stratification data. This can be further investigated via the various nested dictionaries that correspond to specific types of dataset. \n",
    "* `Survey.analysis`: this is the working directory that contains relevant intermediate data products and calculations that may be of interest to the user and/or are required for later calculations. \n",
    "* `Survey.results`: this stores the overall results each analysis. \n",
    "  \n",
    "## **Initial data processing**\n",
    "\n",
    "**`Survey.meta`**\n",
    "\n",
    "As previously mentioned, `Survey.meta` is undeveloped, but the `provenance` key will be iteratively updated with the performed analyses. Additional metadata can also be appended to this attribute."
   ]
  },
  {
   "cell_type": "code",
   "execution_count": 3,
   "metadata": {},
   "outputs": [
    {
     "name": "stdout",
     "output_type": "stream",
     "text": [
      "{'provenance': {'date': '2024-09-09 09:24:56', 'imported_datasets': set()}}\n"
     ]
    }
   ],
   "source": [
    "pprint.pprint( survey.meta )"
   ]
  },
  {
   "cell_type": "markdown",
   "metadata": {},
   "source": [
    "**`Survey.config`**\n",
    "\n",
    "This attribute contains a variety of nested dictionaries that help to organize the entries in an intentional format that ideally minimizes ambiguity on how to access the associated values. Accessible dictionaries can be listed via `survey.config.keys()`:"
   ]
  },
  {
   "cell_type": "code",
   "execution_count": 4,
   "metadata": {},
   "outputs": [
    {
     "data": {
      "text/plain": [
       "dict_keys(['stratified_survey_mean_parameters', 'nasc_exports', 'haul_to_transect_mapping', 'transect_region_mapping', 'TS_length_regression_parameters', 'geospatial', 'kriging_parameters', 'survey_year', 'species', 'CAN_haul_offset', 'data_root_dir', 'biological', 'stratification', 'NASC', 'export_regions', 'gear_data', 'kriging', 'biometrics'])"
      ]
     },
     "execution_count": 4,
     "metadata": {},
     "output_type": "execute_result"
    }
   ],
   "source": [
    "survey.config.keys( )"
   ]
  },
  {
   "cell_type": "markdown",
   "metadata": {},
   "source": [
    "The overall dictionary structure of `self.config` can also be accessed. Although not required for printing out the values in this attribute, the `pprint` library is helpful for formatting nested dictionaries into a legible format in both the console and interactive notebooks. "
   ]
  },
  {
   "cell_type": "code",
   "execution_count": 5,
   "metadata": {
    "tags": [
     "scroll-output"
    ]
   },
   "outputs": [
    {
     "name": "stdout",
     "output_type": "stream",
     "text": [
      "{'CAN_haul_offset': 200,\n",
      " 'NASC': {'all_ages': {'filename': 'Exports/US_CAN_detailsa_2019_table1y+_ALL_final '\n",
      "                                   '- updated.xlsx',\n",
      "                       'sheetname': 'Sheet1'},\n",
      "          'no_age1': {'filename': 'Exports/US_CAN_detailsa_2019_table2y+_ALL_final '\n",
      "                                  '- updated.xlsx',\n",
      "                      'sheetname': 'Sheet1'}},\n",
      " 'TS_length_regression_parameters': {'pacific_hake': {'TS_L_intercept': -68.0,\n",
      "                                                      'TS_L_slope': 20.0,\n",
      "                                                      'length_units': 'cm',\n",
      "                                                      'number_code': 22500}},\n",
      " 'biological': {'catch': {'CAN': {'filename': 'Biological/CAN/2019_biodata_catch_CAN.xlsx',\n",
      "                                  'sheetname': 'biodata_catch_CAN'},\n",
      "                          'US': {'filename': 'Biological/US/2019_biodata_catch.xlsx',\n",
      "                                 'sheetname': 'biodata_catch'}},\n",
      "                'haul_to_transect': {'CAN': {'filename': 'Biological/CAN/haul_to_transect_mapping_2019_CAN.xlsx',\n",
      "                                             'sheetname': 'Sheet1'},\n",
      "                                     'US': {'filename': 'Biological/US/haul_to_transect_mapping_2019.xlsx',\n",
      "                                            'sheetname': 'Sheet1'}},\n",
      "                'length': {'CAN': {'filename': 'Biological/CAN/2019_biodata_length_CAN.xlsx',\n",
      "                                   'sheetname': 'biodata_length_CAN'},\n",
      "                           'US': {'filename': 'Biological/US/2019_biodata_length.xlsx',\n",
      "                                  'sheetname': 'biodata_length'}},\n",
      "                'specimen': {'CAN': {'filename': 'Biological/CAN/2019_biodata_specimen_CAN_AGES.xlsx',\n",
      "                                     'sheetname': 'biodata_specimen_CAN'},\n",
      "                             'US': {'filename': 'Biological/US/2019_biodata_specimen_AGES.xlsx',\n",
      "                                    'sheetname': 'biodata_specimen'}}},\n",
      " 'biometrics': {'bio_hake_age_bin': [1, 22, 22],\n",
      "                'bio_hake_len_bin': [2, 80, 40]},\n",
      " 'data_root_dir': 'C:/Users/Brandyn/Documents/GitHub/EchoPro_data/2019_consolidated_files',\n",
      " 'export_regions': {'all_ages': {'filename': 'Stratification/CAN_US_2019_transect_region_haul_all_ages.xlsx',\n",
      "                                 'sheetname': 'Sheet1'},\n",
      "                    'no_age1': {'filename': 'Stratification/CAN_US_2019_transect_region_haul_no_age1.xlsx',\n",
      "                                'sheetname': 'Sheet1'}},\n",
      " 'gear_data': {'CAN': {'filename': 'Biological/CAN/2019_biodata_gear_CAN.xlsx',\n",
      "                       'sheetname': 'biodata_gear_CAN'},\n",
      "               'US': {'filename': 'Biological/US/2019_biodata_gear.xlsx',\n",
      "                      'sheetname': 'biodata_gear'}},\n",
      " 'geospatial': {'init': 'epsg:4326'},\n",
      " 'haul_to_transect_mapping': {'country_code': ['CAN', 'US'],\n",
      "                              'file_settings': {'CAN': {'directory': '/Biological/CAN',\n",
      "                                                        'sheetname': 'Sheet1'},\n",
      "                                                'US': {'directory': '/Biological/US',\n",
      "                                                       'sheetname': 'Sheet1'}},\n",
      "                              'save_file_template': 'haul_to_transect_mapping_{YEAR}_{COUNTRY}'},\n",
      " 'kriging': {'isobath_200m': {'filename': 'Kriging_files/Kriging_grid_files/transformation_isobath_coordinates.xlsx',\n",
      "                              'sheetname': 'Smoothing_EasyKrig'},\n",
      "             'mesh': {'filename': 'Kriging_files/Kriging_grid_files/krig_grid2_5nm_cut_centroids_2013.xlsx',\n",
      "                      'sheetname': 'krigedgrid2_5nm_forChu'},\n",
      "             'vario_krig_para': {'filename': 'Kriging_files/default_vario_krig_settings_2019_US_CAN.xlsx',\n",
      "                                 'sheetname': 'Sheet1'}},\n",
      " 'kriging_parameters': {'A0': 6.25,\n",
      "                        'latitude_offset': 45.0,\n",
      "                        'longitude_offset': -124.78338,\n",
      "                        'longitude_reference': -124.78338},\n",
      " 'nasc_exports': {'export_file_directory': '/raw_nasc',\n",
      "                  'file_columns': ['transect_num',\n",
      "                                   'region_id',\n",
      "                                   'vessel_log_start',\n",
      "                                   'vessel_log_end',\n",
      "                                   'latitude',\n",
      "                                   'longitude',\n",
      "                                   'stratum_num',\n",
      "                                   'transect_spacing',\n",
      "                                   'layer_mean_depth',\n",
      "                                   'layer_height',\n",
      "                                   'bottom_depth',\n",
      "                                   'NASC',\n",
      "                                   'haul_num'],\n",
      "                  'max_transect_spacing': 10.0,\n",
      "                  'nasc_export_directory': '/Exports',\n",
      "                  'regions': {'all_ages': ['Age-1 Hake',\n",
      "                                           'Age-1 Hake Mix',\n",
      "                                           'Hake',\n",
      "                                           'Hake Mix'],\n",
      "                              'no_age1': ['Hake', 'Hake Mix']},\n",
      "                  'save_file_sheetname': 'Sheet1',\n",
      "                  'save_file_template': '{REGION}_NASC_{YEAR}_table_{GROUP}.xlsx'},\n",
      " 'species': {'number_code': 22500, 'text_code': 'pacific_hake'},\n",
      " 'stratification': {'geo_strata': {'filename': 'Stratification/Stratification_geographic_Lat_2019_final.xlsx',\n",
      "                                   'sheetname': ['INPFC', 'stratification1']},\n",
      "                    'strata': {'filename': 'Stratification/US_CAN strata '\n",
      "                                           '2019_final.xlsx',\n",
      "                               'sheetname': 'Base KS'}},\n",
      " 'stratified_survey_mean_parameters': {'mesh_transects_per_latitude': 5,\n",
      "                                       'num_replicates': 10000,\n",
      "                                       'strata_transect_proportion': 0.75},\n",
      " 'survey_year': 2019,\n",
      " 'transect_region_mapping': {'parts': {'COUNTRY': [{'label': 'CAN',\n",
      "                                                    'pattern': '^[cC]'},\n",
      "                                                   {'label': 'US',\n",
      "                                                    'pattern': '^[uU]'}],\n",
      "                                       'HAUL_NUM': [{'label': 'None',\n",
      "                                                     'pattern': '[0-9]+'}],\n",
      "                                       'REGION_CLASS': [{'label': 'Hake',\n",
      "                                                         'pattern': '^[hH](?![a-zA-Z]|1a)'},\n",
      "                                                        {'label': 'Age-1 Hake '\n",
      "                                                                  'Mix',\n",
      "                                                         'pattern': '^[hH]1[aA][mM]'},\n",
      "                                                        {'label': 'Age-1 Hake',\n",
      "                                                         'pattern': '^[hH]1[aA]'},\n",
      "                                                        {'label': 'Hake Mix',\n",
      "                                                         'pattern': '^[hH][mM]'},\n",
      "                                                        {'label': 'Hake Mix',\n",
      "                                                         'pattern': 'hake_mix'},\n",
      "                                                        {'label': 'Hake',\n",
      "                                                         'pattern': 'hake'}]},\n",
      "                             'pattern': '{REGION_CLASS}{HAUL_NUM}{COUNTRY}',\n",
      "                             'save_file_directory': '/Stratification',\n",
      "                             'save_file_sheetname': 'Sheet1',\n",
      "                             'save_file_template': '{COUNTRY}_{YEAR}_transect_region_haul_{GROUP}.xlsx'}}\n"
     ]
    }
   ],
   "source": [
    "pprint.pprint(survey.config)"
   ]
  },
  {
   "cell_type": "markdown",
   "metadata": {},
   "source": [
    "**`Survey.input`**\n",
    "\n",
    "Similar to `Survey.config`, the input data are grouped into various nested dictionaries. Data contained within the `Survey.input` attribute are specifically stored in four general nested dictionaries: `acoustics`, `biology`, `spatial`, and `statistics`. "
   ]
  },
  {
   "cell_type": "code",
   "execution_count": 6,
   "metadata": {},
   "outputs": [
    {
     "data": {
      "text/plain": [
       "dict_keys(['acoustics', 'biology', 'spatial', 'statistics'])"
      ]
     },
     "execution_count": 6,
     "metadata": {},
     "output_type": "execute_result"
    }
   ],
   "source": [
    "survey.input.keys()"
   ]
  },
  {
   "cell_type": "markdown",
   "metadata": {},
   "source": [
    "This results in the following branched data structure for `Survey.input`:\n",
    "* `acoustics`\n",
    "  * `nasc_df`: acoustic trawl data (all age and age-2+ NASC)\n",
    "* `biology`\n",
    "  * `catch_df`: unaged haul weight totals\n",
    "  * `distributions`\n",
    "    * `age_bins_df`: age distribution histogram bins\n",
    "    * `length_bins_df`: length distribution histogram bins\n",
    "  * `haul_to_transect_df`: haul-to-transect key that links haul numbers to their respective transects\n",
    "  * `length_df`: unaged length measurements\n",
    "  * `specimen_df`: aged length and weight measurements\n",
    "* `spatial`\n",
    "  * `strata_df`: the `KS` stratum definitions and fraction of hake for each haul\n",
    "  * `geo_strata_df`: latitudinal limits of the `KS` strata\n",
    "  * `inpfc_strata_df`: the `INPFC` stratum definitions and their respective latitudinal limits\n",
    "* `statistics`\n",
    "  * `kriging`\n",
    "    * `mesh_df`: kriging mesh\n",
    "    * `isobath_200m_df`: 200 m isobath coordinates\n",
    "    * `model_config`: dictionary comprising all required arguments for the kriging analysis\n",
    "  * `variogram`\n",
    "    * `model_config`: dictionary comprising all required arguments for the variogram analysis"
   ]
  },
  {
   "cell_type": "markdown",
   "metadata": {},
   "source": [
    "## **`Survey.load_acoustic_data(...)`**\n",
    "\n",
    "`````{admonition} Type-hinting\n",
    ":class: tip\n",
    "Hover your cursor over the various functions included in the code blocks below to get additional type hints and context for usage\n",
    "`````\n",
    "\n",
    "The method `Survey.load_acoustic_data(...)` ingests and preprocessed acoustic backscatter data in several forms, including consolidated `*.xlsx` files defined in the `Survey`-class configuration file (`survey_year_config_path`). This class-method currently takes six user arguments:\n",
    "\n",
    "* `index_variable (string, list)`: Index columns used for defining discrete acoustic backscatter samples and vertical integration (default: `[\"transect_num\", \"interval\"]`).\n",
    "* `ingest_exports ('echoview', 'echopype', None)`: The type of acoustic backscatter exports required for generating the associated consolidated `*.xlsx` files (default: `None`). When `ingest_exports = \"echoview\"`, this searches a directory defined within `init_config_path` for associated Echoview exports (`layers`, `intervals`, `analysis`, `cells`). \n",
    "* `region_class_column (string)`: Dataframe column denoting the Echoview export region class such as \"zooplankton\" (default: `\"region_class\"`). \n",
    "* `transect_pattern (string)`: A (raw) string that corresponds to the transect number embedded within the base name of the file path associated with each export file (default: ``r'T(\\\\d+)'``).\n",
    "* `unique_region_id (string)`: Dataframe column that denotes region-specific names and identifiers (default: `\"region_id\"`).\n",
    "* `verbose (boolean)`: dialogue messages will appear in the console including a summary report of the results when this is set to `True` (default: `True`) "
   ]
  },
  {
   "cell_type": "code",
   "execution_count": 7,
   "metadata": {},
   "outputs": [],
   "source": [
    "survey.load_acoustic_data()"
   ]
  },
  {
   "cell_type": "markdown",
   "metadata": {},
   "source": [
    "## **`Survey.load_survey_data(...)`**\n",
    "\n",
    "The method `Survey.load_survey_data(...)` ingests and preprocesses the remaining biological and spatial data files within the `Survey`-class object. (`Survey.analysis`) and results (`Survey.results`). This class-method currently takes one user argument:\n",
    "\n",
    "* `verbose (boolean)`: dialogue messages will appear in the console including a summary report of the results when this is set to `True` (default: `True`) \n",
    "\n",
    "```{warning}\n",
    "This method creates intermediate `*.xlsx` files representing a haul-to-transect mapping key that links the acoustic backscatter and biological datasets. These files are configured by the associated key within `init_config_path`; however, the filenames of these outputs must be defined within the `survey_year_config_path` configuration file. Successful file creation is indicated via console messages.\n",
    "```"
   ]
  },
  {
   "cell_type": "code",
   "execution_count": 8,
   "metadata": {},
   "outputs": [
    {
     "name": "stdout",
     "output_type": "stream",
     "text": [
      "Haul-to-transect mapping file for 'US' saved at 'C:\\Users\\Brandyn\\Documents\\GitHub\\EchoPro_data\\2019_consolidated_files\\Biological\\US\\haul_to_transect_mapping_2019_US.xlsx'.\n",
      "Haul-to-transect mapping file for 'CAN' saved at 'C:\\Users\\Brandyn\\Documents\\GitHub\\EchoPro_data\\2019_consolidated_files\\Biological\\CAN\\haul_to_transect_mapping_2019_CAN.xlsx'.\n"
     ]
    }
   ],
   "source": [
    "survey.load_survey_data()"
   ]
  },
  {
   "cell_type": "markdown",
   "metadata": {},
   "source": [
    "## **`Survey.transect_analysis(...)`**\n",
    "\n",
    "`````{admonition} Type-hinting\n",
    ":class: tip\n",
    "Hover your cursor over the various functions included in the code blocks below to get additional type hints and context for usage\n",
    "`````\n",
    "\n",
    "The method `Survey.transect_analysis(...)` populates various analysis variables (`Survey.analysis`) and results (`Survey.results`). This class-method currently takes four user arguments:\n",
    "\n",
    "* `species_id (integer, list)`: the species number code(s) (default: `22500`)\n",
    "* `exclude_age1 (boolean)`: whether age-1 fish should be excluded from the analysis (default: `True`)\n",
    "* `stratum (string)`: the stratum used for the various acoustic and biological calculations (default: `'ks'`)\n",
    "* `verbose (boolean)`: dialogue messages will appear in the console including a summary report of the results when this is set to `True` (default: `True`) \n",
    "  \n",
    "This is the primary biological data processing workhorse that is further used for later analyses, such as computing the number and weight proportions across all animals."
   ]
  },
  {
   "cell_type": "code",
   "execution_count": 9,
   "metadata": {
    "tags": [
     "scroll-output"
    ]
   },
   "outputs": [
    {
     "name": "stdout",
     "output_type": "stream",
     "text": [
      "--------------------------------\n",
      "TRANSECT RESULTS\n",
      "--------------------------------\n",
      "| Variable: Biomass (kmt)\n",
      "| Age-1 fish excluded: True\n",
      "| Stratum definition: KS\n",
      "--------------------------------\n",
      "GENERAL RESULTS\n",
      "--------------------------------\n",
      "| Total biomass: 1651.1 kmt\n",
      "    Age-1: 7.9 kmt\n",
      "    Age-2+: 1643.2 kmt\n",
      "| Total female biomass: 832.2 kmt\n",
      "    Age-1: 4.0 kmt\n",
      "    Age-2+: 828.2 kmt\n",
      "| Total male biomass: 818.5 kmt\n",
      "    Age-1: 3.9 kmt\n",
      "    Age-2+: 814.6 kmt\n",
      "| Total unsexed biomass: 0.4 kmt\n",
      "| Total mixed biomass: 36.8 kmt\n",
      "--------------------------------\n"
     ]
    }
   ],
   "source": [
    "survey.transect_analysis( species_id = 22500 , exclude_age1 = True , stratum = 'ks' , verbose = True )"
   ]
  },
  {
   "cell_type": "markdown",
   "metadata": {},
   "source": [
    "A variety of intermediate data products are stored in `Survey.analysis` under currently four nested dictionaries: \n",
    "* `kriging`: intermediate results specific to the kriging analysis (`Survey.kriging_analysis(...)`)\n",
    "* `settings`: this provides a full recording of user-inputs and other variable definitions used for each analysis to improve replicability\n",
    "* `stratified`: intermediate results specific to the stratified sampling analysis (`Survey.stratified_analysis(...)`)\n",
    "* `transect`: intermediate results specific to the transect analysis (`Survey.transect_analysis(...)`)"
   ]
  },
  {
   "cell_type": "code",
   "execution_count": 10,
   "metadata": {},
   "outputs": [
    {
     "data": {
      "text/plain": [
       "dict_keys(['transect', 'settings', 'stratified'])"
      ]
     },
     "execution_count": 10,
     "metadata": {},
     "output_type": "execute_result"
    }
   ],
   "source": [
    "survey.analysis.keys( )"
   ]
  },
  {
   "cell_type": "markdown",
   "metadata": {},
   "source": [
    "Since `Survey.transect_analysis(...)` was ran, the specific arguments used for the analysis can be directly accessed via:"
   ]
  },
  {
   "cell_type": "code",
   "execution_count": 11,
   "metadata": {},
   "outputs": [
    {
     "name": "stdout",
     "output_type": "stream",
     "text": [
      "{'age_group_columns': {'haul_id': 'haul_no_age1',\n",
      "                       'nasc_id': 'NASC_no_age1',\n",
      "                       'stratum_id': 'stratum_no_age1'},\n",
      " 'exclude_age1': True,\n",
      " 'species_id': 22500,\n",
      " 'stratum': 'ks',\n",
      " 'stratum_name': 'stratum_num'}\n"
     ]
    }
   ],
   "source": [
    "pprint.pprint( survey.analysis[ 'settings' ][ 'transect' ] )"
   ]
  },
  {
   "cell_type": "markdown",
   "metadata": {},
   "source": [
    "The intermediate data products can be similarly accessed under the `transect` dictionary within `Survey.analysis`: "
   ]
  },
  {
   "cell_type": "code",
   "execution_count": 12,
   "metadata": {},
   "outputs": [
    {
     "data": {
      "text/plain": [
       "dict_keys(['acoustics', 'biology', 'coordinates'])"
      ]
     },
     "execution_count": 12,
     "metadata": {},
     "output_type": "execute_result"
    }
   ],
   "source": [
    "survey.analysis[ 'transect' ].keys()"
   ]
  },
  {
   "cell_type": "markdown",
   "metadata": {},
   "source": [
    "The results from each analysis are then stored within the `Survey.results` attribute:"
   ]
  },
  {
   "cell_type": "code",
   "execution_count": 13,
   "metadata": {},
   "outputs": [
    {
     "data": {
      "text/plain": [
       "dict_keys(['transect', 'stratified', 'kriging', 'variogram'])"
      ]
     },
     "execution_count": 13,
     "metadata": {},
     "output_type": "execute_result"
    }
   ],
   "source": [
    "survey.results.keys()"
   ]
  },
  {
   "cell_type": "markdown",
   "metadata": {},
   "source": [
    "So we can generally glean all results recorded within `Survey.results` and also access those specific to `Survey.transect_analysis(...)` within `transect`:"
   ]
  },
  {
   "cell_type": "code",
   "execution_count": 14,
   "metadata": {},
   "outputs": [
    {
     "name": "stdout",
     "output_type": "stream",
     "text": [
      "{'kriging': {},\n",
      " 'stratified': {},\n",
      " 'transect': {'biomass_summary_df':        sex  biomass_age1  biomass_adult   biomass_all\n",
      "0      all  7.869992e+06   1.643215e+09  1.651085e+09\n",
      "1   female  3.950822e+06   8.282280e+08  8.321788e+08\n",
      "2     male  3.919170e+06   8.146258e+08  8.185449e+08\n",
      "3  unsexed  0.000000e+00   3.609296e+05  3.609296e+05\n",
      "4    mixed -4.656613e-10   3.680784e+07  3.680784e+07},\n",
      " 'variogram': {}}\n"
     ]
    }
   ],
   "source": [
    "pprint.pprint( survey.results )"
   ]
  },
  {
   "cell_type": "code",
   "execution_count": 15,
   "metadata": {},
   "outputs": [
    {
     "data": {
      "text/plain": [
       "{'biomass_summary_df':        sex  biomass_age1  biomass_adult   biomass_all\n",
       " 0      all  7.869992e+06   1.643215e+09  1.651085e+09\n",
       " 1   female  3.950822e+06   8.282280e+08  8.321788e+08\n",
       " 2     male  3.919170e+06   8.146258e+08  8.185449e+08\n",
       " 3  unsexed  0.000000e+00   3.609296e+05  3.609296e+05\n",
       " 4    mixed -4.656613e-10   3.680784e+07  3.680784e+07}"
      ]
     },
     "execution_count": 15,
     "metadata": {},
     "output_type": "execute_result"
    }
   ],
   "source": [
    "survey.results[ 'transect' ]"
   ]
  },
  {
   "cell_type": "markdown",
   "metadata": {},
   "source": [
    "## **`Survey.fit_variogram(...)`**\n",
    "\n",
    "`````{admonition} Optimizing variogram parameters\n",
    ":class: important\n",
    "This is an optional method in the general workflow that can be skipped if the defined variograms contained within the configured settings files are desired.\n",
    "`````\n",
    "\n",
    "The method `Survey.fit_variogram(...)` uses a non-linear least squares optimizer to evaluate best-fit variogram parameters. This optimization uses the empirical variogram computed from the dataset. populates various analysis variables (`Survey.analysis`) and results (`Survey.results`). This class-method currently takes ten user arguments:\n",
    "\n",
    "* `variogram_parameters (VariogramBase)`: A dictionary comprising various arguments required for computing the model variogram (default: `{}`). The allowed variogram parameters include: `[\"sill\", \"nugget\", \"correlation_range\", \"hole_effect_range\", \"decay_power\", \"enhance_semivariance\"]`; however, the exact parameters required depend on the chosen semivariogram model. \n",
    "* `optimization_parameters (VariogramOptimize)`: A dictionary comprising various arguments for optimizing the variogram fit via non-linear least squares (default: `{}`).\n",
    "* `initialize_variogram (VariogramInitial)`: A dictionary or list that indicates how each variogram parameter is configured for optimization (default: `[\"nugget\", \"sill\", \"correlation_range\", \"hole_effect_range\", \"sill\"]`). Including parameter names in a list will incorporate default initial values imported from the associated file in the configuration `*.yaml` are used instead. This also occurs when `initialize_variogram` is formatted as a dictionary and the `'value'` key is not present for defined parameters. Parameter names excluded from either the list or dictionary keys are assumed to be held as fixed values.\n",
    "* `model (list, string)`: A string or list of model names. A single name represents a single family model. Two inputs represent the desired composite model (e.g. the composite J-Bessel and exponential model) (default: `[\"bessel\", \"exponential\"]`).\n",
    "* `azimuth_range (float)`: The total azimuth angle range that is allowed for constraining the relative angles between spatial points, particularly for cases where a high degree of directionality is assumed (default: `360.0`).\n",
    "* `n_lags (int)`: The number of lags (default: `30`).\n",
    "* `force_lag_zero (boolean)`: Force the semivariance at the zeroth lag to be 0.0 (default: `True`).\n",
    "* `standardize_coordinates (boolean)`: When set to `True`, transect coordinates are standardized using reference coordinates. (default: `True`).\n",
    "* `variable ('biomass', 'abundance')`:  Transect data values used for fitting the variogram (default: `\"biomass\"`). This includes two options: `\"abundance\"` and `\"biomass\"`. These inputs correspond to fitting the empirical and theoretical variograms on \"number density\" and \"biomass density\", respectively.\n",
    "* `verbose (boolean)`: dialogue messages will appear in the console including a summary report of the results when this is set to `True` (default: `True`) "
   ]
  },
  {
   "cell_type": "markdown",
   "metadata": {},
   "source": [
    "```warning\n",
    "**The order of variables defined within `initialize_variogram` can effect the model fitting due to how the optimizer functions.**\n",
    "```"
   ]
  },
  {
   "cell_type": "code",
   "execution_count": 16,
   "metadata": {},
   "outputs": [
    {
     "name": "stdout",
     "output_type": "stream",
     "text": [
      "Longitude and latitude coordinates (WGS84) converted to standardized coordinates (x and y).\n",
      "-----------------------------\n",
      "VARIOGRAM OPTIMIZATION\n",
      "-----------------------------\n",
      "| See `self.analysis['settings']['variogram']['optimization'] for parameter settings.\n",
      "-----------------------------\n",
      "| Variogram model: ['bessel', 'exponential'] (composite family)\n",
      "-----------------------------\n",
      "| Initial fit -> Optimized fit\n",
      "-----------------------------\n",
      "Overall fit [MAD]: 0.00127 -> 0.000865\n",
      "Decay power: 1.5 -> 1.52\n",
      "Nugget: 0.0 -> 1e-10\n",
      "Sill: 0.91 -> 0.945\n",
      "Correlation range: 0.007 -> 0.00795\n",
      "Hole effect range: 0.0 -> 1e-10\n",
      "-----------------------------\n",
      "| Results stored in `self.results['variogram']\n",
      "-----------------------------\n"
     ]
    }
   ],
   "source": [
    "survey.fit_variogram(model=[\"bessel\", \"exponential\"], n_lags=30, initialize_variogram=[\"decay_power\", \"nugget\", \"sill\", \"correlation_range\", \"hole_effect_range\"])"
   ]
  },
  {
   "cell_type": "code",
   "execution_count": 17,
   "metadata": {},
   "outputs": [
    {
     "data": {
      "text/plain": [
       "{'model_fit': {'decay_power': 1.515771020973907,\n",
       "  'nugget': 9.999999999970078e-11,\n",
       "  'sill': 0.9452901787383056,\n",
       "  'correlation_range': 0.007947505231867843,\n",
       "  'hole_effect_range': 1e-10},\n",
       " 'model': ['bessel', 'exponential']}"
      ]
     },
     "execution_count": 17,
     "metadata": {},
     "output_type": "execute_result"
    }
   ],
   "source": [
    "survey.results[\"variogram\"]"
   ]
  },
  {
   "cell_type": "markdown",
   "metadata": {},
   "source": [
    "### **`VariogramBase`, `VariogramOptimize`, `VariogramInitial`**\n",
    "\n",
    "All variables required for computing the empirical and theoretical variograms are encapsulated within the `VariogramBase`, `VariogramOptimize`, and `VariogramInitial` classes. These combine user-inputs with required default values, and also indicate what keys are allowed from `Survey.fit_variogram(...variogram_parameters, optimization_parameters, initialize_variogram)`."
   ]
  },
  {
   "cell_type": "code",
   "execution_count": 18,
   "metadata": {},
   "outputs": [
    {
     "data": {
      "text/plain": [
       "{'model': ['bessel', 'exponential'],\n",
       " 'n_lags': 30,\n",
       " 'lag_resolution': 0.002,\n",
       " 'max_range': None,\n",
       " 'sill': 0.91,\n",
       " 'nugget': 0.0,\n",
       " 'hole_effect_range': 0.0,\n",
       " 'correlation_range': 0.007,\n",
       " 'enhance_semivariance': None,\n",
       " 'decay_power': 1.5}"
      ]
     },
     "execution_count": 18,
     "metadata": {},
     "output_type": "execute_result"
    }
   ],
   "source": [
    "from echopop.utils.validate import VariogramBase, VariogramOptimize, VariogramInitial\n",
    "\n",
    "VariogramBase.create(**{})"
   ]
  },
  {
   "cell_type": "code",
   "execution_count": 19,
   "metadata": {},
   "outputs": [
    {
     "data": {
      "text/plain": [
       "{'max_fun_evaluations': 500,\n",
       " 'cost_fun_tolerance': 1e-06,\n",
       " 'solution_tolerance': 1e-06,\n",
       " 'gradient_tolerance': 0.0001,\n",
       " 'finite_step_size': 1e-08,\n",
       " 'trust_region_solver': 'exact',\n",
       " 'x_scale': 'jacobian',\n",
       " 'jacobian_approx': 'central'}"
      ]
     },
     "execution_count": 19,
     "metadata": {},
     "output_type": "execute_result"
    }
   ],
   "source": [
    "VariogramOptimize.create(**{})"
   ]
  },
  {
   "cell_type": "code",
   "execution_count": 20,
   "metadata": {},
   "outputs": [
    {
     "data": {
      "text/plain": [
       "{'sill': {'min': 0.0, 'value': 0.0, 'max': inf},\n",
       " 'nugget': {'min': 0.0, 'value': 0.0, 'max': inf},\n",
       " 'correlation_range': {'min': 0.0, 'value': 0.0, 'max': inf},\n",
       " 'hole_effect_range': {'min': 0.0, 'value': 0.0, 'max': inf},\n",
       " 'decay_power': {'min': 0.0, 'value': 0.0, 'max': inf}}"
      ]
     },
     "execution_count": 20,
     "metadata": {},
     "output_type": "execute_result"
    }
   ],
   "source": [
    "VariogramInitial.create([\"sill\", \"nugget\", \"correlation_range\", \"hole_effect_range\", \"decay_power\"])"
   ]
  },
  {
   "cell_type": "markdown",
   "metadata": {},
   "source": [
    "### **`Survey.variogram_gui()`**\n",
    "\n",
    "An alternative approach to `Survey.fit_variogram(...)` is available in the form of a GUI that allows manual editing of various parameters. Note that this GUI can **only** be ran within a Jupter notebook at present."
   ]
  },
  {
   "cell_type": "code",
   "execution_count": 21,
   "metadata": {},
   "outputs": [
    {
     "data": {
      "application/vnd.jupyter.widget-view+json": {
       "model_id": "98ac9afffb654d83852564a97e78947f",
       "version_major": 2,
       "version_minor": 0
      },
      "text/plain": [
       "HBox(children=(VBox(children=(Accordion(children=(VBox(children=(IntText(value=30, description='Number of lags…"
      ]
     },
     "metadata": {},
     "output_type": "display_data"
    }
   ],
   "source": [
    "survey.variogram_gui()"
   ]
  },
  {
   "cell_type": "markdown",
   "metadata": {},
   "source": [
    "Once you have found a fit that works, click **`Save fit`** under the **`Optimize variogram parameters`** tab to add the updated results to your `Survey`-class object."
   ]
  },
  {
   "cell_type": "code",
   "execution_count": 23,
   "metadata": {},
   "outputs": [
    {
     "data": {
      "text/plain": [
       "{'model_fit': {'nugget': 9.999999999969277e-11,\n",
       "  'sill': 0.9426139842158918,\n",
       "  'correlation_range': 0.007951858895596499,\n",
       "  'decay_power': 1.48803677228496,\n",
       "  'hole_effect_range': 1e-10},\n",
       " 'optimization_settings': {'max_fun_evaluations': 500,\n",
       "  'cost_fun_tolerance': 1e-06,\n",
       "  'solution_tolerance': 1e-06,\n",
       "  'gradient_tolerance': 0.0001,\n",
       "  'finite_step_size': 1e-08,\n",
       "  'trust_region_solver': 'exact',\n",
       "  'x_scale': 'jacobian',\n",
       "  'jacobian_approx': 'central'},\n",
       " 'model': ['bessel', 'exponential']}"
      ]
     },
     "execution_count": 23,
     "metadata": {},
     "output_type": "execute_result"
    }
   ],
   "source": [
    "survey.results[\"variogram\"]"
   ]
  },
  {
   "cell_type": "markdown",
   "metadata": {},
   "source": [
    "## **`Survey.stratified_analysis(...)`**"
   ]
  },
  {
   "cell_type": "markdown",
   "metadata": {},
   "source": [
    "`Survey.stratified_analysis(...)` computes various stratified statistics, including the coefficient of variation (*CV*) estimates using the Jolly and Hampton (1990) stratified sampling method. There are a variety of arguments used for this function: \n",
    "* `dataset ('transect', 'kriging')`: data input selection (default: `'transect'`). This will use either the results of `Survey.transect_analysis(...)` or `Survey.kriging_analysis(...)`\n",
    "* `stratum ('ks','inpfc')`: the stratum used for the various acoustic and biological calculations (default: `'inpfc'`)\n",
    "* `variable( 'abundance' , 'biomass' , 'nasc')`: the data variable that will be used for the stratified resampling analysis (default: `'biomass'`)\n",
    "* `bootstrap_ci`: the confidence interval (default: `0.95`) used for copmuting the uncertainty intervals around population and coefficient of variation (*CV*) estimates\n",
    "* `bootstrap_ci_method`: the specific method/algorithm used for computing the bootstrap intervals (default: `'BCa'`)\n",
    "* `bootstrap_ci_method_alt`: an optional argument that provides an alternative `bootstrap_ci_method` in case of skewness issues\n",
    "* `bootstrap_adjust_bias`: a boolean argument (default: `True`) that determines whether the bootstrap intervals should be adjusted to account for the bootstrap bias\n",
    "* `verbose (boolean)`: dialogue messages will appear in the console including a summary report of the results when this is set to `True` (default: `True`)\n",
    "\n",
    "There are also analysis-specific optional arguments that are used depending on how `dataset` is defined:\n",
    "\n",
    "* `mesh_transect_per_latitude (integer)`: the number of virtual transects per degree latitude when `dataset = 'kriging'`\n",
    "* `transect_sample`: the resampling proportion used to resample transects within each stratum without replacement (default: inherits value from `Survey.config['stratified_survey_mean_parameters']`)\n",
    "* `transect_replicates`: the number of resampling iterations that will be run (default: inherits value from `Survey.config['stratified_survey_mean_parameters']`)\n"
   ]
  },
  {
   "cell_type": "code",
   "execution_count": 41,
   "metadata": {
    "tags": [
     "scroll-output"
    ]
   },
   "outputs": [
    {
     "name": "stdout",
     "output_type": "stream",
     "text": [
      "--------------------------------\n",
      " STRATIFIED RESULTS (TRANSECT)\n",
      "--------------------------------\n",
      "| Stratified variable: Biomass (kmt)\n",
      "| Number of transects: 113\n",
      "| Number of strata (INPFC): 6\n",
      "| Total area coverage: 53509.0 nmi^2\n",
      "| Age-1 fish excluded: True\n",
      "| Bootstrap replicates: 10000 samples\n",
      "| Resampling proportion: 0.75\n",
      "| Bootstrap interval method: BCa (CI: 95.0%)\n",
      "--------------------------------\n",
      "STRATUM-SPECIFIC ESTIMATES\n",
      "--------------------------------\n",
      "| Stratum area coverage (n = 6):\n",
      "    4246.0 | 10042.0 | 5774.0 | 7060.0 | 7068.0 | 19319.0 nmi^2\n",
      "| Stratum mean biomass density (kmt/nmi^2):\n",
      "    0.002 [-0.0, 0.003] | 0.041 [0.03, 0.046] | 0.057 [0.037, 0.067]\n",
      "    0.063 [0.046, 0.076] | 0.038 [0.025, 0.045] | 0.01 [0.005, 0.013]\n",
      "| Stratum mean biomass (kmt):\n",
      "    8.2 [-0.5, 11.0] | 417.3 [309.2, 462.2] | 327.3 [214.6, 386.6]\n",
      "    446.5 [326.2, 542.4] | 267.3 [178.8, 318.6] | 176.5 [75.1, 232.1]\n",
      "--------------------------------\n",
      "SURVEY RESULTS\n",
      "--------------------------------\n",
      "| Survey mean biomass density (kmt/nmi^2): 0.035 [0.031, 0.038]\n",
      "| Survey mean biomass (kmt): 1643.2 [1417.4, 1825.0]\n",
      "| Survey CV: 0.1328 [0.1283, 0.1465]\n",
      "--------------------------------\n"
     ]
    }
   ],
   "source": [
    "survey.stratified_analysis( dataset = 'transect' , stratum = 'inpfc' , variable = 'biomass' , bootstrap_ci = 0.95 , bootstrap_ci_method = \"BCa\" , bootstrap_ci_method_alt = \"t-jackknife\", verbose = True )"
   ]
  },
  {
   "cell_type": "markdown",
   "metadata": {},
   "source": [
    "```{warning}\n",
    "You cannot run `Survey.stratified_analysis( dataset = 'kriging' , ... )` unless you have already computed the kriging results via `Survey.kriging_analysis.\n",
    "```"
   ]
  },
  {
   "cell_type": "markdown",
   "metadata": {},
   "source": [
    "Depending on how `dataset` is parameterized, the intermediate and final results are stored within a sub-dictionary so the outputs from both `dataset = 'transect'` and `dataset = 'kriging'` can be compared. For `Survey.analysis`, these are separated immediately below the top-level dictionary: "
   ]
  },
  {
   "cell_type": "code",
   "execution_count": 26,
   "metadata": {},
   "outputs": [
    {
     "data": {
      "text/plain": [
       "dict_keys(['transect'])"
      ]
     },
     "execution_count": 26,
     "metadata": {},
     "output_type": "execute_result"
    }
   ],
   "source": [
    "survey.analysis[ 'stratified' ].keys( )"
   ]
  },
  {
   "cell_type": "markdown",
   "metadata": {},
   "source": [
    "Here the resampled distributions of multiple statistics can be directly accessed for additional uncertainty analyses and visualizing the underlying statistical distributions: "
   ]
  },
  {
   "cell_type": "code",
   "execution_count": 27,
   "metadata": {},
   "outputs": [
    {
     "data": {
      "text/plain": [
       "dict_keys(['stratified_replicates_df'])"
      ]
     },
     "execution_count": 27,
     "metadata": {},
     "output_type": "execute_result"
    }
   ],
   "source": [
    "survey.analysis[ 'stratified' ][ 'transect' ].keys()"
   ]
  },
  {
   "cell_type": "code",
   "execution_count": 28,
   "metadata": {},
   "outputs": [
    {
     "data": {
      "text/html": [
       "<div>\n",
       "<style scoped>\n",
       "    .dataframe tbody tr th:only-of-type {\n",
       "        vertical-align: middle;\n",
       "    }\n",
       "\n",
       "    .dataframe tbody tr th {\n",
       "        vertical-align: top;\n",
       "    }\n",
       "\n",
       "    .dataframe thead th {\n",
       "        text-align: right;\n",
       "    }\n",
       "</style>\n",
       "<table border=\"1\" class=\"dataframe\">\n",
       "  <thead>\n",
       "    <tr style=\"text-align: right;\">\n",
       "      <th></th>\n",
       "      <th>realization</th>\n",
       "      <th>unweighted_survey_density</th>\n",
       "      <th>unweighted_survey_total</th>\n",
       "      <th>weighted_survey_total</th>\n",
       "      <th>weighted_survey_variance</th>\n",
       "      <th>survey_cv</th>\n",
       "    </tr>\n",
       "  </thead>\n",
       "  <tbody>\n",
       "    <tr>\n",
       "      <th>0</th>\n",
       "      <td>1</td>\n",
       "      <td>31655.306244</td>\n",
       "      <td>1.693844e+09</td>\n",
       "      <td>8.965528e+11</td>\n",
       "      <td>1.350835e+22</td>\n",
       "      <td>0.129636</td>\n",
       "    </tr>\n",
       "    <tr>\n",
       "      <th>1</th>\n",
       "      <td>2</td>\n",
       "      <td>28991.180148</td>\n",
       "      <td>1.551289e+09</td>\n",
       "      <td>8.308540e+11</td>\n",
       "      <td>1.147280e+22</td>\n",
       "      <td>0.128917</td>\n",
       "    </tr>\n",
       "    <tr>\n",
       "      <th>2</th>\n",
       "      <td>3</td>\n",
       "      <td>30398.111427</td>\n",
       "      <td>1.626572e+09</td>\n",
       "      <td>8.521054e+11</td>\n",
       "      <td>1.271536e+22</td>\n",
       "      <td>0.132334</td>\n",
       "    </tr>\n",
       "    <tr>\n",
       "      <th>3</th>\n",
       "      <td>4</td>\n",
       "      <td>29589.815642</td>\n",
       "      <td>1.583321e+09</td>\n",
       "      <td>7.952773e+11</td>\n",
       "      <td>1.207085e+22</td>\n",
       "      <td>0.138150</td>\n",
       "    </tr>\n",
       "    <tr>\n",
       "      <th>4</th>\n",
       "      <td>5</td>\n",
       "      <td>29297.810263</td>\n",
       "      <td>1.567696e+09</td>\n",
       "      <td>8.139463e+11</td>\n",
       "      <td>1.184596e+22</td>\n",
       "      <td>0.133718</td>\n",
       "    </tr>\n",
       "    <tr>\n",
       "      <th>...</th>\n",
       "      <td>...</td>\n",
       "      <td>...</td>\n",
       "      <td>...</td>\n",
       "      <td>...</td>\n",
       "      <td>...</td>\n",
       "      <td>...</td>\n",
       "    </tr>\n",
       "    <tr>\n",
       "      <th>9995</th>\n",
       "      <td>9996</td>\n",
       "      <td>28333.429587</td>\n",
       "      <td>1.516093e+09</td>\n",
       "      <td>7.876042e+11</td>\n",
       "      <td>1.106522e+22</td>\n",
       "      <td>0.133559</td>\n",
       "    </tr>\n",
       "    <tr>\n",
       "      <th>9996</th>\n",
       "      <td>9997</td>\n",
       "      <td>33293.751742</td>\n",
       "      <td>1.781515e+09</td>\n",
       "      <td>9.262805e+11</td>\n",
       "      <td>1.517008e+22</td>\n",
       "      <td>0.132969</td>\n",
       "    </tr>\n",
       "    <tr>\n",
       "      <th>9997</th>\n",
       "      <td>9998</td>\n",
       "      <td>27751.804583</td>\n",
       "      <td>1.484971e+09</td>\n",
       "      <td>7.491701e+11</td>\n",
       "      <td>1.145281e+22</td>\n",
       "      <td>0.142848</td>\n",
       "    </tr>\n",
       "    <tr>\n",
       "      <th>9998</th>\n",
       "      <td>9999</td>\n",
       "      <td>28916.711688</td>\n",
       "      <td>1.547304e+09</td>\n",
       "      <td>8.315393e+11</td>\n",
       "      <td>1.179917e+22</td>\n",
       "      <td>0.130630</td>\n",
       "    </tr>\n",
       "    <tr>\n",
       "      <th>9999</th>\n",
       "      <td>10000</td>\n",
       "      <td>28934.369745</td>\n",
       "      <td>1.548249e+09</td>\n",
       "      <td>8.427457e+11</td>\n",
       "      <td>1.189358e+22</td>\n",
       "      <td>0.129408</td>\n",
       "    </tr>\n",
       "  </tbody>\n",
       "</table>\n",
       "<p>10000 rows × 6 columns</p>\n",
       "</div>"
      ],
      "text/plain": [
       "      realization  unweighted_survey_density  unweighted_survey_total  \\\n",
       "0               1               31655.306244             1.693844e+09   \n",
       "1               2               28991.180148             1.551289e+09   \n",
       "2               3               30398.111427             1.626572e+09   \n",
       "3               4               29589.815642             1.583321e+09   \n",
       "4               5               29297.810263             1.567696e+09   \n",
       "...           ...                        ...                      ...   \n",
       "9995         9996               28333.429587             1.516093e+09   \n",
       "9996         9997               33293.751742             1.781515e+09   \n",
       "9997         9998               27751.804583             1.484971e+09   \n",
       "9998         9999               28916.711688             1.547304e+09   \n",
       "9999        10000               28934.369745             1.548249e+09   \n",
       "\n",
       "      weighted_survey_total  weighted_survey_variance  survey_cv  \n",
       "0              8.965528e+11              1.350835e+22   0.129636  \n",
       "1              8.308540e+11              1.147280e+22   0.128917  \n",
       "2              8.521054e+11              1.271536e+22   0.132334  \n",
       "3              7.952773e+11              1.207085e+22   0.138150  \n",
       "4              8.139463e+11              1.184596e+22   0.133718  \n",
       "...                     ...                       ...        ...  \n",
       "9995           7.876042e+11              1.106522e+22   0.133559  \n",
       "9996           9.262805e+11              1.517008e+22   0.132969  \n",
       "9997           7.491701e+11              1.145281e+22   0.142848  \n",
       "9998           8.315393e+11              1.179917e+22   0.130630  \n",
       "9999           8.427457e+11              1.189358e+22   0.129408  \n",
       "\n",
       "[10000 rows x 6 columns]"
      ]
     },
     "execution_count": 28,
     "metadata": {},
     "output_type": "execute_result"
    }
   ],
   "source": [
    "survey.analysis[ 'stratified' ][ 'transect' ][ 'stratified_replicates_df' ]"
   ]
  },
  {
   "cell_type": "markdown",
   "metadata": {},
   "source": [
    "The final results stored within `Survey.results` are formatted in an identical way:"
   ]
  },
  {
   "cell_type": "code",
   "execution_count": 29,
   "metadata": {},
   "outputs": [
    {
     "data": {
      "text/plain": [
       "dict_keys(['transect'])"
      ]
     },
     "execution_count": 29,
     "metadata": {},
     "output_type": "execute_result"
    }
   ],
   "source": [
    "survey.results[ 'stratified' ].keys( )"
   ]
  },
  {
   "cell_type": "code",
   "execution_count": 30,
   "metadata": {},
   "outputs": [
    {
     "data": {
      "text/plain": [
       "dict_keys(['variable', 'ci_percentile', 'num_transects', 'stratum_area', 'total_area', 'estimate', 'ci', 'bias'])"
      ]
     },
     "execution_count": 30,
     "metadata": {},
     "output_type": "execute_result"
    }
   ],
   "source": [
    "survey.results[ 'stratified' ][ 'transect' ].keys()"
   ]
  },
  {
   "cell_type": "code",
   "execution_count": 31,
   "metadata": {
    "tags": [
     "scroll-output"
    ]
   },
   "outputs": [
    {
     "name": "stdout",
     "output_type": "stream",
     "text": [
      "{'bias': {'strata': {'density': array([   193.96325158, -12560.33414499,  11929.59836116,   1989.40748471,\n",
      "         2628.43292714,  -2751.97667212]),\n",
      "                     'proportion': array([ 0.00039268,  0.0006178 ,  0.00653998, -0.00532383, -0.00268681,\n",
      "        0.00046018]),\n",
      "                     'total': array([ 5.69616189e+05, -1.31391125e+08,  7.05242016e+07,  1.00116984e+07,\n",
      "        1.84513426e+07, -3.33495466e+07])},\n",
      "          'survey': {'cv': 0.0,\n",
      "                     'density': -5596.023793829252,\n",
      "                     'total': -65183813.17214823}},\n",
      " 'ci': {'strata': {'density': [array([-193.96325158, 2499.53181979]),\n",
      "                               array([30382.17342179, 45486.02397884]),\n",
      "                               array([37368.14422708, 67098.09159068]),\n",
      "                               array([45619.40207899, 76325.09536548]),\n",
      "                               array([25303.0768114 , 45079.95029436]),\n",
      "                               array([ 4939.20833666, 13024.90836066])],\n",
      "                   'proportion': [array([-0.00039268,  0.00648097]),\n",
      "                                  array([0.19008614, 0.30138192]),\n",
      "                                  array([0.1520135 , 0.23905517]),\n",
      "                                  array([0.20723541, 0.32418469]),\n",
      "                                  array([0.11885702, 0.19870254]),\n",
      "                                  array([0.04128163, 0.13241507])],\n",
      "                   'total': [array([ -569616.18916254, 10868248.05712733]),\n",
      "                             array([3.10358242e+08, 4.62031284e+08]),\n",
      "                             array([2.14117223e+08, 3.85775682e+08]),\n",
      "                             array([3.26104811e+08, 5.42885918e+08]),\n",
      "                             array([1.78962795e+08, 3.18741650e+08]),\n",
      "                             array([7.56042968e+07, 2.31810537e+08])]},\n",
      "        'survey': {'cv': array([0.12836916, 0.14686483]),\n",
      "                   'density': array([31132.96814526, 38455.27935803]),\n",
      "                   'total': array([1.43164010e+09, 1.82344963e+09])}},\n",
      " 'ci_percentile': 0.95,\n",
      " 'estimate': {'strata': {'density': array([ 1865.95769521, 41034.31315604, 56975.28564271, 62677.77872802,\n",
      "       37805.71314932, 10162.75826037]),\n",
      "                         'proportion': array([0.0049767 , 0.25396995, 0.1991994 , 0.2717456 , 0.1626865 ,\n",
      "       0.10742185]),\n",
      "                         'total': array([8.17779026e+06, 4.17327152e+08, 3.27327369e+08, 4.46536346e+08,\n",
      "       2.67328845e+08, 1.76517154e+08])},\n",
      "              'survey': {'cv': 0.13279614031465747,\n",
      "                         'density': 35086.96777194492,\n",
      "                         'total': 1643214656.7113335}},\n",
      " 'num_transects': 113,\n",
      " 'stratum_area': array([ 4246.47676837, 10042.01157457,  5773.92410464,  7059.96458516,\n",
      "        7067.79332245, 19318.82700719]),\n",
      " 'total_area': 53508.99736238332,\n",
      " 'variable': 'biomass'}\n"
     ]
    }
   ],
   "source": [
    "pprint.pprint( survey.results[ 'stratified' ][ 'transect' ])"
   ]
  },
  {
   "cell_type": "markdown",
   "metadata": {},
   "source": [
    "## **`Survey.kriging_analysis(...)`**"
   ]
  },
  {
   "cell_type": "markdown",
   "metadata": {},
   "source": [
    "`Survey.kriging_analysis(...)` computes the kriged estimates for the target variable via ordinary kriging with an adaptive search radius. The arguments to `Survey.kriging_analysis(...)` include:\n",
    "* `coordinate_transform (boolean)`: when `True`, the transect and mesh longitude/latitude coordinates are transformed to a standardized format as x/y (default: `True`)\n",
    "* `crop_method ('transect_ends', 'convex_hull')`: when `extrapolate = False`, this determines the method used for cropping the kriging mesh. Setting `crop_method = 'transect_ends'` (*default*) resamples the latitudinal resolution of the mesh grid and interpolates over the extent of the eastern and western endpoints of each transect line. This is conducted in a piece-wise fashion to account for the island of Haida Gwaii. Setting `crop_method = 'convex_hull'` uses a polygon-based approach for cropping the mesh grid based on the survey extent.\n",
    "* `extrapolate(boolean)`: when `True`, the entire kriging mesh is used. Otherwise, different methods are used to crop the kriging mesh to limit extrapolation beyond the extent of the survey transects. \n",
    "* `stratum ('ks','inpfc')`: the stratum used for mapping the defined kriged `variable` (default: `'ks'`) \n",
    "* `variable(string)`: the data variable that will be used for the kriging analysis (default: `'biomass_density'`)\n",
    "* `verbose (boolean)`: dialogue messages will appear in the console including a summary report of the results when this is set to `True` (default: `True`)\n",
    "\n",
    "There are also analysis-specific optional arguments that are used depending on how `crop_method` is defined:\n",
    "* When `crop_method = 'transect_ends'`:\n",
    "  * `latitude_resolution (float)`: the updated latitudinal resolution (**in nmi**) used for interpolation\n",
    "* When `crop_method = 'convex_hull'`:\n",
    "  * `mesh_buffer_distance`: this is a dilation factor (**in nmi**) that expands/buffers the extent of the polygon defining the survey extent (default: `1.25`)\n",
    "  * `num_nearest_transects`: this defines the number of nearest neighboring transects used for generating smaller polygons that are then constructed into the survey-wide polygon\n",
    "\n",
    "Lastly, there are additional arguments that are optional since they are otherwise inherited from various parts of the `Survey` object: \n",
    "* `kriging_parameters (dictionary)`: a dictionary containing various kriging parameter variables and arguments\n",
    "* `projection (string)`: an EPSG string that defines the mapping projection\n",
    "* `variogram_parameters (dictionary)`: a dictionary containing various variogram parameter variables and arguments\n",
    "* `best_fit_variogram (boolean)`: a boolean argument that dictates whether to use optimized variogram parameters (see above details for `Survey.fit_variogram()` and `Survey.variogram_gui()`)"
   ]
  },
  {
   "cell_type": "code",
   "execution_count": 18,
   "metadata": {},
   "outputs": [
    {
     "name": "stdout",
     "output_type": "stream",
     "text": [
      "Longitude and latitude coordinates (WGS84) converted to standardized coordinates (x and y).\n",
      "Extrapolation applied to kriging mesh points (81 of 9463):\n",
      "            * 77 points had 0 valid range estimates without extrapolation\n",
      "            * 4 points had at least 1 valid point but fewer than 3 valid neighbors\n",
      "Imputed apportioned unaged male biomass at length bins:\n",
      "(17.0, 19.0], (59.0, 61.0], (61.0, 63.0], (63.0, 65.0], (65.0, 67.0], (67.0, 69.0], (69.0, 71.0], (71.0, 73.0], (73.0, 75.0], (75.0, 77.0]\n",
      "Imputed apportioned unaged female biomass at length bins:\n",
      "(17.0, 19.0], (73.0, 75.0], (75.0, 77.0]\n",
      "--------------------------------\n",
      "KRIGING RESULTS (MESH)\n",
      "--------------------------------\n",
      "| Kriged variable: Biomass density (kg/nmi^2)\n",
      "| Age-1 fish excluded: True\n",
      "| Stratum definition: KS\n",
      "| Mesh extrapolation: False\n",
      "    Mesh cropping method: Transect ends\n",
      "| Mesh and transect coordinate standardization: True\n",
      "--------------------------------\n",
      "GENERAL RESULTS\n",
      "--------------------------------\n",
      "| Mean biomassdensity: 27804.61 kg/nmi^2\n",
      "| Total survey biomass estimate: 1644.31 kmt\n",
      "| Mean mesh sample CV: 0.0239\n",
      "| Overall survey CV: 0.0268\n",
      "| Total area coverage: 58186.9 nmi^2\n",
      "--------------------------------\n"
     ]
    }
   ],
   "source": [
    "survey.kriging_analysis( bearing_tolerance = 15.0 , coordinate_transform = True , crop_method = 'transect_ends' , extrapolate = False , latitude_resolution = 1.25 , stratum = 'ks' , variable = 'biomass_density' , verbose = True )"
   ]
  },
  {
   "cell_type": "markdown",
   "metadata": {},
   "source": [
    "There are then various results stored within `Survey.results[ 'kriging' ]`:"
   ]
  },
  {
   "cell_type": "code",
   "execution_count": 25,
   "metadata": {},
   "outputs": [
    {
     "data": {
      "text/plain": [
       "dict_keys(['variable', 'survey_mean', 'survey_estimate', 'survey_cv', 'mesh_results_df', 'tables'])"
      ]
     },
     "execution_count": 25,
     "metadata": {},
     "output_type": "execute_result"
    }
   ],
   "source": [
    "survey.results[ 'kriging' ].keys()"
   ]
  },
  {
   "cell_type": "markdown",
   "metadata": {},
   "source": [
    "Some of these values are single values:"
   ]
  },
  {
   "cell_type": "code",
   "execution_count": 26,
   "metadata": {},
   "outputs": [
    {
     "name": "stdout",
     "output_type": "stream",
     "text": [
      "['biomass_density', 27807.10994608753, 1644447357.8872852, 0.02693646385644838]\n"
     ]
    }
   ],
   "source": [
    "pprint.pprint( [survey.results['kriging'].get(key) for key in ['variable' , 'survey_mean' , 'survey_estimate' , 'survey_cv'] ] )"
   ]
  },
  {
   "cell_type": "markdown",
   "metadata": {},
   "source": [
    "The meshed results can also be retrieved:"
   ]
  },
  {
   "cell_type": "code",
   "execution_count": 27,
   "metadata": {},
   "outputs": [
    {
     "data": {
      "text/html": [
       "<div>\n",
       "<style scoped>\n",
       "    .dataframe tbody tr th:only-of-type {\n",
       "        vertical-align: middle;\n",
       "    }\n",
       "\n",
       "    .dataframe tbody tr th {\n",
       "        vertical-align: top;\n",
       "    }\n",
       "\n",
       "    .dataframe thead th {\n",
       "        text-align: right;\n",
       "    }\n",
       "</style>\n",
       "<table border=\"1\" class=\"dataframe\">\n",
       "  <thead>\n",
       "    <tr style=\"text-align: right;\">\n",
       "      <th></th>\n",
       "      <th>latitude</th>\n",
       "      <th>longitude</th>\n",
       "      <th>area</th>\n",
       "      <th>kriged_mean</th>\n",
       "      <th>kriged_variance</th>\n",
       "      <th>sample_variance</th>\n",
       "      <th>sample_cv</th>\n",
       "      <th>biomass</th>\n",
       "      <th>stratum_num</th>\n",
       "    </tr>\n",
       "  </thead>\n",
       "  <tbody>\n",
       "    <tr>\n",
       "      <th>1</th>\n",
       "      <td>49.057959</td>\n",
       "      <td>-126.024127</td>\n",
       "      <td>6.250000</td>\n",
       "      <td>0.00000</td>\n",
       "      <td>0.027817</td>\n",
       "      <td>NaN</td>\n",
       "      <td>0.007911</td>\n",
       "      <td>0.000000</td>\n",
       "      <td>7</td>\n",
       "    </tr>\n",
       "    <tr>\n",
       "      <th>2</th>\n",
       "      <td>49.016196</td>\n",
       "      <td>-126.024110</td>\n",
       "      <td>6.250000</td>\n",
       "      <td>0.00000</td>\n",
       "      <td>0.246388</td>\n",
       "      <td>NaN</td>\n",
       "      <td>0.023545</td>\n",
       "      <td>0.000000</td>\n",
       "      <td>7</td>\n",
       "    </tr>\n",
       "    <tr>\n",
       "      <th>3</th>\n",
       "      <td>48.974438</td>\n",
       "      <td>-126.024093</td>\n",
       "      <td>6.250000</td>\n",
       "      <td>0.00000</td>\n",
       "      <td>0.530815</td>\n",
       "      <td>NaN</td>\n",
       "      <td>0.034559</td>\n",
       "      <td>0.000000</td>\n",
       "      <td>7</td>\n",
       "    </tr>\n",
       "    <tr>\n",
       "      <th>4</th>\n",
       "      <td>48.932686</td>\n",
       "      <td>-126.024076</td>\n",
       "      <td>6.250000</td>\n",
       "      <td>51334.44202</td>\n",
       "      <td>0.669093</td>\n",
       "      <td>1.164446</td>\n",
       "      <td>0.038800</td>\n",
       "      <td>320840.262622</td>\n",
       "      <td>7</td>\n",
       "    </tr>\n",
       "    <tr>\n",
       "      <th>5</th>\n",
       "      <td>48.890939</td>\n",
       "      <td>-126.024060</td>\n",
       "      <td>6.250000</td>\n",
       "      <td>0.00000</td>\n",
       "      <td>0.711263</td>\n",
       "      <td>NaN</td>\n",
       "      <td>0.040004</td>\n",
       "      <td>0.000000</td>\n",
       "      <td>8</td>\n",
       "    </tr>\n",
       "    <tr>\n",
       "      <th>...</th>\n",
       "      <td>...</td>\n",
       "      <td>...</td>\n",
       "      <td>...</td>\n",
       "      <td>...</td>\n",
       "      <td>...</td>\n",
       "      <td>...</td>\n",
       "      <td>...</td>\n",
       "      <td>...</td>\n",
       "      <td>...</td>\n",
       "    </tr>\n",
       "    <tr>\n",
       "      <th>19804</th>\n",
       "      <td>52.895008</td>\n",
       "      <td>-132.337719</td>\n",
       "      <td>0.011343</td>\n",
       "      <td>0.00000</td>\n",
       "      <td>0.902214</td>\n",
       "      <td>NaN</td>\n",
       "      <td>0.045055</td>\n",
       "      <td>0.000000</td>\n",
       "      <td>1</td>\n",
       "    </tr>\n",
       "    <tr>\n",
       "      <th>19806</th>\n",
       "      <td>52.813140</td>\n",
       "      <td>-132.260812</td>\n",
       "      <td>0.009924</td>\n",
       "      <td>0.00000</td>\n",
       "      <td>0.487711</td>\n",
       "      <td>NaN</td>\n",
       "      <td>0.033126</td>\n",
       "      <td>0.000000</td>\n",
       "      <td>1</td>\n",
       "    </tr>\n",
       "    <tr>\n",
       "      <th>19814</th>\n",
       "      <td>38.025533</td>\n",
       "      <td>-123.013372</td>\n",
       "      <td>0.006006</td>\n",
       "      <td>0.00000</td>\n",
       "      <td>0.298523</td>\n",
       "      <td>NaN</td>\n",
       "      <td>0.025917</td>\n",
       "      <td>0.000000</td>\n",
       "      <td>5</td>\n",
       "    </tr>\n",
       "    <tr>\n",
       "      <th>19830</th>\n",
       "      <td>35.646423</td>\n",
       "      <td>-121.257388</td>\n",
       "      <td>0.001815</td>\n",
       "      <td>0.00000</td>\n",
       "      <td>0.312910</td>\n",
       "      <td>NaN</td>\n",
       "      <td>0.026534</td>\n",
       "      <td>0.000000</td>\n",
       "      <td>3</td>\n",
       "    </tr>\n",
       "    <tr>\n",
       "      <th>19831</th>\n",
       "      <td>51.789454</td>\n",
       "      <td>-128.241684</td>\n",
       "      <td>0.001462</td>\n",
       "      <td>0.00000</td>\n",
       "      <td>1.258324</td>\n",
       "      <td>NaN</td>\n",
       "      <td>0.053209</td>\n",
       "      <td>0.000000</td>\n",
       "      <td>1</td>\n",
       "    </tr>\n",
       "  </tbody>\n",
       "</table>\n",
       "<p>9463 rows × 9 columns</p>\n",
       "</div>"
      ],
      "text/plain": [
       "        latitude   longitude      area  kriged_mean  kriged_variance  \\\n",
       "1      49.057959 -126.024127  6.250000      0.00000         0.027817   \n",
       "2      49.016196 -126.024110  6.250000      0.00000         0.246388   \n",
       "3      48.974438 -126.024093  6.250000      0.00000         0.530815   \n",
       "4      48.932686 -126.024076  6.250000  51334.44202         0.669093   \n",
       "5      48.890939 -126.024060  6.250000      0.00000         0.711263   \n",
       "...          ...         ...       ...          ...              ...   \n",
       "19804  52.895008 -132.337719  0.011343      0.00000         0.902214   \n",
       "19806  52.813140 -132.260812  0.009924      0.00000         0.487711   \n",
       "19814  38.025533 -123.013372  0.006006      0.00000         0.298523   \n",
       "19830  35.646423 -121.257388  0.001815      0.00000         0.312910   \n",
       "19831  51.789454 -128.241684  0.001462      0.00000         1.258324   \n",
       "\n",
       "       sample_variance  sample_cv        biomass stratum_num  \n",
       "1                  NaN   0.007911       0.000000           7  \n",
       "2                  NaN   0.023545       0.000000           7  \n",
       "3                  NaN   0.034559       0.000000           7  \n",
       "4             1.164446   0.038800  320840.262622           7  \n",
       "5                  NaN   0.040004       0.000000           8  \n",
       "...                ...        ...            ...         ...  \n",
       "19804              NaN   0.045055       0.000000           1  \n",
       "19806              NaN   0.033126       0.000000           1  \n",
       "19814              NaN   0.025917       0.000000           5  \n",
       "19830              NaN   0.026534       0.000000           3  \n",
       "19831              NaN   0.053209       0.000000           1  \n",
       "\n",
       "[9463 rows x 9 columns]"
      ]
     },
     "execution_count": 27,
     "metadata": {},
     "output_type": "execute_result"
    }
   ],
   "source": [
    "survey.results[ 'kriging' ][ 'mesh_results_df' ]"
   ]
  },
  {
   "cell_type": "markdown",
   "metadata": {},
   "source": [
    "The `tables` sub-dictionary includes the sum of each variable distributed over age, length, and sex (in this case, `variable = biomass_density` produces estimates of kriged `biomass` for these tables).\n",
    "\n",
    "Biomass distributed over age, length, and sex for aged fish:"
   ]
  },
  {
   "cell_type": "code",
   "execution_count": 28,
   "metadata": {},
   "outputs": [
    {
     "data": {
      "text/html": [
       "<div>\n",
       "<style scoped>\n",
       "    .dataframe tbody tr th:only-of-type {\n",
       "        vertical-align: middle;\n",
       "    }\n",
       "\n",
       "    .dataframe tbody tr th {\n",
       "        vertical-align: top;\n",
       "    }\n",
       "\n",
       "    .dataframe thead th {\n",
       "        text-align: right;\n",
       "    }\n",
       "</style>\n",
       "<table border=\"1\" class=\"dataframe\">\n",
       "  <thead>\n",
       "    <tr style=\"text-align: right;\">\n",
       "      <th></th>\n",
       "      <th>age_bin</th>\n",
       "      <th>(0.5, 1.5]</th>\n",
       "      <th>(1.5, 2.5]</th>\n",
       "      <th>(2.5, 3.5]</th>\n",
       "      <th>(3.5, 4.5]</th>\n",
       "      <th>(4.5, 5.5]</th>\n",
       "      <th>(5.5, 6.5]</th>\n",
       "      <th>(6.5, 7.5]</th>\n",
       "      <th>(7.5, 8.5]</th>\n",
       "      <th>(8.5, 9.5]</th>\n",
       "      <th>(9.5, 10.5]</th>\n",
       "      <th>...</th>\n",
       "      <th>(12.5, 13.5]</th>\n",
       "      <th>(13.5, 14.5]</th>\n",
       "      <th>(14.5, 15.5]</th>\n",
       "      <th>(15.5, 16.5]</th>\n",
       "      <th>(16.5, 17.5]</th>\n",
       "      <th>(17.5, 18.5]</th>\n",
       "      <th>(18.5, 19.5]</th>\n",
       "      <th>(19.5, 20.5]</th>\n",
       "      <th>(20.5, 21.5]</th>\n",
       "      <th>(21.5, 22.5]</th>\n",
       "    </tr>\n",
       "    <tr>\n",
       "      <th>sex</th>\n",
       "      <th>length_bin</th>\n",
       "      <th></th>\n",
       "      <th></th>\n",
       "      <th></th>\n",
       "      <th></th>\n",
       "      <th></th>\n",
       "      <th></th>\n",
       "      <th></th>\n",
       "      <th></th>\n",
       "      <th></th>\n",
       "      <th></th>\n",
       "      <th></th>\n",
       "      <th></th>\n",
       "      <th></th>\n",
       "      <th></th>\n",
       "      <th></th>\n",
       "      <th></th>\n",
       "      <th></th>\n",
       "      <th></th>\n",
       "      <th></th>\n",
       "      <th></th>\n",
       "      <th></th>\n",
       "    </tr>\n",
       "  </thead>\n",
       "  <tbody>\n",
       "    <tr>\n",
       "      <th rowspan=\"5\" valign=\"top\">female</th>\n",
       "      <th>(1.0, 3.0]</th>\n",
       "      <td>0.0</td>\n",
       "      <td>0.0</td>\n",
       "      <td>0.0</td>\n",
       "      <td>0.0</td>\n",
       "      <td>0.0</td>\n",
       "      <td>0.0</td>\n",
       "      <td>0.0</td>\n",
       "      <td>0.0</td>\n",
       "      <td>0.0</td>\n",
       "      <td>0.0</td>\n",
       "      <td>...</td>\n",
       "      <td>0.0</td>\n",
       "      <td>0.0</td>\n",
       "      <td>0.0</td>\n",
       "      <td>0.0</td>\n",
       "      <td>0.0</td>\n",
       "      <td>0.0</td>\n",
       "      <td>0.0</td>\n",
       "      <td>0.0</td>\n",
       "      <td>0.0</td>\n",
       "      <td>0.0</td>\n",
       "    </tr>\n",
       "    <tr>\n",
       "      <th>(3.0, 5.0]</th>\n",
       "      <td>0.0</td>\n",
       "      <td>0.0</td>\n",
       "      <td>0.0</td>\n",
       "      <td>0.0</td>\n",
       "      <td>0.0</td>\n",
       "      <td>0.0</td>\n",
       "      <td>0.0</td>\n",
       "      <td>0.0</td>\n",
       "      <td>0.0</td>\n",
       "      <td>0.0</td>\n",
       "      <td>...</td>\n",
       "      <td>0.0</td>\n",
       "      <td>0.0</td>\n",
       "      <td>0.0</td>\n",
       "      <td>0.0</td>\n",
       "      <td>0.0</td>\n",
       "      <td>0.0</td>\n",
       "      <td>0.0</td>\n",
       "      <td>0.0</td>\n",
       "      <td>0.0</td>\n",
       "      <td>0.0</td>\n",
       "    </tr>\n",
       "    <tr>\n",
       "      <th>(5.0, 7.0]</th>\n",
       "      <td>0.0</td>\n",
       "      <td>0.0</td>\n",
       "      <td>0.0</td>\n",
       "      <td>0.0</td>\n",
       "      <td>0.0</td>\n",
       "      <td>0.0</td>\n",
       "      <td>0.0</td>\n",
       "      <td>0.0</td>\n",
       "      <td>0.0</td>\n",
       "      <td>0.0</td>\n",
       "      <td>...</td>\n",
       "      <td>0.0</td>\n",
       "      <td>0.0</td>\n",
       "      <td>0.0</td>\n",
       "      <td>0.0</td>\n",
       "      <td>0.0</td>\n",
       "      <td>0.0</td>\n",
       "      <td>0.0</td>\n",
       "      <td>0.0</td>\n",
       "      <td>0.0</td>\n",
       "      <td>0.0</td>\n",
       "    </tr>\n",
       "    <tr>\n",
       "      <th>(7.0, 9.0]</th>\n",
       "      <td>0.0</td>\n",
       "      <td>0.0</td>\n",
       "      <td>0.0</td>\n",
       "      <td>0.0</td>\n",
       "      <td>0.0</td>\n",
       "      <td>0.0</td>\n",
       "      <td>0.0</td>\n",
       "      <td>0.0</td>\n",
       "      <td>0.0</td>\n",
       "      <td>0.0</td>\n",
       "      <td>...</td>\n",
       "      <td>0.0</td>\n",
       "      <td>0.0</td>\n",
       "      <td>0.0</td>\n",
       "      <td>0.0</td>\n",
       "      <td>0.0</td>\n",
       "      <td>0.0</td>\n",
       "      <td>0.0</td>\n",
       "      <td>0.0</td>\n",
       "      <td>0.0</td>\n",
       "      <td>0.0</td>\n",
       "    </tr>\n",
       "    <tr>\n",
       "      <th>(9.0, 11.0]</th>\n",
       "      <td>0.0</td>\n",
       "      <td>0.0</td>\n",
       "      <td>0.0</td>\n",
       "      <td>0.0</td>\n",
       "      <td>0.0</td>\n",
       "      <td>0.0</td>\n",
       "      <td>0.0</td>\n",
       "      <td>0.0</td>\n",
       "      <td>0.0</td>\n",
       "      <td>0.0</td>\n",
       "      <td>...</td>\n",
       "      <td>0.0</td>\n",
       "      <td>0.0</td>\n",
       "      <td>0.0</td>\n",
       "      <td>0.0</td>\n",
       "      <td>0.0</td>\n",
       "      <td>0.0</td>\n",
       "      <td>0.0</td>\n",
       "      <td>0.0</td>\n",
       "      <td>0.0</td>\n",
       "      <td>0.0</td>\n",
       "    </tr>\n",
       "    <tr>\n",
       "      <th>...</th>\n",
       "      <th>...</th>\n",
       "      <td>...</td>\n",
       "      <td>...</td>\n",
       "      <td>...</td>\n",
       "      <td>...</td>\n",
       "      <td>...</td>\n",
       "      <td>...</td>\n",
       "      <td>...</td>\n",
       "      <td>...</td>\n",
       "      <td>...</td>\n",
       "      <td>...</td>\n",
       "      <td>...</td>\n",
       "      <td>...</td>\n",
       "      <td>...</td>\n",
       "      <td>...</td>\n",
       "      <td>...</td>\n",
       "      <td>...</td>\n",
       "      <td>...</td>\n",
       "      <td>...</td>\n",
       "      <td>...</td>\n",
       "      <td>...</td>\n",
       "      <td>...</td>\n",
       "    </tr>\n",
       "    <tr>\n",
       "      <th rowspan=\"5\" valign=\"top\">male</th>\n",
       "      <th>(71.0, 73.0]</th>\n",
       "      <td>0.0</td>\n",
       "      <td>0.0</td>\n",
       "      <td>0.0</td>\n",
       "      <td>0.0</td>\n",
       "      <td>0.0</td>\n",
       "      <td>0.0</td>\n",
       "      <td>0.0</td>\n",
       "      <td>0.0</td>\n",
       "      <td>0.0</td>\n",
       "      <td>0.0</td>\n",
       "      <td>...</td>\n",
       "      <td>0.0</td>\n",
       "      <td>0.0</td>\n",
       "      <td>0.0</td>\n",
       "      <td>0.0</td>\n",
       "      <td>0.0</td>\n",
       "      <td>0.0</td>\n",
       "      <td>0.0</td>\n",
       "      <td>0.0</td>\n",
       "      <td>0.0</td>\n",
       "      <td>0.0</td>\n",
       "    </tr>\n",
       "    <tr>\n",
       "      <th>(73.0, 75.0]</th>\n",
       "      <td>0.0</td>\n",
       "      <td>0.0</td>\n",
       "      <td>0.0</td>\n",
       "      <td>0.0</td>\n",
       "      <td>0.0</td>\n",
       "      <td>0.0</td>\n",
       "      <td>0.0</td>\n",
       "      <td>0.0</td>\n",
       "      <td>0.0</td>\n",
       "      <td>0.0</td>\n",
       "      <td>...</td>\n",
       "      <td>0.0</td>\n",
       "      <td>0.0</td>\n",
       "      <td>0.0</td>\n",
       "      <td>0.0</td>\n",
       "      <td>0.0</td>\n",
       "      <td>0.0</td>\n",
       "      <td>0.0</td>\n",
       "      <td>0.0</td>\n",
       "      <td>0.0</td>\n",
       "      <td>0.0</td>\n",
       "    </tr>\n",
       "    <tr>\n",
       "      <th>(75.0, 77.0]</th>\n",
       "      <td>0.0</td>\n",
       "      <td>0.0</td>\n",
       "      <td>0.0</td>\n",
       "      <td>0.0</td>\n",
       "      <td>0.0</td>\n",
       "      <td>0.0</td>\n",
       "      <td>0.0</td>\n",
       "      <td>0.0</td>\n",
       "      <td>0.0</td>\n",
       "      <td>0.0</td>\n",
       "      <td>...</td>\n",
       "      <td>0.0</td>\n",
       "      <td>0.0</td>\n",
       "      <td>0.0</td>\n",
       "      <td>0.0</td>\n",
       "      <td>0.0</td>\n",
       "      <td>0.0</td>\n",
       "      <td>0.0</td>\n",
       "      <td>0.0</td>\n",
       "      <td>0.0</td>\n",
       "      <td>0.0</td>\n",
       "    </tr>\n",
       "    <tr>\n",
       "      <th>(77.0, 79.0]</th>\n",
       "      <td>0.0</td>\n",
       "      <td>0.0</td>\n",
       "      <td>0.0</td>\n",
       "      <td>0.0</td>\n",
       "      <td>0.0</td>\n",
       "      <td>0.0</td>\n",
       "      <td>0.0</td>\n",
       "      <td>0.0</td>\n",
       "      <td>0.0</td>\n",
       "      <td>0.0</td>\n",
       "      <td>...</td>\n",
       "      <td>0.0</td>\n",
       "      <td>0.0</td>\n",
       "      <td>0.0</td>\n",
       "      <td>0.0</td>\n",
       "      <td>0.0</td>\n",
       "      <td>0.0</td>\n",
       "      <td>0.0</td>\n",
       "      <td>0.0</td>\n",
       "      <td>0.0</td>\n",
       "      <td>0.0</td>\n",
       "    </tr>\n",
       "    <tr>\n",
       "      <th>(79.0, 81.0]</th>\n",
       "      <td>0.0</td>\n",
       "      <td>0.0</td>\n",
       "      <td>0.0</td>\n",
       "      <td>0.0</td>\n",
       "      <td>0.0</td>\n",
       "      <td>0.0</td>\n",
       "      <td>0.0</td>\n",
       "      <td>0.0</td>\n",
       "      <td>0.0</td>\n",
       "      <td>0.0</td>\n",
       "      <td>...</td>\n",
       "      <td>0.0</td>\n",
       "      <td>0.0</td>\n",
       "      <td>0.0</td>\n",
       "      <td>0.0</td>\n",
       "      <td>0.0</td>\n",
       "      <td>0.0</td>\n",
       "      <td>0.0</td>\n",
       "      <td>0.0</td>\n",
       "      <td>0.0</td>\n",
       "      <td>0.0</td>\n",
       "    </tr>\n",
       "  </tbody>\n",
       "</table>\n",
       "<p>80 rows × 22 columns</p>\n",
       "</div>"
      ],
      "text/plain": [
       "age_bin              (0.5, 1.5]  (1.5, 2.5]  (2.5, 3.5]  (3.5, 4.5]  \\\n",
       "sex    length_bin                                                     \n",
       "female (1.0, 3.0]           0.0         0.0         0.0         0.0   \n",
       "       (3.0, 5.0]           0.0         0.0         0.0         0.0   \n",
       "       (5.0, 7.0]           0.0         0.0         0.0         0.0   \n",
       "       (7.0, 9.0]           0.0         0.0         0.0         0.0   \n",
       "       (9.0, 11.0]          0.0         0.0         0.0         0.0   \n",
       "...                         ...         ...         ...         ...   \n",
       "male   (71.0, 73.0]         0.0         0.0         0.0         0.0   \n",
       "       (73.0, 75.0]         0.0         0.0         0.0         0.0   \n",
       "       (75.0, 77.0]         0.0         0.0         0.0         0.0   \n",
       "       (77.0, 79.0]         0.0         0.0         0.0         0.0   \n",
       "       (79.0, 81.0]         0.0         0.0         0.0         0.0   \n",
       "\n",
       "age_bin              (4.5, 5.5]  (5.5, 6.5]  (6.5, 7.5]  (7.5, 8.5]  \\\n",
       "sex    length_bin                                                     \n",
       "female (1.0, 3.0]           0.0         0.0         0.0         0.0   \n",
       "       (3.0, 5.0]           0.0         0.0         0.0         0.0   \n",
       "       (5.0, 7.0]           0.0         0.0         0.0         0.0   \n",
       "       (7.0, 9.0]           0.0         0.0         0.0         0.0   \n",
       "       (9.0, 11.0]          0.0         0.0         0.0         0.0   \n",
       "...                         ...         ...         ...         ...   \n",
       "male   (71.0, 73.0]         0.0         0.0         0.0         0.0   \n",
       "       (73.0, 75.0]         0.0         0.0         0.0         0.0   \n",
       "       (75.0, 77.0]         0.0         0.0         0.0         0.0   \n",
       "       (77.0, 79.0]         0.0         0.0         0.0         0.0   \n",
       "       (79.0, 81.0]         0.0         0.0         0.0         0.0   \n",
       "\n",
       "age_bin              (8.5, 9.5]  (9.5, 10.5]  ...  (12.5, 13.5]  (13.5, 14.5]  \\\n",
       "sex    length_bin                             ...                               \n",
       "female (1.0, 3.0]           0.0          0.0  ...           0.0           0.0   \n",
       "       (3.0, 5.0]           0.0          0.0  ...           0.0           0.0   \n",
       "       (5.0, 7.0]           0.0          0.0  ...           0.0           0.0   \n",
       "       (7.0, 9.0]           0.0          0.0  ...           0.0           0.0   \n",
       "       (9.0, 11.0]          0.0          0.0  ...           0.0           0.0   \n",
       "...                         ...          ...  ...           ...           ...   \n",
       "male   (71.0, 73.0]         0.0          0.0  ...           0.0           0.0   \n",
       "       (73.0, 75.0]         0.0          0.0  ...           0.0           0.0   \n",
       "       (75.0, 77.0]         0.0          0.0  ...           0.0           0.0   \n",
       "       (77.0, 79.0]         0.0          0.0  ...           0.0           0.0   \n",
       "       (79.0, 81.0]         0.0          0.0  ...           0.0           0.0   \n",
       "\n",
       "age_bin              (14.5, 15.5]  (15.5, 16.5]  (16.5, 17.5]  (17.5, 18.5]  \\\n",
       "sex    length_bin                                                             \n",
       "female (1.0, 3.0]             0.0           0.0           0.0           0.0   \n",
       "       (3.0, 5.0]             0.0           0.0           0.0           0.0   \n",
       "       (5.0, 7.0]             0.0           0.0           0.0           0.0   \n",
       "       (7.0, 9.0]             0.0           0.0           0.0           0.0   \n",
       "       (9.0, 11.0]            0.0           0.0           0.0           0.0   \n",
       "...                           ...           ...           ...           ...   \n",
       "male   (71.0, 73.0]           0.0           0.0           0.0           0.0   \n",
       "       (73.0, 75.0]           0.0           0.0           0.0           0.0   \n",
       "       (75.0, 77.0]           0.0           0.0           0.0           0.0   \n",
       "       (77.0, 79.0]           0.0           0.0           0.0           0.0   \n",
       "       (79.0, 81.0]           0.0           0.0           0.0           0.0   \n",
       "\n",
       "age_bin              (18.5, 19.5]  (19.5, 20.5]  (20.5, 21.5]  (21.5, 22.5]  \n",
       "sex    length_bin                                                            \n",
       "female (1.0, 3.0]             0.0           0.0           0.0           0.0  \n",
       "       (3.0, 5.0]             0.0           0.0           0.0           0.0  \n",
       "       (5.0, 7.0]             0.0           0.0           0.0           0.0  \n",
       "       (7.0, 9.0]             0.0           0.0           0.0           0.0  \n",
       "       (9.0, 11.0]            0.0           0.0           0.0           0.0  \n",
       "...                           ...           ...           ...           ...  \n",
       "male   (71.0, 73.0]           0.0           0.0           0.0           0.0  \n",
       "       (73.0, 75.0]           0.0           0.0           0.0           0.0  \n",
       "       (75.0, 77.0]           0.0           0.0           0.0           0.0  \n",
       "       (77.0, 79.0]           0.0           0.0           0.0           0.0  \n",
       "       (79.0, 81.0]           0.0           0.0           0.0           0.0  \n",
       "\n",
       "[80 rows x 22 columns]"
      ]
     },
     "execution_count": 28,
     "metadata": {},
     "output_type": "execute_result"
    }
   ],
   "source": [
    "survey.results['kriging']['tables'][ 'aged_tbl' ]"
   ]
  },
  {
   "cell_type": "markdown",
   "metadata": {},
   "source": [
    "Biomass distributed over length and sex for unaged fish:"
   ]
  },
  {
   "cell_type": "code",
   "execution_count": 29,
   "metadata": {
    "tags": [
     "scroll-output"
    ]
   },
   "outputs": [
    {
     "data": {
      "text/html": [
       "<div>\n",
       "<style scoped>\n",
       "    .dataframe tbody tr th:only-of-type {\n",
       "        vertical-align: middle;\n",
       "    }\n",
       "\n",
       "    .dataframe tbody tr th {\n",
       "        vertical-align: top;\n",
       "    }\n",
       "\n",
       "    .dataframe thead th {\n",
       "        text-align: right;\n",
       "    }\n",
       "</style>\n",
       "<table border=\"1\" class=\"dataframe\">\n",
       "  <thead>\n",
       "    <tr style=\"text-align: right;\">\n",
       "      <th>sex</th>\n",
       "      <th>female</th>\n",
       "      <th>male</th>\n",
       "    </tr>\n",
       "    <tr>\n",
       "      <th>length_bin</th>\n",
       "      <th></th>\n",
       "      <th></th>\n",
       "    </tr>\n",
       "  </thead>\n",
       "  <tbody>\n",
       "    <tr>\n",
       "      <th>(1.0, 3.0]</th>\n",
       "      <td>0.000000e+00</td>\n",
       "      <td>0.000000e+00</td>\n",
       "    </tr>\n",
       "    <tr>\n",
       "      <th>(3.0, 5.0]</th>\n",
       "      <td>0.000000e+00</td>\n",
       "      <td>0.000000e+00</td>\n",
       "    </tr>\n",
       "    <tr>\n",
       "      <th>(5.0, 7.0]</th>\n",
       "      <td>0.000000e+00</td>\n",
       "      <td>0.000000e+00</td>\n",
       "    </tr>\n",
       "    <tr>\n",
       "      <th>(7.0, 9.0]</th>\n",
       "      <td>0.000000e+00</td>\n",
       "      <td>0.000000e+00</td>\n",
       "    </tr>\n",
       "    <tr>\n",
       "      <th>(9.0, 11.0]</th>\n",
       "      <td>0.000000e+00</td>\n",
       "      <td>0.000000e+00</td>\n",
       "    </tr>\n",
       "    <tr>\n",
       "      <th>(11.0, 13.0]</th>\n",
       "      <td>0.000000e+00</td>\n",
       "      <td>0.000000e+00</td>\n",
       "    </tr>\n",
       "    <tr>\n",
       "      <th>(13.0, 15.0]</th>\n",
       "      <td>0.000000e+00</td>\n",
       "      <td>0.000000e+00</td>\n",
       "    </tr>\n",
       "    <tr>\n",
       "      <th>(15.0, 17.0]</th>\n",
       "      <td>0.000000e+00</td>\n",
       "      <td>0.000000e+00</td>\n",
       "    </tr>\n",
       "    <tr>\n",
       "      <th>(17.0, 19.0]</th>\n",
       "      <td>5.687932e+03</td>\n",
       "      <td>6.783916e+03</td>\n",
       "    </tr>\n",
       "    <tr>\n",
       "      <th>(19.0, 21.0]</th>\n",
       "      <td>1.397287e+06</td>\n",
       "      <td>1.623948e+06</td>\n",
       "    </tr>\n",
       "    <tr>\n",
       "      <th>(21.0, 23.0]</th>\n",
       "      <td>5.188752e+06</td>\n",
       "      <td>5.934160e+06</td>\n",
       "    </tr>\n",
       "    <tr>\n",
       "      <th>(23.0, 25.0]</th>\n",
       "      <td>3.684815e+06</td>\n",
       "      <td>3.991881e+06</td>\n",
       "    </tr>\n",
       "    <tr>\n",
       "      <th>(25.0, 27.0]</th>\n",
       "      <td>8.907899e+05</td>\n",
       "      <td>8.788040e+05</td>\n",
       "    </tr>\n",
       "    <tr>\n",
       "      <th>(27.0, 29.0]</th>\n",
       "      <td>1.267300e+06</td>\n",
       "      <td>1.244515e+06</td>\n",
       "    </tr>\n",
       "    <tr>\n",
       "      <th>(29.0, 31.0]</th>\n",
       "      <td>3.854607e+06</td>\n",
       "      <td>3.470829e+06</td>\n",
       "    </tr>\n",
       "    <tr>\n",
       "      <th>(31.0, 33.0]</th>\n",
       "      <td>8.185496e+06</td>\n",
       "      <td>7.546845e+06</td>\n",
       "    </tr>\n",
       "    <tr>\n",
       "      <th>(33.0, 35.0]</th>\n",
       "      <td>1.151938e+07</td>\n",
       "      <td>1.162517e+07</td>\n",
       "    </tr>\n",
       "    <tr>\n",
       "      <th>(35.0, 37.0]</th>\n",
       "      <td>2.025276e+07</td>\n",
       "      <td>2.142187e+07</td>\n",
       "    </tr>\n",
       "    <tr>\n",
       "      <th>(37.0, 39.0]</th>\n",
       "      <td>4.579534e+07</td>\n",
       "      <td>4.875269e+07</td>\n",
       "    </tr>\n",
       "    <tr>\n",
       "      <th>(39.0, 41.0]</th>\n",
       "      <td>1.125664e+08</td>\n",
       "      <td>1.204117e+08</td>\n",
       "    </tr>\n",
       "    <tr>\n",
       "      <th>(41.0, 43.0]</th>\n",
       "      <td>1.559870e+08</td>\n",
       "      <td>1.664850e+08</td>\n",
       "    </tr>\n",
       "    <tr>\n",
       "      <th>(43.0, 45.0]</th>\n",
       "      <td>1.465964e+08</td>\n",
       "      <td>1.534196e+08</td>\n",
       "    </tr>\n",
       "    <tr>\n",
       "      <th>(45.0, 47.0]</th>\n",
       "      <td>8.929690e+07</td>\n",
       "      <td>8.673402e+07</td>\n",
       "    </tr>\n",
       "    <tr>\n",
       "      <th>(47.0, 49.0]</th>\n",
       "      <td>5.524730e+07</td>\n",
       "      <td>4.462098e+07</td>\n",
       "    </tr>\n",
       "    <tr>\n",
       "      <th>(49.0, 51.0]</th>\n",
       "      <td>3.389624e+07</td>\n",
       "      <td>2.101717e+07</td>\n",
       "    </tr>\n",
       "    <tr>\n",
       "      <th>(51.0, 53.0]</th>\n",
       "      <td>2.512031e+07</td>\n",
       "      <td>1.026895e+07</td>\n",
       "    </tr>\n",
       "    <tr>\n",
       "      <th>(53.0, 55.0]</th>\n",
       "      <td>1.908988e+07</td>\n",
       "      <td>5.884165e+06</td>\n",
       "    </tr>\n",
       "    <tr>\n",
       "      <th>(55.0, 57.0]</th>\n",
       "      <td>1.492927e+07</td>\n",
       "      <td>4.010323e+06</td>\n",
       "    </tr>\n",
       "    <tr>\n",
       "      <th>(57.0, 59.0]</th>\n",
       "      <td>1.285332e+07</td>\n",
       "      <td>3.503737e+06</td>\n",
       "    </tr>\n",
       "    <tr>\n",
       "      <th>(59.0, 61.0]</th>\n",
       "      <td>1.087663e+07</td>\n",
       "      <td>3.085044e+06</td>\n",
       "    </tr>\n",
       "    <tr>\n",
       "      <th>(61.0, 63.0]</th>\n",
       "      <td>3.350678e+06</td>\n",
       "      <td>1.009916e+06</td>\n",
       "    </tr>\n",
       "    <tr>\n",
       "      <th>(63.0, 65.0]</th>\n",
       "      <td>3.536740e+06</td>\n",
       "      <td>1.368239e+06</td>\n",
       "    </tr>\n",
       "    <tr>\n",
       "      <th>(65.0, 67.0]</th>\n",
       "      <td>1.443048e+06</td>\n",
       "      <td>1.093157e+06</td>\n",
       "    </tr>\n",
       "    <tr>\n",
       "      <th>(67.0, 69.0]</th>\n",
       "      <td>1.507882e+06</td>\n",
       "      <td>7.175957e+05</td>\n",
       "    </tr>\n",
       "    <tr>\n",
       "      <th>(69.0, 71.0]</th>\n",
       "      <td>1.358364e+06</td>\n",
       "      <td>8.772020e+05</td>\n",
       "    </tr>\n",
       "    <tr>\n",
       "      <th>(71.0, 73.0]</th>\n",
       "      <td>1.094846e+06</td>\n",
       "      <td>7.071672e+05</td>\n",
       "    </tr>\n",
       "    <tr>\n",
       "      <th>(73.0, 75.0]</th>\n",
       "      <td>3.236650e+05</td>\n",
       "      <td>3.486287e+05</td>\n",
       "    </tr>\n",
       "    <tr>\n",
       "      <th>(75.0, 77.0]</th>\n",
       "      <td>7.041550e+05</td>\n",
       "      <td>7.584654e+05</td>\n",
       "    </tr>\n",
       "    <tr>\n",
       "      <th>(77.0, 79.0]</th>\n",
       "      <td>0.000000e+00</td>\n",
       "      <td>0.000000e+00</td>\n",
       "    </tr>\n",
       "    <tr>\n",
       "      <th>(79.0, 81.0]</th>\n",
       "      <td>0.000000e+00</td>\n",
       "      <td>0.000000e+00</td>\n",
       "    </tr>\n",
       "  </tbody>\n",
       "</table>\n",
       "</div>"
      ],
      "text/plain": [
       "sex                 female          male\n",
       "length_bin                              \n",
       "(1.0, 3.0]    0.000000e+00  0.000000e+00\n",
       "(3.0, 5.0]    0.000000e+00  0.000000e+00\n",
       "(5.0, 7.0]    0.000000e+00  0.000000e+00\n",
       "(7.0, 9.0]    0.000000e+00  0.000000e+00\n",
       "(9.0, 11.0]   0.000000e+00  0.000000e+00\n",
       "(11.0, 13.0]  0.000000e+00  0.000000e+00\n",
       "(13.0, 15.0]  0.000000e+00  0.000000e+00\n",
       "(15.0, 17.0]  0.000000e+00  0.000000e+00\n",
       "(17.0, 19.0]  5.687932e+03  6.783916e+03\n",
       "(19.0, 21.0]  1.397287e+06  1.623948e+06\n",
       "(21.0, 23.0]  5.188752e+06  5.934160e+06\n",
       "(23.0, 25.0]  3.684815e+06  3.991881e+06\n",
       "(25.0, 27.0]  8.907899e+05  8.788040e+05\n",
       "(27.0, 29.0]  1.267300e+06  1.244515e+06\n",
       "(29.0, 31.0]  3.854607e+06  3.470829e+06\n",
       "(31.0, 33.0]  8.185496e+06  7.546845e+06\n",
       "(33.0, 35.0]  1.151938e+07  1.162517e+07\n",
       "(35.0, 37.0]  2.025276e+07  2.142187e+07\n",
       "(37.0, 39.0]  4.579534e+07  4.875269e+07\n",
       "(39.0, 41.0]  1.125664e+08  1.204117e+08\n",
       "(41.0, 43.0]  1.559870e+08  1.664850e+08\n",
       "(43.0, 45.0]  1.465964e+08  1.534196e+08\n",
       "(45.0, 47.0]  8.929690e+07  8.673402e+07\n",
       "(47.0, 49.0]  5.524730e+07  4.462098e+07\n",
       "(49.0, 51.0]  3.389624e+07  2.101717e+07\n",
       "(51.0, 53.0]  2.512031e+07  1.026895e+07\n",
       "(53.0, 55.0]  1.908988e+07  5.884165e+06\n",
       "(55.0, 57.0]  1.492927e+07  4.010323e+06\n",
       "(57.0, 59.0]  1.285332e+07  3.503737e+06\n",
       "(59.0, 61.0]  1.087663e+07  3.085044e+06\n",
       "(61.0, 63.0]  3.350678e+06  1.009916e+06\n",
       "(63.0, 65.0]  3.536740e+06  1.368239e+06\n",
       "(65.0, 67.0]  1.443048e+06  1.093157e+06\n",
       "(67.0, 69.0]  1.507882e+06  7.175957e+05\n",
       "(69.0, 71.0]  1.358364e+06  8.772020e+05\n",
       "(71.0, 73.0]  1.094846e+06  7.071672e+05\n",
       "(73.0, 75.0]  3.236650e+05  3.486287e+05\n",
       "(75.0, 77.0]  7.041550e+05  7.584654e+05\n",
       "(77.0, 79.0]  0.000000e+00  0.000000e+00\n",
       "(79.0, 81.0]  0.000000e+00  0.000000e+00"
      ]
     },
     "execution_count": 29,
     "metadata": {},
     "output_type": "execute_result"
    }
   ],
   "source": [
    "survey.results['kriging']['tables']['unaged_tbl']"
   ]
  },
  {
   "cell_type": "markdown",
   "metadata": {},
   "source": [
    "Combined biomass from both the aged and unaged fish distributed over length, age, and sex: "
   ]
  },
  {
   "cell_type": "code",
   "execution_count": 30,
   "metadata": {},
   "outputs": [
    {
     "data": {
      "text/html": [
       "<div>\n",
       "<style scoped>\n",
       "    .dataframe tbody tr th:only-of-type {\n",
       "        vertical-align: middle;\n",
       "    }\n",
       "\n",
       "    .dataframe tbody tr th {\n",
       "        vertical-align: top;\n",
       "    }\n",
       "\n",
       "    .dataframe thead th {\n",
       "        text-align: right;\n",
       "    }\n",
       "</style>\n",
       "<table border=\"1\" class=\"dataframe\">\n",
       "  <thead>\n",
       "    <tr style=\"text-align: right;\">\n",
       "      <th></th>\n",
       "      <th>age_bin</th>\n",
       "      <th>sex</th>\n",
       "      <th>length_bin</th>\n",
       "      <th>biomass_apportioned</th>\n",
       "    </tr>\n",
       "  </thead>\n",
       "  <tbody>\n",
       "    <tr>\n",
       "      <th>0</th>\n",
       "      <td>(0.5, 1.5]</td>\n",
       "      <td>all</td>\n",
       "      <td>(1.0, 3.0]</td>\n",
       "      <td>0.0</td>\n",
       "    </tr>\n",
       "    <tr>\n",
       "      <th>1</th>\n",
       "      <td>(0.5, 1.5]</td>\n",
       "      <td>female</td>\n",
       "      <td>(1.0, 3.0]</td>\n",
       "      <td>0.0</td>\n",
       "    </tr>\n",
       "    <tr>\n",
       "      <th>2</th>\n",
       "      <td>(0.5, 1.5]</td>\n",
       "      <td>male</td>\n",
       "      <td>(1.0, 3.0]</td>\n",
       "      <td>0.0</td>\n",
       "    </tr>\n",
       "    <tr>\n",
       "      <th>3</th>\n",
       "      <td>(1.5, 2.5]</td>\n",
       "      <td>all</td>\n",
       "      <td>(1.0, 3.0]</td>\n",
       "      <td>0.0</td>\n",
       "    </tr>\n",
       "    <tr>\n",
       "      <th>4</th>\n",
       "      <td>(1.5, 2.5]</td>\n",
       "      <td>female</td>\n",
       "      <td>(1.0, 3.0]</td>\n",
       "      <td>0.0</td>\n",
       "    </tr>\n",
       "    <tr>\n",
       "      <th>...</th>\n",
       "      <td>...</td>\n",
       "      <td>...</td>\n",
       "      <td>...</td>\n",
       "      <td>...</td>\n",
       "    </tr>\n",
       "    <tr>\n",
       "      <th>2635</th>\n",
       "      <td>(20.5, 21.5]</td>\n",
       "      <td>female</td>\n",
       "      <td>(79.0, 81.0]</td>\n",
       "      <td>0.0</td>\n",
       "    </tr>\n",
       "    <tr>\n",
       "      <th>2636</th>\n",
       "      <td>(20.5, 21.5]</td>\n",
       "      <td>male</td>\n",
       "      <td>(79.0, 81.0]</td>\n",
       "      <td>0.0</td>\n",
       "    </tr>\n",
       "    <tr>\n",
       "      <th>2637</th>\n",
       "      <td>(21.5, 22.5]</td>\n",
       "      <td>all</td>\n",
       "      <td>(79.0, 81.0]</td>\n",
       "      <td>0.0</td>\n",
       "    </tr>\n",
       "    <tr>\n",
       "      <th>2638</th>\n",
       "      <td>(21.5, 22.5]</td>\n",
       "      <td>female</td>\n",
       "      <td>(79.0, 81.0]</td>\n",
       "      <td>0.0</td>\n",
       "    </tr>\n",
       "    <tr>\n",
       "      <th>2639</th>\n",
       "      <td>(21.5, 22.5]</td>\n",
       "      <td>male</td>\n",
       "      <td>(79.0, 81.0]</td>\n",
       "      <td>0.0</td>\n",
       "    </tr>\n",
       "  </tbody>\n",
       "</table>\n",
       "<p>2640 rows × 4 columns</p>\n",
       "</div>"
      ],
      "text/plain": [
       "           age_bin     sex    length_bin  biomass_apportioned\n",
       "0       (0.5, 1.5]     all    (1.0, 3.0]                  0.0\n",
       "1       (0.5, 1.5]  female    (1.0, 3.0]                  0.0\n",
       "2       (0.5, 1.5]    male    (1.0, 3.0]                  0.0\n",
       "3       (1.5, 2.5]     all    (1.0, 3.0]                  0.0\n",
       "4       (1.5, 2.5]  female    (1.0, 3.0]                  0.0\n",
       "...            ...     ...           ...                  ...\n",
       "2635  (20.5, 21.5]  female  (79.0, 81.0]                  0.0\n",
       "2636  (20.5, 21.5]    male  (79.0, 81.0]                  0.0\n",
       "2637  (21.5, 22.5]     all  (79.0, 81.0]                  0.0\n",
       "2638  (21.5, 22.5]  female  (79.0, 81.0]                  0.0\n",
       "2639  (21.5, 22.5]    male  (79.0, 81.0]                  0.0\n",
       "\n",
       "[2640 rows x 4 columns]"
      ]
     },
     "execution_count": 30,
     "metadata": {},
     "output_type": "execute_result"
    }
   ],
   "source": [
    "survey.results['kriging']['tables']['overall_apportionment_df']"
   ]
  },
  {
   "cell_type": "markdown",
   "metadata": {},
   "source": [
    "Now that the kriging results are computed, they can then be used to parameterize `Survey.stratified_analysis( dataset = 'kriging' , ...)` to conduct the stratified resampling analysis: "
   ]
  },
  {
   "cell_type": "code",
   "execution_count": 31,
   "metadata": {},
   "outputs": [
    {
     "name": "stdout",
     "output_type": "stream",
     "text": [
      "--------------------------------\n",
      " STRATIFIED RESULTS (KRIGING)\n",
      "--------------------------------\n",
      "| Stratified variable: Biomass (kmt)\n",
      "| Number of virtual transects: 102\n",
      "| Number of strata (INPFC): 6\n",
      "| Total area coverage: 35290.0 nmi^2\n",
      "| Age-1 fish excluded: True\n",
      "| Bootstrap replicates: 10000 samples\n",
      "| Resampling proportion: 0.75\n",
      "| Bootstrap interval method: BCa (CI: 95.0%)\n",
      "--------------------------------\n",
      "STRATUM-SPECIFIC ESTIMATES\n",
      "--------------------------------\n",
      "| Stratum area coverage (n = 6):\n",
      "    2580.0 | 5614.0 | 3241.0 | 3313.0 | 3841.0 | 16701.0 nmi^2\n",
      "| Stratum mean biomass density (kmt/nmi^2):\n",
      "    0.002 [-0.001, 0.003] | 0.035 [0.027, 0.039] | 0.057 [0.036, 0.066]\n",
      "    0.065 [0.046, 0.077] | 0.036 [0.019, 0.046] | 0.008 [0.007, 0.009]\n",
      "| Stratum mean biomass (kmt):\n",
      "    7.9 [0.0, 10.6] | 369.4 [324.3, 394.0] | 364.1 [295.6, 392.8]\n",
      "    438.5 [375.5, 479.5] | 267.3 [204.8, 306.8] | 197.3 [178.3, 213.2]\n",
      "--------------------------------\n",
      "SURVEY RESULTS\n",
      "--------------------------------\n",
      "| Survey mean biomass density (kmt/nmi^2): 0.034 [0.031, 0.036]\n",
      "| Survey mean biomass (kmt): 1644.4 [1538.9, 1727.8]\n",
      "| Survey CV: 0.1373 [0.1321, 0.1468]\n",
      "--------------------------------\n"
     ]
    }
   ],
   "source": [
    "survey.stratified_analysis( 'kriging' )"
   ]
  },
  {
   "cell_type": "markdown",
   "metadata": {},
   "source": [
    "## **Other 'useful' features**"
   ]
  },
  {
   "cell_type": "markdown",
   "metadata": {},
   "source": [
    "Although a summary of the results are printed in the console when `verbose = True`, it is a bit obnoxious to have to re-run the entire analysis to re-generate the same message. This is addressed via the `Survey.summary(...)` method that comprises a single input: \n",
    "* `results_name (string)`: this is the name of the analysis results that should be printed into the console. This can either be formatted as a single input name (e.g. 'transect' , 'kriging') or a nested/layered variable (e.g. 'stratified:transect') where a colon (':') is used as the delimiter that separates the two result layer names."
   ]
  },
  {
   "cell_type": "code",
   "execution_count": 32,
   "metadata": {},
   "outputs": [
    {
     "name": "stdout",
     "output_type": "stream",
     "text": [
      "--------------------------------\n",
      "TRANSECT RESULTS\n",
      "--------------------------------\n",
      "| Variable: Biomass (kmt)\n",
      "| Age-1 fish excluded: True\n",
      "| Stratum definition: KS\n",
      "--------------------------------\n",
      "GENERAL RESULTS\n",
      "--------------------------------\n",
      "| Total biomass: 1651.1 kmt\n",
      "    Age-1: 7.9 kmt\n",
      "    Age-2+: 1643.2 kmt\n",
      "| Total female biomass: 832.2 kmt\n",
      "    Age-1: 4.0 kmt\n",
      "    Age-2+: 828.2 kmt\n",
      "| Total male biomass: 818.5 kmt\n",
      "    Age-1: 3.9 kmt\n",
      "    Age-2+: 814.6 kmt\n",
      "| Total unsexed biomass: 0.4 kmt\n",
      "| Total mixed biomass: 36.8 kmt\n",
      "--------------------------------\n"
     ]
    }
   ],
   "source": [
    "survey.summary( 'transect' )"
   ]
  },
  {
   "cell_type": "code",
   "execution_count": 42,
   "metadata": {},
   "outputs": [
    {
     "name": "stdout",
     "output_type": "stream",
     "text": [
      "--------------------------------\n",
      " STRATIFIED RESULTS (TRANSECT)\n",
      "--------------------------------\n",
      "| Stratified variable: Biomass (kmt)\n",
      "| Number of transects: 113\n",
      "| Number of strata (INPFC): 6\n",
      "| Total area coverage: 53509.0 nmi^2\n",
      "| Age-1 fish excluded: True\n",
      "| Bootstrap replicates: 10000 samples\n",
      "| Resampling proportion: 0.75\n",
      "| Bootstrap interval method: BCa (CI: 95.0%)\n",
      "--------------------------------\n",
      "STRATUM-SPECIFIC ESTIMATES\n",
      "--------------------------------\n",
      "| Stratum area coverage (n = 6):\n",
      "    4246.0 | 10042.0 | 5774.0 | 7060.0 | 7068.0 | 19319.0 nmi^2\n",
      "| Stratum mean biomass density (kmt/nmi^2):\n",
      "    0.002 [-0.0, 0.003] | 0.041 [0.03, 0.046] | 0.057 [0.037, 0.067]\n",
      "    0.063 [0.046, 0.076] | 0.038 [0.025, 0.045] | 0.01 [0.005, 0.013]\n",
      "| Stratum mean biomass (kmt):\n",
      "    8.2 [-0.5, 11.0] | 417.3 [309.2, 462.2] | 327.3 [214.6, 386.6]\n",
      "    446.5 [326.2, 542.4] | 267.3 [178.8, 318.6] | 176.5 [75.1, 232.1]\n",
      "--------------------------------\n",
      "SURVEY RESULTS\n",
      "--------------------------------\n",
      "| Survey mean biomass density (kmt/nmi^2): 0.035 [0.031, 0.038]\n",
      "| Survey mean biomass (kmt): 1643.2 [1417.4, 1825.0]\n",
      "| Survey CV: 0.1328 [0.1283, 0.1465]\n",
      "--------------------------------\n"
     ]
    }
   ],
   "source": [
    "survey.summary( 'stratified:transect' )"
   ]
  },
  {
   "cell_type": "code",
   "execution_count": 39,
   "metadata": {},
   "outputs": [
    {
     "name": "stdout",
     "output_type": "stream",
     "text": [
      "--------------------------------\n",
      " STRATIFIED RESULTS (KRIGING)\n",
      "--------------------------------\n",
      "| Stratified variable: Biomass (kmt)\n",
      "| Number of virtual transects: 102\n",
      "| Number of strata (INPFC): 6\n",
      "| Total area coverage: 35290.0 nmi^2\n",
      "| Age-1 fish excluded: True\n",
      "| Bootstrap replicates: 10000 samples\n",
      "| Resampling proportion: 0.75\n",
      "| Bootstrap interval method: BCa (CI: 95.0%)\n",
      "--------------------------------\n",
      "STRATUM-SPECIFIC ESTIMATES\n",
      "--------------------------------\n",
      "| Stratum area coverage (n = 6):\n",
      "    2580.0 | 5614.0 | 3241.0 | 3313.0 | 3841.0 | 16701.0 nmi^2\n",
      "| Stratum mean biomass density (kmt/nmi^2):\n",
      "    0.002 [-0.001, 0.003] | 0.035 [0.027, 0.039] | 0.057 [0.036, 0.066]\n",
      "    0.065 [0.046, 0.077] | 0.036 [0.019, 0.046] | 0.008 [0.007, 0.009]\n",
      "| Stratum mean biomass (kmt):\n",
      "    7.9 [0.0, 10.6] | 369.4 [324.3, 394.0] | 364.1 [295.6, 392.8]\n",
      "    438.5 [375.5, 479.5] | 267.3 [204.8, 306.8] | 197.3 [178.3, 213.2]\n",
      "--------------------------------\n",
      "SURVEY RESULTS\n",
      "--------------------------------\n",
      "| Survey mean biomass density (kmt/nmi^2): 0.034 [0.031, 0.036]\n",
      "| Survey mean biomass (kmt): 1644.4 [1538.9, 1727.8]\n",
      "| Survey CV: 0.1373 [0.1321, 0.1468]\n",
      "--------------------------------\n"
     ]
    }
   ],
   "source": [
    "survey.summary( 'stratified:kriging' )"
   ]
  },
  {
   "cell_type": "code",
   "execution_count": 40,
   "metadata": {},
   "outputs": [
    {
     "name": "stdout",
     "output_type": "stream",
     "text": [
      "--------------------------------\n",
      "KRIGING RESULTS (MESH)\n",
      "--------------------------------\n",
      "| Kriged variable: Biomass density (kg/nmi^2)\n",
      "| Age-1 fish excluded: True\n",
      "| Stratum definition: KS\n",
      "| Mesh extrapolation: False\n",
      "    Mesh cropping method: Interpolation\n",
      "| Mesh and transect coordinate standardization: True\n",
      "--------------------------------\n",
      "GENERAL RESULTS\n",
      "--------------------------------\n",
      "| Mean biomassdensity: 27807.11 kg/nmi^2\n",
      "| Total survey biomass estimate: 1644.45 kmt\n",
      "| Mean mesh sample CV: 0.0241\n",
      "| Overall survey CV: 0.0269\n",
      "| Total area coverage: 58186.9 nmi^2\n",
      "--------------------------------\n"
     ]
    }
   ],
   "source": [
    "survey.summary( 'kriging' )"
   ]
  }
 ],
 "metadata": {
  "kernelspec": {
   "display_name": "echopop_3_12",
   "language": "python",
   "name": "python3"
  },
  "language_info": {
   "codemirror_mode": {
    "name": "ipython",
    "version": 3
   },
   "file_extension": ".py",
   "mimetype": "text/x-python",
   "name": "python",
   "nbconvert_exporter": "python",
   "pygments_lexer": "ipython3",
   "version": "3.9.18"
  }
 },
 "nbformat": 4,
 "nbformat_minor": 2
}
