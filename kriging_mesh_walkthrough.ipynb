{
 "cells": [
  {
   "cell_type": "code",
   "execution_count": null,
   "id": "3ca74684-6735-45e0-a55b-f5e3f56b0988",
   "metadata": {},
   "outputs": [],
   "source": [
    "import geopandas\n",
    "import scipy.io\n",
    "import pandas as pd\n",
    "from EchoPro import EchoPro\n",
    "epro_2019 = EchoPro(init_file_path='./config_files/initialization_config.yml',\n",
    "                    survey_year_file_path='./config_files/survey_year_2019_config.yml',\n",
    "                    source=3,\n",
    "                    bio_data_type=1,\n",
    "                    age_data_status=1, \n",
    "                    exclude_age1=True)"
   ]
  },
  {
   "cell_type": "code",
   "execution_count": null,
   "id": "093ce61a",
   "metadata": {},
   "outputs": [],
   "source": [
    "krig_mesh = epro_2019.get_kriging_mesh()\n",
    "# fmap = krig_mesh.get_folium_map()  # this function is not necessary, keeping it here as a reminder "
   ]
  },
  {
   "cell_type": "code",
   "execution_count": null,
   "id": "9ca8172c",
   "metadata": {},
   "outputs": [],
   "source": [
    "# get geopandas representation of final_biomass_table\n",
    "# allows us to plot transect data\n",
    "df = epro_2019.final_biomass_table\n",
    "gdf = geopandas.GeoDataFrame(df, \n",
    "                             geometry=geopandas.points_from_xy(df.Longitude, df.Latitude))\n",
    "\n",
    "# reseting the index so that we can select data based on column name\n",
    "gdf = gdf.reset_index()"
   ]
  },
  {
   "cell_type": "markdown",
   "id": "36cbd57c",
   "metadata": {},
   "source": [
    "## Plots transect points and the full mesh "
   ]
  },
  {
   "cell_type": "code",
   "execution_count": null,
   "id": "e8d05aaa",
   "metadata": {},
   "outputs": [],
   "source": [
    "# Plot transect points \n",
    "fmap = krig_mesh.plot_points(gdf, cmap_column='Transect', color='hex')\n",
    "\n",
    "# Plot full mesh points \n",
    "fmap = krig_mesh.plot_points(krig_mesh.mesh_gdf, fmap, color='red')\n",
    "\n",
    "# display the folium map\n",
    "fmap"
   ]
  },
  {
   "cell_type": "markdown",
   "id": "70e476bf",
   "metadata": {},
   "source": [
    "## Plots transect points and \"no extrapolation\" points "
   ]
  },
  {
   "cell_type": "code",
   "execution_count": null,
   "id": "28fac291",
   "metadata": {},
   "outputs": [],
   "source": [
    "# Plot transect points \n",
    "fmap = krig_mesh.plot_points(gdf, cmap_column='Transect', color='hex')\n",
    "\n",
    "# Plot EchoPro Matlab no extrapolation points \n",
    "mat = scipy.io.loadmat('../2019_consolidated_files/no_extrapolated_mesh_2019.mat')\n",
    "no_extra_mesh = pd.DataFrame(columns=['Latitude', 'Longitude'])\n",
    "no_extra_mesh['Latitude'] = mat['no_extra_mesh'][:, 0]\n",
    "no_extra_mesh['Longitude'] = mat['no_extra_mesh'][:, 1]\n",
    "\n",
    "geo_no_extra_mesh = geopandas.GeoDataFrame(no_extra_mesh, \n",
    "                                  geometry=geopandas.points_from_xy(\n",
    "                                      no_extra_mesh['Longitude'], \n",
    "                                      no_extra_mesh['Latitude']))\n",
    "\n",
    "fmap = krig_mesh.plot_points(geo_no_extra_mesh, fmap, color='red')\n",
    "\n",
    "# display the folium map\n",
    "fmap "
   ]
  },
  {
   "cell_type": "markdown",
   "id": "c2c1b1a6",
   "metadata": {},
   "source": [
    "## Plots transect points and Polygon surrounding them"
   ]
  },
  {
   "cell_type": "code",
   "execution_count": null,
   "id": "b8ef7e7d",
   "metadata": {},
   "outputs": [],
   "source": [
    "# Plot transect points \n",
    "fmap = krig_mesh.plot_points(gdf, cmap_column='Transect', color='hex')\n",
    "\n",
    "# Plot polygon of transects \n",
    "\n",
    "# obtain the polygon of the transects \n",
    "transect_polygon = krig_mesh.get_polygon_of_transects(gdf.set_index('Transect'), \n",
    "                                                      n_close=4, nm_to_buffer=1.25)\n",
    "\n",
    "import folium\n",
    "# Add polygon to folium map and display it\n",
    "fmap.add_child(folium.GeoJson(transect_polygon))"
   ]
  },
  {
   "cell_type": "markdown",
   "id": "205dafbb",
   "metadata": {},
   "source": [
    "## Plots transects, \"no extrapolation\" Matlab points, and Polygon based reduced mesh  "
   ]
  },
  {
   "cell_type": "code",
   "execution_count": null,
   "id": "859e69e8",
   "metadata": {},
   "outputs": [],
   "source": [
    "# Plot transect points \n",
    "fmap = krig_mesh.plot_points(gdf, cmap_column='Transect', color='hex')\n",
    "\n",
    "# get reduced mesh based off of a polygon\n",
    "reduced_mesh_gdf = krig_mesh.reduce_grid_points(transect_polygon)\n",
    "\n",
    "# Plot smoothed contour points \n",
    "fmap = krig_mesh.plot_points(reduced_mesh_gdf, fmap, color='blue')\n",
    "\n",
    "# Plot matlab produced \"no extrapolation\" points\n",
    "fmap = krig_mesh.plot_points(geo_no_extra_mesh, fmap, color='red', \n",
    "                             marker_kwargs={'fill': True, 'opacity': 0.5})\n",
    "fmap"
   ]
  },
  {
   "cell_type": "markdown",
   "id": "3a0fdbcf",
   "metadata": {},
   "source": [
    "## Plots transect points and smoothed contour "
   ]
  },
  {
   "cell_type": "code",
   "execution_count": null,
   "id": "c38c6c5f",
   "metadata": {},
   "outputs": [],
   "source": [
    "# Plot transect points \n",
    "fmap = krig_mesh.plot_points(gdf, cmap_column='Transect', color='hex')\n",
    "\n",
    "# Plot smoothed contour points \n",
    "fmap = krig_mesh.plot_points(krig_mesh.smoothed_contour_gdf, fmap, color='blue')\n",
    "\n",
    "fmap"
   ]
  },
  {
   "cell_type": "markdown",
   "id": "0a77b30c",
   "metadata": {},
   "source": [
    "## Compare Matlab transformed transect points against the Python version of EchoPro"
   ]
  },
  {
   "cell_type": "code",
   "execution_count": null,
   "id": "3f879966",
   "metadata": {},
   "outputs": [],
   "source": [
    "# get kriging input data from Matlab version of EchoPro\n",
    "# krig_input_mat = scipy.io.loadmat('../2019_consolidated_files/kriging_input_points.mat')\n",
    "\n",
    "# x_data = krig_input_mat['xn'].flatten()\n",
    "# y_data = krig_input_mat['yn'].flatten()\n",
    "# field_data = krig_input_mat['var'].flatten()"
   ]
  },
  {
   "cell_type": "code",
   "execution_count": null,
   "id": "69198ce5",
   "metadata": {},
   "outputs": [],
   "source": [
    "# # apply transformations to data using python functions\n",
    "# trans_gdf = krig_mesh.apply_longitude_transformation(gdf)\n",
    "# D_x = trans_df['Longitude'].max() - trans_df['Longitude'].min()\n",
    "# D_y = trans_df['Latitude'].max() - trans_df['Latitude'].min()\n",
    "# x, y = krig_mesh.apply_distance_transformation(trans_gdf)"
   ]
  },
  {
   "cell_type": "code",
   "execution_count": null,
   "id": "c91b25d9",
   "metadata": {},
   "outputs": [],
   "source": [
    "# %matplotlib widget\n",
    "# import matplotlib.pyplot as plt\n",
    "\n",
    "# plt.plot(x_data, y_data, 'r.')\n",
    "# plt.plot(x, y, 'k*', markersize=1.25)"
   ]
  },
  {
   "cell_type": "code",
   "execution_count": null,
   "id": "cd52476e",
   "metadata": {},
   "outputs": [],
   "source": [
    "# import numpy as np \n",
    "# print(np.allclose(x, x_data))\n",
    "# print(np.allclose(y, y_data))"
   ]
  },
  {
   "cell_type": "code",
   "execution_count": null,
   "id": "5198aad7",
   "metadata": {},
   "outputs": [],
   "source": []
  },
  {
   "cell_type": "code",
   "execution_count": null,
   "id": "a1cb5005",
   "metadata": {},
   "outputs": [],
   "source": []
  },
  {
   "cell_type": "code",
   "execution_count": null,
   "id": "ffa2c550",
   "metadata": {},
   "outputs": [],
   "source": []
  }
 ],
 "metadata": {
  "kernelspec": {
   "display_name": "echopro_conda",
   "language": "python",
   "name": "echopro_conda"
  },
  "language_info": {
   "codemirror_mode": {
    "name": "ipython",
    "version": 3
   },
   "file_extension": ".py",
   "mimetype": "text/x-python",
   "name": "python",
   "nbconvert_exporter": "python",
   "pygments_lexer": "ipython3",
   "version": "3.9.12"
  }
 },
 "nbformat": 4,
 "nbformat_minor": 5
}
