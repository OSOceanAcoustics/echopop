{
 "cells": [
  {
   "cell_type": "code",
   "execution_count": 1,
   "id": "3ca74684-6735-45e0-a55b-f5e3f56b0988",
   "metadata": {},
   "outputs": [
    {
     "name": "stdout",
     "output_type": "stream",
     "text": [
      "A check of the initialization file needs to be done!\n",
      "A check of the survey year file needs to be done!\n",
      "Loading biological data ...\n"
     ]
    },
    {
     "name": "stderr",
     "output_type": "stream",
     "text": [
      "/Users/brandonreyes/UW_work/EchoPro_work/EchoPro/EchoPro/echo_pro.py:274: UserWarning: We are currently using wgt_total from Matlab for CV, change this!\n",
      "  warnings.warn(\"We are currently using wgt_total from Matlab for CV, change this!\")\n"
     ]
    }
   ],
   "source": [
    "import geopandas\n",
    "import scipy.io\n",
    "import numpy as np\n",
    "from EchoPro import EchoPro\n",
    "epro_2019 = EchoPro(init_file_path='./config_files/initialization_config.yml',\n",
    "                    survey_year_file_path='./config_files/survey_year_2019_config.yml',\n",
    "                    source=3,\n",
    "                    bio_data_type=1,\n",
    "                    age_data_status=1, \n",
    "                    exclude_age1=True)"
   ]
  },
  {
   "cell_type": "code",
   "execution_count": 2,
   "id": "829c92c6",
   "metadata": {},
   "outputs": [],
   "source": [
    "# get example data from Matlab version of EchoPro\n",
    "mat = scipy.io.loadmat('../2019_consolidated_files/variogram_data.mat')\n",
    "\n",
    "positions = mat['variogram_data'][:, :2]  # (x,y)\n",
    "field = mat['variogram_data'][:, 2]   # biomass density"
   ]
  },
  {
   "cell_type": "code",
   "execution_count": 3,
   "id": "bb270832",
   "metadata": {},
   "outputs": [],
   "source": [
    "# setup bins for semi-variogram calculation\n",
    "nlag = 30 \n",
    "lag_res = 0.002\n",
    "bins_center = lag_res*np.arange(nlag)\n",
    "\n",
    "bins = [bins_center[0] - lag_res/2.0]\n",
    "for i in range(nlag):\n",
    "    \n",
    "    bins.append(bins_center[i] + lag_res/2.0)"
   ]
  },
  {
   "cell_type": "code",
   "execution_count": 4,
   "id": "f5b57260",
   "metadata": {},
   "outputs": [],
   "source": [
    "# get semi-variogram class\n",
    "semi_vario = epro_2019.get_semi_variogram(positions[:, 0], \n",
    "                                          positions[:, 1], field)"
   ]
  },
  {
   "cell_type": "code",
   "execution_count": 5,
   "id": "28bcf07c",
   "metadata": {},
   "outputs": [
    {
     "data": {
      "text/plain": [
       "array([0.55957167, 0.27871057, 0.5017043 , 0.6285182 , 0.81699518,\n",
       "       0.84807799, 0.85626063, 0.88805541, 0.87678417, 0.89532938,\n",
       "       0.925526  , 0.92969017, 0.92621991, 0.93359212, 0.94452939,\n",
       "       0.94982919, 0.92340754, 0.91565693, 0.93720898, 0.96212605,\n",
       "       0.94361212, 0.93675056, 0.96621628, 0.97465567, 0.97700998,\n",
       "       0.96146162, 0.98101481, 0.98020469, 0.98974528, 0.95736852])"
      ]
     },
     "execution_count": 5,
     "metadata": {},
     "output_type": "execute_result"
    }
   ],
   "source": [
    "standardized_gamma = semi_vario.calculate_semi_variogram(bins)\n",
    "standardized_gamma"
   ]
  },
  {
   "cell_type": "code",
   "execution_count": null,
   "id": "44320742",
   "metadata": {},
   "outputs": [],
   "source": []
  },
  {
   "cell_type": "code",
   "execution_count": null,
   "id": "6b1be6bf",
   "metadata": {},
   "outputs": [],
   "source": []
  },
  {
   "cell_type": "code",
   "execution_count": 17,
   "id": "f024a2a8",
   "metadata": {},
   "outputs": [],
   "source": [
    "import scipy.io\n",
    "import numpy as np \n",
    "import gstools as gs \n",
    "# get example data from Matlab version of EchoPro\n",
    "mat = scipy.io.loadmat('../2019_consolidated_files/variogram_data.mat')\n",
    "\n",
    "positions = mat['variogram_data'][:, :2].T  # (x,y)\n",
    "field = mat['variogram_data'][:, 2]   # biomass density"
   ]
  },
  {
   "cell_type": "code",
   "execution_count": 18,
   "id": "bce13503",
   "metadata": {},
   "outputs": [
    {
     "name": "stdout",
     "output_type": "stream",
     "text": [
      "[0.    0.002 0.004 0.006 0.008 0.01  0.012 0.014 0.016 0.018 0.02  0.022\n",
      " 0.024 0.026 0.028 0.03  0.032 0.034 0.036 0.038 0.04  0.042 0.044 0.046\n",
      " 0.048 0.05  0.052 0.054 0.056 0.058]\n",
      "[3.57717036e+09 4.65214626e+09 8.42468080e+09 1.08288076e+10\n",
      " 1.66179716e+10 1.80524853e+10 1.72589497e+10 1.85059687e+10\n",
      " 1.78783589e+10 1.87567449e+10 1.97509340e+10 1.95448097e+10\n",
      " 2.03615810e+10 2.08634261e+10 2.13274974e+10 2.15516563e+10\n",
      " 1.96963175e+10 2.02339895e+10 2.07628702e+10 2.14268730e+10\n",
      " 2.13905584e+10 2.13628886e+10 2.22525569e+10 2.19212463e+10\n",
      " 2.24221998e+10 2.21505102e+10 2.22161011e+10 2.16240135e+10\n",
      " 2.22556142e+10 2.33848342e+10]\n",
      "[   464   9714   9640   9470  32242  30957  25338  23519  53585  54914\n",
      "  44353  40351  65426  71639  57916  52966  78108  94648  74245  67897\n",
      "  81999 112330  86662  78255  78792 143534 100653  90886  85788 153633]\n"
     ]
    }
   ],
   "source": [
    "bin_center, gamma, counts = gs.vario_estimate(positions, \n",
    "                                              field, \n",
    "                                              bin_edges=bins, \n",
    "                                              return_counts=True,\n",
    "#                                               direction=[np.array([0.0, np.pi/2.0])],\n",
    "                                              angles_tol=np.deg2rad(360))  #np.pi/8.0)\n",
    "\n",
    "print(bin_center)\n",
    "print(gamma)\n",
    "print(counts)"
   ]
  },
  {
   "cell_type": "code",
   "execution_count": 60,
   "id": "a723ba51",
   "metadata": {},
   "outputs": [
    {
     "data": {
      "text/plain": [
       "<matplotlib.collections.PathCollection at 0x17c33eb50>"
      ]
     },
     "execution_count": 60,
     "metadata": {},
     "output_type": "execute_result"
    },
    {
     "data": {
      "image/png": "[encoded data removed]",
      "text/plain": [
       "<Figure size 432x288 with 1 Axes>"
      ]
     },
     "metadata": {
      "needs_background": "light"
     },
     "output_type": "display_data"
    }
   ],
   "source": [
    "# fit_model = gs.Stable(dim=2)\n",
    "fit_model = gs.Exponential(dim=2)\n",
    "\n",
    "fit_model.fit_variogram(bin_center, gamma, nugget=True)\n",
    "\n",
    "ax = fit_model.plot(x_max=0.06)\n",
    "ax.scatter(bin_center, gamma)"
   ]
  },
  {
   "cell_type": "code",
   "execution_count": 61,
   "id": "00cdc2ab",
   "metadata": {},
   "outputs": [
    {
     "data": {
      "text/plain": [
       "Exponential(dim=2, var=1.89e+10, len_scale=2.35, nugget=1.74e+10)"
      ]
     },
     "execution_count": 61,
     "metadata": {},
     "output_type": "execute_result"
    }
   ],
   "source": [
    "fit_model"
   ]
  },
  {
   "cell_type": "code",
   "execution_count": null,
   "id": "3b33abf4",
   "metadata": {},
   "outputs": [],
   "source": []
  },
  {
   "cell_type": "code",
   "execution_count": null,
   "id": "7251c13d",
   "metadata": {},
   "outputs": [],
   "source": [
    "# # enclosing box for data points\n",
    "# grid_lat = np.linspace(np.min(positions[0]), np.max(positions[0]))\n",
    "# grid_lon = np.linspace(np.min(positions[1]), np.max(positions[1]))\n",
    "\n",
    "# krige = gs.krige.Ordinary(fit_model, positions, field, fit_variogram=True)\n",
    "# krige.structured((grid_lat, grid_lon))\n",
    "\n",
    "# # plot the result\n",
    "# krige.plot()\n",
    "# # show the fitting results\n",
    "# print(krige.model)"
   ]
  }
 ],
 "metadata": {
  "kernelspec": {
   "display_name": "echopro_conda",
   "language": "python",
   "name": "echopro_conda"
  },
  "language_info": {
   "codemirror_mode": {
    "name": "ipython",
    "version": 3
   },
   "file_extension": ".py",
   "mimetype": "text/x-python",
   "name": "python",
   "nbconvert_exporter": "python",
   "pygments_lexer": "ipython3",
   "version": "3.9.12"
  }
 },
 "nbformat": 4,
 "nbformat_minor": 5
}
