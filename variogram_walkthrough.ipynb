{
 "cells": [
  {
   "cell_type": "code",
   "execution_count": null,
   "id": "3ca74684-6735-45e0-a55b-f5e3f56b0988",
   "metadata": {},
   "outputs": [],
   "source": [
    "import geopandas\n",
    "import scipy.io\n",
    "import numpy as np\n",
    "from EchoPro import EchoPro\n",
    "epro_2019 = EchoPro(init_file_path='./config_files/initialization_config.yml',\n",
    "                    survey_year_file_path='./config_files/survey_year_2019_config.yml',\n",
    "                    source=3,\n",
    "                    bio_data_type=1,\n",
    "                    age_data_status=1, \n",
    "                    exclude_age1=True)"
   ]
  },
  {
   "cell_type": "code",
   "execution_count": null,
   "id": "761ce0c6",
   "metadata": {},
   "outputs": [],
   "source": [
    "# get geopandas representation of final_biomass_table\n",
    "df = epro_2019.final_biomass_table\n",
    "\n",
    "krig_mesh = epro_2019.get_kriging_mesh()\n",
    "\n",
    "# apply transformations to data using python functions\n",
    "trans_df = krig_mesh.apply_longitude_transformation(df)\n",
    "x, y = krig_mesh.apply_distance_transformation(trans_df)"
   ]
  },
  {
   "cell_type": "code",
   "execution_count": null,
   "id": "bb270832",
   "metadata": {},
   "outputs": [],
   "source": [
    "# setup bins for semi-variogram calculation\n",
    "nlag = 30 \n",
    "lag_res = 0.002\n",
    "center_bins = lag_res*np.arange(nlag)"
   ]
  },
  {
   "cell_type": "code",
   "execution_count": null,
   "id": "f5b57260",
   "metadata": {},
   "outputs": [],
   "source": [
    "# get semi-variogram class\n",
    "semi_vario = epro_2019.get_semi_variogram(x, \n",
    "                                          y, df['nwgt_total'].values.flatten())"
   ]
  },
  {
   "cell_type": "code",
   "execution_count": null,
   "id": "28bcf07c",
   "metadata": {},
   "outputs": [],
   "source": [
    "%%time\n",
    "semi_vario.calculate_semi_variogram(center_bins)\n",
    "semi_vario.gamma_standardized"
   ]
  },
  {
   "cell_type": "code",
   "execution_count": null,
   "id": "985c587f",
   "metadata": {},
   "outputs": [],
   "source": [
    "# expected output \n",
    "# semi_vario._center_bins = center_bins\n",
    "# semi_vario.gamma_standardized = np.array([0.55957167, 0.27871057, 0.5017043 , 0.6285182 , 0.81699518,\n",
    "#        0.84807799, 0.85626063, 0.88805541, 0.87678417, 0.89532938,\n",
    "#        0.925526  , 0.92969017, 0.92621991, 0.93359212, 0.94452939,\n",
    "#        0.94982919, 0.92340754, 0.91565693, 0.93720898, 0.96212605,\n",
    "#        0.94361212, 0.93675056, 0.96621628, 0.97465567, 0.97700998,\n",
    "#        0.96146162, 0.98101481, 0.98020469, 0.98974528, 0.95736852])"
   ]
  },
  {
   "cell_type": "code",
   "execution_count": null,
   "id": "1384f26d",
   "metadata": {},
   "outputs": [],
   "source": [
    "%matplotlib widget\n",
    "semi_vario.view_semi_variogram()"
   ]
  },
  {
   "cell_type": "code",
   "execution_count": null,
   "id": "c8bc920b",
   "metadata": {},
   "outputs": [],
   "source": []
  }
 ],
 "metadata": {
  "kernelspec": {
   "display_name": "echopro_conda",
   "language": "python",
   "name": "echopro_conda"
  },
  "language_info": {
   "codemirror_mode": {
    "name": "ipython",
    "version": 3
   },
   "file_extension": ".py",
   "mimetype": "text/x-python",
   "name": "python",
   "nbconvert_exporter": "python",
   "pygments_lexer": "ipython3",
   "version": "3.9.12"
  }
 },
 "nbformat": 4,
 "nbformat_minor": 5
}
