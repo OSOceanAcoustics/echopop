{
 "cells": [
  {
   "cell_type": "code",
   "execution_count": null,
   "id": "3ca74684-6735-45e0-a55b-f5e3f56b0988",
   "metadata": {},
   "outputs": [],
   "source": [
    "import geopandas\n",
    "import scipy.io\n",
    "import numpy as np\n",
    "from EchoPro import EchoPro\n",
    "epro_2019 = EchoPro(init_file_path='./config_files/initialization_config.yml',\n",
    "                    survey_year_file_path='./config_files/survey_year_2019_config.yml',\n",
    "                    source=3,\n",
    "                    bio_data_type=1,\n",
    "                    age_data_status=1, \n",
    "                    exclude_age1=True)"
   ]
  },
  {
   "cell_type": "code",
   "execution_count": null,
   "id": "829c92c6",
   "metadata": {},
   "outputs": [],
   "source": [
    "# get example data from Matlab version of EchoPro\n",
    "mat = scipy.io.loadmat('../2019_consolidated_files/variogram_data.mat')\n",
    "\n",
    "positions = mat['variogram_data'][:, :2]  # (x,y)\n",
    "field = mat['variogram_data'][:, 2]   # biomass density"
   ]
  },
  {
   "cell_type": "code",
   "execution_count": null,
   "id": "bb270832",
   "metadata": {},
   "outputs": [],
   "source": [
    "# setup bins for semi-variogram calculation\n",
    "nlag = 30 \n",
    "lag_res = 0.002\n",
    "bins_center = lag_res*np.arange(nlag)\n",
    "\n",
    "bins = [bins_center[0] - lag_res/2.0]\n",
    "for i in range(nlag):\n",
    "    \n",
    "    bins.append(bins_center[i] + lag_res/2.0)"
   ]
  },
  {
   "cell_type": "code",
   "execution_count": null,
   "id": "f5b57260",
   "metadata": {},
   "outputs": [],
   "source": [
    "# get semi-variogram class\n",
    "semi_vario = epro_2019.get_semi_variogram(positions[:, 0], \n",
    "                                          positions[:, 1], field)"
   ]
  },
  {
   "cell_type": "code",
   "execution_count": null,
   "id": "28bcf07c",
   "metadata": {},
   "outputs": [],
   "source": [
    "%%time\n",
    "semi_vario.calculate_semi_variogram(bins_center)\n",
    "semi_vario.gamma_standardized"
   ]
  },
  {
   "cell_type": "code",
   "execution_count": null,
   "id": "985c587f",
   "metadata": {},
   "outputs": [],
   "source": [
    "array([0.55957167, 0.27871057, 0.5017043 , 0.6285182 , 0.81699518,\n",
    "       0.84807799, 0.85626063, 0.88805541, 0.87678417, 0.89532938,\n",
    "       0.925526  , 0.92969017, 0.92621991, 0.93359212, 0.94452939,\n",
    "       0.94982919, 0.92340754, 0.91565693, 0.93720898, 0.96212605,\n",
    "       0.94361212, 0.93675056, 0.96621628, 0.97465567, 0.97700998,\n",
    "       0.96146162, 0.98101481, 0.98020469, 0.98974528, 0.95736852])"
   ]
  },
  {
   "cell_type": "code",
   "execution_count": null,
   "id": "75143379",
   "metadata": {},
   "outputs": [],
   "source": [
    "func = semi_vario.generalized_exp_bessel"
   ]
  },
  {
   "cell_type": "code",
   "execution_count": null,
   "id": "d82c61f5",
   "metadata": {},
   "outputs": [],
   "source": [
    "from scipy.optimize import curve_fit\n",
    "# lag_vec, gamma\n",
    "# variance, ls, exp_pow, ls_hole_eff, nugget\n",
    "fit_params, pcov = curve_fit(func, bins_center, standardized_gamma, bounds=(0, [np.inf, np.inf, np.inf, 1e-14, 1e-14]))\n",
    "\n",
    "fit_params"
   ]
  },
  {
   "cell_type": "code",
   "execution_count": null,
   "id": "d29ce0e6",
   "metadata": {},
   "outputs": [],
   "source": [
    "import matplotlib.pyplot as plt\n",
    "\n",
    "lsq_x_axis = np.linspace(np.min(bins_center), np.max(bins_center), 100)\n",
    "\n",
    "plt.plot(bins_center, standardized_gamma, 'bo')\n",
    "plt.plot(lsq_x_axis, func(lsq_x_axis, *tuple(fit_params)), 'r-')"
   ]
  },
  {
   "cell_type": "code",
   "execution_count": null,
   "id": "8ed184cf",
   "metadata": {},
   "outputs": [],
   "source": []
  },
  {
   "cell_type": "code",
   "execution_count": null,
   "id": "44320742",
   "metadata": {},
   "outputs": [],
   "source": [
    "%matplotlib widget\n",
    "semi_vario.view_semi_variogram()"
   ]
  },
  {
   "cell_type": "code",
   "execution_count": null,
   "id": "2c443102",
   "metadata": {},
   "outputs": [],
   "source": []
  },
  {
   "cell_type": "code",
   "execution_count": null,
   "id": "f2c53b41",
   "metadata": {},
   "outputs": [],
   "source": [
    "x, y, z = np.array([1, 2, 3])"
   ]
  },
  {
   "cell_type": "code",
   "execution_count": null,
   "id": "8a7d4f50",
   "metadata": {},
   "outputs": [],
   "source": [
    "type(x)"
   ]
  },
  {
   "cell_type": "code",
   "execution_count": null,
   "id": "d3b569c6",
   "metadata": {},
   "outputs": [],
   "source": []
  },
  {
   "cell_type": "code",
   "execution_count": null,
   "id": "c4f22246",
   "metadata": {},
   "outputs": [],
   "source": []
  },
  {
   "cell_type": "code",
   "execution_count": null,
   "id": "cba8080d",
   "metadata": {},
   "outputs": [],
   "source": []
  },
  {
   "cell_type": "code",
   "execution_count": null,
   "id": "f14b93e9",
   "metadata": {},
   "outputs": [],
   "source": []
  },
  {
   "cell_type": "code",
   "execution_count": null,
   "id": "c7b9030d",
   "metadata": {},
   "outputs": [],
   "source": []
  },
  {
   "cell_type": "code",
   "execution_count": null,
   "id": "aa6084b2",
   "metadata": {},
   "outputs": [],
   "source": []
  },
  {
   "cell_type": "code",
   "execution_count": null,
   "id": "bbc4e3ec",
   "metadata": {},
   "outputs": [],
   "source": []
  },
  {
   "cell_type": "code",
   "execution_count": null,
   "id": "e558e4fd",
   "metadata": {},
   "outputs": [],
   "source": []
  },
  {
   "cell_type": "code",
   "execution_count": null,
   "id": "f024a2a8",
   "metadata": {},
   "outputs": [],
   "source": [
    "# import scipy.io\n",
    "# import numpy as np \n",
    "# import gstools as gs \n",
    "# # get example data from Matlab version of EchoPro\n",
    "# mat = scipy.io.loadmat('../2019_consolidated_files/variogram_data.mat')\n",
    "\n",
    "# positions = mat['variogram_data'][:, :2].T  # (x,y)\n",
    "# field = mat['variogram_data'][:, 2]   # biomass density"
   ]
  },
  {
   "cell_type": "code",
   "execution_count": null,
   "id": "bce13503",
   "metadata": {},
   "outputs": [],
   "source": [
    "# bin_center, gamma, counts = gs.vario_estimate(positions, \n",
    "#                                               field, \n",
    "#                                               bin_edges=bins, \n",
    "#                                               return_counts=True,\n",
    "# #                                               direction=[np.array([0.0, np.pi/2.0])],\n",
    "#                                               angles_tol=np.deg2rad(360))  #np.pi/8.0)\n",
    "\n",
    "# print(bin_center)\n",
    "# print(gamma)\n",
    "# print(counts)"
   ]
  },
  {
   "cell_type": "code",
   "execution_count": null,
   "id": "a723ba51",
   "metadata": {},
   "outputs": [],
   "source": [
    "# # fit_model = gs.Stable(dim=2)\n",
    "# fit_model = gs.Exponential(dim=2)\n",
    "\n",
    "# fit_model.fit_variogram(bin_center, gamma, nugget=True)\n",
    "\n",
    "# ax = fit_model.plot(x_max=0.06)\n",
    "# ax.scatter(bin_center, gamma)"
   ]
  },
  {
   "cell_type": "code",
   "execution_count": null,
   "id": "00cdc2ab",
   "metadata": {},
   "outputs": [],
   "source": [
    "# fit_model"
   ]
  },
  {
   "cell_type": "code",
   "execution_count": null,
   "id": "3b33abf4",
   "metadata": {},
   "outputs": [],
   "source": []
  },
  {
   "cell_type": "code",
   "execution_count": null,
   "id": "7251c13d",
   "metadata": {},
   "outputs": [],
   "source": [
    "# # enclosing box for data points\n",
    "# grid_lat = np.linspace(np.min(positions[0]), np.max(positions[0]))\n",
    "# grid_lon = np.linspace(np.min(positions[1]), np.max(positions[1]))\n",
    "\n",
    "# krige = gs.krige.Ordinary(fit_model, positions, field, fit_variogram=True)\n",
    "# krige.structured((grid_lat, grid_lon))\n",
    "\n",
    "# # plot the result\n",
    "# krige.plot()\n",
    "# # show the fitting results\n",
    "# print(krige.model)"
   ]
  }
 ],
 "metadata": {
  "kernelspec": {
   "display_name": "echopro_conda",
   "language": "python",
   "name": "echopro_conda"
  },
  "language_info": {
   "codemirror_mode": {
    "name": "ipython",
    "version": 3
   },
   "file_extension": ".py",
   "mimetype": "text/x-python",
   "name": "python",
   "nbconvert_exporter": "python",
   "pygments_lexer": "ipython3",
   "version": "3.9.12"
  }
 },
 "nbformat": 4,
 "nbformat_minor": 5
}
