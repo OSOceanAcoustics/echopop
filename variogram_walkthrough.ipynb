{
 "cells": [
  {
   "cell_type": "code",
   "execution_count": 1,
   "id": "3ca74684-6735-45e0-a55b-f5e3f56b0988",
   "metadata": {},
   "outputs": [
    {
     "name": "stderr",
     "output_type": "stream",
     "text": [
      "/Users/brandonreyes/opt/anaconda3/envs/echopro_conda/lib/python3.9/site-packages/numba/core/typed_passes.py:329: NumbaPerformanceWarning: \u001b[1m\n",
      "The keyword argument 'parallel=True' was specified but no transformation for parallel execution was possible.\n",
      "\n",
      "To find out why, try turning on parallel diagnostics, see https://numba.readthedocs.io/en/stable/user/parallel.html#diagnostics for help.\n",
      "\u001b[1m\n",
      "File \"EchoPro/numba_modules.py\", line 8:\u001b[0m\n",
      "\u001b[1m@nb.njit(nb.float64[:, :](nb.float64[:], nb.float64[:]), parallel=True)\n",
      "\u001b[1mdef nb_subtract_outer(a, b):\n",
      "\u001b[0m\u001b[1m^\u001b[0m\u001b[0m\n",
      "\u001b[0m\n",
      "  warnings.warn(errors.NumbaPerformanceWarning(msg,\n",
      "/Users/brandonreyes/opt/anaconda3/envs/echopro_conda/lib/python3.9/site-packages/numba/core/typed_passes.py:329: NumbaPerformanceWarning: \u001b[1m\n",
      "The keyword argument 'parallel=True' was specified but no transformation for parallel execution was possible.\n",
      "\n",
      "To find out why, try turning on parallel diagnostics, see https://numba.readthedocs.io/en/stable/user/parallel.html#diagnostics for help.\n",
      "\u001b[1m\n",
      "File \"EchoPro/numba_modules.py\", line 18:\u001b[0m\n",
      "\u001b[1m@nb.njit(nb.float64[:](nb.float64[:], nb.float64[:]), parallel=True, fastmath=True)\n",
      "\u001b[1mdef nb_dis_vec(a, b):\n",
      "\u001b[0m\u001b[1m^\u001b[0m\u001b[0m\n",
      "\u001b[0m\n",
      "  warnings.warn(errors.NumbaPerformanceWarning(msg,\n"
     ]
    },
    {
     "name": "stdout",
     "output_type": "stream",
     "text": [
      "A check of the initialization file needs to be done!\n",
      "A check of the survey year file needs to be done!\n",
      "Loading biological data ...\n"
     ]
    },
    {
     "name": "stderr",
     "output_type": "stream",
     "text": [
      "/Users/brandonreyes/UW_work/EchoPro_work/EchoPro/EchoPro/echo_pro.py:273: UserWarning: We are currently using nwgt_total from Matlab for CV, change this!\n",
      "  warnings.warn(\"We are currently using nwgt_total from Matlab for CV, change this!\")\n"
     ]
    }
   ],
   "source": [
    "import geopandas\n",
    "import scipy.io\n",
    "import numpy as np\n",
    "from EchoPro import EchoPro\n",
    "epro_2019 = EchoPro(init_file_path='./config_files/initialization_config.yml',\n",
    "                    survey_year_file_path='./config_files/survey_year_2019_config.yml',\n",
    "                    source=3,\n",
    "                    bio_data_type=1,\n",
    "                    age_data_status=1, \n",
    "                    exclude_age1=True)"
   ]
  },
  {
   "cell_type": "code",
   "execution_count": 2,
   "id": "761ce0c6",
   "metadata": {},
   "outputs": [],
   "source": [
    "# get geopandas representation of final_biomass_table\n",
    "df = epro_2019.final_biomass_table\n",
    "\n",
    "krig_mesh = epro_2019.get_kriging_mesh()\n",
    "\n",
    "# apply transformations to data using python functions\n",
    "trans_df = krig_mesh.apply_longitude_transformation(df)\n",
    "D_x = trans_df['Longitude'].max() - trans_df['Longitude'].min()\n",
    "D_y = trans_df['Latitude'].max() - trans_df['Latitude'].min()\n",
    "x, y = krig_mesh.apply_distance_transformation(trans_df, D_x, D_y)"
   ]
  },
  {
   "cell_type": "code",
   "execution_count": 3,
   "id": "bb270832",
   "metadata": {},
   "outputs": [],
   "source": [
    "# setup bins for semi-variogram calculation\n",
    "nlag = 30 \n",
    "lag_res = 0.002\n",
    "center_bins = lag_res*np.arange(nlag)"
   ]
  },
  {
   "cell_type": "code",
   "execution_count": 4,
   "id": "f5b57260",
   "metadata": {},
   "outputs": [],
   "source": [
    "# get semi-variogram class\n",
    "semi_vario = epro_2019.get_semi_variogram(x, \n",
    "                                          y, df['nwgt_total'].values.flatten())"
   ]
  },
  {
   "cell_type": "code",
   "execution_count": 5,
   "id": "28bcf07c",
   "metadata": {},
   "outputs": [
    {
     "name": "stdout",
     "output_type": "stream",
     "text": [
      "CPU times: user 2.07 s, sys: 1.9 s, total: 3.97 s\n",
      "Wall time: 3.83 s\n"
     ]
    },
    {
     "data": {
      "text/plain": [
       "array([0.55957167, 0.27871057, 0.5017043 , 0.6285182 , 0.81699518,\n",
       "       0.84807799, 0.85626063, 0.88805541, 0.87678417, 0.89532938,\n",
       "       0.925526  , 0.92969017, 0.92621991, 0.93359212, 0.94452939,\n",
       "       0.94982919, 0.92340754, 0.91565693, 0.93720898, 0.96212605,\n",
       "       0.94361212, 0.93675056, 0.96621628, 0.97465567, 0.97700998,\n",
       "       0.96146162, 0.98101481, 0.98020469, 0.98974528, 0.95736852])"
      ]
     },
     "execution_count": 5,
     "metadata": {},
     "output_type": "execute_result"
    }
   ],
   "source": [
    "%%time\n",
    "semi_vario.calculate_semi_variogram(center_bins)\n",
    "semi_vario.gamma_standardized"
   ]
  },
  {
   "cell_type": "code",
   "execution_count": 6,
   "id": "985c587f",
   "metadata": {},
   "outputs": [
    {
     "data": {
      "text/plain": [
       "True"
      ]
     },
     "execution_count": 6,
     "metadata": {},
     "output_type": "execute_result"
    }
   ],
   "source": [
    "# expected output \n",
    "matlab_gamma = np.array([0.55957167, 0.27871057, 0.5017043 , 0.6285182 , 0.81699518,\n",
    "       0.84807799, 0.85626063, 0.88805541, 0.87678417, 0.89532938,\n",
    "       0.925526  , 0.92969017, 0.92621991, 0.93359212, 0.94452939,\n",
    "       0.94982919, 0.92340754, 0.91565693, 0.93720898, 0.96212605,\n",
    "       0.94361212, 0.93675056, 0.96621628, 0.97465567, 0.97700998,\n",
    "       0.96146162, 0.98101481, 0.98020469, 0.98974528, 0.95736852])\n",
    "\n",
    "np.allclose(semi_vario.gamma_standardized, matlab_gamma)"
   ]
  },
  {
   "cell_type": "code",
   "execution_count": 7,
   "id": "1384f26d",
   "metadata": {},
   "outputs": [],
   "source": [
    "# %matplotlib widget\n",
    "# semi_vario.view_semi_variogram()"
   ]
  },
  {
   "cell_type": "code",
   "execution_count": null,
   "id": "c8bc920b",
   "metadata": {},
   "outputs": [],
   "source": []
  }
 ],
 "metadata": {
  "kernelspec": {
   "display_name": "echopro_conda",
   "language": "python",
   "name": "echopro_conda"
  },
  "language_info": {
   "codemirror_mode": {
    "name": "ipython",
    "version": 3
   },
   "file_extension": ".py",
   "mimetype": "text/x-python",
   "name": "python",
   "nbconvert_exporter": "python",
   "pygments_lexer": "ipython3",
   "version": "3.9.12"
  }
 },
 "nbformat": 4,
 "nbformat_minor": 5
}
