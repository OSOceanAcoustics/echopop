{
 "cells": [
  {
   "cell_type": "markdown",
   "id": "f0aa0cbe",
   "metadata": {},
   "source": [
    "# EchoPro Bootstrapping Workflow"
   ]
  },
  {
   "cell_type": "markdown",
   "id": "ccaef1d6",
   "metadata": {},
   "source": [
    "## Import libraries and configure the Jupyter notebook"
   ]
  },
  {
   "cell_type": "code",
   "execution_count": 1,
   "id": "66ad49aa",
   "metadata": {
    "execution": {
     "iopub.execute_input": "2023-01-06T04:45:25.761763Z",
     "iopub.status.busy": "2023-01-06T04:45:25.761418Z",
     "iopub.status.idle": "2023-01-06T04:45:27.318242Z",
     "shell.execute_reply": "2023-01-06T04:45:27.317617Z"
    }
   },
   "outputs": [],
   "source": [
    "# libraries used in the Notebook\n",
    "import matplotlib.pyplot as plt\n",
    "import numpy as np\n",
    "import pandas as pd \n",
    "\n",
    "# Python version of EchoPro\n",
    "import EchoPro\n",
    "\n",
    "# Allows us to grab the SemiVariogram class so we can use its models\n",
    "from EchoPro.computation import SemiVariogram as SV\n",
    "\n",
    "# Allows us to easily use matplotlib widgets in our Notebook\n",
    "#%matplotlib widget"
   ]
  },
  {
   "cell_type": "code",
   "execution_count": 2,
   "id": "059a8a59",
   "metadata": {
    "execution": {
     "iopub.execute_input": "2023-01-06T04:45:27.320417Z",
     "iopub.status.busy": "2023-01-06T04:45:27.320243Z",
     "iopub.status.idle": "2023-01-06T04:45:27.329293Z",
     "shell.execute_reply": "2023-01-06T04:45:27.328881Z"
    }
   },
   "outputs": [
    {
     "name": "stdout",
     "output_type": "stream",
     "text": [
      "A full check of the initialization file contents needs to be done!\n",
      "A check of the survey year file contents needs to be done!\n",
      "CPU times: user 6.18 ms, sys: 0 ns, total: 6.18 ms\n",
      "Wall time: 6.12 ms\n"
     ]
    }
   ],
   "source": [
    "%%time\n",
    "survey_2019 = EchoPro.Survey(init_file_path='../config_files/initialization_config.yml',\n",
    "                             survey_year_file_path='../config_files/survey_year_2019_config.yml',\n",
    "                             source=3, \n",
    "                             exclude_age1=True)"
   ]
  },
  {
   "cell_type": "code",
   "execution_count": 3,
   "id": "8c0d730c",
   "metadata": {
    "execution": {
     "iopub.execute_input": "2023-01-06T04:45:27.331080Z",
     "iopub.status.busy": "2023-01-06T04:45:27.330782Z",
     "iopub.status.idle": "2023-01-06T04:45:28.804839Z",
     "shell.execute_reply": "2023-01-06T04:45:28.804202Z"
    }
   },
   "outputs": [
    {
     "name": "stdout",
     "output_type": "stream",
     "text": [
      "CPU times: user 1.45 s, sys: 7.51 ms, total: 1.46 s\n",
      "Wall time: 1.47 s\n"
     ]
    }
   ],
   "source": [
    "%%time \n",
    "survey_2019.load_survey_data() "
   ]
  },
  {
   "cell_type": "markdown",
   "id": "4a4a8b75",
   "metadata": {},
   "source": [
    "## Get bootstrapping object\n",
    "- Obtain a bootstrapping object tied to a specific survey year"
   ]
  },
  {
   "cell_type": "code",
   "execution_count": 4,
   "id": "59bb2978",
   "metadata": {
    "execution": {
     "iopub.execute_input": "2023-01-06T04:45:28.806595Z",
     "iopub.status.busy": "2023-01-06T04:45:28.806473Z",
     "iopub.status.idle": "2023-01-06T04:45:28.809025Z",
     "shell.execute_reply": "2023-01-06T04:45:28.808626Z"
    }
   },
   "outputs": [],
   "source": [
    "boot_obj = survey_2019.get_bootstrapping()"
   ]
  },
  {
   "cell_type": "markdown",
   "id": "95a032cd",
   "metadata": {},
   "source": [
    "## Run bootstrapping without Kriging\n",
    "In EchoPro we can perform bootstrapping on a reduced number of transects and obtain the areal biomass density for each iteration of bootstrapping as well as the associated mean Jolly-Hampton CV value. "
   ]
  },
  {
   "cell_type": "code",
   "execution_count": 5,
   "id": "db75cb6a",
   "metadata": {
    "execution": {
     "iopub.execute_input": "2023-01-06T04:45:28.810653Z",
     "iopub.status.busy": "2023-01-06T04:45:28.810478Z",
     "iopub.status.idle": "2023-01-06T04:45:30.977563Z",
     "shell.execute_reply": "2023-01-06T04:45:30.976948Z"
    }
   },
   "outputs": [
    {
     "name": "stdout",
     "output_type": "stream",
     "text": [
      "CPU times: user 2.14 s, sys: 11.1 ms, total: 2.15 s\n",
      "Wall time: 2.16 s\n"
     ]
    }
   ],
   "source": [
    "%%time\n",
    "boot_results_no_krig = boot_obj.run_bootstrapping(run_kriging=False,\n",
    "                                                  removal_percentage=50.0,\n",
    "                                                  num_iterations=5,\n",
    "                                                  seed=1234)"
   ]
  },
  {
   "cell_type": "code",
   "execution_count": 6,
   "id": "56ffbe04",
   "metadata": {
    "execution": {
     "iopub.execute_input": "2023-01-06T04:45:30.979116Z",
     "iopub.status.busy": "2023-01-06T04:45:30.979002Z",
     "iopub.status.idle": "2023-01-06T04:45:30.986869Z",
     "shell.execute_reply": "2023-01-06T04:45:30.986390Z"
    }
   },
   "outputs": [
    {
     "data": {
      "text/html": [
       "<div>\n",
       "<style scoped>\n",
       "    .dataframe tbody tr th:only-of-type {\n",
       "        vertical-align: middle;\n",
       "    }\n",
       "\n",
       "    .dataframe tbody tr th {\n",
       "        vertical-align: top;\n",
       "    }\n",
       "\n",
       "    .dataframe thead th {\n",
       "        text-align: right;\n",
       "    }\n",
       "</style>\n",
       "<table border=\"1\" class=\"dataframe\">\n",
       "  <thead>\n",
       "    <tr style=\"text-align: right;\">\n",
       "      <th></th>\n",
       "      <th>tot_biomass_no_kriging</th>\n",
       "      <th>CV_JH_mean_no_kriging</th>\n",
       "    </tr>\n",
       "    <tr>\n",
       "      <th>iteration</th>\n",
       "      <th></th>\n",
       "      <th></th>\n",
       "    </tr>\n",
       "  </thead>\n",
       "  <tbody>\n",
       "    <tr>\n",
       "      <th>1</th>\n",
       "      <td>8.622256e+07</td>\n",
       "      <td>0.263122</td>\n",
       "    </tr>\n",
       "    <tr>\n",
       "      <th>2</th>\n",
       "      <td>1.116682e+08</td>\n",
       "      <td>0.303734</td>\n",
       "    </tr>\n",
       "    <tr>\n",
       "      <th>3</th>\n",
       "      <td>7.175504e+07</td>\n",
       "      <td>0.272917</td>\n",
       "    </tr>\n",
       "    <tr>\n",
       "      <th>4</th>\n",
       "      <td>1.172757e+08</td>\n",
       "      <td>0.261159</td>\n",
       "    </tr>\n",
       "    <tr>\n",
       "      <th>5</th>\n",
       "      <td>9.958186e+07</td>\n",
       "      <td>0.285411</td>\n",
       "    </tr>\n",
       "  </tbody>\n",
       "</table>\n",
       "</div>"
      ],
      "text/plain": [
       "           tot_biomass_no_kriging  CV_JH_mean_no_kriging\n",
       "iteration                                               \n",
       "1                    8.622256e+07               0.263122\n",
       "2                    1.116682e+08               0.303734\n",
       "3                    7.175504e+07               0.272917\n",
       "4                    1.172757e+08               0.261159\n",
       "5                    9.958186e+07               0.285411"
      ]
     },
     "execution_count": 6,
     "metadata": {},
     "output_type": "execute_result"
    }
   ],
   "source": [
    "boot_results_no_krig"
   ]
  },
  {
   "cell_type": "code",
   "execution_count": 7,
   "id": "9ab18c8b",
   "metadata": {
    "execution": {
     "iopub.execute_input": "2023-01-06T04:45:30.988283Z",
     "iopub.status.busy": "2023-01-06T04:45:30.988178Z",
     "iopub.status.idle": "2023-01-06T04:45:30.990948Z",
     "shell.execute_reply": "2023-01-06T04:45:30.990466Z"
    }
   },
   "outputs": [
    {
     "name": "stdout",
     "output_type": "stream",
     "text": [
      "Mean total biomass without Kriging: 97.301 kmt\n"
     ]
    }
   ],
   "source": [
    "print(f\"Mean total biomass without Kriging: {1e-6 * boot_results_no_krig['tot_biomass_no_kriging'].mean():.3f} kmt\")"
   ]
  },
  {
   "cell_type": "markdown",
   "id": "83df8971",
   "metadata": {},
   "source": [
    "## Run bootstrapping with Kriging\n",
    "Now, we demonstrate how to run bootstrapping with Kriging "
   ]
  },
  {
   "cell_type": "markdown",
   "id": "75ecf293",
   "metadata": {},
   "source": [
    "### Initialize Kriging Mesh\n",
    "Before we run bootstrapping we need to establish what Kriging mesh we will be using. Note: In bootstrapping the transformation of all meshes will be done automatically.   "
   ]
  },
  {
   "cell_type": "code",
   "execution_count": 8,
   "id": "020bed87",
   "metadata": {
    "execution": {
     "iopub.execute_input": "2023-01-06T04:45:30.992528Z",
     "iopub.status.busy": "2023-01-06T04:45:30.992425Z",
     "iopub.status.idle": "2023-01-06T04:45:32.218279Z",
     "shell.execute_reply": "2023-01-06T04:45:32.217591Z"
    }
   },
   "outputs": [],
   "source": [
    "krig_mesh = survey_2019.get_kriging_mesh()"
   ]
  },
  {
   "cell_type": "markdown",
   "id": "5d5456a0",
   "metadata": {},
   "source": [
    "### Set appropriate bootstrap Kriging parameters and run boostrapping "
   ]
  },
  {
   "cell_type": "code",
   "execution_count": 9,
   "id": "cb914d68",
   "metadata": {
    "execution": {
     "iopub.execute_input": "2023-01-06T04:45:32.220782Z",
     "iopub.status.busy": "2023-01-06T04:45:32.220554Z",
     "iopub.status.idle": "2023-01-06T04:45:32.224278Z",
     "shell.execute_reply": "2023-01-06T04:45:32.223660Z"
    }
   },
   "outputs": [],
   "source": [
    "bootstrap_kriging_params = dict(\n",
    "    # kriging parameters\n",
    "    k_max=10,\n",
    "    k_min=3,\n",
    "    R=0.0226287,\n",
    "    ratio=0.001,\n",
    "    \n",
    "    # parameters for semi-variogram model\n",
    "    s_v_params={'nugget': 0.0, 'sill': 0.95279, 'ls': 0.0075429,\n",
    "                'exp_pow': 1.5, 'ls_hole_eff': 0.0},\n",
    "    \n",
    "    # grab appropriate semi-variogram model\n",
    "    s_v_model=SV.generalized_exp_bessel,\n",
    "    \n",
    "    # set Kriging mesh\n",
    "    krig_mesh=krig_mesh \n",
    ")"
   ]
  },
  {
   "cell_type": "code",
   "execution_count": 10,
   "id": "0af95f56",
   "metadata": {
    "execution": {
     "iopub.execute_input": "2023-01-06T04:45:32.226216Z",
     "iopub.status.busy": "2023-01-06T04:45:32.226023Z",
     "iopub.status.idle": "2023-01-06T04:45:51.574705Z",
     "shell.execute_reply": "2023-01-06T04:45:51.574174Z"
    }
   },
   "outputs": [
    {
     "name": "stdout",
     "output_type": "stream",
     "text": [
      "CPU times: user 22.7 s, sys: 4.69 s, total: 27.4 s\n",
      "Wall time: 19.3 s\n"
     ]
    }
   ],
   "source": [
    "%%time\n",
    "boot_results_krig = boot_obj.run_bootstrapping(run_kriging=True,\n",
    "                                               kriging_params=bootstrap_kriging_params,\n",
    "                                               removal_percentage=50.0,\n",
    "                                               num_iterations=5,\n",
    "                                               seed=1234)"
   ]
  },
  {
   "cell_type": "code",
   "execution_count": 11,
   "id": "349e4485",
   "metadata": {
    "execution": {
     "iopub.execute_input": "2023-01-06T04:45:51.576573Z",
     "iopub.status.busy": "2023-01-06T04:45:51.576190Z",
     "iopub.status.idle": "2023-01-06T04:45:51.581650Z",
     "shell.execute_reply": "2023-01-06T04:45:51.581322Z"
    }
   },
   "outputs": [
    {
     "data": {
      "text/html": [
       "<div>\n",
       "<style scoped>\n",
       "    .dataframe tbody tr th:only-of-type {\n",
       "        vertical-align: middle;\n",
       "    }\n",
       "\n",
       "    .dataframe tbody tr th {\n",
       "        vertical-align: top;\n",
       "    }\n",
       "\n",
       "    .dataframe thead th {\n",
       "        text-align: right;\n",
       "    }\n",
       "</style>\n",
       "<table border=\"1\" class=\"dataframe\">\n",
       "  <thead>\n",
       "    <tr style=\"text-align: right;\">\n",
       "      <th></th>\n",
       "      <th>tot_biomass_no_kriging</th>\n",
       "      <th>CV_JH_mean_no_kriging</th>\n",
       "      <th>tot_biomass_kriging</th>\n",
       "      <th>CV_JH_mean_kriging</th>\n",
       "    </tr>\n",
       "    <tr>\n",
       "      <th>iteration</th>\n",
       "      <th></th>\n",
       "      <th></th>\n",
       "      <th></th>\n",
       "      <th></th>\n",
       "    </tr>\n",
       "  </thead>\n",
       "  <tbody>\n",
       "    <tr>\n",
       "      <th>1</th>\n",
       "      <td>8.622256e+07</td>\n",
       "      <td>0.263125</td>\n",
       "      <td>1.060860e+09</td>\n",
       "      <td>0.135889</td>\n",
       "    </tr>\n",
       "    <tr>\n",
       "      <th>2</th>\n",
       "      <td>1.116682e+08</td>\n",
       "      <td>0.303517</td>\n",
       "      <td>1.687877e+09</td>\n",
       "      <td>0.150615</td>\n",
       "    </tr>\n",
       "    <tr>\n",
       "      <th>3</th>\n",
       "      <td>7.175504e+07</td>\n",
       "      <td>0.273010</td>\n",
       "      <td>1.056840e+09</td>\n",
       "      <td>0.140621</td>\n",
       "    </tr>\n",
       "    <tr>\n",
       "      <th>4</th>\n",
       "      <td>1.172757e+08</td>\n",
       "      <td>0.261178</td>\n",
       "      <td>1.594250e+09</td>\n",
       "      <td>0.135714</td>\n",
       "    </tr>\n",
       "    <tr>\n",
       "      <th>5</th>\n",
       "      <td>9.958186e+07</td>\n",
       "      <td>0.285088</td>\n",
       "      <td>1.470527e+09</td>\n",
       "      <td>0.155091</td>\n",
       "    </tr>\n",
       "  </tbody>\n",
       "</table>\n",
       "</div>"
      ],
      "text/plain": [
       "           tot_biomass_no_kriging  CV_JH_mean_no_kriging  tot_biomass_kriging  \\\n",
       "iteration                                                                       \n",
       "1                    8.622256e+07               0.263125         1.060860e+09   \n",
       "2                    1.116682e+08               0.303517         1.687877e+09   \n",
       "3                    7.175504e+07               0.273010         1.056840e+09   \n",
       "4                    1.172757e+08               0.261178         1.594250e+09   \n",
       "5                    9.958186e+07               0.285088         1.470527e+09   \n",
       "\n",
       "           CV_JH_mean_kriging  \n",
       "iteration                      \n",
       "1                    0.135889  \n",
       "2                    0.150615  \n",
       "3                    0.140621  \n",
       "4                    0.135714  \n",
       "5                    0.155091  "
      ]
     },
     "execution_count": 11,
     "metadata": {},
     "output_type": "execute_result"
    }
   ],
   "source": [
    "boot_results_krig"
   ]
  },
  {
   "cell_type": "code",
   "execution_count": 12,
   "id": "85da1c32",
   "metadata": {
    "execution": {
     "iopub.execute_input": "2023-01-06T04:45:51.583419Z",
     "iopub.status.busy": "2023-01-06T04:45:51.583304Z",
     "iopub.status.idle": "2023-01-06T04:45:51.585915Z",
     "shell.execute_reply": "2023-01-06T04:45:51.585581Z"
    }
   },
   "outputs": [
    {
     "name": "stdout",
     "output_type": "stream",
     "text": [
      "Mean total biomass with Kriging: 1374.071 kmt\n"
     ]
    }
   ],
   "source": [
    "print(f\"Mean total biomass with Kriging: {1e-6 * boot_results_krig['tot_biomass_kriging'].mean():.3f} kmt\")"
   ]
  },
  {
   "cell_type": "code",
   "execution_count": null,
   "id": "7ecce36e",
   "metadata": {},
   "outputs": [],
   "source": []
  }
 ],
 "metadata": {
  "kernelspec": {
   "display_name": "Python [conda env:echopro_jupnb] *",
   "language": "python",
   "name": "conda-env-echopro_jupnb-py"
  },
  "language_info": {
   "codemirror_mode": {
    "name": "ipython",
    "version": 3
   },
   "file_extension": ".py",
   "mimetype": "text/x-python",
   "name": "python",
   "nbconvert_exporter": "python",
   "pygments_lexer": "ipython3",
   "version": "3.9.15"
  },
  "toc": {
   "base_numbering": 1,
   "nav_menu": {
    "height": "332px",
    "width": "838px"
   },
   "number_sections": true,
   "sideBar": true,
   "skip_h1_title": false,
   "title_cell": "Table of Contents",
   "title_sidebar": "Contents",
   "toc_cell": false,
   "toc_position": {
    "height": "calc(100% - 180px)",
    "left": "10px",
    "top": "150px",
    "width": "217.2px"
   },
   "toc_section_display": true,
   "toc_window_display": true
  },
  "toc-autonumbering": true
 },
 "nbformat": 4,
 "nbformat_minor": 5
}
