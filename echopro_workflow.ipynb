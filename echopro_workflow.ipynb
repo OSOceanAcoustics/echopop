{
 "cells": [
  {
   "cell_type": "markdown",
   "id": "b8fbdf64",
   "metadata": {},
   "source": [
    "## Import necessary libraries and configure Jupyter notebook\n",
    "\n",
    "Note: Depending on your computer OS, you may obtain the warning `OMP: Info #276: omp_set_nested routine deprecated, please use omp_set_max_active_levels instead.`. This warning will **not** affect the output of this notebook (it can be ignored)."
   ]
  },
  {
   "cell_type": "code",
   "execution_count": null,
   "id": "66ad49aa",
   "metadata": {},
   "outputs": [],
   "source": [
    "from EchoPro import EchoPro\n",
    "import numpy as np\n",
    "import matplotlib.pyplot as plt\n",
    "# grab the SemiVariogram class so we can use its models\n",
    "from EchoPro.semivariogram import SemiVariogram as SV\n",
    "%matplotlib widget"
   ]
  },
  {
   "cell_type": "markdown",
   "id": "605da17d",
   "metadata": {},
   "source": [
    "# Load and Process Data \n",
    "\n",
    "In this section we use the configuration files and initialization parameters to load all files that are necessary for the biomass density calculation. Additionally, using the prepared files we compute the normalized biomass density of the raw data.\n",
    "\n",
    "The following variables representing the data are constructed:\n",
    "* `params` -- a dictionary of all parameters from the configuration files\n",
    "* `strata_df` -- a minimal Dataframe of the data contained in `filename_strata`\n",
    "* `strata_ds` -- an Xarray Dataset containing strata_df data and computed quantities\n",
    "* `geo_strata_df` -- a minimal Dataframe of the data contained in `stratification_filename`\n",
    "* `length_df` -- a minimal Dataframe of the data contained in `filename_length_US/CAN` and computed quantities for the provided `species_code_ID`\n",
    "* `specimen_df` -- a minimal Dataframe of the data contained in `filename_specimen_US/CAN` for the provided `species_code_ID`\n",
    "* `nasc_df` -- a minimal Dataframe of the data contained in the appropriate NASC file e.g. `filename_processed_data_no_age1` or `filename_processed_data_all_ages` \n",
    "* `final_biomass_table` -- a Dataframe containing a subset of data from `nasc_df` and the calculated normalized biomass density\n",
    "\n",
    "All of these variables can be accessed through epro_2019 e.g. `epro_2019.strata_df`.\n",
    "\n",
    "Note: Once `epro_2019` has been created, all computational routines can be accessed using this object.\n",
    "\n",
    "Note: The run below will print the statements: `A check of the initialization file needs to be done!, A check of the survey year file needs to be done!, We are using our own biomass density calculation!` these can be ignored as they are reminders. "
   ]
  },
  {
   "cell_type": "code",
   "execution_count": null,
   "id": "059a8a59",
   "metadata": {},
   "outputs": [],
   "source": [
    "%%time\n",
    "epro_2019 = EchoPro(init_file_path='./config_files/initialization_config.yml',\n",
    "                    survey_year_file_path='./config_files/survey_year_2019_config.yml',\n",
    "                    source=3, \n",
    "                    exclude_age1=True)"
   ]
  },
  {
   "cell_type": "markdown",
   "id": "22d93440",
   "metadata": {},
   "source": [
    "### Display the final biomass table"
   ]
  },
  {
   "cell_type": "code",
   "execution_count": null,
   "id": "2ee68a28",
   "metadata": {},
   "outputs": [],
   "source": [
    "epro_2019.final_biomass_table.head()"
   ]
  },
  {
   "cell_type": "markdown",
   "id": "013e62b5",
   "metadata": {},
   "source": [
    "# Jolly-Hampton CV Analysis\n",
    "\n",
    "Here we compute the mean of the Jolly-Hampton CV value for data that has not been Kriged.\n",
    "\n",
    "Note: the algorithm used to compute this value is random in nature. Thus, different runs can produce slightly different values."
   ]
  },
  {
   "cell_type": "code",
   "execution_count": null,
   "id": "a7bb465e",
   "metadata": {},
   "outputs": [],
   "source": [
    "%%time\n",
    "lat_INPFC = [np.NINF, 36, 40.5, 43.000, 45.7667, 48.5, 55.0000]  # INPFC\n",
    "CV_JH_mean = epro_2019.run_cv_analysis(lat_INPFC, kriged_data=False)\n",
    "print(f\"CV_JH_mean = {CV_JH_mean}\")\n",
    "# The output should be approximately CV_JH_mean = 0.1337"
   ]
  },
  {
   "cell_type": "markdown",
   "id": "c5bd6ad7",
   "metadata": {},
   "source": [
    "# Obtain Kriging Mesh Data\n",
    "\n",
    "Here we obtain the mesh and data, which will be necessary to compute the semi-variogram calculation and actually perform the Kriging. \n",
    "\n",
    "This line run produces the following variables: \n",
    "* `mesh_gdf` -- A GeoPandas Dataframe obtained from data in `filename_grid_cell`\n",
    "* `smoothed_contour_gdf` -- A GeoPandas Dataframe obtained from data in `filename_smoothed_contour`\n",
    "\n",
    "Additionally, this initalization creates routines that can plot and transform the mesh data. "
   ]
  },
  {
   "cell_type": "code",
   "execution_count": null,
   "id": "c976b0b9",
   "metadata": {},
   "outputs": [],
   "source": [
    "# obtain kriging mesh class\n",
    "krig_mesh = epro_2019.get_kriging_mesh()"
   ]
  },
  {
   "cell_type": "markdown",
   "id": "b8b3fe9b",
   "metadata": {},
   "source": [
    "## Plot the mesh, transects, and smoothed contour\n",
    "\n",
    "* Transect points are represented by a changing color gradient (these can be seen by zooming in)\n",
    "* The full mesh points are red \n",
    "* The smoothed countour points are blue "
   ]
  },
  {
   "cell_type": "code",
   "execution_count": null,
   "id": "41a7496d",
   "metadata": {},
   "outputs": [],
   "source": [
    "# Plots the transect points on the folium map\n",
    "fmap = krig_mesh.plot_points(epro_2019.final_biomass_table.reset_index(), \n",
    "                             lon_name=\"Longitude\", lat_name=\"Latitude\", \n",
    "                             cmap_column='Transect', color='hex')\n",
    "\n",
    "# Plot full mesh points \n",
    "fmap = krig_mesh.plot_points(krig_mesh.mesh_gdf, \n",
    "                             lon_name='Longitude of centroid', lat_name='Latitude of centroid', \n",
    "                             fmap=fmap, color='red')\n",
    "\n",
    "# Plot smoothed contour points \n",
    "fmap = krig_mesh.plot_points(krig_mesh.smoothed_contour_gdf, \n",
    "                             lon_name=\"Longitude\", lat_name=\"Latitude\", fmap=fmap, color='blue')\n",
    "\n",
    "# display the folium map\n",
    "fmap"
   ]
  },
  {
   "cell_type": "markdown",
   "id": "1c2a3a9b",
   "metadata": {},
   "source": [
    "## Transforming a set of points\n",
    "\n",
    "To run the semi-variogram and Kriging calculations, it is required that one transforms the longitude/latitude points. Below we demonstrate a convenience routine accessible via `krig_mesh` that performs this transformation on the transect points. "
   ]
  },
  {
   "cell_type": "code",
   "execution_count": null,
   "id": "9d447533",
   "metadata": {},
   "outputs": [],
   "source": [
    "# apply transformations to transect points \n",
    "trans_df = krig_mesh.apply_longitude_transformation(epro_2019.final_biomass_table)\n",
    "D_x = trans_df['Longitude'].max() - trans_df['Longitude'].min()\n",
    "D_y = trans_df['Latitude'].max() - trans_df['Latitude'].min()\n",
    "x_transect, y_transect = krig_mesh.apply_distance_transformation(trans_df, D_x, D_y)"
   ]
  },
  {
   "cell_type": "code",
   "execution_count": null,
   "id": "2fea6f6b",
   "metadata": {},
   "outputs": [],
   "source": [
    "# plot the transformed points \n",
    "plt.plot(x_transect, y_transect, 'r*', markersize=1.25)\n",
    "plt.show()"
   ]
  },
  {
   "cell_type": "markdown",
   "id": "09e17c81",
   "metadata": {},
   "source": [
    "# Compute Semi-Variogram and fit a model\n",
    "\n",
    "Below we demonstrate how to compute the normalized semi-variogram for the transect points using the normalized biomass density. We then show how to fit a model to the normalized semi-variogram data. "
   ]
  },
  {
   "cell_type": "code",
   "execution_count": null,
   "id": "a6d7967e",
   "metadata": {},
   "outputs": [],
   "source": [
    "# setup bins for semi-variogram calculation\n",
    "nlag = 30 \n",
    "lag_res = 0.002\n",
    "center_bins = lag_res*np.arange(nlag)"
   ]
  },
  {
   "cell_type": "code",
   "execution_count": null,
   "id": "39f0ac8c",
   "metadata": {},
   "outputs": [],
   "source": [
    "# initialize semi-variogram class using the transect points\n",
    "semi_vario = epro_2019.get_semi_variogram(x_transect, y_transect, \n",
    "                                          epro_2019.final_biomass_table['normalized_biomass_density'].values.flatten())"
   ]
  },
  {
   "cell_type": "markdown",
   "id": "44b1346d",
   "metadata": {},
   "source": [
    "## Compute the semi-variogram"
   ]
  },
  {
   "cell_type": "code",
   "execution_count": null,
   "id": "e6f9146f",
   "metadata": {},
   "outputs": [],
   "source": [
    "%%time\n",
    "# run the semi-variogram calculation \n",
    "semi_vario.calculate_semi_variogram(center_bins)\n",
    "\n",
    "# display the semi-variogram values\n",
    "semi_vario.gamma_standardized"
   ]
  },
  {
   "cell_type": "markdown",
   "id": "0024c1f6",
   "metadata": {},
   "source": [
    "## Fit a model to the semi-variogram\n",
    "\n",
    "To run Kriging, we need to fit a model to the normalized semi-variogram values. We provide a widget to display this model and allow one to actively change parameters within the model. \n",
    "\n",
    "Note: When you run the least-squares fit of the model, all model parameters will be updated and the model will be plotted in red. The apply model button will plot the model for the values provided in the box. Each time you change the values in the box, you need to unselect and select the apply model button to display the updated model.  "
   ]
  },
  {
   "cell_type": "code",
   "execution_count": null,
   "id": "475b4f4c",
   "metadata": {},
   "outputs": [],
   "source": [
    "semi_vario.view_semi_variogram()"
   ]
  },
  {
   "cell_type": "markdown",
   "id": "31f02e21",
   "metadata": {},
   "source": [
    "# Perform Kriging\n",
    "\n",
    "Below we perform Ordinary Kriging using the constructed transformed mesh points, the semi-variogram model, and the normalized biomass density.   "
   ]
  },
  {
   "cell_type": "markdown",
   "id": "1b5ed3cf",
   "metadata": {},
   "source": [
    "## Setup preliminary variables necessary for Kriging"
   ]
  },
  {
   "cell_type": "code",
   "execution_count": null,
   "id": "de7071d8",
   "metadata": {},
   "outputs": [],
   "source": [
    "# apply transformation to the mesh points\n",
    "trans_dfm = krig_mesh.apply_longitude_transformation(krig_mesh.mesh_gdf, \n",
    "                                                     gdf_lon_name='Longitude of centroid', \n",
    "                                                     gdf_lat_name='Latitude of centroid')\n",
    "\n",
    "# Note we are using D_x and D_y computed in a previous cell\n",
    "x_mesh, y_mesh = krig_mesh.apply_distance_transformation(trans_dfm, D_x, D_y,\n",
    "                                                         gdf_lon_name='Longitude of centroid',\n",
    "                                                         gdf_lat_name='Latitude of centroid')"
   ]
  },
  {
   "cell_type": "code",
   "execution_count": null,
   "id": "124ca6df",
   "metadata": {},
   "outputs": [],
   "source": [
    "# initalize kriging routine\n",
    "krig = epro_2019.get_kriging()"
   ]
  },
  {
   "cell_type": "code",
   "execution_count": null,
   "id": "fc440757",
   "metadata": {},
   "outputs": [],
   "source": [
    "# Initalize Kriging parameters\n",
    "k_max = 10\n",
    "k_min = 3\n",
    "R = 0.0226287\n",
    "ratio = 0.001\n",
    "\n",
    "# parameters for semi-variogram model\n",
    "s_v_params = {'nugget': 0.0, 'sill': 0.95279, 'ls': 0.0075429,\n",
    "              'exp_pow': 1.5, 'ls_hole_eff': 0.0}\n",
    "\n",
    "# grab appropriate semi-variogram model\n",
    "s_v_model = SV.generalized_exp_bessel"
   ]
  },
  {
   "cell_type": "markdown",
   "id": "3afe14d3",
   "metadata": {},
   "source": [
    "## Perform Ordinary Kriging\n",
    "\n",
    "Below we perform Ordinary Kriging on the normalized biomass density using the established paramters. This routine returns:\n",
    "\n",
    "* `ep_arr` -- Kriging variance for each mesh coordinate\n",
    "* `eps_arr` -- Kriging sample variance for each mesh coordinate\n",
    "* `vp_arr` -- Kriged value for each mesh coordinate"
   ]
  },
  {
   "cell_type": "code",
   "execution_count": null,
   "id": "105b5d2f",
   "metadata": {},
   "outputs": [],
   "source": [
    "%%time\n",
    "ep_arr, eps_arr, vp_arr = krig.run_kriging(x_mesh, x_transect, \n",
    "                                           y_mesh, y_transect, \n",
    "                                           epro_2019.final_biomass_table['normalized_biomass_density'].values.flatten(), \n",
    "                                           k_max, k_min, R, ratio, \n",
    "                                           s_v_params, s_v_model)"
   ]
  },
  {
   "cell_type": "markdown",
   "id": "3abe6bdc",
   "metadata": {},
   "source": [
    "## Compute the total Kriged biomass estimate \n",
    "\n",
    "This should produce a total Kriged biomass estimate of 1725.0331199094 (kmt)"
   ]
  },
  {
   "cell_type": "code",
   "execution_count": null,
   "id": "a57956a0",
   "metadata": {},
   "outputs": [],
   "source": [
    "Area = krig_mesh.mesh_gdf['Cell portion'].values*epro_2019.params['kriging_A0']\n",
    "\n",
    "krig_biomass_vals = (vp_arr*Area)*1e-6 # in kmt\n",
    "tot_krig_biomass = np.nansum(krig_biomass_vals)\n",
    "\n",
    "print(f\"Total Kriged Biomass Estimate {tot_krig_biomass} (kmt) \\n\")\n",
    "\n",
    "print(np.isclose(tot_krig_biomass, 1725.0331199094))"
   ]
  },
  {
   "cell_type": "markdown",
   "id": "bce6391a",
   "metadata": {},
   "source": [
    "## Plot Kriged Biomass estimate in kmt\n",
    "\n",
    "Red points represent a higher biomass estimate"
   ]
  },
  {
   "cell_type": "code",
   "execution_count": null,
   "id": "6aa67714",
   "metadata": {},
   "outputs": [],
   "source": [
    "k_mesh_x = krig_mesh.mesh_gdf['Latitude of centroid'].values.flatten()\n",
    "k_mesh_y = krig_mesh.mesh_gdf['Longitude of centroid'].values.flatten()\n",
    "\n",
    "krig.plot_kriging_results(k_mesh_x, k_mesh_y, krig_biomass_vals)"
   ]
  }
 ],
 "metadata": {
  "kernelspec": {
   "display_name": "echopro_env",
   "language": "python",
   "name": "echopro_env"
  },
  "language_info": {
   "codemirror_mode": {
    "name": "ipython",
    "version": 3
   },
   "file_extension": ".py",
   "mimetype": "text/x-python",
   "name": "python",
   "nbconvert_exporter": "python",
   "pygments_lexer": "ipython3",
   "version": "3.9.13"
  },
  "toc": {
   "base_numbering": 1,
   "nav_menu": {},
   "number_sections": false,
   "sideBar": true,
   "skip_h1_title": true,
   "title_cell": "Table of Contents",
   "title_sidebar": "Contents",
   "toc_cell": false,
   "toc_position": {},
   "toc_section_display": true,
   "toc_window_display": false
  }
 },
 "nbformat": 4,
 "nbformat_minor": 5
}
