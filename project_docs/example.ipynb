{
 "cells": [
  {
   "cell_type": "markdown",
   "metadata": {},
   "source": [
    "## Example overview of dataflow"
   ]
  },
  {
   "cell_type": "markdown",
   "metadata": {},
   "source": [
    "Import the latest version of `echopop`."
   ]
  },
  {
   "cell_type": "code",
   "execution_count": 2,
   "metadata": {},
   "outputs": [],
   "source": [
    "from echopop.survey import Survey"
   ]
  },
  {
   "cell_type": "markdown",
   "metadata": {},
   "source": [
    "Text here"
   ]
  },
  {
   "cell_type": "code",
   "execution_count": 3,
   "metadata": {},
   "outputs": [],
   "source": [
    "survey = Survey( init_config_path = \"./config_files/initialization_config.yml\" ,\n",
    "                 survey_year_config_path = \"./config_files/survey_year_2019_config.yml\" )"
   ]
  },
  {
   "cell_type": "markdown",
   "metadata": {},
   "source": [
    "Text here"
   ]
  },
  {
   "cell_type": "code",
   "execution_count": 4,
   "metadata": {},
   "outputs": [
    {
     "name": "stdout",
     "output_type": "stream",
     "text": [
      "\n",
      "    TRANSECT RESULTS\n",
      "    --------------------------------\n",
      "    Total biomass: 1651.1 kmt\n",
      "        Age-1: 7.9 kmt\n",
      "        Age-2+: 1643.2 kmt\n",
      "    Total female biomass: 832.2 kmt\n",
      "        Age-1: 4.0 kmt\n",
      "        Age-2+: 828.2 kmt       \n",
      "    Total male biomass: 818.5 kmt\n",
      "        Age-1: 3.9 kmt\n",
      "        Age-2+: 814.6 kmt\n",
      "    Total unsexed biomass: 0.4 kmt\n",
      "    Total mixed biomass: 36.8 kmt\n",
      "    --------------------------------\n"
     ]
    }
   ],
   "source": [
    "survey.transect_analysis( )"
   ]
  },
  {
   "cell_type": "markdown",
   "metadata": {},
   "source": [
    "Text"
   ]
  },
  {
   "cell_type": "code",
   "execution_count": 5,
   "metadata": {},
   "outputs": [
    {
     "name": "stdout",
     "output_type": "stream",
     "text": [
      "\n",
      "    STRATIFIED RESULTS\n",
      "    --------------------------------\n",
      "    | Stratified variable: Biomass (kmt)\n",
      "    | Age-1 fish excluded: True\n",
      "    | Stratum definition: INPFC\n",
      "    | Bootstrap replicates: 10000 samples\n",
      "    | Resampling proportion: 0.75\n",
      "    CV: 0.1328 [0.1238, 0.1418; 95% CI]\n",
      "    Total (across sub-sampled transects): 1227.0 kmt [1074.6, 1379.5; 95% CI]\n",
      "    Mean (across sub-sampled transects): 203.4 kmt [172.2, 234.5; 95% CI]\n",
      "    --------------------------------\n"
     ]
    }
   ],
   "source": [
    "survey.stratified_analysis( )"
   ]
  },
  {
   "cell_type": "markdown",
   "metadata": {},
   "source": [
    "Text"
   ]
  },
  {
   "cell_type": "code",
   "execution_count": 6,
   "metadata": {},
   "outputs": [
    {
     "name": "stdout",
     "output_type": "stream",
     "text": [
      "Kriging mesh cropped to prevent extrapolation beyond the defined `mesh_buffer_distance` value (1.25 nmi).\n",
      "Longitude and latitude coordinates (WGS84) converted to standardized coordinates (x and y).\n",
      "Extrapolation applied to kriging mesh points (187 of 11022):\n",
      "            * 160 points had 0 valid range estimates without extrapolation\n",
      "            * 27 points had at least 1 valid point but fewer than 3 valid neighbors\n",
      "\n",
      "    KRIGING RESULTS (MESH)\n",
      "    --------------------------------\n",
      "    | Kriged variable: Biomass density (kg/nmi^2)\n",
      "    | Age-1 fish excluded: True\n",
      "    | Stratum definition: KS\n",
      "    | Mesh extrapolation: False\n",
      "    | Mesh and transect coordinate standardization: True\n",
      "    Mean biomass density: 24416.42 kg/nmi^2\n",
      "    Total survey biomass estimate: 1681.26 kmt\n",
      "    Mean mesh sample CV: 0.0294\n",
      "    Overall survey CV: 0.0325\n",
      "    Total area coverage: 66554.4 nmi^2\n",
      "   --------------------------------\n"
     ]
    }
   ],
   "source": [
    "survey.kriging_analysis( )"
   ]
  }
 ],
 "metadata": {
  "kernelspec": {
   "display_name": "echopop_3_12",
   "language": "python",
   "name": "python3"
  },
  "language_info": {
   "codemirror_mode": {
    "name": "ipython",
    "version": 3
   },
   "file_extension": ".py",
   "mimetype": "text/x-python",
   "name": "python",
   "nbconvert_exporter": "python",
   "pygments_lexer": "ipython3",
   "version": "3.12.2"
  }
 },
 "nbformat": 4,
 "nbformat_minor": 2
}
