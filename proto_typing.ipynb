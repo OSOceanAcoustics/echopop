{
 "cells": [
  {
   "cell_type": "code",
   "execution_count": null,
   "id": "3ca74684-6735-45e0-a55b-f5e3f56b0988",
   "metadata": {},
   "outputs": [],
   "source": [
    "import geopandas\n",
    "import scipy.io\n",
    "import numpy as np\n",
    "import pandas as pd\n",
    "import xarray as xr\n",
    "from EchoPro import EchoPro\n",
    "epro_2019 = EchoPro(init_file_path='./config_files/initialization_config.yml',\n",
    "                    survey_year_file_path='./config_files/survey_year_2019_config.yml',\n",
    "                    source=3,\n",
    "                    bio_data_type=1,\n",
    "                    age_data_status=1, \n",
    "                    exclude_age1=True)"
   ]
  },
  {
   "cell_type": "code",
   "execution_count": null,
   "id": "9ca8172c",
   "metadata": {},
   "outputs": [],
   "source": [
    "# get geopandas representation of final_biomass_table\n",
    "# allows us to plot transect data\n",
    "df = epro_2019.final_biomass_table\n",
    "gdf = geopandas.GeoDataFrame(df, \n",
    "                             geometry=geopandas.points_from_xy(df.Longitude, df.Latitude))\n",
    "\n",
    "# reseting the index so that we can select data based on column name\n",
    "gdf = gdf.reset_index()"
   ]
  },
  {
   "cell_type": "markdown",
   "id": "8cc26aa5",
   "metadata": {},
   "source": [
    "## Generate length-weight and length-age keys for each stratum"
   ]
  },
  {
   "cell_type": "code",
   "execution_count": null,
   "id": "0280a7dd",
   "metadata": {},
   "outputs": [],
   "source": [
    "# import class to use it's functions \n",
    "# from EchoPro.load_biological_data import LoadBioData"
   ]
  },
  {
   "cell_type": "code",
   "execution_count": null,
   "id": "95950016",
   "metadata": {},
   "outputs": [],
   "source": [
    "# length_explode_df = epro_2019.length_df[['Sex', 'Length']].copy()\n",
    "# # add strata column \n",
    "# length_explode_df['Strata'] = length_explode_df.reset_index().apply(lambda x: strata_haul_df.loc[x[0]], \n",
    "#                                                                     axis=1).values\n",
    "\n",
    "# length_explode_df.reset_index(inplace=True)\n",
    "\n",
    "# length_explode_df.set_index('Strata', inplace=True)\n",
    "\n",
    "# # add weight column with NaNs\n",
    "# length_explode_df['Weight'] = np.nan\n",
    "# length_explode_df = length_explode_df.explode(['Sex', 'Length'])\n",
    "\n",
    "# length_explode_df = length_explode_df.astype({'Haul': int, \n",
    "#                                               'Sex': int, \n",
    "#                                               'Length': np.float64, 'Weight': np.float64})"
   ]
  },
  {
   "cell_type": "markdown",
   "id": "428ef4b7",
   "metadata": {},
   "source": [
    "## Calculate the biomass density"
   ]
  },
  {
   "cell_type": "code",
   "execution_count": null,
   "id": "6d98d862",
   "metadata": {},
   "outputs": [],
   "source": [
    "# nasc_df = epro_2019.load_nasc_data()"
   ]
  },
  {
   "cell_type": "code",
   "execution_count": null,
   "id": "acde5815",
   "metadata": {},
   "outputs": [],
   "source": [
    "# # calculates the interval for the area calculation\n",
    "# interval = (nasc_df['VL start'].iloc[1:].values - nasc_df['VL start'].iloc[:-1].values)\n",
    "# last_interval = nasc_df['VL end'].iloc[-1] - nasc_df['VL start'].iloc[-1]\n",
    "\n",
    "# interval = np.concatenate([interval, np.array([last_interval])])\n",
    "\n",
    "# median_interval = np.median(interval)\n",
    "\n",
    "# # remove outliers at the end of the transect\n",
    "# ind_outliers = np.argwhere(np.abs(interval - median_interval) > 0.05).flatten()\n",
    "# interval[ind_outliers] = nasc_df['VL end'].values[ind_outliers] - nasc_df['VL start'].values[ind_outliers]"
   ]
  },
  {
   "cell_type": "code",
   "execution_count": null,
   "id": "c9e3a19a",
   "metadata": {},
   "outputs": [],
   "source": [
    "# bio_dense_df = nasc_df[['Stratum', 'NASC', 'Haul']].copy()\n",
    "# bio_dense_df['interval'] = interval\n",
    "# bio_dense_df['n_A'] = nasc_df.apply(lambda x: x.NASC/epro_2019.strata_ds.sig_b.sel(strata=x.Stratum).values, axis=1)\n",
    "# bio_dense_df['A'] = bio_dense_df['interval']*nasc_df['Spacing']\n",
    "# bio_dense_df['N_A'] = bio_dense_df['n_A']*bio_dense_df['A']"
   ]
  },
  {
   "cell_type": "code",
   "execution_count": null,
   "id": "ea479e87",
   "metadata": {},
   "outputs": [],
   "source": [
    "# bio_density = bio_dense_df.apply(lambda x: x.N_A*np.dot(len_wgt_ALL_da.sel(strata=x.Stratum), \n",
    "#                                           norm_len_key_ALL_da.sel(strata=x.Stratum)), axis=1)"
   ]
  },
  {
   "cell_type": "code",
   "execution_count": null,
   "id": "44b1bb5b",
   "metadata": {},
   "outputs": [],
   "source": [
    "# bio_density.reset_index().loc[734:740]"
   ]
  },
  {
   "cell_type": "code",
   "execution_count": null,
   "id": "b47997e3",
   "metadata": {},
   "outputs": [],
   "source": [
    "# bio_dense_df.reset_index().loc[734:740]"
   ]
  },
  {
   "cell_type": "markdown",
   "id": "045372b4",
   "metadata": {},
   "source": [
    "## Generate keys"
   ]
  },
  {
   "cell_type": "code",
   "execution_count": null,
   "id": "89c5b4b2",
   "metadata": {},
   "outputs": [],
   "source": [
    "# import class to use it's functions \n",
    "from EchoPro.load_stratification_data import LoadStrataData\n",
    "\n",
    "# get df relating the haul to the stratum\n",
    "strata_haul_df = epro_2019.strata_df.reset_index()[['Haul', 'strata']].set_index('Haul')\n",
    "\n",
    "# get the bins for the lengths\n",
    "bins_len = epro_2019.params['bio_hake_len_bin']\n",
    "\n",
    "# get the bins for the ages\n",
    "bins_age = epro_2019.params['bio_hake_age_bin']\n",
    "\n",
    "# get all specimen data that is necessary for key generation\n",
    "spec_w_strata = epro_2019.specimen_df.drop('Specimen_Number', axis=1).copy().reset_index()\n",
    "\n",
    "# add strata column \n",
    "spec_w_strata['Strata'] = spec_w_strata.apply(lambda x: strata_haul_df.loc[x[0]], \n",
    "                                              axis=1).values\n",
    "\n",
    "spec_w_strata.set_index('Strata', inplace=True)\n",
    "\n",
    "spec_w_strata = spec_w_strata[(spec_w_strata['Age'] != 0) & (spec_w_strata['Sex'] != 3)].copy()\n",
    "age_len_key_da, age_len_key_wgt_da, age_len_key_norm_da = LoadStrataData.get_age_key_das(LoadStrataData, \n",
    "                                                                                         spec_w_strata, \n",
    "                                                                                         bins_len, bins_age)"
   ]
  },
  {
   "cell_type": "code",
   "execution_count": null,
   "id": "13f367cd",
   "metadata": {},
   "outputs": [],
   "source": []
  },
  {
   "cell_type": "code",
   "execution_count": null,
   "id": "2d3071ec",
   "metadata": {},
   "outputs": [],
   "source": [
    "age_len_key_norm_da.sel(strata=1).values[:, :2]"
   ]
  },
  {
   "cell_type": "code",
   "execution_count": null,
   "id": "6fb2fe34",
   "metadata": {},
   "outputs": [],
   "source": [
    "# def get_weight_key_das(spec_w_strata, bins_len, reg_w0, reg_p):\n",
    "    \n",
    "#     unique_strata = np.sort(spec_w_strata.index.unique())\n",
    "    \n",
    "#     len_wgt_key = np.empty((unique_strata.shape[0], bins_len.shape[0]))\n",
    "#     len_wgt_key[:, :] = np.nan\n",
    "\n",
    "#     len_key = np.empty((unique_strata.shape[0], bins_len.shape[0]))\n",
    "#     len_key[:, :] = np.nan\n",
    "    \n",
    "#     len_key_norm = np.empty((unique_strata.shape[0], bins_len.shape[0]))\n",
    "#     len_key_norm[:, :] = np.nan\n",
    "\n",
    "#     stratum_i = 0\n",
    "#     for stratum in unique_strata:\n",
    "        \n",
    "#         l_w_k, l_k, l_k_n = LoadStrataData.generate_length_val_key(LoadStrataData, bins_len, reg_w0, reg_p,\n",
    "#                                                len_name='Length', \n",
    "#                                                val_name='Weight', \n",
    "#                                                df=spec_w_strata.loc[stratum])\n",
    "        \n",
    "#         len_wgt_key[stratum_i, :] = l_w_k \n",
    "#         len_key[stratum_i, :] = l_k \n",
    "#         len_key_norm[stratum_i, :] = l_k_n\n",
    "        \n",
    "#         stratum_i += 1\n",
    "        \n",
    "        \n",
    "#     len_wgt_key_da = xr.DataArray(data=len_wgt_key, \n",
    "#                                   coords={'strata': unique_strata, 'len_bins': bins_len})\n",
    "    \n",
    "#     len_key_da = xr.DataArray(data=len_key, \n",
    "#                                   coords={'strata': unique_strata, 'len_bins': bins_len})\n",
    "    \n",
    "#     len_key_norm_da = xr.DataArray(data=len_key_norm, \n",
    "#                                   coords={'strata': unique_strata, 'len_bins': bins_len})\n",
    "    \n",
    "#     return len_wgt_key_da, len_key_da, len_key_norm_da\n",
    "    "
   ]
  },
  {
   "cell_type": "code",
   "execution_count": null,
   "id": "bcfc949f",
   "metadata": {},
   "outputs": [],
   "source": [
    "# get all specimen data that is necessary for key generation\n",
    "spec_w_strata = epro_2019.specimen_df.drop('Specimen_Number', axis=1).copy().reset_index()\n",
    "\n",
    "# add strata column \n",
    "spec_w_strata['Strata'] = spec_w_strata.apply(lambda x: strata_haul_df.loc[x[0]], \n",
    "                                              axis=1).values\n",
    "\n",
    "spec_w_strata.set_index('Strata', inplace=True)\n",
    "\n",
    "reg_w0, reg_p = LoadStrataData.get_length_val_reg_vals(len_name='Length', val_name=\"Weight\", df=spec_w_strata)\n",
    "\n",
    "spec_w_strata = spec_w_strata.copy() #[(spec_w_strata['Age'] != 0)].copy()\n",
    "len_wgt_key_da, len_key_da, len_key_norm_da = LoadStrataData.get_weight_key_das(LoadStrataData, \n",
    "                                                                                spec_w_strata, \n",
    "                                                                                bins_len, reg_w0, reg_p)"
   ]
  },
  {
   "cell_type": "code",
   "execution_count": null,
   "id": "6654e2da",
   "metadata": {},
   "outputs": [],
   "source": [
    "len_wgt_key_da.sel(strata=1)"
   ]
  },
  {
   "cell_type": "code",
   "execution_count": null,
   "id": "18282f2b",
   "metadata": {},
   "outputs": [],
   "source": []
  },
  {
   "cell_type": "code",
   "execution_count": null,
   "id": "a3ccc653",
   "metadata": {},
   "outputs": [],
   "source": []
  },
  {
   "cell_type": "code",
   "execution_count": null,
   "id": "979a60e6",
   "metadata": {},
   "outputs": [],
   "source": []
  },
  {
   "cell_type": "code",
   "execution_count": null,
   "id": "dc2f0221",
   "metadata": {},
   "outputs": [],
   "source": []
  },
  {
   "cell_type": "code",
   "execution_count": null,
   "id": "a7bb465e",
   "metadata": {},
   "outputs": [],
   "source": [
    "# %%time\n",
    "# lat_INPFC = [np.NINF, 36, 40.5, 43.000, 45.7667, 48.5, 55.0000]  # INPFC\n",
    "# epro_2019.run_cv_analysis(lat_INPFC, kriged_data=False)"
   ]
  },
  {
   "cell_type": "code",
   "execution_count": null,
   "id": "58388d7c",
   "metadata": {},
   "outputs": [],
   "source": [
    "# CV_JH_mean = 0.13377365505687697\n",
    "# CPU times: user 2min 31s, sys: 312 ms, total: 2min 31s\n",
    "# Wall time: 2min 31s"
   ]
  }
 ],
 "metadata": {
  "kernelspec": {
   "display_name": "echopro_conda",
   "language": "python",
   "name": "echopro_conda"
  },
  "language_info": {
   "codemirror_mode": {
    "name": "ipython",
    "version": 3
   },
   "file_extension": ".py",
   "mimetype": "text/x-python",
   "name": "python",
   "nbconvert_exporter": "python",
   "pygments_lexer": "ipython3",
   "version": "3.9.12"
  }
 },
 "nbformat": 4,
 "nbformat_minor": 5
}
