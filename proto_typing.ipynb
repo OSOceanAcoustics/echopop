{
 "cells": [
  {
   "cell_type": "code",
   "execution_count": null,
   "id": "3ca74684-6735-45e0-a55b-f5e3f56b0988",
   "metadata": {},
   "outputs": [],
   "source": [
    "import geopandas\n",
    "import scipy.io\n",
    "import numpy as np\n",
    "from EchoPro import EchoPro\n",
    "epro_2019 = EchoPro(init_file_path='./config_files/initialization_config.yml',\n",
    "                    survey_year_file_path='./config_files/survey_year_2019_config.yml',\n",
    "                    source=3,\n",
    "                    bio_data_type=1,\n",
    "                    age_data_status=1, \n",
    "                    exclude_age1=True)"
   ]
  },
  {
   "cell_type": "code",
   "execution_count": null,
   "id": "9ca8172c",
   "metadata": {},
   "outputs": [],
   "source": [
    "# get geopandas representation of final_biomass_table\n",
    "# allows us to plot transect data\n",
    "df = epro_2019.final_biomass_table\n",
    "gdf = geopandas.GeoDataFrame(df, \n",
    "                             geometry=geopandas.points_from_xy(df.Longitude, df.Latitude))\n",
    "\n",
    "# reseting the index so that we can select data based on column name\n",
    "gdf = gdf.reset_index()"
   ]
  },
  {
   "cell_type": "code",
   "execution_count": null,
   "id": "1795799f-43f4-4b45-9b75-40b3db107c68",
   "metadata": {},
   "outputs": [],
   "source": [
    "# %%time\n",
    "# lat_INPFC = [np.NINF, 36, 40.5, 43.000, 45.7667, 48.5, 55.0000]  # INPFC\n",
    "# cva = epro_2019.run_cv_analysis(lat_INPFC, kriged_data=False)\n",
    "# # 0.13282819671923227\n",
    "# # Wall time: 2min 31s"
   ]
  },
  {
   "cell_type": "code",
   "execution_count": null,
   "id": "a7bb465e",
   "metadata": {},
   "outputs": [],
   "source": [
    "lat_INPFC = [np.NINF, 36, 40.5, 43.000, 45.7667, 48.5, 55.0000]  # INPFC\n",
    "transect_info, strata_info, rng = epro_2019.run_cv_analysis(lat_INPFC, kriged_data=False)"
   ]
  },
  {
   "cell_type": "code",
   "execution_count": null,
   "id": "d7e451e6",
   "metadata": {},
   "outputs": [],
   "source": [
    "# randomly select transects in the stratum\n",
    "JH_fac = 0.75\n",
    "distance = transect_info['distance'].values.flatten()\n",
    "field = transect_info['biomass'].values.flatten()\n",
    "num_transects = strata_info['num_transects'].values.flatten()\n",
    "\n",
    "strata_nums = strata_info.index.values.to_numpy()\n",
    "start_end = [[np.sum(num_transects[:i]), np.sum(num_transects[:i]) + num_transects[i]] for i in range(len(strata_nums))]\n",
    "s_e_ind = np.array(start_end)\n",
    "\n",
    "total_transect_area = strata_info[\"total_transect_area\"].values.flatten()"
   ]
  },
  {
   "cell_type": "code",
   "execution_count": null,
   "id": "f6aef35b",
   "metadata": {},
   "outputs": [],
   "source": [
    "# func(distance, field, num_ind)\n",
    "# 177259.156573726\n",
    "# 4377762549.793154\n",
    "# 1636444.7323120558"
   ]
  },
  {
   "cell_type": "code",
   "execution_count": null,
   "id": "5f33da5a",
   "metadata": {},
   "outputs": [],
   "source": [
    "# %time CV_mean = func3(10000, JH_fac, num_transects, s_e_ind, distance, field, total_transect_area)\n",
    "# 0.1110036500648258"
   ]
  },
  {
   "cell_type": "code",
   "execution_count": null,
   "id": "238b8e61",
   "metadata": {},
   "outputs": [],
   "source": [
    "# 0.13282819671923227 previous\n",
    "# 0.13379342243525222"
   ]
  }
 ],
 "metadata": {
  "kernelspec": {
   "display_name": "echopro_conda",
   "language": "python",
   "name": "echopro_conda"
  },
  "language_info": {
   "codemirror_mode": {
    "name": "ipython",
    "version": 3
   },
   "file_extension": ".py",
   "mimetype": "text/x-python",
   "name": "python",
   "nbconvert_exporter": "python",
   "pygments_lexer": "ipython3",
   "version": "3.9.12"
  }
 },
 "nbformat": 4,
 "nbformat_minor": 5
}
