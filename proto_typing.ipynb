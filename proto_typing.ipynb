{
 "cells": [
  {
   "cell_type": "code",
   "execution_count": null,
   "id": "3ca74684-6735-45e0-a55b-f5e3f56b0988",
   "metadata": {},
   "outputs": [],
   "source": [
    "import geopandas\n",
    "import scipy.io\n",
    "import numpy as np\n",
    "import pandas as pd\n",
    "import xarray as xr\n",
    "from EchoPro import EchoPro\n",
    "epro_2019 = EchoPro(init_file_path='./config_files/initialization_config.yml',\n",
    "                    survey_year_file_path='./config_files/survey_year_2019_config.yml',\n",
    "                    source=3,\n",
    "                    bio_data_type=1,\n",
    "                    age_data_status=1, \n",
    "                    exclude_age1=True)"
   ]
  },
  {
   "cell_type": "code",
   "execution_count": null,
   "id": "9ca8172c",
   "metadata": {},
   "outputs": [],
   "source": [
    "# get geopandas representation of final_biomass_table\n",
    "# allows us to plot transect data\n",
    "df = epro_2019.final_biomass_table\n",
    "gdf = geopandas.GeoDataFrame(df, \n",
    "                             geometry=geopandas.points_from_xy(df.Longitude, df.Latitude))\n",
    "\n",
    "# reseting the index so that we can select data based on column name\n",
    "gdf = gdf.reset_index()"
   ]
  },
  {
   "cell_type": "markdown",
   "id": "045372b4",
   "metadata": {},
   "source": [
    "## Generate keys"
   ]
  },
  {
   "cell_type": "code",
   "execution_count": null,
   "id": "7d77b264",
   "metadata": {},
   "outputs": [],
   "source": [
    "# get df relating the haul to the stratum\n",
    "strata_haul_df = epro_2019.strata_df.reset_index()[['Haul', 'strata']].set_index('Haul')\n",
    "\n",
    "# get all specimen data that is necessary for key generation\n",
    "spec_w_strata = epro_2019.specimen_df.drop('Specimen_Number', axis=1).copy().reset_index()\n",
    "\n",
    "# add strata column \n",
    "spec_w_strata['Strata'] = spec_w_strata.apply(lambda x: strata_haul_df.loc[x[0]], \n",
    "                                              axis=1).values\n",
    "\n",
    "spec_w_strata.set_index('Strata', inplace=True)"
   ]
  },
  {
   "cell_type": "code",
   "execution_count": null,
   "id": "ac4698f7",
   "metadata": {},
   "outputs": [],
   "source": [
    "length_explode_df = epro_2019.length_df[['Sex', 'Length']].copy()\n",
    "# add strata column \n",
    "length_explode_df['Strata'] = length_explode_df.reset_index().apply(lambda x: strata_haul_df.loc[x[0]], \n",
    "                                                                    axis=1).values\n",
    "\n",
    "length_explode_df.reset_index(inplace=True)\n",
    "\n",
    "length_explode_df.set_index('Strata', inplace=True)\n",
    "\n",
    "length_explode_df = length_explode_df.explode(['Sex', 'Length'])\n",
    "\n",
    "length_explode_df = length_explode_df.astype({'Haul': int, \n",
    "                                              'Sex': int, \n",
    "                                              'Length': np.float64})"
   ]
  },
  {
   "cell_type": "code",
   "execution_count": null,
   "id": "23615420",
   "metadata": {},
   "outputs": [],
   "source": [
    "from EchoPro.load_stratification_data import LoadStrataData\n",
    "strata_class = LoadStrataData(epro_2019)\n",
    "# get the bins for the lengths\n",
    "bins_len = epro_2019.params['bio_hake_len_bin']\n",
    "# get the bins for the ages\n",
    "bins_age = epro_2019.params['bio_hake_age_bin']\n",
    "\n",
    "bc = strata_class.get_biomass_constants(spec_w_strata, length_explode_df, bins_len, bins_age)"
   ]
  },
  {
   "cell_type": "code",
   "execution_count": null,
   "id": "e42e36bf",
   "metadata": {},
   "outputs": [],
   "source": [
    "# array([  994.,   591.,   782.,  1353., 11877.,   982.,  1480.,   338.])"
   ]
  },
  {
   "cell_type": "markdown",
   "id": "461b13ba",
   "metadata": {},
   "source": [
    "## Calculate the biomass density"
   ]
  },
  {
   "cell_type": "code",
   "execution_count": null,
   "id": "349b394e",
   "metadata": {},
   "outputs": [],
   "source": [
    "# get the nasc dataframe \n",
    "nasc_df = epro_2019.load_nasc_data()\n",
    "\n",
    "# calculates the interval for the area calculation\n",
    "interval = (nasc_df['VL start'].iloc[1:].values - nasc_df['VL start'].iloc[:-1].values)\n",
    "last_interval = nasc_df['VL end'].iloc[-1] - nasc_df['VL start'].iloc[-1]\n",
    "\n",
    "interval = np.concatenate([interval, np.array([last_interval])])\n",
    "\n",
    "median_interval = np.median(interval)\n",
    "\n",
    "# remove outliers at the end of the transect\n",
    "ind_outliers = np.argwhere(np.abs(interval - median_interval) > 0.05).flatten()\n",
    "interval[ind_outliers] = nasc_df['VL end'].values[ind_outliers] - nasc_df['VL start'].values[ind_outliers]"
   ]
  },
  {
   "cell_type": "code",
   "execution_count": null,
   "id": "13a0c994",
   "metadata": {},
   "outputs": [],
   "source": [
    "bio_dense_df = nasc_df[['Stratum', 'NASC', 'Haul']].copy()\n",
    "bio_dense_df['interval'] = interval"
   ]
  },
  {
   "cell_type": "code",
   "execution_count": null,
   "id": "b7811dbc",
   "metadata": {},
   "outputs": [],
   "source": [
    "wgt_vals = epro_2019.strata_df.reset_index().set_index('Haul')['wt'] \n",
    "wgt_vals_ind = wgt_vals.index\n",
    "\n",
    "# TODO: replace this with DataSet representation\n",
    "mix_sa_ratio = nasc_df.apply(lambda x: wgt_vals[x.Haul] if x.Haul in wgt_vals_ind else 0.0, axis=1)\n",
    "\n",
    "nasc_df['mix_sa_ratio'] = mix_sa_ratio"
   ]
  },
  {
   "cell_type": "code",
   "execution_count": null,
   "id": "510dbc08",
   "metadata": {},
   "outputs": [],
   "source": [
    "bio_dense_df['n_A'] = nasc_df.apply(lambda x: np.round((x.mix_sa_ratio*x.NASC)/float(epro_2019.strata_ds.sig_b.sel(strata=x.Stratum))), axis=1)\n",
    "bio_dense_df['A'] = bio_dense_df['interval']*nasc_df['Spacing']\n",
    "bio_dense_df['N_A'] = bio_dense_df['n_A']*bio_dense_df['A']"
   ]
  },
  {
   "cell_type": "code",
   "execution_count": null,
   "id": "ba962281",
   "metadata": {},
   "outputs": [],
   "source": [
    "nntk_male = bio_dense_df.apply(lambda x: np.round(x.n_A*float(bc.len_M_prop.sel(strata=x.Stratum) + bc.spec_M_prop.sel(strata=x.Stratum))), axis=1)\n",
    "nntk_female = bio_dense_df.apply(lambda x: np.round(x.n_A*float(bc.len_F_prop.sel(strata=x.Stratum) + bc.spec_F_prop.sel(strata=x.Stratum))), axis=1)\n",
    "\n",
    "bio_dense_df['nntk_male'] = nntk_male\n",
    "bio_dense_df['nntk_female'] = nntk_female"
   ]
  },
  {
   "cell_type": "code",
   "execution_count": null,
   "id": "89f3fa27",
   "metadata": {},
   "outputs": [],
   "source": [
    "nWgt_male_int = bio_dense_df.apply(lambda x: x.nntk_male*float(bc.len_wgt_M_prod.sel(strata=x.Stratum)), axis=1)\n",
    "nWgt_female_int = bio_dense_df.apply(lambda x: x.nntk_female*float(bc.len_wgt_F_prod.sel(strata=x.Stratum)), axis=1)\n",
    "\n",
    "bio_dense_df['nWgt_male'] = nWgt_male_int\n",
    "bio_dense_df['nWgt_female'] = nWgt_female_int"
   ]
  },
  {
   "cell_type": "code",
   "execution_count": null,
   "id": "13bdcd23",
   "metadata": {},
   "outputs": [],
   "source": [
    "nWgt_unsexed_int = bio_dense_df.apply(lambda x: (x.n_A - x.nntk_male - x.nntk_female)*float(bc.len_wgt_prod.sel(strata=x.Stratum)), axis=1)\n",
    "bio_dense_df['nWgt_unsexed'] = nWgt_unsexed_int"
   ]
  },
  {
   "cell_type": "code",
   "execution_count": null,
   "id": "311dec20",
   "metadata": {},
   "outputs": [],
   "source": [
    "bio_dense_df['nWgt_total'] = bio_dense_df['nWgt_male'] + bio_dense_df['nWgt_female'] + bio_dense_df['nWgt_unsexed']"
   ]
  },
  {
   "cell_type": "code",
   "execution_count": null,
   "id": "20d155ed",
   "metadata": {},
   "outputs": [],
   "source": [
    "bio_dense_df['nWgt_total'].reset_index().loc[7554:7560]"
   ]
  },
  {
   "cell_type": "code",
   "execution_count": null,
   "id": "de49fcf7",
   "metadata": {},
   "outputs": [],
   "source": [
    "spec_w_strata = spec_w_strata.dropna(how='any')\n",
    "age_len_key_da, age_len_key_wgt_da, age_len_key_norm_da = strata_class.get_age_key_das(spec_w_strata, \n",
    "                                                                                       bins_len, bins_age)\n",
    "\n",
    "# TODO: it would probably be better to do an average of station 1 and 2 here... (Chu doesn't do this)\n",
    "age_len_key_wgt_norm_da = age_len_key_wgt_da/age_len_key_wgt_da.sum(dim=['len_bins', 'age_bins'])\n",
    "\n",
    "# each stratum's multiplier once normalized weight has been calculated\n",
    "age2_wgt_proportion_da = 1.0 - age_len_key_wgt_norm_da.isel(age_bins=0).sum(dim='len_bins')/age_len_key_wgt_norm_da.sum(dim=['len_bins', 'age_bins'])"
   ]
  },
  {
   "cell_type": "code",
   "execution_count": null,
   "id": "070d3c11",
   "metadata": {},
   "outputs": [],
   "source": [
    "nWgt_total_2_prop = bio_dense_df.apply(lambda x: x.nWgt_total*float(age2_wgt_proportion_da.sel(strata=x.Stratum)),\n",
    "                                        axis=1)\n",
    "\n",
    "bio_dense_df['nWgt_total_2_prop'] = nWgt_total_2_prop"
   ]
  },
  {
   "cell_type": "code",
   "execution_count": null,
   "id": "0adab687",
   "metadata": {},
   "outputs": [],
   "source": [
    "mat = scipy.io.loadmat('../2019_consolidated_files/nWgt_ALL_ind_2_prop.mat')\n",
    "nwgt_total = mat['nWgt_ALL_int']"
   ]
  },
  {
   "cell_type": "code",
   "execution_count": null,
   "id": "7f87c7ae",
   "metadata": {},
   "outputs": [],
   "source": [
    "np.abs(np.sum(nwgt_total) - bio_dense_df['nWgt_total_2_prop'].sum())"
   ]
  },
  {
   "cell_type": "code",
   "execution_count": null,
   "id": "2b600783",
   "metadata": {},
   "outputs": [],
   "source": []
  },
  {
   "cell_type": "code",
   "execution_count": null,
   "id": "80394e14",
   "metadata": {},
   "outputs": [],
   "source": []
  },
  {
   "cell_type": "code",
   "execution_count": null,
   "id": "ac0dd0ea",
   "metadata": {},
   "outputs": [],
   "source": []
  },
  {
   "cell_type": "code",
   "execution_count": null,
   "id": "104ffc8e",
   "metadata": {},
   "outputs": [],
   "source": []
  },
  {
   "cell_type": "code",
   "execution_count": null,
   "id": "93b93ee6",
   "metadata": {},
   "outputs": [],
   "source": []
  },
  {
   "cell_type": "code",
   "execution_count": null,
   "id": "a7bb465e",
   "metadata": {},
   "outputs": [],
   "source": [
    "# %%time\n",
    "# lat_INPFC = [np.NINF, 36, 40.5, 43.000, 45.7667, 48.5, 55.0000]  # INPFC\n",
    "# epro_2019.run_cv_analysis(lat_INPFC, kriged_data=False)"
   ]
  },
  {
   "cell_type": "code",
   "execution_count": null,
   "id": "58388d7c",
   "metadata": {},
   "outputs": [],
   "source": [
    "# CV_JH_mean = 0.13377365505687697\n",
    "# CPU times: user 2min 31s, sys: 312 ms, total: 2min 31s\n",
    "# Wall time: 2min 31s"
   ]
  }
 ],
 "metadata": {
  "kernelspec": {
   "display_name": "echopro_conda",
   "language": "python",
   "name": "echopro_conda"
  },
  "language_info": {
   "codemirror_mode": {
    "name": "ipython",
    "version": 3
   },
   "file_extension": ".py",
   "mimetype": "text/x-python",
   "name": "python",
   "nbconvert_exporter": "python",
   "pygments_lexer": "ipython3",
   "version": "3.9.12"
  }
 },
 "nbformat": 4,
 "nbformat_minor": 5
}
