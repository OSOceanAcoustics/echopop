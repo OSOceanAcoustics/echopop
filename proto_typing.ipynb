{
 "cells": [
  {
   "cell_type": "code",
   "execution_count": 1,
   "id": "3ca74684-6735-45e0-a55b-f5e3f56b0988",
   "metadata": {},
   "outputs": [
    {
     "name": "stdout",
     "output_type": "stream",
     "text": [
      "A check of the initialization file needs to be done!\n",
      "A check of the survey year file needs to be done!\n",
      "Loading biological data ...\n"
     ]
    },
    {
     "name": "stderr",
     "output_type": "stream",
     "text": [
      "/Users/brandonreyes/UW_work/EchoPro_work/EchoPro/EchoPro/echo_pro.py:273: UserWarning: We are currently using wgt_total from Matlab for CV, change this!\n",
      "  warnings.warn(\"We are currently using wgt_total from Matlab for CV, change this!\")\n"
     ]
    }
   ],
   "source": [
    "import geopandas\n",
    "import scipy.io\n",
    "import pandas as pd\n",
    "from EchoPro import EchoPro\n",
    "epro_2019 = EchoPro(init_file_path='./config_files/initialization_config.yml',\n",
    "                    survey_year_file_path='./config_files/survey_year_2019_config.yml',\n",
    "                    source=3,\n",
    "                    bio_data_type=1,\n",
    "                    age_data_status=1, \n",
    "                    exclude_age1=True)"
   ]
  },
  {
   "cell_type": "code",
   "execution_count": 2,
   "id": "093ce61a",
   "metadata": {},
   "outputs": [],
   "source": [
    "krig_mesh = epro_2019.get_kriging_mesh()\n",
    "# fmap = krig_mesh.get_folium_map()  # this function is not necessary, keeping it here as a reminder "
   ]
  },
  {
   "cell_type": "code",
   "execution_count": 3,
   "id": "9ca8172c",
   "metadata": {},
   "outputs": [],
   "source": [
    "# get geopandas representation of final_biomass_table\n",
    "# allows us to plot transect data\n",
    "df = epro_2019.final_biomass_table\n",
    "gdf = geopandas.GeoDataFrame(df, \n",
    "                             geometry=geopandas.points_from_xy(df.Longitude, df.Latitude))\n",
    "\n",
    "# reseting the index so that we can select data based on column name\n",
    "gdf = gdf.reset_index()"
   ]
  },
  {
   "cell_type": "code",
   "execution_count": 9,
   "id": "1795799f-43f4-4b45-9b75-40b3db107c68",
   "metadata": {},
   "outputs": [],
   "source": [
    "# lat_INPFC = [np.NINF, 36, 40.5, 43.000, 45.7667, 48.5, 55.0000]  # INPFC\n",
    "# cva = epro_2019.run_cv_analysis(lat_INPFC, kriged_data=False)\n",
    "# 0.13282819671923227"
   ]
  }
 ],
 "metadata": {
  "kernelspec": {
   "display_name": "echopro_conda",
   "language": "python",
   "name": "echopro_conda"
  },
  "language_info": {
   "codemirror_mode": {
    "name": "ipython",
    "version": 3
   },
   "file_extension": ".py",
   "mimetype": "text/x-python",
   "name": "python",
   "nbconvert_exporter": "python",
   "pygments_lexer": "ipython3",
   "version": "3.9.12"
  }
 },
 "nbformat": 4,
 "nbformat_minor": 5
}
