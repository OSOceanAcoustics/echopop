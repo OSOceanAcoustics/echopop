{
 "cells": [
  {
   "cell_type": "code",
   "execution_count": 1,
   "id": "3ca74684-6735-45e0-a55b-f5e3f56b0988",
   "metadata": {},
   "outputs": [
    {
     "name": "stdout",
     "output_type": "stream",
     "text": [
      "A check of the initialization file needs to be done!\n",
      "A check of the survey year file needs to be done!\n",
      "Loading biological data ...\n"
     ]
    },
    {
     "name": "stderr",
     "output_type": "stream",
     "text": [
      "/Users/brandonreyes/UW_work/EchoPro_work/EchoPro/EchoPro/echo_pro.py:269: SettingWithCopyWarning: \n",
      "A value is trying to be set on a copy of a slice from a DataFrame.\n",
      "Try using .loc[row_indexer,col_indexer] = value instead\n",
      "\n",
      "See the caveats in the documentation: https://pandas.pydata.org/pandas-docs/stable/user_guide/indexing.html#returning-a-view-versus-a-copy\n",
      "  self.final_biomass_table[\"wgt_total\"] = mat['wgt_total']\n",
      "/Users/brandonreyes/UW_work/EchoPro_work/EchoPro/EchoPro/echo_pro.py:271: UserWarning: We are currently using wgt_total from Matlab for CV, change this!\n",
      "  warnings.warn(\"We are currently using wgt_total from Matlab for CV, change this!\")\n"
     ]
    }
   ],
   "source": [
    "import numpy as np\n",
    "import xarray as xr\n",
    "import pandas as pd \n",
    "import sys \n",
    "from EchoPro import EchoPro\n",
    "epro_2019 = EchoPro(init_file_path='./config_files/initialization_config.yml',\n",
    "                    survey_year_file_path='./config_files/survey_year_2019_config.yml',\n",
    "                    source=3,\n",
    "                    bio_data_type=1,\n",
    "                    age_data_status=1, \n",
    "                    exclude_age1=True)"
   ]
  },
  {
   "cell_type": "code",
   "execution_count": 2,
   "id": "d8944c1d",
   "metadata": {},
   "outputs": [],
   "source": [
    "# epro_2019.final_biomass_table"
   ]
  },
  {
   "cell_type": "code",
   "execution_count": 7,
   "id": "1795799f-43f4-4b45-9b75-40b3db107c68",
   "metadata": {},
   "outputs": [
    {
     "data": {
      "text/html": [
       "<div>\n",
       "<style scoped>\n",
       "    .dataframe tbody tr th:only-of-type {\n",
       "        vertical-align: middle;\n",
       "    }\n",
       "\n",
       "    .dataframe tbody tr th {\n",
       "        vertical-align: top;\n",
       "    }\n",
       "\n",
       "    .dataframe thead th {\n",
       "        text-align: right;\n",
       "    }\n",
       "</style>\n",
       "<table border=\"1\" class=\"dataframe\">\n",
       "  <thead>\n",
       "    <tr style=\"text-align: right;\">\n",
       "      <th></th>\n",
       "      <th>count</th>\n",
       "      <th>sum</th>\n",
       "    </tr>\n",
       "    <tr>\n",
       "      <th>lat_INPFC_bin</th>\n",
       "      <th></th>\n",
       "      <th></th>\n",
       "    </tr>\n",
       "  </thead>\n",
       "  <tbody>\n",
       "    <tr>\n",
       "      <th>0</th>\n",
       "      <td>10</td>\n",
       "      <td>4246.476768</td>\n",
       "    </tr>\n",
       "    <tr>\n",
       "      <th>1</th>\n",
       "      <td>24</td>\n",
       "      <td>10042.011575</td>\n",
       "    </tr>\n",
       "    <tr>\n",
       "      <th>2</th>\n",
       "      <td>13</td>\n",
       "      <td>5773.924105</td>\n",
       "    </tr>\n",
       "    <tr>\n",
       "      <th>3</th>\n",
       "      <td>15</td>\n",
       "      <td>7059.964585</td>\n",
       "    </tr>\n",
       "    <tr>\n",
       "      <th>4</th>\n",
       "      <td>15</td>\n",
       "      <td>7067.793322</td>\n",
       "    </tr>\n",
       "    <tr>\n",
       "      <th>5</th>\n",
       "      <td>36</td>\n",
       "      <td>19318.827007</td>\n",
       "    </tr>\n",
       "  </tbody>\n",
       "</table>\n",
       "</div>"
      ],
      "text/plain": [
       "               count           sum\n",
       "lat_INPFC_bin                     \n",
       "0                 10   4246.476768\n",
       "1                 24  10042.011575\n",
       "2                 13   5773.924105\n",
       "3                 15   7059.964585\n",
       "4                 15   7067.793322\n",
       "5                 36  19318.827007"
      ]
     },
     "execution_count": 7,
     "metadata": {},
     "output_type": "execute_result"
    }
   ],
   "source": [
    "if epro_2019.params[\"JH_fac\"] == 1:\n",
    "    nr = 1              # number of realizations\n",
    "else:\n",
    "    nr = 10000          # number of realizations\n",
    "\n",
    "lat_INPFC = [np.NINF, 36, 40.5, 43.000, 45.7667, 48.5, 55.0000]  # INPFC\n",
    "lon_inc = 0.05 # longitude increment along the transect\n",
    "\n",
    "transect_info, strata_info = epro_2019.get_transect_strata_info(lat_INPFC)\n",
    "\n",
    "strata_info"
   ]
  },
  {
   "cell_type": "code",
   "execution_count": 75,
   "id": "c0e38781",
   "metadata": {},
   "outputs": [
    {
     "name": "stdout",
     "output_type": "stream",
     "text": [
      "num_ind = 8\n",
      "[ 1  3  4  5  6  7  9 10]\n",
      "lat_INPFC_bin  Transect\n",
      "0              1           0.806847\n",
      "               3           1.174273\n",
      "               4           1.117556\n",
      "               5           1.114505\n",
      "               6           0.994281\n",
      "               7           1.055282\n",
      "               9           0.931624\n",
      "               10          0.805632\n",
      "Name: distance, dtype: float64\n",
      "lat_INPFC_bin  Transect\n",
      "0              1                0.000000\n",
      "               3                0.000000\n",
      "               4                0.000000\n",
      "               5                0.000000\n",
      "               6                0.000000\n",
      "               7                0.000000\n",
      "               9            40113.997421\n",
      "               10          188899.711433\n",
      "dtype: float64\n",
      "848928.0039102882\n"
     ]
    },
    {
     "ename": "SystemExit",
     "evalue": "",
     "output_type": "error",
     "traceback": [
      "An exception has occurred, use %tb to see the full traceback.\n",
      "\u001b[0;31mSystemExit\u001b[0m\n"
     ]
    },
    {
     "name": "stderr",
     "output_type": "stream",
     "text": [
      "/Users/brandonreyes/opt/anaconda3/envs/echopro_conda/lib/python3.10/site-packages/IPython/core/interactiveshell.py:3369: UserWarning: To exit: use 'exit', 'quit', or Ctrl-D.\n",
      "  warn(\"To exit: use 'exit', 'quit', or Ctrl-D.\", stacklevel=1)\n"
     ]
    }
   ],
   "source": [
    "import sys \n",
    "\n",
    "\n",
    "for bin_val in strata_info.index:\n",
    "    \n",
    "    num_ind = round(epro_2019.params[\"JH_fac\"]*strata_info.loc[bin_val]['count'])\n",
    "#     sel_ind = rng.choice(transect_info.loc[bin_val].index, num_ind, replace=False)\n",
    "    sel_ind = np.array([1, 3, 4, 5, 6, 7, 9, 10])\n",
    "    print(f\"num_ind = {num_ind}\")\n",
    "    print(sel_ind)\n",
    "    \n",
    "    transect_bin_info = transect_info.loc[(bin_val, sel_ind), ['distance', 'biomass']]\n",
    "    \n",
    "#     print(transect_bin_info)\n",
    "    \n",
    "    # transect-length weighting factor of the transects in the \"bin_val\" bin\n",
    "    wgt = transect_bin_info['distance']/transect_bin_info['distance'].mean()\n",
    "    print(wgt)\n",
    "    \n",
    "    # normalized biomass of the transects in the \"bin_val\" bin\n",
    "    rhom_trans_bin = transect_bin_info['biomass']/transect_bin_info['distance']\n",
    "    print(rhom_trans_bin)\n",
    "    \n",
    "    # transect-length-normalized mean density of the \"bin_val\" bin\n",
    "    rhom_trans = (transect_bin_info['biomass']*transect_bin_info['distance']).sum()/transect_bin_info['distance'].sum() #sum(biomass_ij.*Lij)/sum(Lij)\n",
    "    \n",
    "    print(rhom_trans)\n",
    "    sys.exit()\n",
    "    "
   ]
  },
  {
   "cell_type": "code",
   "execution_count": null,
   "id": "6630a889",
   "metadata": {},
   "outputs": [],
   "source": []
  }
 ],
 "metadata": {
  "kernelspec": {
   "display_name": "Python [conda env:echopro_conda] *",
   "language": "python",
   "name": "conda-env-echopro_conda-py"
  },
  "language_info": {
   "codemirror_mode": {
    "name": "ipython",
    "version": 3
   },
   "file_extension": ".py",
   "mimetype": "text/x-python",
   "name": "python",
   "nbconvert_exporter": "python",
   "pygments_lexer": "ipython3",
   "version": "3.10.0"
  }
 },
 "nbformat": 4,
 "nbformat_minor": 5
}
