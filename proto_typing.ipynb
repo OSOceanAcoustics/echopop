{
 "cells": [
  {
   "cell_type": "code",
   "execution_count": 1,
   "id": "3ca74684-6735-45e0-a55b-f5e3f56b0988",
   "metadata": {},
   "outputs": [
    {
     "name": "stdout",
     "output_type": "stream",
     "text": [
      "A check of the initialization file needs to be done!\n",
      "A check of the survey year file needs to be done!\n",
      "Loading biological data ...\n"
     ]
    },
    {
     "name": "stderr",
     "output_type": "stream",
     "text": [
      "/Users/brandonreyes/UW_work/EchoPro_work/EchoPro/EchoPro/load_biological_data/load_biological_data.py:214: UserWarning: The Sex column contains values {3}, converting values greater than 2 to 2 and values less than 2 to 1\n",
      "  warnings.warn(\n",
      "/Users/brandonreyes/UW_work/EchoPro_work/EchoPro/EchoPro/load_biological_data/load_biological_data.py:214: UserWarning: The Sex column contains values {3}, converting values greater than 2 to 2 and values less than 2 to 1\n",
      "  warnings.warn(\n",
      "/Users/brandonreyes/UW_work/EchoPro_work/EchoPro/EchoPro/load_biological_data/load_biological_data.py:63: UserWarning: The Sex column contains values {3}, converting values greater than 2 to 2 and values less than 2 to 1\n",
      "  warnings.warn(\n",
      "/Users/brandonreyes/UW_work/EchoPro_work/EchoPro/EchoPro/load_biological_data/load_biological_data.py:63: UserWarning: The Sex column contains values {3}, converting values greater than 2 to 2 and values less than 2 to 1\n",
      "  warnings.warn(\n",
      "/Users/brandonreyes/UW_work/EchoPro_work/EchoPro/EchoPro/load_biological_data/load_biological_data.py:151: UserWarning: The Sex column contains values {3}, converting values greater than 2 to 2 and values less than 2 to 1\n",
      "  warnings.warn(\n",
      "/Users/brandonreyes/UW_work/EchoPro_work/EchoPro/EchoPro/load_biological_data/load_biological_data.py:151: UserWarning: The Sex column contains values {3}, converting values greater than 2 to 2 and values less than 2 to 1\n",
      "  warnings.warn(\n",
      "/Users/brandonreyes/UW_work/EchoPro_work/EchoPro/EchoPro/load_biological_data/load_biological_data.py:433: UserWarning: The Sex column contains values {3}, converting values greater than 2 to 2 and values less than 2 to 1\n",
      "  warnings.warn(\n"
     ]
    },
    {
     "name": "stdout",
     "output_type": "stream",
     "text": [
      "hello\n"
     ]
    }
   ],
   "source": [
    "import numpy as np\n",
    "import xarray as xr\n",
    "import pandas as pd \n",
    "import sys \n",
    "from EchoPro import EchoPro\n",
    "epro_2019 = EchoPro(init_file_path='./config_files/initialization_config.yml',\n",
    "                    survey_year_file_path='./config_files/survey_year_2019_config.yml',\n",
    "                    source=3,\n",
    "                    bio_data_type=1,\n",
    "                    age_data_status=1, \n",
    "                    exclude_age1=True)"
   ]
  },
  {
   "cell_type": "code",
   "execution_count": 2,
   "id": "9a432c97-4d86-4670-a5af-deef728167e3",
   "metadata": {},
   "outputs": [
    {
     "name": "stdout",
     "output_type": "stream",
     "text": [
      "277624\n"
     ]
    }
   ],
   "source": [
    "print(sys.getsizeof(epro_2019.length_df))\n",
    "# epro_2019.length_df.head()"
   ]
  },
  {
   "cell_type": "code",
   "execution_count": 3,
   "id": "6cdce899-03f5-44c3-8639-a3efa1f60def",
   "metadata": {},
   "outputs": [
    {
     "name": "stdout",
     "output_type": "stream",
     "text": [
      "75048\n"
     ]
    }
   ],
   "source": [
    "print(epro_2019.length_ds_bran.nbytes)\n",
    "# epro_2019.length_ds_bran"
   ]
  },
  {
   "cell_type": "code",
   "execution_count": 4,
   "id": "9165005a-646e-4a23-987f-e38f468c3143",
   "metadata": {},
   "outputs": [
    {
     "name": "stdout",
     "output_type": "stream",
     "text": [
      "63448\n"
     ]
    }
   ],
   "source": [
    "print(epro_2019.length_ds_wu_jung.nbytes)\n",
    "# epro_2019.length_ds_wu_jung"
   ]
  },
  {
   "cell_type": "code",
   "execution_count": 5,
   "id": "6b842777-0c46-4651-b705-debdf11865ac",
   "metadata": {},
   "outputs": [],
   "source": [
    "# print(np.all(epro_2019.length_df['n'].to_numpy() == epro_2019.length_ds_bran.n.values))\n",
    "# print(np.allclose(epro_2019.length_df['meanlen'].to_numpy(), epro_2019.length_ds_bran.meanlen.values))\n",
    "# print(np.allclose(epro_2019.length_df['stdlen'].to_numpy(), epro_2019.length_ds_bran.stdlen.values))\n",
    "# print(np.allclose(epro_2019.length_df['TS_lin'].to_numpy(), epro_2019.length_ds_bran.TS_lin.values))\n",
    "# print(np.allclose(epro_2019.length_df['TS_log'].to_numpy(), epro_2019.length_ds_bran.TS_log.values))\n",
    "# print(np.allclose(epro_2019.length_df['nM'].to_numpy(), epro_2019.length_ds_bran.nM.values))\n",
    "# print(np.allclose(epro_2019.length_df['nF'].to_numpy(), epro_2019.length_ds_bran.nF.values))"
   ]
  },
  {
   "cell_type": "code",
   "execution_count": 6,
   "id": "a2774967-9f78-4374-8b8e-ed9fea347e40",
   "metadata": {},
   "outputs": [],
   "source": [
    "# print(np.all(epro_2019.length_df['n'].to_numpy() == epro_2019.length_ds_wu_jung.n.values))\n",
    "# print(np.allclose(epro_2019.length_df['meanlen'].to_numpy(), epro_2019.length_ds_wu_jung.meanlen.values))\n",
    "# print(np.allclose(epro_2019.length_df['stdlen'].to_numpy(), epro_2019.length_ds_wu_jung.stdlen.values))\n",
    "# print(np.allclose(epro_2019.length_df['TS_lin'].to_numpy(), epro_2019.length_ds_wu_jung.TS_lin.values))\n",
    "# print(np.allclose(epro_2019.length_df['TS_log'].to_numpy(), epro_2019.length_ds_wu_jung.TS_log.values))\n",
    "# print(np.allclose(epro_2019.length_df['nM'].to_numpy(), epro_2019.length_ds_wu_jung.nM.values))\n",
    "# print(np.allclose(epro_2019.length_df['nF'].to_numpy(), epro_2019.length_ds_wu_jung.nF.values))"
   ]
  },
  {
   "cell_type": "code",
   "execution_count": null,
   "id": "9da2df4b-a47f-4404-aebe-16c698100084",
   "metadata": {},
   "outputs": [],
   "source": []
  },
  {
   "cell_type": "code",
   "execution_count": null,
   "id": "53aa9ee3-0729-4104-9464-de2fe2a3464b",
   "metadata": {},
   "outputs": [],
   "source": []
  },
  {
   "cell_type": "code",
   "execution_count": 7,
   "id": "f4e40a09-3265-4381-9f1f-9c32c19dad76",
   "metadata": {},
   "outputs": [],
   "source": [
    "# df = pd.read_excel(epro_2019.params['data_root_dir'] + epro_2019.params['filename_catch_US'])\n",
    "# ds = epro_2019.load_bio.process_catch_data_ds(df)\n",
    "# ds"
   ]
  },
  {
   "cell_type": "code",
   "execution_count": 8,
   "id": "7a028d7b-773c-4736-b345-6b80ed380948",
   "metadata": {},
   "outputs": [],
   "source": [
    "# df = epro_2019.load_bio.process_catch_data_df(df)\n",
    "# df.head()"
   ]
  },
  {
   "cell_type": "code",
   "execution_count": 9,
   "id": "7e276cb9-2df6-481b-97e0-4c106f981780",
   "metadata": {},
   "outputs": [],
   "source": [
    "# ds.species_code.sel(haul=73)[0: ds.no_null_length.sel(haul=73).values]"
   ]
  },
  {
   "cell_type": "code",
   "execution_count": 10,
   "id": "df4fb7d1-185a-4bfa-9390-8a770689d47e",
   "metadata": {},
   "outputs": [],
   "source": [
    "# df['Species_Code'].loc[73]"
   ]
  },
  {
   "cell_type": "code",
   "execution_count": 11,
   "id": "185bbfa6-d693-4331-be81-d632033ea4d8",
   "metadata": {},
   "outputs": [],
   "source": [
    "# hake_len_bin = np.linspace(1, 79, 40, dtype=np.int64)\n",
    "\n",
    "# hist = [(L <= 2).sum()]\n",
    "\n",
    "# for i in range(1, 40):\n",
    "    \n",
    "#     hist.append((L <=hake_len_bin[i]).sum() + (hake_len_bin[i+1] <= L).sum())\n",
    "    \n",
    "# hake_len_bin"
   ]
  },
  {
   "cell_type": "code",
   "execution_count": 12,
   "id": "cee12119-5ef9-4094-8db5-5d8c718583eb",
   "metadata": {},
   "outputs": [
    {
     "name": "stdout",
     "output_type": "stream",
     "text": [
      "[ 2  4  6  8 10 12 14 16 18 20 22 24 26 28 30 32 34 36 38 40 42 44 46 48\n",
      " 50 52 54 56 58 60 62 64 66 68 70 72 74 76 78 80]\n",
      "[ 3.  5.  7.  9. 11. 13. 15. 17. 19. 21. 23. 25. 27. 29. 31. 33. 35. 37.\n",
      " 39. 41. 43. 45. 47. 49. 51. 53. 55. 57. 59. 61. 63. 65. 67. 69. 71. 73.\n",
      " 75. 77. 79.]\n",
      "(39,)\n"
     ]
    }
   ],
   "source": [
    "hake_len_bin = np.linspace(2, 80, 40, dtype=np.int64)\n",
    "# print(hake_len_bin[1:])\n",
    "# hake_len_bin = np.concatenate((hake_len_bin[:-1], [np.inf]))\n",
    "\n",
    "_, bins = np.histogram(np.random.rand(10), bins=hake_len_bin)\n",
    "\n",
    "print(bins)\n",
    "bin_mid = 0.5 * (bins[1:] + bins[:-1])\n",
    "print(bin_mid)\n",
    "print(bin_mid.shape)\n"
   ]
  },
  {
   "cell_type": "code",
   "execution_count": 13,
   "id": "95b90cbf-49b3-4738-ba09-621de352495b",
   "metadata": {},
   "outputs": [
    {
     "name": "stdout",
     "output_type": "stream",
     "text": [
      "[0, 0, 0, 0, 1, 0, 0, 0, 4, 84, 147, 106, 22, 17, 60, 81, 75, 100, 151, 410, 657, 574, 343, 178, 108, 56, 33, 27, 12, 6, 5, 3, 1, 1, 1, 1, 0, 0, 0]\n"
     ]
    },
    {
     "ename": "SystemExit",
     "evalue": "",
     "output_type": "error",
     "traceback": [
      "An exception has occurred, use %tb to see the full traceback.\n",
      "\u001b[0;31mSystemExit\u001b[0m\n"
     ]
    },
    {
     "name": "stderr",
     "output_type": "stream",
     "text": [
      "/Users/brandonreyes/opt/anaconda3/envs/echopro_conda/lib/python3.10/site-packages/IPython/core/interactiveshell.py:3369: UserWarning: To exit: use 'exit', 'quit', or Ctrl-D.\n",
      "  warn(\"To exit: use 'exit', 'quit', or Ctrl-D.\", stacklevel=1)\n"
     ]
    }
   ],
   "source": [
    "epro_2019.load_bio.process_length_weight_data(epro_2019.specimen_df)"
   ]
  },
  {
   "cell_type": "code",
   "execution_count": null,
   "id": "ad5e1163-298c-4868-a1da-8befc2c63bb2",
   "metadata": {},
   "outputs": [],
   "source": [
    "print(epro_2019.params['ave_len_wgt_M'])\n",
    "print(epro_2019.params['ave_len_wgt_F'])\n",
    "print(epro_2019.params['ave_len_wgt_ALL'])"
   ]
  },
  {
   "cell_type": "code",
   "execution_count": null,
   "id": "e43c2c41-0326-49f1-9404-ac0146756c2d",
   "metadata": {},
   "outputs": [],
   "source": []
  },
  {
   "cell_type": "code",
   "execution_count": null,
   "id": "d11c659e-7168-4013-8e40-da14b9ff95d7",
   "metadata": {},
   "outputs": [],
   "source": []
  },
  {
   "cell_type": "code",
   "execution_count": null,
   "id": "0aac69fc-652e-4c13-8bf5-f9a3c97864d3",
   "metadata": {},
   "outputs": [],
   "source": [
    "epro_2019.catch_df"
   ]
  },
  {
   "cell_type": "code",
   "execution_count": null,
   "id": "6aaf48df-a79c-4310-ae63-6635519b32c4",
   "metadata": {},
   "outputs": [],
   "source": [
    "# Create catch table with \n",
    "# Columns   1-3:   'Trawl number'   'Abundance'     'Biomass' \n",
    "epro_2019.final_table_catch = epro_2019.catch_df[epro_2019.catch_df['Species_Code'] == epro_2019.params['species_code_ID']]"
   ]
  },
  {
   "cell_type": "code",
   "execution_count": null,
   "id": "ad9d92b3-37da-4a9b-88aa-3b01f0c52140",
   "metadata": {},
   "outputs": [],
   "source": [
    "# load stratification file \n",
    "stratification_index = 1\n",
    "if stratification_index != 1 and stratification_index != 0:\n",
    "    raise NotImplementedError(f\"stratification_index of {stratification_index} has not been implemented!\")\n",
    "else:\n",
    "    \n",
    "    if stratification_index == 1: \n",
    "        df = pd.read_excel(epro_2019.params['data_root_dir'] + epro_2019.params['filename_strata'], sheet_name='Base KS')\n",
    "        df = df[['Year', 'Cluster name', 'Haul', 'wt']].copy()\n",
    "        # 1, 2, 4, 5,\n",
    "        \n",
    "        # set data types of dataframe\n",
    "        df = df.astype({'Year': int, 'Cluster name': int, 'Haul': int, 'wt': np.float64})\n",
    "        \n",
    "    else:\n",
    "        df = pd.read_excel(epro_2019.params['data_root_dir'] + epro_2019.params['filename_strata'], sheet_name='INPFC')\n",
    "        df = df[['Year', 'INPFC', 'Haul', 'wt']].copy()\n",
    "        \n",
    "        # set data types of dataframe\n",
    "        df = df.astype({'Year': int, 'INPFC': int, 'Haul': int, 'wt': np.float64})\n",
    "    \n",
    "    print(df.head())\n"
   ]
  },
  {
   "cell_type": "code",
   "execution_count": null,
   "id": "08b7d52c-9b3c-4bd9-bd26-4c55240cd7d0",
   "metadata": {},
   "outputs": [],
   "source": [
    "# n_len_gender\n",
    "inter_gear_len = np.intersect1d(epro_2019.gear_df['Haul'].values, epro_2019.length_ds.haul.values)\n",
    "print(inter_gear_len)\n",
    "print(epro_2019.gear_df.columns.values)\n",
    "print(list(epro_2019.length_ds.keys()))\n",
    "# print(inter_gear_len)\n",
    "# print(inter_gear_len.shape)\n",
    "# epro_2019.length_ds.bio_length.sel(haul=inter_gear_len)\n",
    "\n",
    "# TODO: make this a variable of epro_2019\n",
    "if stratification_index == 1:\n",
    "    final_table_trawl = pd.DataFrame(columns=['Haul', 'transect', 'EQlat', 'EQlon', 'Cluster name', \n",
    "                                              'ave_dep', 'Tsurf', 'Tdep', 'length', 'sex', 'age', 'wgt', \n",
    "                                              'footropeD', 'catch_weight'])\n",
    "elif stratification_index == 0:\n",
    "    final_table_trawl = pd.DataFrame(columns=['Haul', 'transect', 'EQlat', 'EQlon', 'INPFC', \n",
    "                                              'ave_dep', 'Tsurf', 'Tdep', 'length', 'sex', 'age', 'wgt', \n",
    "                                              'footropeD', 'catch_weight'])\n",
    "else: \n",
    "    raise NotImplementedError(f\"stratification_index of {stratification_index} has not been implemented!\")\n",
    "    \n",
    "# for i in inter_gear_len:\n",
    "    \n",
    "#     print(i)\n"
   ]
  },
  {
   "cell_type": "code",
   "execution_count": null,
   "id": "7cb96b38-2607-49eb-8bda-b1d182813449",
   "metadata": {},
   "outputs": [],
   "source": [
    "# catch_weight\n",
    "\n",
    "inter_gear_catch = np.intersect1d(epro_2019.gear_df['Haul'].values, epro_2019.catch_df.index.values)\n",
    "\n",
    "inter_gear_catch\n",
    "\n",
    "# catch_inter = epro_2019.catch_df.loc[inter_gear_catch]\n",
    "\n",
    "# catch_weight = catch_inter.loc[catch_inter['Species_Code'] == epro_2019.params['species_code_ID'], 'Weight_In_Haul']\n",
    "\n",
    "# catch_weight"
   ]
  },
  {
   "cell_type": "code",
   "execution_count": null,
   "id": "e8896b6b-e64d-4473-913d-c1283f8fbd5e",
   "metadata": {},
   "outputs": [],
   "source": [
    "epro_2019.params['species_code_ID']"
   ]
  },
  {
   "cell_type": "code",
   "execution_count": null,
   "id": "25103e9d-74c8-4469-ba18-ff57464edd7b",
   "metadata": {},
   "outputs": [],
   "source": [
    "epro_2019.specimen_df.loc[3].shape"
   ]
  },
  {
   "cell_type": "code",
   "execution_count": null,
   "id": "90ff758c-208d-4697-98b8-cf30b307f36d",
   "metadata": {},
   "outputs": [],
   "source": []
  }
 ],
 "metadata": {
  "kernelspec": {
   "display_name": "Python [conda env:echopro_conda] *",
   "language": "python",
   "name": "conda-env-echopro_conda-py"
  },
  "language_info": {
   "codemirror_mode": {
    "name": "ipython",
    "version": 3
   },
   "file_extension": ".py",
   "mimetype": "text/x-python",
   "name": "python",
   "nbconvert_exporter": "python",
   "pygments_lexer": "ipython3",
   "version": "3.10.0"
  }
 },
 "nbformat": 4,
 "nbformat_minor": 5
}
