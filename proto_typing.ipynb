{
 "cells": [
  {
   "cell_type": "code",
   "execution_count": 1,
   "id": "3ca74684-6735-45e0-a55b-f5e3f56b0988",
   "metadata": {},
   "outputs": [
    {
     "name": "stdout",
     "output_type": "stream",
     "text": [
      "A check of the initialization file needs to be done!\n",
      "A check of the survey year file needs to be done!\n",
      "Loading biological data ...\n"
     ]
    }
   ],
   "source": [
    "import numpy as np\n",
    "import xarray as xr\n",
    "import pandas as pd \n",
    "import sys \n",
    "from EchoPro import EchoPro\n",
    "epro_2019 = EchoPro(init_file_path='./config_files/initialization_config.yml',\n",
    "                    survey_year_file_path='./config_files/survey_year_2019_config.yml',\n",
    "                    source=3,\n",
    "                    bio_data_type=1,\n",
    "                    age_data_status=1, \n",
    "                    exclude_age1=True)"
   ]
  },
  {
   "cell_type": "code",
   "execution_count": 2,
   "id": "9a432c97-4d86-4670-a5af-deef728167e3",
   "metadata": {},
   "outputs": [
    {
     "name": "stdout",
     "output_type": "stream",
     "text": [
      "277624\n"
     ]
    }
   ],
   "source": [
    "print(sys.getsizeof(epro_2019.length_df))\n",
    "# epro_2019.length_df.head()"
   ]
  },
  {
   "cell_type": "code",
   "execution_count": 3,
   "id": "6cdce899-03f5-44c3-8639-a3efa1f60def",
   "metadata": {},
   "outputs": [
    {
     "name": "stdout",
     "output_type": "stream",
     "text": [
      "75048\n"
     ]
    }
   ],
   "source": [
    "print(epro_2019.length_ds_bran.nbytes)\n",
    "# epro_2019.length_ds_bran"
   ]
  },
  {
   "cell_type": "code",
   "execution_count": 4,
   "id": "9165005a-646e-4a23-987f-e38f468c3143",
   "metadata": {},
   "outputs": [
    {
     "name": "stdout",
     "output_type": "stream",
     "text": [
      "92736\n"
     ]
    }
   ],
   "source": [
    "print(epro_2019.length_ds.nbytes)\n",
    "# epro_2019.length_ds"
   ]
  },
  {
   "cell_type": "code",
   "execution_count": 5,
   "id": "6b842777-0c46-4651-b705-debdf11865ac",
   "metadata": {},
   "outputs": [],
   "source": [
    "# print(np.all(epro_2019.length_df['n'].to_numpy() == epro_2019.length_ds_bran.n.values))\n",
    "# print(np.allclose(epro_2019.length_df['meanlen'].to_numpy(), epro_2019.length_ds_bran.meanlen.values))\n",
    "# print(np.allclose(epro_2019.length_df['stdlen'].to_numpy(), epro_2019.length_ds_bran.stdlen.values))\n",
    "# print(np.allclose(epro_2019.length_df['TS_lin'].to_numpy(), epro_2019.length_ds_bran.TS_lin.values))\n",
    "# print(np.allclose(epro_2019.length_df['TS_log'].to_numpy(), epro_2019.length_ds_bran.TS_log.values))\n",
    "# print(np.allclose(epro_2019.length_df['nM'].to_numpy(), epro_2019.length_ds_bran.nM.values))\n",
    "# print(np.allclose(epro_2019.length_df['nF'].to_numpy(), epro_2019.length_ds_bran.nF.values))"
   ]
  },
  {
   "cell_type": "code",
   "execution_count": 6,
   "id": "a2774967-9f78-4374-8b8e-ed9fea347e40",
   "metadata": {},
   "outputs": [],
   "source": [
    "# print(np.all(epro_2019.length_df['n'].to_numpy() == epro_2019.length_ds_wu_jung.n.values))\n",
    "# print(np.allclose(epro_2019.length_df['meanlen'].to_numpy(), epro_2019.length_ds_wu_jung.meanlen.values))\n",
    "# print(np.allclose(epro_2019.length_df['stdlen'].to_numpy(), epro_2019.length_ds_wu_jung.stdlen.values))\n",
    "# print(np.allclose(epro_2019.length_df['TS_lin'].to_numpy(), epro_2019.length_ds_wu_jung.TS_lin.values))\n",
    "# print(np.allclose(epro_2019.length_df['TS_log'].to_numpy(), epro_2019.length_ds_wu_jung.TS_log.values))\n",
    "# print(np.allclose(epro_2019.length_df['nM'].to_numpy(), epro_2019.length_ds_wu_jung.nM.values))\n",
    "# print(np.allclose(epro_2019.length_df['nF'].to_numpy(), epro_2019.length_ds_wu_jung.nF.values))"
   ]
  },
  {
   "cell_type": "code",
   "execution_count": null,
   "id": "9da2df4b-a47f-4404-aebe-16c698100084",
   "metadata": {},
   "outputs": [],
   "source": []
  },
  {
   "cell_type": "code",
   "execution_count": null,
   "id": "53aa9ee3-0729-4104-9464-de2fe2a3464b",
   "metadata": {},
   "outputs": [],
   "source": []
  },
  {
   "cell_type": "code",
   "execution_count": 7,
   "id": "f4e40a09-3265-4381-9f1f-9c32c19dad76",
   "metadata": {},
   "outputs": [],
   "source": [
    "# df = pd.read_excel(epro_2019.params['data_root_dir'] + epro_2019.params['filename_catch_US'])\n",
    "# ds = epro_2019.load_bio.process_catch_data_ds(df)\n",
    "# ds"
   ]
  },
  {
   "cell_type": "code",
   "execution_count": 8,
   "id": "7a028d7b-773c-4736-b345-6b80ed380948",
   "metadata": {},
   "outputs": [],
   "source": [
    "# df = epro_2019.load_bio.process_catch_data_df(df)\n",
    "# df.head()"
   ]
  },
  {
   "cell_type": "code",
   "execution_count": 9,
   "id": "7e276cb9-2df6-481b-97e0-4c106f981780",
   "metadata": {},
   "outputs": [],
   "source": [
    "# ds.species_code.sel(haul=73)[0: ds.no_null_length.sel(haul=73).values]"
   ]
  },
  {
   "cell_type": "code",
   "execution_count": 10,
   "id": "df4fb7d1-185a-4bfa-9390-8a770689d47e",
   "metadata": {},
   "outputs": [],
   "source": [
    "# df['Species_Code'].loc[73]"
   ]
  },
  {
   "cell_type": "code",
   "execution_count": 11,
   "id": "ad5e1163-298c-4868-a1da-8befc2c63bb2",
   "metadata": {},
   "outputs": [
    {
     "name": "stdout",
     "output_type": "stream",
     "text": [
      "0.43899002636583884\n",
      "0.5194996117984199\n",
      "0.4781804012273613\n"
     ]
    }
   ],
   "source": [
    "print(epro_2019.params['ave_len_wgt_M'])\n",
    "print(epro_2019.params['ave_len_wgt_F'])\n",
    "print(epro_2019.params['ave_len_wgt_ALL'])"
   ]
  },
  {
   "cell_type": "code",
   "execution_count": null,
   "id": "e43c2c41-0326-49f1-9404-ac0146756c2d",
   "metadata": {},
   "outputs": [],
   "source": []
  },
  {
   "cell_type": "code",
   "execution_count": 12,
   "id": "d11c659e-7168-4013-8e40-da14b9ff95d7",
   "metadata": {},
   "outputs": [],
   "source": [
    "# epro_2019.final_catch_table"
   ]
  },
  {
   "cell_type": "code",
   "execution_count": 13,
   "id": "efa7d77c-c6ab-4e50-8d0b-c4c80a7b3b36",
   "metadata": {},
   "outputs": [],
   "source": [
    "# epro_2019.final_trawl_table.loc[71]"
   ]
  },
  {
   "cell_type": "code",
   "execution_count": null,
   "id": "bbb6796d-de42-43d2-a780-79a1094bbffd",
   "metadata": {},
   "outputs": [],
   "source": []
  },
  {
   "cell_type": "code",
   "execution_count": 14,
   "id": "1b652ccf-064c-4bf3-8201-737846620c74",
   "metadata": {},
   "outputs": [],
   "source": [
    "# temp.head()"
   ]
  },
  {
   "cell_type": "code",
   "execution_count": 15,
   "id": "24651453-e40f-45dc-a794-e81a830d1365",
   "metadata": {},
   "outputs": [],
   "source": [
    "# epro_2019.catch_df[epro_2019.catch_df['Species_Code'] == epro_2019.params['species_code_ID']].head()"
   ]
  },
  {
   "cell_type": "code",
   "execution_count": 16,
   "id": "078c5d58-c97a-4365-833b-130fedb935cd",
   "metadata": {},
   "outputs": [],
   "source": [
    "# epro_2019.gear_df.head()"
   ]
  },
  {
   "cell_type": "code",
   "execution_count": 17,
   "id": "6c222f72-8377-427e-bf4b-ada99faa6d94",
   "metadata": {},
   "outputs": [],
   "source": [
    "# epro_2019.trawl_df.head()"
   ]
  },
  {
   "cell_type": "code",
   "execution_count": 18,
   "id": "5451ba23-1e67-43eb-bb71-bb645be1839f",
   "metadata": {},
   "outputs": [],
   "source": [
    "# strata_df.head()"
   ]
  },
  {
   "cell_type": "code",
   "execution_count": 19,
   "id": "5620402e-93db-4b46-add0-949310711d55",
   "metadata": {},
   "outputs": [],
   "source": [
    "# epro_2019.specimen_df.head()"
   ]
  },
  {
   "cell_type": "code",
   "execution_count": null,
   "id": "56ea9e8e-358d-44c4-afc5-5a035e62e807",
   "metadata": {},
   "outputs": [],
   "source": []
  },
  {
   "cell_type": "code",
   "execution_count": null,
   "id": "52e1327a-8957-4691-84e2-e627dac9dd0a",
   "metadata": {},
   "outputs": [],
   "source": []
  },
  {
   "cell_type": "code",
   "execution_count": 20,
   "id": "54bfa28f-bce4-4c54-8159-c43976b8a319",
   "metadata": {},
   "outputs": [],
   "source": [
    "# epro_2019.params['filename_strata']"
   ]
  },
  {
   "cell_type": "code",
   "execution_count": 21,
   "id": "388bf409-a8ba-49fb-a226-f3a767396b14",
   "metadata": {},
   "outputs": [],
   "source": [
    "# transect_reduction_fraction = 0.0 \n",
    "# stratification_index = 1\n",
    "# KS_stratification = 1\n",
    "# if stratification_index == 1: \n",
    "    \n",
    "#     if epro_2019.params['CAN_strata_num0']:\n",
    "#         raise NotImplementedError(\"Filled CAN_strata_num0 value has not been implemented!\")\n",
    "        \n",
    "#     if epro_2019.params['exclude_age1']:\n",
    "        \n",
    "#         # TODO: Do we need to have a condition to check for para.proc.age1_haul?\n",
    "#         # TODO: According to Chu, this seems to be unused. \n",
    "#         # raise NotImplementedError(f\"age1_haul\")\n",
    "        \n",
    "#         if transect_reduction_fraction != 0.0: \n",
    "#             raise NotImplementedError(\"transect reduction has not been implemented!\")\n",
    "#         else: \n",
    "            \n",
    "#             # select only stratum not equal to zero \n",
    "#             strata_mask = epro_2019.strata_df['Cluster name'] != 0\n",
    "#             epro_2019.bio_strata = epro_2019.strata_df[strata_mask][['Cluster name', 'wt']].reset_index().set_index('Cluster name')\n",
    "# else:\n",
    "    \n",
    "#     if epro_2019.params['CAN_strata_num0']:\n",
    "#         raise NotImplementedError(\"Filled CAN_strata_num0 value has not been implemented!\")\n",
    "        \n",
    "#     if epro_2019.params['exclude_age1']:\n",
    "        \n",
    "#         # TODO: Do we need to have a condition to check for para.proc.age1_haul?\n",
    "#         # TODO: According to Chu, this seems to be unused. \n",
    "#         # raise NotImplementedError(f\"age1_haul\")\n",
    "        \n",
    "#         if transect_reduction_fraction != 0.0: \n",
    "#             raise NotImplementedError(\"transect reduction has not been implemented!\")\n",
    "#         else: \n",
    "            \n",
    "#             # select only stratum not equal to zero \n",
    "#             strata_mask = epro_2019.strata_df['INPFC'] != 0\n",
    "#             epro_2019.bio_strata = epro_2019.strata_df[strata_mask][['INPFC', 'wt']].reset_index().set_index('INPFC')\n",
    "\n",
    "\n",
    "# # TODO: Do we have to fill-in trawl information for stratum number < first non-empty stratum? \n",
    "# # TODO: Matlab get_historical_strata_data lines 144-169\n",
    "\n",
    "# # TODO: Do we have to interpolate trawl information to stranum (no tralws) by using the parameters of the adjacient strata (stratum)\n",
    "# # TODO: Matlab get_historical_strata_data lines 172-194\n",
    "\n",
    "# # TODO: determine if this code is necessary. \n",
    "# # # extrpolate trawl information to stranum (no tralws) > last non-empty stratum (situation in using the Observer data or A-SHOP data)\n",
    "# # # automatically determine the maximum number of stratum   11/2/2021 (SD, and/or Observer uses geographic_stratification xlsx file)\n",
    "# # if para.proc.KS_stratification == 1\n",
    "# #     n_strata_max =  max(dat0(:,2));     # change max(dat0(:,1)) to max(dat0(:,2)) on 5/29/2021\n",
    "# #                                         # change back from max(dat0(:,2)) to max(dat0(:,1)) on 10/18/2021\n",
    "# #                                         # change to if loop for determining what which column corresponding strata index\n",
    "# # else\n",
    "# #     n_strata_max =  max(dat0(:,1));\n",
    "# #     if n_strata_max > 20\n",
    "# #         n_strata_max =  max(dat0(:,2));\n",
    "# #     end\n",
    "# # end\n",
    "\n",
    "# # for i = data.bio.haul_strata(end)+1:n_strata_max   # change max(dat0(:,1)) to max(dat0(:,2)) on 5/29/2021\n",
    "# #                                                    # change back from max(dat0(:,2)) to max(dat0(:,1)) on 10/18/2021\n",
    "# #     data.bio.strata(i).trawls=data.bio.strata(data.bio.haul_strata(end)).trawls;\n",
    "# #     data.bio.strata(i).wgt=data.bio.strata(data.bio.haul_strata(end)).wgt;\n",
    "# #     data.bio.haul_strata(i) = i;\n",
    "# #     if length(data.bio.strata(i).trawls) < 1\n",
    "# #         disp(data.bio.strata(i).trawls)\n",
    "# #     end\n",
    "# # end\n",
    "\n",
    "\n",
    "# # construct hake-haul number array\n",
    "# epro_2019.params['bio_hake_trawl_num'] = np.union1d(epro_2019.length_ds.Haul.values, epro_2019.specimen_df.index.unique().values)\n",
    "\n"
   ]
  },
  {
   "cell_type": "code",
   "execution_count": 22,
   "id": "b3b63e99-5541-4838-988a-c55dcd18c9f5",
   "metadata": {},
   "outputs": [],
   "source": [
    "# # TODO: uncomment below if we want unsexed to be included\n",
    "# epro_2019.params['bio_len_haul_U'] = np.zeros((len(epro_2019.params['bio_hake_len_bin']), len(epro_2019.params['bio_hake_trawl_num'])))\n",
    "# epro_2019.params['bio_aged_len_haul_U'] = np.zeros((len(epro_2019.params['bio_hake_len_bin']), len(epro_2019.params['bio_hake_trawl_num'])))\n",
    "\n",
    "# epro_2019.params['bio_len_haul_M'] = np.zeros((len(epro_2019.params['bio_hake_len_bin']), len(epro_2019.params['bio_hake_trawl_num'])))\n",
    "# epro_2019.params['bio_len_haul_F'] = np.zeros((len(epro_2019.params['bio_hake_len_bin']), len(epro_2019.params['bio_hake_trawl_num'])))\n",
    "\n",
    "# epro_2019.params['bio_aged_len_haul_M'] = np.zeros((len(epro_2019.params['bio_hake_len_bin']), len(epro_2019.params['bio_hake_trawl_num'])))\n",
    "# epro_2019.params['bio_aged_len_haul_F'] = np.zeros((len(epro_2019.params['bio_hake_len_bin']), len(epro_2019.params['bio_hake_trawl_num'])))\n",
    "\n",
    "# j = 0\n",
    "# for i in epro_2019.params['bio_hake_trawl_num']:\n",
    "    \n",
    "#     # Collect expanded length data from length_ds\n",
    "#     if i in epro_2019.length_ds.Haul:\n",
    "#         male_val_len = np.repeat(epro_2019.length_ds.Length.values, \n",
    "#                                  np.nan_to_num(epro_2019.length_ds.Frequency.sel(Haul=i, Sex=1).values).astype(dtype=int), axis=0)\n",
    "\n",
    "#         female_val_len = np.repeat(epro_2019.length_ds.Length.values,\n",
    "#                                    np.nan_to_num(epro_2019.length_ds.Frequency.sel(Haul=i, Sex=2).values).astype(dtype=int), axis=0)\n",
    "        \n",
    "#         # TODO: uncomment below if we want unsexed to be included\n",
    "#         unsexed_val_len = np.repeat(epro_2019.length_ds.Length.values,\n",
    "#                                     np.nan_to_num(epro_2019.length_ds.Frequency.sel(Haul=i, Sex=3).values).astype(dtype=int), axis=0)\n",
    "#     else:\n",
    "#         male_val_len = []\n",
    "#         female_val_len = []\n",
    "        \n",
    "#         # TODO: uncomment below if we want unsexed to be included\n",
    "#         unsexed_val_len = []\n",
    "    \n",
    "#     # Collect length data from specimen_df\n",
    "#     male_selected_ind = (epro_2019.specimen_df['Sex'] == 1.0) & pd.notnull(epro_2019.specimen_df['Age'])\n",
    "#     if i in male_selected_ind[male_selected_ind].index:\n",
    "#         male_val_specimen = epro_2019.specimen_df[male_selected_ind].loc[i]['Length']\n",
    "        \n",
    "#         if isinstance(male_val_specimen, np.float64):\n",
    "#             male_val_specimen = [male_val_specimen]\n",
    "#         else:\n",
    "#             male_val_specimen = male_val_specimen.values\n",
    "#     else:\n",
    "#         male_val_specimen = []\n",
    "\n",
    "#     female_selected_ind = (epro_2019.specimen_df['Sex'] == 2.0) & pd.notnull(epro_2019.specimen_df['Age'])\n",
    "#     if i in female_selected_ind[female_selected_ind].index:\n",
    "#         female_val_specimen = epro_2019.specimen_df[female_selected_ind].loc[i]['Length']\n",
    "        \n",
    "#         if isinstance(female_val_specimen, np.float64):\n",
    "#             female_val_specimen = [female_val_specimen]\n",
    "#         else:\n",
    "#             female_val_specimen = female_val_specimen.values\n",
    "\n",
    "#     else:\n",
    "#         female_val_specimen = []\n",
    "      \n",
    "#     # TODO: uncomment below if we want unsexed to be included\n",
    "#     unsexed_selected_ind = (epro_2019.specimen_df['Sex'] == 3.0) & pd.notnull(epro_2019.specimen_df['Age'])\n",
    "#     if i in unsexed_selected_ind[unsexed_selected_ind].index:\n",
    "#         unsexed_val_specimen = epro_2019.specimen_df[unsexed_selected_ind].loc[i]['Length']\n",
    "        \n",
    "#         if isinstance(unsexed_val_specimen, np.float64):\n",
    "#             unsexed_val_specimen = [unsexed_val_specimen]\n",
    "#         else:\n",
    "#             unsexed_val_specimen = unsexed_val_specimen.values\n",
    "\n",
    "#     else:\n",
    "#         unsexed_val_specimen = []\n",
    "            \n",
    "#     # store length data from length_ds and specimen_df\n",
    "#     epro_2019.params['bio_len_haul_M'][:, j] = epro_2019.load_bio.get_bin_counts(np.concatenate([male_val_len, male_val_specimen]), \n",
    "#                                                                                  epro_2019.params['bio_hake_len_bin'])\n",
    "    \n",
    "#     epro_2019.params['bio_len_haul_F'][:, j] = epro_2019.load_bio.get_bin_counts(np.concatenate([female_val_len, female_val_specimen]), \n",
    "#                                                                                  epro_2019.params['bio_hake_len_bin'])\n",
    "    \n",
    "#     # TODO: uncomment below if we want unsexed to be included\n",
    "#     epro_2019.params['bio_len_haul_U'][:, j] = epro_2019.load_bio.get_bin_counts(np.concatenate([unsexed_val_len, unsexed_val_specimen]), \n",
    "#                                                                                  epro_2019.params['bio_hake_len_bin'])\n",
    "    \n",
    "#     if j == 37:\n",
    "#         print(i)\n",
    "#         # print(np.sort(epro_2019.specimen_df[(epro_2019.specimen_df['Sex'] == 1.0)].loc[i]))\n",
    "#         # print(epro_2019.specimen_df[(epro_2019.specimen_df['Sex'] == 1.0)].loc[i])\n",
    "#         # print(\" \")\n",
    "#         # print(np.sort(np.concatenate([male_val_len, male_val_specimen])))\n",
    "#         print(np.sort(male_val_specimen))\n",
    "    \n",
    "#     epro_2019.params['bio_aged_len_haul_M'][:, j] = epro_2019.load_bio.get_bin_counts(male_val_specimen, epro_2019.params['bio_hake_len_bin']) \n",
    "#     epro_2019.params['bio_aged_len_haul_F'][:, j] = epro_2019.load_bio.get_bin_counts(female_val_specimen, epro_2019.params['bio_hake_len_bin']) \n",
    "    \n",
    "#     # TODO: uncomment below if we want unsexed to be included\n",
    "#     epro_2019.params['bio_aged_len_haul_U'][:, j] = epro_2019.load_bio.get_bin_counts(unsexed_val_specimen, epro_2019.params['bio_hake_len_bin']) \n",
    "    \n",
    "#     j += 1\n",
    "    \n",
    "\n",
    "# # epro_2019.params['bio_len_haul_ALL'] =  epro_2019.params['bio_len_haul_M'] + epro_2019.params['bio_len_haul_F'] \n",
    "# # epro_2019.params['bio_aged_len_haul_ALL'] =  epro_2019.params['bio_aged_len_haul_M'] + epro_2019.params['bio_aged_len_haul_F'] \n",
    "\n",
    "# # TODO: uncomment below if we want unsexed to be included\n",
    "# epro_2019.params['bio_len_haul_ALL'] =  epro_2019.params['bio_len_haul_M'] + epro_2019.params['bio_len_haul_F'] + epro_2019.params['bio_len_haul_U']\n",
    "\n",
    "# # TODO: uncomment below if we want unsexed to be included\n",
    "# epro_2019.params['bio_aged_len_haul_ALL'] =  epro_2019.params['bio_aged_len_haul_M'] + epro_2019.params['bio_aged_len_haul_F'] + epro_2019.params['bio_aged_len_haul_U']\n",
    "    \n"
   ]
  },
  {
   "cell_type": "code",
   "execution_count": 23,
   "id": "c9f539e2-eaad-4ec3-be89-0a99ef36ccda",
   "metadata": {},
   "outputs": [
    {
     "name": "stdout",
     "output_type": "stream",
     "text": [
      "Do we need to set stratum_id or just use strata_df? Look into this!\n"
     ]
    }
   ],
   "source": [
    "transect_reduction_fraction = 0.0 \n",
    "stratification_index = 1\n",
    "KS_stratification = 1\n",
    "\n",
    "epro_2019.get_historical_strata_data(stratification_index, KS_stratification, transect_reduction_fraction)"
   ]
  },
  {
   "cell_type": "code",
   "execution_count": null,
   "id": "7fafb20b-d311-490f-b75e-3726dfc46b50",
   "metadata": {},
   "outputs": [],
   "source": []
  },
  {
   "cell_type": "code",
   "execution_count": 48,
   "id": "1dfd581c-f50b-4d9f-9905-7c38db98f635",
   "metadata": {},
   "outputs": [
    {
     "data": {
      "text/plain": [
       "array([[0., 0., 0., ..., 0., 0., 0.],\n",
       "       [0., 0., 0., ..., 0., 0., 0.],\n",
       "       [0., 0., 0., ..., 0., 0., 0.],\n",
       "       ...,\n",
       "       [0., 0., 0., ..., 0., 0., 0.],\n",
       "       [0., 0., 0., ..., 0., 0., 0.],\n",
       "       [0., 0., 0., ..., 0., 0., 0.]])"
      ]
     },
     "execution_count": 48,
     "metadata": {},
     "output_type": "execute_result"
    }
   ],
   "source": [
    "epro_2019.params['bio_aged_len_haul_ALL']"
   ]
  },
  {
   "cell_type": "code",
   "execution_count": 51,
   "id": "ee5ecd73-7b2c-4759-90b0-20e6a6f3ef22",
   "metadata": {},
   "outputs": [
    {
     "data": {
      "text/plain": [
       "array([57., 59., 45., 51., 46., 47., 50., 50., 48., 46.,  1., 36., 54.,\n",
       "       50., 55., 52., 50., 47., 48., 50., 50., 50., 50., 50., 50., 54.,\n",
       "       50., 50., 50., 51., 48., 42., 51., 26.,  9., 50., 50., 48., 51.,\n",
       "       49., 50., 50., 50., 51., 51., 49., 51., 50.,  1., 49., 54., 39.,\n",
       "       46., 52., 42., 50., 49., 43., 45., 45., 44., 35., 46., 26., 61.,\n",
       "       56., 56., 56., 52.,  1.,  1.,  1., 19.,  1., 15.])"
      ]
     },
     "execution_count": 51,
     "metadata": {},
     "output_type": "execute_result"
    }
   ],
   "source": [
    "epro_2019.params['bio_aged_len_haul_ALL'].sum(axis=0)"
   ]
  },
  {
   "cell_type": "code",
   "execution_count": 54,
   "id": "eecc3779-e088-4e47-914c-ad4c0b3f78d8",
   "metadata": {},
   "outputs": [
    {
     "data": {
      "text/plain": [
       "array([], shape=(0, 1), dtype=int64)"
      ]
     },
     "execution_count": 54,
     "metadata": {},
     "output_type": "execute_result"
    }
   ],
   "source": [
    "np.argwhere(epro_2019.params['bio_aged_len_haul_ALL'].sum(axis=0) == 0.0)"
   ]
  },
  {
   "cell_type": "code",
   "execution_count": 52,
   "id": "fd79d71b-9d6d-4ba6-9fe0-301b8dbd7603",
   "metadata": {},
   "outputs": [
    {
     "data": {
      "text/plain": [
       "array([0., 0., 0., 0., 0., 0., 0., 0., 0., 0., 0., 0., 0., 0., 0., 0., 0.,\n",
       "       0., 0., 0., 0., 0., 2., 5., 5., 2., 1., 0., 0., 0., 0., 0., 0., 0.,\n",
       "       0., 0., 0., 0., 0., 0.])"
      ]
     },
     "execution_count": 52,
     "metadata": {},
     "output_type": "execute_result"
    }
   ],
   "source": [
    "epro_2019.params['bio_aged_len_haul_ALL'][:, -1]"
   ]
  },
  {
   "cell_type": "code",
   "execution_count": null,
   "id": "f2ea1179-c173-4b53-bd66-3617c1a74f53",
   "metadata": {},
   "outputs": [],
   "source": []
  }
 ],
 "metadata": {
  "kernelspec": {
   "display_name": "Python [conda env:echopro_conda] *",
   "language": "python",
   "name": "conda-env-echopro_conda-py"
  },
  "language_info": {
   "codemirror_mode": {
    "name": "ipython",
    "version": 3
   },
   "file_extension": ".py",
   "mimetype": "text/x-python",
   "name": "python",
   "nbconvert_exporter": "python",
   "pygments_lexer": "ipython3",
   "version": "3.10.0"
  }
 },
 "nbformat": 4,
 "nbformat_minor": 5
}
