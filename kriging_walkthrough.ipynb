{
 "cells": [
  {
   "cell_type": "code",
   "execution_count": null,
   "id": "3ca74684-6735-45e0-a55b-f5e3f56b0988",
   "metadata": {},
   "outputs": [],
   "source": [
    "import geopandas\n",
    "import scipy.io\n",
    "import pandas as pd\n",
    "import numpy as np\n",
    "from EchoPro import EchoPro\n",
    "epro_2019 = EchoPro(init_file_path='./config_files/initialization_config.yml',\n",
    "                    survey_year_file_path='./config_files/survey_year_2019_config.yml',\n",
    "                    source=3,\n",
    "                    bio_data_type=1,\n",
    "                    age_data_status=1, \n",
    "                    exclude_age1=True)"
   ]
  },
  {
   "cell_type": "code",
   "execution_count": null,
   "id": "9ca8172c",
   "metadata": {},
   "outputs": [],
   "source": [
    "# get geopandas representation of final_biomass_table\n",
    "df = epro_2019.final_biomass_table\n",
    "\n",
    "krig_mesh = epro_2019.get_kriging_mesh()\n",
    "\n",
    "# apply transformations to data using python functions\n",
    "trans_df = krig_mesh.apply_longitude_transformation(df)\n",
    "\n",
    "D_x = trans_df['Longitude'].max() - trans_df['Longitude'].min()\n",
    "D_y = trans_df['Latitude'].max() - trans_df['Latitude'].min()\n",
    "x_data, y_data = krig_mesh.apply_distance_transformation(trans_df, D_x, D_y)\n",
    "\n",
    "field_data = df['nwgt_total'].values.flatten()"
   ]
  },
  {
   "cell_type": "code",
   "execution_count": null,
   "id": "e9c1f9d0",
   "metadata": {},
   "outputs": [],
   "source": [
    "# apply transformations to data using python functions\n",
    "trans_dfm = krig_mesh.apply_longitude_transformation(krig_mesh.mesh_gdf, \n",
    "                                                    gdf_lon_name='Longitude of centroid', \n",
    "                                                    gdf_lat_name='Latitude of centroid')\n",
    "\n",
    "x_mesh, y_mesh = krig_mesh.apply_distance_transformation(trans_dfm, D_x, D_y,\n",
    "                                                           gdf_lon_name='Longitude of centroid',\n",
    "                                                           gdf_lat_name='Latitude of centroid')"
   ]
  },
  {
   "cell_type": "code",
   "execution_count": null,
   "id": "3fcdf812",
   "metadata": {},
   "outputs": [],
   "source": [
    "from EchoPro.semivariogram import SemiVariogram as SV"
   ]
  },
  {
   "cell_type": "code",
   "execution_count": null,
   "id": "ad3dc3ef",
   "metadata": {},
   "outputs": [],
   "source": [
    "%%time \n",
    "krig = epro_2019.get_kriging()\n",
    "\n",
    "k_max = 10\n",
    "k_min = 3\n",
    "R = 0.0226287\n",
    "ratio = 0.001\n",
    "s_v_params = {'nugget': 0.0, 'sill': 0.95279, 'ls': 0.0075429,\n",
    "              'exp_pow': 1.5, 'ls_hole_eff': 0.0}\n",
    "s_v_model = SV.generalized_exp_bessel\n",
    "\n",
    "ep_arr, eps_arr, vp_arr = krig.run_kriging(x_mesh, x_data, \n",
    "                                           y_mesh, y_data, field_data, \n",
    "                                           k_max, k_min, R, ratio, \n",
    "                                           s_v_params, s_v_model)"
   ]
  },
  {
   "cell_type": "code",
   "execution_count": null,
   "id": "521724bf",
   "metadata": {},
   "outputs": [],
   "source": [
    "# get kriging output data from Matlab version of EchoPro\n",
    "# krig_output_mat = scipy.io.loadmat('../2019_consolidated_files/kriging_output_vals.mat')\n",
    "krig_output_mat = scipy.io.loadmat('../2019_consolidated_files/kriging_output_vals_m2_unity_chng_bug_fix.mat')\n",
    "ep_matlab = krig_output_mat['Ep'].flatten()\n",
    "eps_matlab = krig_output_mat['Eps'].flatten()\n",
    "vp_matlab = krig_output_mat['Vp'].flatten()\n",
    "\n",
    "print(np.allclose(ep_arr, ep_matlab))\n",
    "print(np.allclose(eps_arr, eps_matlab, equal_nan=True))\n",
    "print(np.allclose(vp_arr, vp_matlab))"
   ]
  },
  {
   "cell_type": "code",
   "execution_count": null,
   "id": "d86f565a",
   "metadata": {},
   "outputs": [],
   "source": [
    "# k_mesh_x = krig_mesh.mesh_gdf['Latitude of centroid'].values.flatten()\n",
    "# k_mesh_y = krig_mesh.mesh_gdf['Longitude of centroid'].values.flatten()\n",
    "\n",
    "# krig.plot_kriging_results(k_mesh_x, k_mesh_y, vp_arr)"
   ]
  },
  {
   "cell_type": "code",
   "execution_count": null,
   "id": "8d7d6d1a",
   "metadata": {},
   "outputs": [],
   "source": []
  }
 ],
 "metadata": {
  "kernelspec": {
   "display_name": "echopro_conda",
   "language": "python",
   "name": "echopro_conda"
  },
  "language_info": {
   "codemirror_mode": {
    "name": "ipython",
    "version": 3
   },
   "file_extension": ".py",
   "mimetype": "text/x-python",
   "name": "python",
   "nbconvert_exporter": "python",
   "pygments_lexer": "ipython3",
   "version": "3.9.12"
  }
 },
 "nbformat": 4,
 "nbformat_minor": 5
}
