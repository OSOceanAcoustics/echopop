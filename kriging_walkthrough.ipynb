{
 "cells": [
  {
   "cell_type": "code",
   "execution_count": 1,
   "id": "3ca74684-6735-45e0-a55b-f5e3f56b0988",
   "metadata": {},
   "outputs": [
    {
     "name": "stdout",
     "output_type": "stream",
     "text": [
      "A check of the initialization file needs to be done!\n",
      "A check of the survey year file needs to be done!\n",
      "Loading biological data ...\n"
     ]
    },
    {
     "name": "stderr",
     "output_type": "stream",
     "text": [
      "/Users/brandonreyes/UW_work/EchoPro_work/EchoPro/EchoPro/echo_pro.py:274: UserWarning: We are currently using wgt_total from Matlab for CV, change this!\n",
      "  warnings.warn(\"We are currently using wgt_total from Matlab for CV, change this!\")\n"
     ]
    }
   ],
   "source": [
    "import geopandas\n",
    "import scipy.io\n",
    "import pandas as pd\n",
    "import numpy as np\n",
    "from EchoPro import EchoPro\n",
    "epro_2019 = EchoPro(init_file_path='./config_files/initialization_config.yml',\n",
    "                    survey_year_file_path='./config_files/survey_year_2019_config.yml',\n",
    "                    source=3,\n",
    "                    bio_data_type=1,\n",
    "                    age_data_status=1, \n",
    "                    exclude_age1=True)"
   ]
  },
  {
   "cell_type": "code",
   "execution_count": 2,
   "id": "093ce61a",
   "metadata": {},
   "outputs": [],
   "source": [
    "krig_mesh = epro_2019.get_kriging_mesh()\n"
   ]
  },
  {
   "cell_type": "code",
   "execution_count": 3,
   "id": "9ca8172c",
   "metadata": {},
   "outputs": [],
   "source": [
    "# get geopandas representation of final_biomass_table\n",
    "# allows us to plot transect data\n",
    "df = epro_2019.final_biomass_table\n",
    "gdf = geopandas.GeoDataFrame(df, \n",
    "                             geometry=geopandas.points_from_xy(df.Longitude, df.Latitude))\n",
    "\n",
    "# reseting the index so that we can select data based on column name\n",
    "gdf = gdf.reset_index()"
   ]
  },
  {
   "cell_type": "markdown",
   "id": "36cbd57c",
   "metadata": {},
   "source": [
    "## Plots transect points and the full mesh "
   ]
  },
  {
   "cell_type": "code",
   "execution_count": 4,
   "id": "e8d05aaa",
   "metadata": {},
   "outputs": [],
   "source": [
    "# # Plot transect points \n",
    "# fmap = krig_mesh.plot_points(gdf, cmap_column='Transect', color='hex')\n",
    "\n",
    "# # Plot full mesh points \n",
    "# fmap = krig_mesh.plot_points(krig_mesh.mesh_gdf, fmap, color='red')\n",
    "\n",
    "# # display the folium map\n",
    "# fmap"
   ]
  },
  {
   "cell_type": "code",
   "execution_count": 5,
   "id": "0d46c0fa",
   "metadata": {},
   "outputs": [],
   "source": [
    "# transform the data using the Python version of EchoPro\n",
    "# transformed_transect_gdf = krig_mesh.apply_longitude_transformation(gdf)\n",
    "# transformed_mesh_gdf = krig_mesh.apply_longitude_transformation(krig_mesh.mesh_gdf, \n",
    "#                                                                 gdf_lon_name=\"Longitude of centroid\", \n",
    "#                                                                 gdf_lat_name=\"Latitude of centroid\")"
   ]
  },
  {
   "cell_type": "code",
   "execution_count": 6,
   "id": "7befa3de",
   "metadata": {},
   "outputs": [],
   "source": [
    "# get kriging input data from Matlab version of EchoPro\n",
    "krig_input_mat = scipy.io.loadmat('../2019_consolidated_files/kriging_input_points.mat')\n",
    "\n",
    "x_data = krig_input_mat['xn'].flatten()\n",
    "y_data = krig_input_mat['yn'].flatten()\n",
    "field_data = krig_input_mat['var'].flatten()\n",
    "\n",
    "x_mesh = krig_input_mat['xp'].flatten()\n",
    "y_mesh = krig_input_mat['yp'].flatten()"
   ]
  },
  {
   "cell_type": "code",
   "execution_count": 7,
   "id": "99275df1",
   "metadata": {},
   "outputs": [
    {
     "name": "stdout",
     "output_type": "stream",
     "text": [
      "CPU times: user 1.03 s, sys: 2.26 s, total: 3.29 s\n",
      "Wall time: 4.62 s\n"
     ]
    }
   ],
   "source": [
    "%%time\n",
    "# compute the distance between the mesh points and transect points\n",
    "x_diff = np.subtract.outer(x_mesh, x_data)\n",
    "y_diff = np.subtract.outer(y_mesh, y_data)\n",
    "\n",
    "dis = np.sqrt(x_diff*x_diff + y_diff*y_diff)"
   ]
  },
  {
   "cell_type": "code",
   "execution_count": 8,
   "id": "f43728f5",
   "metadata": {},
   "outputs": [
    {
     "name": "stdout",
     "output_type": "stream",
     "text": [
      "CPU times: user 728 ms, sys: 258 ms, total: 986 ms\n",
      "Wall time: 995 ms\n"
     ]
    }
   ],
   "source": [
    "%%time\n",
    "kmax = 10\n",
    "k_min = 3\n",
    "\n",
    "# sort dis up to the kmax smallest elements in each row\n",
    "dis_sort_ind = np.argpartition(dis, kmax, axis=1)\n",
    "\n",
    "# select only the kmax smallest elements in each row \n",
    "dis_kmax_ind = dis_sort_ind[:, :kmax]\n",
    "\n",
    "# sort the columns so they are in ascending order\n",
    "# dis_kmax = np.sort(dis_kmax, axis=1)  # TODO: is this necessary?"
   ]
  },
  {
   "cell_type": "code",
   "execution_count": 9,
   "id": "78216fd0",
   "metadata": {},
   "outputs": [
    {
     "name": "stdout",
     "output_type": "stream",
     "text": [
      "CPU times: user 2.5 s, sys: 21.5 ms, total: 2.53 s\n",
      "Wall time: 2.53 s\n"
     ]
    }
   ],
   "source": [
    "%%time\n",
    "R = 0.0226287\n",
    "ratio = 0.001\n",
    "nugget = 0.0\n",
    "sill = 0.95279\n",
    "ls = 0.0075429\n",
    "exp_pow = 1.5\n",
    "ls_hole_eff = 0.0\n",
    "\n",
    "from EchoPro.semivariogram import SemiVariogram as SV\n",
    "\n",
    "ep = []\n",
    "\n",
    "# does Ordinary Kriging, follow Journel and Huijbregts, p. 307\n",
    "for row in range(dis_kmax_ind.shape[0]):\n",
    "    \n",
    "    sel_ind = dis_kmax_ind[row, :]\n",
    "    R_ind = np.argwhere(dis[row, sel_ind] <= R).flatten()\n",
    "    \n",
    "    if len(R_ind) < k_min:\n",
    "        R_ind = np.argsort(dis[row, sel_ind]).flatten()[:k_min]\n",
    "    \n",
    "    # TODO: put in the M2_unity statement\n",
    "\n",
    "    \n",
    "    # TODO: replace with automatic call to correct model\n",
    "    M20 = SV.generalized_exp_bessel(dis[row, sel_ind[R_ind]], sill, ls, exp_pow, ls_hole_eff, nugget)\n",
    "    \n",
    "    M2 = np.concatenate([M20, np.array([1.0])]) # for Ordinary Kriging\n",
    "    \n",
    "#     print(f\"M2 = {M2}\")\n",
    "    \n",
    "    x1 = x_data[sel_ind[R_ind]]\n",
    "    y1 = y_data[sel_ind[R_ind]]\n",
    "    \n",
    "    # compute the distance between the points\n",
    "    x1_diff = np.subtract.outer(x1, x1)\n",
    "    y1_diff = np.subtract.outer(y1, y1)\n",
    "    dis1 = np.sqrt(x1_diff*x1_diff + y1_diff*y1_diff)\n",
    "    \n",
    "    # TODO: replace with automatic call to correct model\n",
    "    K0 = SV.generalized_exp_bessel(dis1, sill, ls, exp_pow, ls_hole_eff, nugget)\n",
    "    \n",
    "    # Add column and row of ones for Ordinary Kriging\n",
    "    K = np.concatenate([K0, np.ones((len(x1), 1))], axis=1)\n",
    "    K = np.concatenate([K, np.ones((1, len(x1) + 1))], axis=0)\n",
    "    \n",
    "    # do an inplace fill of diagonal\n",
    "    np.fill_diagonal(K, 0.0)\n",
    "    \n",
    "    # compute SVD\n",
    "    u, s, vh = np.linalg.svd(K, full_matrices=True)\n",
    "\n",
    "    kindx = np.argwhere(np.abs(s/s[0]) > ratio).flatten()\n",
    "    \n",
    "    s_inv = 1.0/s[kindx]\n",
    "\n",
    "    k_inv = np.matmul(vh.T[:, kindx], np.diag(s_inv))\n",
    "    k_inv = np.matmul(k_inv, u[:, kindx].T)\n",
    "    \n",
    "    lamb = np.dot(k_inv, M2)\n",
    "\n",
    "#     Vp(i)=sum_nan(lambda(1:nk).*var1)*M2_unity;\n",
    "\n",
    "    ep.append(np.nansum(lamb*M2))\n",
    "    \n",
    "# print(ep)\n",
    "    \n",
    "#     import sys \n",
    "#     sys.exit()\n",
    "    \n",
    "\n"
   ]
  },
  {
   "cell_type": "code",
   "execution_count": null,
   "id": "4e693b3e",
   "metadata": {},
   "outputs": [],
   "source": []
  },
  {
   "cell_type": "code",
   "execution_count": null,
   "id": "521724bf",
   "metadata": {},
   "outputs": [],
   "source": []
  },
  {
   "cell_type": "code",
   "execution_count": null,
   "id": "27f4e0e6",
   "metadata": {},
   "outputs": [],
   "source": []
  },
  {
   "cell_type": "code",
   "execution_count": null,
   "id": "d62f3352",
   "metadata": {},
   "outputs": [],
   "source": []
  },
  {
   "cell_type": "code",
   "execution_count": null,
   "id": "a73b4027",
   "metadata": {},
   "outputs": [],
   "source": []
  },
  {
   "cell_type": "code",
   "execution_count": null,
   "id": "26348cab",
   "metadata": {},
   "outputs": [],
   "source": []
  },
  {
   "cell_type": "code",
   "execution_count": null,
   "id": "fffa9bf8",
   "metadata": {},
   "outputs": [],
   "source": []
  },
  {
   "cell_type": "code",
   "execution_count": null,
   "id": "5d4896e4",
   "metadata": {},
   "outputs": [],
   "source": []
  },
  {
   "cell_type": "code",
   "execution_count": null,
   "id": "15f85aae",
   "metadata": {},
   "outputs": [],
   "source": []
  },
  {
   "cell_type": "code",
   "execution_count": 10,
   "id": "49c9bb90",
   "metadata": {},
   "outputs": [
    {
     "data": {
      "text/plain": [
       "array([[-0.5, -1.5, -2.5],\n",
       "       [ 0.5, -0.5, -1.5],\n",
       "       [ 1.5,  0.5, -0.5],\n",
       "       [ 2.5,  1.5,  0.5]])"
      ]
     },
     "execution_count": 10,
     "metadata": {},
     "output_type": "execute_result"
    }
   ],
   "source": [
    "xn = np.array([1, 2, 3])\n",
    "xp = np.array([0.5, 1.5, 2.5, 3.5])\n",
    "\n",
    "np.subtract.outer(xp, xn)"
   ]
  },
  {
   "cell_type": "code",
   "execution_count": 11,
   "id": "d971dc5a",
   "metadata": {},
   "outputs": [
    {
     "data": {
      "text/plain": [
       "array([-0.14360447, -0.1414857 , -0.13938711, ...,  0.00529606,\n",
       "        0.00737726,  0.00917433])"
      ]
     },
     "execution_count": 11,
     "metadata": {},
     "output_type": "execute_result"
    }
   ],
   "source": [
    "x_data"
   ]
  },
  {
   "cell_type": "code",
   "execution_count": null,
   "id": "5f1d5edd",
   "metadata": {},
   "outputs": [],
   "source": []
  }
 ],
 "metadata": {
  "kernelspec": {
   "display_name": "echopro_conda",
   "language": "python",
   "name": "echopro_conda"
  },
  "language_info": {
   "codemirror_mode": {
    "name": "ipython",
    "version": 3
   },
   "file_extension": ".py",
   "mimetype": "text/x-python",
   "name": "python",
   "nbconvert_exporter": "python",
   "pygments_lexer": "ipython3",
   "version": "3.9.12"
  }
 },
 "nbformat": 4,
 "nbformat_minor": 5
}
