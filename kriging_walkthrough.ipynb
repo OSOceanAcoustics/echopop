{
 "cells": [
  {
   "cell_type": "code",
   "execution_count": 1,
   "id": "3ca74684-6735-45e0-a55b-f5e3f56b0988",
   "metadata": {},
   "outputs": [
    {
     "name": "stdout",
     "output_type": "stream",
     "text": [
      "A check of the initialization file needs to be done!\n",
      "A check of the survey year file needs to be done!\n",
      "Loading biological data ...\n"
     ]
    },
    {
     "name": "stderr",
     "output_type": "stream",
     "text": [
      "/Users/brandonreyes/UW_work/EchoPro_work/EchoPro/EchoPro/echo_pro.py:274: UserWarning: We are currently using wgt_total from Matlab for CV, change this!\n",
      "  warnings.warn(\"We are currently using wgt_total from Matlab for CV, change this!\")\n"
     ]
    }
   ],
   "source": [
    "import geopandas\n",
    "import scipy.io\n",
    "import pandas as pd\n",
    "import numpy as np\n",
    "from EchoPro import EchoPro\n",
    "epro_2019 = EchoPro(init_file_path='./config_files/initialization_config.yml',\n",
    "                    survey_year_file_path='./config_files/survey_year_2019_config.yml',\n",
    "                    source=3,\n",
    "                    bio_data_type=1,\n",
    "                    age_data_status=1, \n",
    "                    exclude_age1=True)"
   ]
  },
  {
   "cell_type": "code",
   "execution_count": 2,
   "id": "093ce61a",
   "metadata": {},
   "outputs": [],
   "source": [
    "krig_mesh = epro_2019.get_kriging_mesh()"
   ]
  },
  {
   "cell_type": "code",
   "execution_count": 3,
   "id": "9ca8172c",
   "metadata": {},
   "outputs": [],
   "source": [
    "# get geopandas representation of final_biomass_table\n",
    "# allows us to plot transect data\n",
    "df = epro_2019.final_biomass_table\n",
    "gdf = geopandas.GeoDataFrame(df, \n",
    "                             geometry=geopandas.points_from_xy(df.Longitude, df.Latitude))\n",
    "\n",
    "# reseting the index so that we can select data based on column name\n",
    "gdf = gdf.reset_index()"
   ]
  },
  {
   "cell_type": "markdown",
   "id": "36cbd57c",
   "metadata": {},
   "source": [
    "## Plots transect points and the full mesh "
   ]
  },
  {
   "cell_type": "code",
   "execution_count": 4,
   "id": "e8d05aaa",
   "metadata": {},
   "outputs": [],
   "source": [
    "# # Plot transect points \n",
    "# fmap = krig_mesh.plot_points(gdf, cmap_column='Transect', color='hex')\n",
    "\n",
    "# # Plot full mesh points \n",
    "# fmap = krig_mesh.plot_points(krig_mesh.mesh_gdf, fmap, color='red')\n",
    "\n",
    "# # display the folium map\n",
    "# fmap"
   ]
  },
  {
   "cell_type": "code",
   "execution_count": 5,
   "id": "0d46c0fa",
   "metadata": {},
   "outputs": [],
   "source": [
    "# transform the data using the Python version of EchoPro\n",
    "# transformed_transect_gdf = krig_mesh.apply_longitude_transformation(gdf)\n",
    "# transformed_mesh_gdf = krig_mesh.apply_longitude_transformation(krig_mesh.mesh_gdf, \n",
    "#                                                                 gdf_lon_name=\"Longitude of centroid\", \n",
    "#                                                                 gdf_lat_name=\"Latitude of centroid\")"
   ]
  },
  {
   "cell_type": "code",
   "execution_count": 6,
   "id": "7befa3de",
   "metadata": {},
   "outputs": [],
   "source": [
    "# get kriging input data from Matlab version of EchoPro\n",
    "krig_input_mat = scipy.io.loadmat('../2019_consolidated_files/kriging_input_points.mat')\n",
    "\n",
    "x_data = krig_input_mat['xn'].flatten()\n",
    "y_data = krig_input_mat['yn'].flatten()\n",
    "field_data = krig_input_mat['var'].flatten()\n",
    "\n",
    "x_mesh = krig_input_mat['xp'].flatten()\n",
    "y_mesh = krig_input_mat['yp'].flatten()"
   ]
  },
  {
   "cell_type": "code",
   "execution_count": 7,
   "id": "3fcdf812",
   "metadata": {},
   "outputs": [],
   "source": [
    "from EchoPro.semivariogram import SemiVariogram as SV"
   ]
  },
  {
   "cell_type": "code",
   "execution_count": 8,
   "id": "ad3dc3ef",
   "metadata": {},
   "outputs": [
    {
     "name": "stdout",
     "output_type": "stream",
     "text": [
      "CPU times: user 5.1 s, sys: 3.68 s, total: 8.78 s\n",
      "Wall time: 10.4 s\n"
     ]
    }
   ],
   "source": [
    "%%time \n",
    "krig = epro_2019.get_kriging()\n",
    "\n",
    "k_max = 10\n",
    "k_min = 3\n",
    "R = 0.0226287\n",
    "ratio = 0.001\n",
    "s_v_params = {'nugget': 0.0, 'sill': 0.95279, 'ls': 0.0075429,\n",
    "              'exp_pow': 1.5, 'ls_hole_eff': 0.0}\n",
    "s_v_model = SV.generalized_exp_bessel\n",
    "\n",
    "ep_arr, eps_arr, vp_arr = krig.run_kriging(x_mesh, x_data, \n",
    "                                           y_mesh, y_data, field_data, \n",
    "                                           k_max, k_min, R, ratio, \n",
    "                                           s_v_params, s_v_model)"
   ]
  },
  {
   "cell_type": "code",
   "execution_count": 9,
   "id": "521724bf",
   "metadata": {},
   "outputs": [
    {
     "name": "stdout",
     "output_type": "stream",
     "text": [
      "True\n",
      "True\n",
      "True\n"
     ]
    }
   ],
   "source": [
    "# get kriging output data from Matlab version of EchoPro\n",
    "# krig_output_mat = scipy.io.loadmat('../2019_consolidated_files/kriging_output_vals.mat')\n",
    "krig_output_mat = scipy.io.loadmat('../2019_consolidated_files/kriging_output_vals_m2_unity_chng_bug_fix.mat')\n",
    "ep_matlab = krig_output_mat['Ep'].flatten()\n",
    "eps_matlab = krig_output_mat['Eps'].flatten()\n",
    "vp_matlab = krig_output_mat['Vp'].flatten()\n",
    "\n",
    "print(np.allclose(ep_arr, ep_matlab))\n",
    "print(np.allclose(eps_arr, eps_matlab, equal_nan=True))\n",
    "print(np.allclose(vp_arr, vp_matlab))"
   ]
  },
  {
   "cell_type": "code",
   "execution_count": null,
   "id": "51c6e257",
   "metadata": {},
   "outputs": [],
   "source": []
  },
  {
   "cell_type": "code",
   "execution_count": null,
   "id": "ac6b44ed",
   "metadata": {},
   "outputs": [],
   "source": []
  },
  {
   "cell_type": "code",
   "execution_count": null,
   "id": "d833178b",
   "metadata": {},
   "outputs": [],
   "source": []
  },
  {
   "cell_type": "code",
   "execution_count": null,
   "id": "14711542",
   "metadata": {},
   "outputs": [],
   "source": []
  }
 ],
 "metadata": {
  "kernelspec": {
   "display_name": "echopro_conda",
   "language": "python",
   "name": "echopro_conda"
  },
  "language_info": {
   "codemirror_mode": {
    "name": "ipython",
    "version": 3
   },
   "file_extension": ".py",
   "mimetype": "text/x-python",
   "name": "python",
   "nbconvert_exporter": "python",
   "pygments_lexer": "ipython3",
   "version": "3.9.12"
  }
 },
 "nbformat": 4,
 "nbformat_minor": 5
}
