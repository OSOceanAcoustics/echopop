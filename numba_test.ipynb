{
 "cells": [
  {
   "cell_type": "code",
   "execution_count": null,
   "id": "bd052a8d",
   "metadata": {},
   "outputs": [],
   "source": [
    "%reset -f"
   ]
  },
  {
   "cell_type": "code",
   "execution_count": null,
   "id": "d441b04e",
   "metadata": {},
   "outputs": [],
   "source": [
    "import numba as nb\n",
    "import numpy as np\n",
    "import math "
   ]
  },
  {
   "cell_type": "code",
   "execution_count": null,
   "id": "10a9d452",
   "metadata": {},
   "outputs": [],
   "source": [
    "x = np.random.rand(10000)\n",
    "y = np.random.rand(10000)"
   ]
  },
  {
   "cell_type": "code",
   "execution_count": null,
   "id": "67cd0edb",
   "metadata": {},
   "outputs": [],
   "source": [
    "@nb.jit(nogil=True)\n",
    "def nb_func(a):\n",
    "    a = a + 1\n",
    "    x = np.random.rand(10000)\n",
    "    b = np.subtract.outer(x, x)\n",
    "    return a"
   ]
  },
  {
   "cell_type": "code",
   "execution_count": null,
   "id": "0dda7339",
   "metadata": {},
   "outputs": [],
   "source": [
    "@nb.jit(parallel=True)\n",
    "def run_proccess(n_times):\n",
    "    \n",
    "    for i in nb.prange(n_times):\n",
    "        \n",
    "        out = nb_func(i)"
   ]
  },
  {
   "cell_type": "code",
   "execution_count": null,
   "id": "2d4cdecf",
   "metadata": {},
   "outputs": [],
   "source": [
    "%time run_proccess(10)"
   ]
  },
  {
   "cell_type": "code",
   "execution_count": null,
   "id": "66843745",
   "metadata": {},
   "outputs": [],
   "source": [
    "%%time\n",
    "for i in range(10):\n",
    "        \n",
    "        out = nb_func(i)"
   ]
  },
  {
   "cell_type": "code",
   "execution_count": null,
   "id": "6cee587d",
   "metadata": {},
   "outputs": [],
   "source": []
  }
 ],
 "metadata": {
  "kernelspec": {
   "display_name": "echopro_conda",
   "language": "python",
   "name": "echopro_conda"
  },
  "language_info": {
   "codemirror_mode": {
    "name": "ipython",
    "version": 3
   },
   "file_extension": ".py",
   "mimetype": "text/x-python",
   "name": "python",
   "nbconvert_exporter": "python",
   "pygments_lexer": "ipython3",
   "version": "3.9.12"
  }
 },
 "nbformat": 4,
 "nbformat_minor": 5
}
