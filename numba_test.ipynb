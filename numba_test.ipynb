{
 "cells": [
  {
   "cell_type": "code",
   "execution_count": 1,
   "id": "bd052a8d",
   "metadata": {},
   "outputs": [],
   "source": [
    "%reset -f"
   ]
  },
  {
   "cell_type": "code",
   "execution_count": 2,
   "id": "d441b04e",
   "metadata": {},
   "outputs": [],
   "source": [
    "import numba as nb\n",
    "import numpy as np\n",
    "import math "
   ]
  },
  {
   "cell_type": "code",
   "execution_count": 3,
   "id": "10a9d452",
   "metadata": {},
   "outputs": [],
   "source": [
    "x = np.random.rand(1000000)"
   ]
  },
  {
   "cell_type": "code",
   "execution_count": 4,
   "id": "6cee587d",
   "metadata": {},
   "outputs": [],
   "source": [
    "@nb.njit(parallel=True)\n",
    "def func(a):\n",
    "    \n",
    "    res = np.empty(a.shape[0], dtype=np.float64)\n",
    "    for i in nb.prange(a.shape[0]):\n",
    "        \n",
    "        res[i] = math.sqrt(a[i]*a[i])\n",
    "        \n",
    "    return res"
   ]
  },
  {
   "cell_type": "code",
   "execution_count": 5,
   "id": "d2f7a6e3",
   "metadata": {},
   "outputs": [],
   "source": [
    "@nb.vectorize\n",
    "def func2(a):\n",
    "        \n",
    "    return math.sqrt(a*a)"
   ]
  },
  {
   "cell_type": "code",
   "execution_count": 6,
   "id": "334d919a",
   "metadata": {},
   "outputs": [
    {
     "name": "stdout",
     "output_type": "stream",
     "text": [
      "CPU times: user 421 ms, sys: 45.3 ms, total: 466 ms\n",
      "Wall time: 315 ms\n"
     ]
    },
    {
     "data": {
      "text/plain": [
       "array([0.64721418, 0.48019861, 0.3731592 , ..., 0.7506115 , 0.47222836,\n",
       "       0.62703791])"
      ]
     },
     "execution_count": 6,
     "metadata": {},
     "output_type": "execute_result"
    }
   ],
   "source": [
    "%time func(x)"
   ]
  },
  {
   "cell_type": "code",
   "execution_count": 7,
   "id": "955a6637",
   "metadata": {},
   "outputs": [
    {
     "name": "stdout",
     "output_type": "stream",
     "text": [
      "CPU times: user 30.1 ms, sys: 3.13 ms, total: 33.3 ms\n",
      "Wall time: 32.4 ms\n"
     ]
    },
    {
     "data": {
      "text/plain": [
       "array([0.64721418, 0.48019861, 0.3731592 , ..., 0.7506115 , 0.47222836,\n",
       "       0.62703791])"
      ]
     },
     "execution_count": 7,
     "metadata": {},
     "output_type": "execute_result"
    }
   ],
   "source": [
    "%time func2(x)"
   ]
  },
  {
   "cell_type": "code",
   "execution_count": 8,
   "id": "25a79d3a",
   "metadata": {},
   "outputs": [
    {
     "name": "stdout",
     "output_type": "stream",
     "text": [
      "CPU times: user 2.28 ms, sys: 3.51 ms, total: 5.8 ms\n",
      "Wall time: 4.61 ms\n"
     ]
    },
    {
     "data": {
      "text/plain": [
       "array([0.64721418, 0.48019861, 0.3731592 , ..., 0.7506115 , 0.47222836,\n",
       "       0.62703791])"
      ]
     },
     "execution_count": 8,
     "metadata": {},
     "output_type": "execute_result"
    }
   ],
   "source": [
    "%time np.sqrt(x*x)"
   ]
  },
  {
   "cell_type": "code",
   "execution_count": null,
   "id": "436745b7",
   "metadata": {},
   "outputs": [],
   "source": []
  }
 ],
 "metadata": {
  "kernelspec": {
   "display_name": "echopro_conda",
   "language": "python",
   "name": "echopro_conda"
  },
  "language_info": {
   "codemirror_mode": {
    "name": "ipython",
    "version": 3
   },
   "file_extension": ".py",
   "mimetype": "text/x-python",
   "name": "python",
   "nbconvert_exporter": "python",
   "pygments_lexer": "ipython3",
   "version": "3.9.12"
  }
 },
 "nbformat": 4,
 "nbformat_minor": 5
}
