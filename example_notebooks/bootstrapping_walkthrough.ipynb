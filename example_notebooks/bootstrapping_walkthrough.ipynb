{
 "cells": [
  {
   "cell_type": "markdown",
   "id": "f0aa0cbe",
   "metadata": {},
   "source": [
    "# EchoPro Python Workflow <a class=\"tocSkip\">"
   ]
  },
  {
   "cell_type": "markdown",
   "id": "ccaef1d6",
   "metadata": {},
   "source": [
    "# Import libraries and configure the Jupyter notebook"
   ]
  },
  {
   "cell_type": "code",
   "execution_count": null,
   "id": "66ad49aa",
   "metadata": {},
   "outputs": [],
   "source": [
    "# libraries used in the Notebook\n",
    "import matplotlib.pyplot as plt\n",
    "import numpy as np\n",
    "import pandas as pd \n",
    "\n",
    "# Python version of EchoPro\n",
    "import EchoPro\n",
    "\n",
    "# Allows us to grab the SemiVariogram class so we can use its models\n",
    "from EchoPro.semivariogram import SemiVariogram as SV\n",
    "\n",
    "# Allows us to easily use matplotlib widgets in our Notebook\n",
    "%matplotlib widget\n",
    "# %matplotlib inline"
   ]
  },
  {
   "cell_type": "code",
   "execution_count": null,
   "id": "059a8a59",
   "metadata": {},
   "outputs": [],
   "source": [
    "%%time\n",
    "survey_2019 = EchoPro.Survey(init_file_path='../config_files/initialization_config.yml',\n",
    "                             survey_year_file_path='../config_files/survey_year_2019_config.yml',\n",
    "                             source=3, \n",
    "                             exclude_age1=True)"
   ]
  },
  {
   "cell_type": "code",
   "execution_count": null,
   "id": "8c0d730c",
   "metadata": {},
   "outputs": [],
   "source": [
    "%%time \n",
    "survey_2019.load_survey_data() "
   ]
  },
  {
   "cell_type": "code",
   "execution_count": null,
   "id": "e5c4dd6f",
   "metadata": {},
   "outputs": [],
   "source": [
    "TX_selected = [4,5,11,14,17,19,20,22,34,39,47,49,53,55,61,69,79,82,85,\n",
    "               87,89,93,95,97,100,103,105,111,123,125,131,133,135,137,\n",
    "               140,13,18,31,50,73,74,77,80,38,66]"
   ]
  },
  {
   "cell_type": "markdown",
   "id": "75ecf293",
   "metadata": {},
   "source": [
    "## Compute the normalized biomass density\n"
   ]
  },
  {
   "cell_type": "markdown",
   "id": "394d4614",
   "metadata": {},
   "source": [
    "When `selected_transects` argument is added, we need to select a subset of the data. We do this as follows: \n",
    "1. Use the `gear_df` (the gear file) to create a mapping between transects and hauls.\n",
    "   - The gear file is used because it creates a 1:many mapping between transects and hauls and it includes the most amount of relations between transects and hauls (in comparison to other files)\n",
    "   \n",
    "2. Using the mapping in item 1, obtain a subset of the mapping using `selected_transects`\n",
    "   - This step will allow us to get only the hauls that are contained within the `selected_transects`\n",
    "   \n",
    "3. Select the subset of `length_df`, `specimen_df`, and `strata_df` using the subset of hauls found in item 2. \n",
    "   - Note: `strata_df` has the multi-index of `Haul, stratum` and because we are obtaining the subset of data based on hauls, this means that some `stratum` values can be removed completely.\n",
    "   \n",
    "4. Select a subset of `nasc_df` using `selected_transects`, since it has the transects as a column of the data\n",
    "\n",
    "\n",
    "To compute the biomass density estimate, we need to first compute the backscattering cross-section (`sigma_b`). The calculation of `sigma_b` is done by computing the mean differential backscattering cross-section for each haul and this is based on `length_df` and `specimen_df`. Once this is done, the `sigma_b` value for each KS stratum is computed by taking the mean of all hauls within the KS stratum, where the relation between haul and KS stratum is determined by `strata_df`.  \n",
    "\n",
    "Once `sigma_b` for each stratum is computed, we can calculate the nautical areal density. This calculation is done as follows:\n",
    "1. Compute `mix_sa_ratio`, which is the weight of a particular haul determined by `strata_df` and the `haul` value is determined by a column in `nasc_df`\n",
    "2. Multiply `mix_sa_ratio` by `nasc_df.NASC` (where NASC is the NASC value at the corresponding `haul` in `mix_sa_ratio`)\n",
    "3. Divide the values in item 2 by the `sigma_b` value at the corresponding `stratum` determined by `nasc_df`\n",
    "\n",
    "It is in item 3 here where the above way of obtaining the subsets of data causes an issue that needs to be resolved. The subset of `nasc_df` values can contain `stratum` that we cannot calculate a `sigma_b` for. Chu's approach to the above problem is to create artificial `sigma_b` values for those strata that do not have a `sigma_b` value. For example, in most scenarios he seems to create the artificial `sigma_b` values by choosing the closest stratum (with respect to the stratum number) to the missing stratum that has the most amount of data in it. \n",
    "\n",
    "\n",
    "One remedy to this problem that we tried was to obtain the subset of `nasc_df` values based on those haul values that are in the created subset of `strata_df`. However, the issue with this based off of the 2019 data is that the subset of `nasc_df` can contain several transects that are not in `selected_transects`. This scenario made us believe that the haul values in `nasc_df` do not correctly correspond to the transects or vice versa. This is worrisome as these mappings are crucial in the biomass density calculation. "
   ]
  },
  {
   "cell_type": "code",
   "execution_count": null,
   "id": "1a648765",
   "metadata": {},
   "outputs": [],
   "source": [
    "%%time\n",
    "survey_2019.compute_biomass_density(selected_transects=TX_selected)"
   ]
  },
  {
   "cell_type": "code",
   "execution_count": null,
   "id": "33d094a7",
   "metadata": {},
   "outputs": [],
   "source": [
    "survey_2019.bio_calc.final_biomass_table.head()"
   ]
  },
  {
   "cell_type": "code",
   "execution_count": null,
   "id": "f82724ee",
   "metadata": {},
   "outputs": [],
   "source": [
    "# survey_2019.bio_calc.final_biomass_table[\"Stratum\"].groupby(level=0).mean()"
   ]
  },
  {
   "cell_type": "code",
   "execution_count": null,
   "id": "256b5440",
   "metadata": {},
   "outputs": [],
   "source": [
    "# survey_2019.bio_calc.final_biomass_table.index.unique()"
   ]
  },
  {
   "cell_type": "code",
   "execution_count": null,
   "id": "64d16a70",
   "metadata": {},
   "outputs": [],
   "source": [
    "survey_2019.bio_calc.final_biomass_table[\"normalized_biomass_density\"].sum()\n",
    "# normal 298438694.4207147"
   ]
  },
  {
   "cell_type": "markdown",
   "id": "013e62b5",
   "metadata": {},
   "source": [
    "# Jolly-Hampton CV Analysis\n",
    "\n",
    "* Compute the mean of the Jolly-Hampton CV value on data that has not been Kriged\n",
    "* Note: the algorithm used to compute this value is random in nature"
   ]
  },
  {
   "cell_type": "code",
   "execution_count": null,
   "id": "a7bb465e",
   "metadata": {},
   "outputs": [],
   "source": [
    "%%time\n",
    "CV_JH_mean = survey_2019.run_cv_analysis(kriged_data=False)"
   ]
  },
  {
   "cell_type": "code",
   "execution_count": null,
   "id": "78c776bd",
   "metadata": {},
   "outputs": [],
   "source": [
    "print(f\"Mean Jolly-Hampton CV: {CV_JH_mean:.4f}\")"
   ]
  },
  {
   "cell_type": "markdown",
   "id": "c5bd6ad7",
   "metadata": {},
   "source": [
    "# Obtain Kriging Mesh Data"
   ]
  },
  {
   "cell_type": "markdown",
   "id": "f26756c4",
   "metadata": {},
   "source": [
    "## Access Kriging mesh object\n",
    "* Reads mesh data files specified by `survey_2019` "
   ]
  },
  {
   "cell_type": "code",
   "execution_count": null,
   "id": "c976b0b9",
   "metadata": {},
   "outputs": [],
   "source": [
    "krig_mesh = survey_2019.get_kriging_mesh()"
   ]
  },
  {
   "cell_type": "markdown",
   "id": "b8b3fe9b",
   "metadata": {},
   "source": [
    "### Plot the Mesh, Transects and smoothed isobath contour\n",
    "\n",
    "* Generate interactive map using the Folium package\n",
    "* Mesh points are in gray\n",
    "* Transect points are represented by a changing color gradient\n",
    "* Smoothed contour points (200m isobath) are in blue "
   ]
  },
  {
   "cell_type": "code",
   "execution_count": null,
   "id": "9c80331b-9bd5-4ccb-b564-b744a41b4d61",
   "metadata": {},
   "outputs": [],
   "source": [
    "# fmap = krig_mesh.plot_layered_points()\n",
    "# fmap"
   ]
  },
  {
   "cell_type": "markdown",
   "id": "5c9580b0-40f1-47b0-b947-c410fdbd3fd2",
   "metadata": {},
   "source": [
    "## Apply coordinate transformations\n",
    "* Longitude transformation\n",
    "* Lat/Lon to distance"
   ]
  },
  {
   "cell_type": "markdown",
   "id": "1c2a3a9b",
   "metadata": {},
   "source": [
    "### Transect points"
   ]
  },
  {
   "cell_type": "code",
   "execution_count": null,
   "id": "9d447533",
   "metadata": {},
   "outputs": [],
   "source": [
    "krig_mesh.apply_coordinate_transformation(coord_type='transect')"
   ]
  },
  {
   "cell_type": "markdown",
   "id": "de1067f9-c508-4033-80f3-ef11f5e1f1f7",
   "metadata": {},
   "source": [
    "### Mesh points"
   ]
  },
  {
   "cell_type": "code",
   "execution_count": null,
   "id": "de7071d8",
   "metadata": {},
   "outputs": [],
   "source": [
    "krig_mesh.apply_coordinate_transformation(coord_type='mesh')"
   ]
  },
  {
   "cell_type": "code",
   "execution_count": null,
   "id": "13445d63",
   "metadata": {},
   "outputs": [],
   "source": [
    "# plot the transformed mesh points \n",
    "# plt.plot(krig_mesh.transformed_mesh_df.x_mesh, \n",
    "#          krig_mesh.transformed_mesh_df.y_mesh, 'r*', markersize=1.25)\n",
    "# plt.show()"
   ]
  },
  {
   "cell_type": "markdown",
   "id": "09e17c81",
   "metadata": {},
   "source": [
    "# Compute biomass density Semi-Variogram and fit a model\n",
    "\n",
    "* Compute the normalized semi-variogram using the normalized biomass density\n",
    "* Fit a model to the semi-variogram values"
   ]
  },
  {
   "cell_type": "markdown",
   "id": "44b1346d",
   "metadata": {},
   "source": [
    "## Compute the semi-variogram"
   ]
  },
  {
   "cell_type": "markdown",
   "id": "4340fbab",
   "metadata": {},
   "source": [
    "### Initialize semi-variogram calculation\n",
    "* Transformed transect points\n",
    "* Parameters specific to semi-variogram algorithm"
   ]
  },
  {
   "cell_type": "code",
   "execution_count": null,
   "id": "39f0ac8c",
   "metadata": {},
   "outputs": [],
   "source": [
    "semi_vario = survey_2019.get_semi_variogram(\n",
    "    krig_mesh,\n",
    "    params=dict(nlag=30, lag_res=0.002),\n",
    ")"
   ]
  },
  {
   "cell_type": "markdown",
   "id": "f4fb890b",
   "metadata": {},
   "source": [
    "### Compute the normalized semi-variogram"
   ]
  },
  {
   "cell_type": "code",
   "execution_count": null,
   "id": "e6f9146f",
   "metadata": {},
   "outputs": [],
   "source": [
    "%%time\n",
    "semi_vario.calculate_semi_variogram()"
   ]
  },
  {
   "cell_type": "markdown",
   "id": "0024c1f6",
   "metadata": {},
   "source": [
    "## Fit a model to the semi-variogram\n",
    "\n",
    "* A widget to easily fit the model"
   ]
  },
  {
   "cell_type": "code",
   "execution_count": null,
   "id": "475b4f4c",
   "metadata": {},
   "outputs": [],
   "source": [
    "semi_vario.get_widget()"
   ]
  },
  {
   "cell_type": "markdown",
   "id": "31f02e21",
   "metadata": {},
   "source": [
    "# Perform Ordinary Kriging of biomass density\n",
    "\n",
    "* transformed mesh points\n",
    "* semi-variogram model\n",
    "* normalized biomass density "
   ]
  },
  {
   "cell_type": "markdown",
   "id": "1b5ed3cf",
   "metadata": {},
   "source": [
    "## Initialize Kriging routine"
   ]
  },
  {
   "cell_type": "code",
   "execution_count": null,
   "id": "9a973aaf-cf95-476e-85c1-944603bd8635",
   "metadata": {},
   "outputs": [],
   "source": [
    "kriging_params = dict(\n",
    "    # kriging parameters\n",
    "    k_max=10,\n",
    "    k_min=3,\n",
    "    R=0.0226287,\n",
    "    ratio=0.001,\n",
    "    \n",
    "    # parameters for semi-variogram model\n",
    "    s_v_params={'nugget': 0.0, 'sill': 0.95279, 'ls': 0.0075429,\n",
    "                'exp_pow': 1.5, 'ls_hole_eff': 0.0},\n",
    "    \n",
    "    # grab appropriate semi-variogram model\n",
    "    s_v_model=SV.generalized_exp_bessel\n",
    ")\n",
    "\n",
    "# uncomment to use widget values \n",
    "# kriging_params.update(semi_vario.get_params_for_kriging())\n",
    "\n",
    "# initalize kriging routine\n",
    "krig = survey_2019.get_kriging(kriging_params)"
   ]
  },
  {
   "cell_type": "markdown",
   "id": "3afe14d3",
   "metadata": {},
   "source": [
    "## Perform Kriging\n",
    "* Also generates total biomass at mesh points"
   ]
  },
  {
   "cell_type": "code",
   "execution_count": null,
   "id": "105b5d2f",
   "metadata": {},
   "outputs": [],
   "source": [
    "%%time\n",
    "krig.run_biomass_kriging(krig_mesh)"
   ]
  },
  {
   "cell_type": "code",
   "execution_count": null,
   "id": "ae97a73c-81b4-4615-babd-b32eb098ee33",
   "metadata": {},
   "outputs": [],
   "source": [
    "print(f\"Total Kriged Biomass Estimate: {1e-6*survey_2019.krig_results_gdf.krig_biomass_vals.sum():.3f} kmt\")"
   ]
  },
  {
   "cell_type": "markdown",
   "id": "bce6391a",
   "metadata": {},
   "source": [
    "## Plot Kriged Biomass estimate in kmt"
   ]
  },
  {
   "cell_type": "code",
   "execution_count": null,
   "id": "81dfac65-baad-4487-8059-26f41ce026ac",
   "metadata": {},
   "outputs": [],
   "source": [
    "# plot all mesh points\n",
    "survey_2019.krig_results_gdf.krig_biomass_vals = 1e-6 * survey_2019.krig_results_gdf.krig_biomass_vals\n",
    "krig.plot_kriging_results(survey_2019.krig_results_gdf, krig_field_name=\"krig_biomass_vals\")"
   ]
  },
  {
   "cell_type": "code",
   "execution_count": null,
   "id": "3efb6fa5",
   "metadata": {},
   "outputs": [],
   "source": []
  }
 ],
 "metadata": {
  "kernelspec": {
   "display_name": "echopro_conda",
   "language": "python",
   "name": "echopro_conda"
  },
  "language_info": {
   "codemirror_mode": {
    "name": "ipython",
    "version": 3
   },
   "file_extension": ".py",
   "mimetype": "text/x-python",
   "name": "python",
   "nbconvert_exporter": "python",
   "pygments_lexer": "ipython3",
   "version": "3.9.12"
  },
  "toc": {
   "base_numbering": 1,
   "nav_menu": {
    "height": "332px",
    "width": "838px"
   },
   "number_sections": true,
   "sideBar": true,
   "skip_h1_title": false,
   "title_cell": "Table of Contents",
   "title_sidebar": "Contents",
   "toc_cell": false,
   "toc_position": {
    "height": "calc(100% - 180px)",
    "left": "10px",
    "top": "150px",
    "width": "217.2px"
   },
   "toc_section_display": true,
   "toc_window_display": true
  },
  "toc-autonumbering": true
 },
 "nbformat": 4,
 "nbformat_minor": 5
}
