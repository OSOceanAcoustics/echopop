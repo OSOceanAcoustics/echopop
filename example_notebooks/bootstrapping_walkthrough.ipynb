{
 "cells": [
  {
   "cell_type": "markdown",
   "id": "f0aa0cbe",
   "metadata": {},
   "source": [
    "# EchoPro Python Workflow <a class=\"tocSkip\">"
   ]
  },
  {
   "cell_type": "markdown",
   "id": "ccaef1d6",
   "metadata": {},
   "source": [
    "# Import libraries and configure the Jupyter notebook"
   ]
  },
  {
   "cell_type": "code",
   "execution_count": null,
   "id": "66ad49aa",
   "metadata": {},
   "outputs": [],
   "source": [
    "# libraries used in the Notebook\n",
    "import matplotlib.pyplot as plt\n",
    "import numpy as np\n",
    "import pandas as pd \n",
    "\n",
    "# Python version of EchoPro\n",
    "import EchoPro\n",
    "\n",
    "# Allows us to grab the SemiVariogram class so we can use its models\n",
    "from EchoPro.semivariogram import SemiVariogram as SV\n",
    "\n",
    "# Allows us to easily use matplotlib widgets in our Notebook\n",
    "%matplotlib widget\n",
    "# %matplotlib inline"
   ]
  },
  {
   "cell_type": "code",
   "execution_count": null,
   "id": "059a8a59",
   "metadata": {},
   "outputs": [],
   "source": [
    "%%time\n",
    "survey_2019 = EchoPro.Survey(init_file_path='../config_files/initialization_config.yml',\n",
    "                             survey_year_file_path='../config_files/survey_year_2019_config.yml',\n",
    "                             source=3, \n",
    "                             exclude_age1=True)"
   ]
  },
  {
   "cell_type": "code",
   "execution_count": null,
   "id": "8c0d730c",
   "metadata": {},
   "outputs": [],
   "source": [
    "%%time \n",
    "survey_2019.load_survey_data() "
   ]
  },
  {
   "cell_type": "code",
   "execution_count": null,
   "id": "e5c4dd6f",
   "metadata": {},
   "outputs": [],
   "source": [
    "# TX_selected = [4,5,11,14,17,19,20,22,34,39,47,49,53,55,61,69,79,82,85,\n",
    "#                87,89,93,95,97,100,103,105,111,123,125,131,133,135,137,\n",
    "#                140,13,18,31,50,73,74,77,80,38,66]"
   ]
  },
  {
   "cell_type": "markdown",
   "id": "75ecf293",
   "metadata": {},
   "source": [
    "## Compute the normalized biomass density\n"
   ]
  },
  {
   "cell_type": "markdown",
   "id": "394d4614",
   "metadata": {},
   "source": [
    "When `selected_transects` argument is added, we need to select a subset of the data. We do this as follows: \n",
    "1. Use the `gear_df` (the gear file) to create a mapping between transects and hauls.\n",
    "   - The gear file is used because it creates a 1:many mapping between transects and hauls and it includes the most amount of relations between transects and hauls (in comparison to other files)\n",
    "   \n",
    "2. Using the mapping in item 1, obtain a subset of the mapping using `selected_transects`\n",
    "   - This step will allow us to get only the hauls that are contained within the `selected_transects`\n",
    "   \n",
    "3. Select the subset of `length_df`, `specimen_df`, and `strata_df` using the subset of hauls found in item 2. \n",
    "   - Note: `strata_df` has the multi-index of `Haul, stratum` and because we are obtaining the subset of data based on hauls, this means that some `stratum` values can be removed completely.\n",
    "   \n",
    "4. Select a subset of `nasc_df` using `selected_transects`, since it has the transects as a column of the data\n",
    "\n",
    "\n",
    "To compute the biomass density estimate, we need to first compute the backscattering cross-section (`sigma_b`). The calculation of `sigma_b` is done by computing the mean differential backscattering cross-section for each haul and this is based on `length_df` and `specimen_df`. Once this is done, the `sigma_b` value for each KS stratum is computed by taking the mean of all hauls within the KS stratum, where the relation between haul and KS stratum is determined by `strata_df`.  \n",
    "\n",
    "Once `sigma_b` for each stratum is computed, we can calculate the nautical areal density. This calculation is done as follows:\n",
    "1. Compute `mix_sa_ratio`, which is the weight of a particular haul determined by `strata_df` and the `haul` value is determined by a column in `nasc_df`\n",
    "2. Multiply `mix_sa_ratio` by `nasc_df.NASC` (where NASC is the NASC value at the corresponding `haul` in `mix_sa_ratio`)\n",
    "3. Divide the values in item 2 by the `sigma_b` value at the corresponding `stratum` determined by `nasc_df`\n",
    "\n",
    "It is in item 3 here where the above way of obtaining the subsets of data causes an issue that needs to be resolved. The subset of `nasc_df` values can contain `stratum` that we cannot calculate a `sigma_b` for. Chu's approach to the above problem is to create artificial `sigma_b` values for those strata that do not have a `sigma_b` value. For example, in most scenarios he seems to create the artificial `sigma_b` values by choosing the closest stratum (with respect to the stratum number) to the missing stratum that has the most amount of data in it. \n",
    "\n",
    "\n",
    "One remedy to this problem that we tried was to obtain the subset of `nasc_df` values based on those haul values that are in the created subset of `strata_df`. However, the issue with this based off of the 2019 data is that the subset of `nasc_df` can contain several transects that are not in `selected_transects`. This scenario made us believe that the haul values in `nasc_df` do not correctly correspond to the transects or vice versa. This is worrisome as these mappings are crucial in the biomass density calculation. "
   ]
  },
  {
   "cell_type": "code",
   "execution_count": null,
   "id": "86f1b566",
   "metadata": {},
   "outputs": [],
   "source": [
    "krig_mesh = survey_2019.get_kriging_mesh()"
   ]
  },
  {
   "cell_type": "code",
   "execution_count": null,
   "id": "bb004658",
   "metadata": {},
   "outputs": [],
   "source": [
    "boot_obj = survey_2019.get_bootstrapping()"
   ]
  },
  {
   "cell_type": "code",
   "execution_count": null,
   "id": "cd6004a7",
   "metadata": {},
   "outputs": [],
   "source": []
  },
  {
   "cell_type": "code",
   "execution_count": null,
   "id": "9e0e31a9",
   "metadata": {},
   "outputs": [],
   "source": [
    "boostrap_kriging_params = dict(\n",
    "    # kriging parameters\n",
    "    k_max=10,\n",
    "    k_min=3,\n",
    "    R=0.0226287,\n",
    "    ratio=0.001,\n",
    "    \n",
    "    # parameters for semi-variogram model\n",
    "    s_v_params={'nugget': 0.0, 'sill': 0.95279, 'ls': 0.0075429,\n",
    "                'exp_pow': 1.5, 'ls_hole_eff': 0.0},\n",
    "    \n",
    "    # grab appropriate semi-variogram model\n",
    "    s_v_model=SV.generalized_exp_bessel,\n",
    "    \n",
    "    # set Kriging mesh\n",
    "    krig_mesh=krig_mesh \n",
    ")"
   ]
  },
  {
   "cell_type": "code",
   "execution_count": null,
   "id": "62e50efd",
   "metadata": {},
   "outputs": [],
   "source": [
    "%%time\n",
    "boot_results = boot_obj.run_bootstrapping(run_kriging=True,\n",
    "                           kriging_params=boostrap_kriging_params,\n",
    "                           removal_percentage=50.0,\n",
    "                           num_iterations=5,\n",
    "                           seed=None)"
   ]
  },
  {
   "cell_type": "code",
   "execution_count": null,
   "id": "2c8ea1db",
   "metadata": {},
   "outputs": [],
   "source": [
    "boot_results"
   ]
  }
 ],
 "metadata": {
  "kernelspec": {
   "display_name": "echopro_conda",
   "language": "python",
   "name": "echopro_conda"
  },
  "language_info": {
   "codemirror_mode": {
    "name": "ipython",
    "version": 3
   },
   "file_extension": ".py",
   "mimetype": "text/x-python",
   "name": "python",
   "nbconvert_exporter": "python",
   "pygments_lexer": "ipython3",
   "version": "3.9.12"
  },
  "toc": {
   "base_numbering": 1,
   "nav_menu": {
    "height": "332px",
    "width": "838px"
   },
   "number_sections": true,
   "sideBar": true,
   "skip_h1_title": false,
   "title_cell": "Table of Contents",
   "title_sidebar": "Contents",
   "toc_cell": false,
   "toc_position": {
    "height": "calc(100% - 180px)",
    "left": "10px",
    "top": "150px",
    "width": "217.2px"
   },
   "toc_section_display": true,
   "toc_window_display": true
  },
  "toc-autonumbering": true
 },
 "nbformat": 4,
 "nbformat_minor": 5
}
