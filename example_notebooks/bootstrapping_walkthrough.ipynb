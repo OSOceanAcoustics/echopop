{
 "cells": [
  {
   "cell_type": "markdown",
   "id": "f0aa0cbe",
   "metadata": {},
   "source": [
    "# EchoPro Bootstrapping Workflow <a class=\"tocSkip\">"
   ]
  },
  {
   "cell_type": "markdown",
   "id": "ccaef1d6",
   "metadata": {},
   "source": [
    "# Import libraries and configure the Jupyter notebook"
   ]
  },
  {
   "cell_type": "code",
   "execution_count": null,
   "id": "66ad49aa",
   "metadata": {},
   "outputs": [],
   "source": [
    "# libraries used in the Notebook\n",
    "import matplotlib.pyplot as plt\n",
    "import numpy as np\n",
    "import pandas as pd \n",
    "\n",
    "# Python version of EchoPro\n",
    "import EchoPro\n",
    "\n",
    "# Allows us to grab the SemiVariogram class so we can use its models\n",
    "from EchoPro.computation import SemiVariogram as SV\n",
    "\n",
    "# Allows us to easily use matplotlib widgets in our Notebook\n",
    "%matplotlib widget\n",
    "# %matplotlib inline"
   ]
  },
  {
   "cell_type": "code",
   "execution_count": null,
   "id": "059a8a59",
   "metadata": {},
   "outputs": [],
   "source": [
    "%%time\n",
    "survey_2019 = EchoPro.Survey(init_file_path='../config_files/initialization_config.yml',\n",
    "                             survey_year_file_path='../config_files/survey_year_2019_config.yml',\n",
    "                             source=3, \n",
    "                             exclude_age1=True)"
   ]
  },
  {
   "cell_type": "code",
   "execution_count": null,
   "id": "8c0d730c",
   "metadata": {},
   "outputs": [],
   "source": [
    "%%time \n",
    "survey_2019.load_survey_data() "
   ]
  },
  {
   "cell_type": "markdown",
   "id": "4a4a8b75",
   "metadata": {},
   "source": [
    "# Get bootstrapping object\n",
    "- Obtain a bootstrapping object tied to a specific survey year"
   ]
  },
  {
   "cell_type": "code",
   "execution_count": null,
   "id": "59bb2978",
   "metadata": {},
   "outputs": [],
   "source": [
    "boot_obj = survey_2019.get_bootstrapping()"
   ]
  },
  {
   "cell_type": "markdown",
   "id": "95a032cd",
   "metadata": {},
   "source": [
    "# Run bootstrapping without Kriging\n",
    "In EchoPro we can perform bootstrapping on a reduced number of transects and obtain the areal biomass density for each iteration of bootstrapping as well as the associated mean Jolly-Hampton CV value. "
   ]
  },
  {
   "cell_type": "code",
   "execution_count": null,
   "id": "db75cb6a",
   "metadata": {},
   "outputs": [],
   "source": [
    "%%time\n",
    "boot_results_no_krig = boot_obj.run_bootstrapping(run_kriging=False,\n",
    "                                                  removal_percentage=50.0,\n",
    "                                                  num_iterations=5,\n",
    "                                                  seed=1234)"
   ]
  },
  {
   "cell_type": "code",
   "execution_count": null,
   "id": "56ffbe04",
   "metadata": {},
   "outputs": [],
   "source": [
    "boot_results_no_krig"
   ]
  },
  {
   "cell_type": "code",
   "execution_count": null,
   "id": "9ab18c8b",
   "metadata": {},
   "outputs": [],
   "source": [
    "print(f\"Mean total biomass without Kriging: {1e-6*boot_results_no_krig['tot_biomass_no_kriging'].mean()} kmt\")"
   ]
  },
  {
   "cell_type": "markdown",
   "id": "83df8971",
   "metadata": {},
   "source": [
    "# Run bootstrapping with Kriging\n",
    "Now, we demonstrate how to run bootstrapping with Kriging "
   ]
  },
  {
   "cell_type": "markdown",
   "id": "75ecf293",
   "metadata": {},
   "source": [
    "## Initialize Kriging Mesh\n",
    "Before we run bootstrapping we need to establish what Kriging mesh we will be using. Note: In bootstrapping the transformation of all meshes will be done automatically.   "
   ]
  },
  {
   "cell_type": "code",
   "execution_count": null,
   "id": "020bed87",
   "metadata": {},
   "outputs": [],
   "source": [
    "krig_mesh = survey_2019.get_kriging_mesh()"
   ]
  },
  {
   "cell_type": "markdown",
   "id": "5d5456a0",
   "metadata": {},
   "source": [
    "## Set appropriate bootstrap Kriging parameters and run boostrapping "
   ]
  },
  {
   "cell_type": "code",
   "execution_count": null,
   "id": "cb914d68",
   "metadata": {},
   "outputs": [],
   "source": [
    "bootstrap_kriging_params = dict(\n",
    "    # kriging parameters\n",
    "    k_max=10,\n",
    "    k_min=3,\n",
    "    R=0.0226287,\n",
    "    ratio=0.001,\n",
    "    \n",
    "    # parameters for semi-variogram model\n",
    "    s_v_params={'nugget': 0.0, 'sill': 0.95279, 'ls': 0.0075429,\n",
    "                'exp_pow': 1.5, 'ls_hole_eff': 0.0},\n",
    "    \n",
    "    # grab appropriate semi-variogram model\n",
    "    s_v_model=SV.generalized_exp_bessel,\n",
    "    \n",
    "    # set Kriging mesh\n",
    "    krig_mesh=krig_mesh \n",
    ")"
   ]
  },
  {
   "cell_type": "code",
   "execution_count": null,
   "id": "0af95f56",
   "metadata": {},
   "outputs": [],
   "source": [
    "%%time\n",
    "boot_results_krig = boot_obj.run_bootstrapping(run_kriging=True,\n",
    "                                               kriging_params=bootstrap_kriging_params,\n",
    "                                               removal_percentage=50.0,\n",
    "                                               num_iterations=5,\n",
    "                                               seed=1234)"
   ]
  },
  {
   "cell_type": "code",
   "execution_count": null,
   "id": "349e4485",
   "metadata": {},
   "outputs": [],
   "source": [
    "boot_results_krig"
   ]
  },
  {
   "cell_type": "code",
   "execution_count": null,
   "id": "85da1c32",
   "metadata": {},
   "outputs": [],
   "source": [
    "print(f\"Mean total biomass with Kriging: {1e-6*boot_results_krig['tot_biomass_kriging'].mean()} kmt\")"
   ]
  }
 ],
 "metadata": {
  "kernelspec": {
   "display_name": "echopro_conda",
   "language": "python",
   "name": "echopro_conda"
  },
  "language_info": {
   "codemirror_mode": {
    "name": "ipython",
    "version": 3
   },
   "file_extension": ".py",
   "mimetype": "text/x-python",
   "name": "python",
   "nbconvert_exporter": "python",
   "pygments_lexer": "ipython3",
   "version": "3.9.12"
  },
  "toc": {
   "base_numbering": 1,
   "nav_menu": {
    "height": "332px",
    "width": "838px"
   },
   "number_sections": true,
   "sideBar": true,
   "skip_h1_title": false,
   "title_cell": "Table of Contents",
   "title_sidebar": "Contents",
   "toc_cell": false,
   "toc_position": {
    "height": "calc(100% - 180px)",
    "left": "10px",
    "top": "150px",
    "width": "217.2px"
   },
   "toc_section_display": true,
   "toc_window_display": true
  },
  "toc-autonumbering": true
 },
 "nbformat": 4,
 "nbformat_minor": 5
}
