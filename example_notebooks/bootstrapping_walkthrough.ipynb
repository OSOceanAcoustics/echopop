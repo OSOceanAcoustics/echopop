{
 "cells": [
  {
   "cell_type": "markdown",
   "id": "f0aa0cbe",
   "metadata": {},
   "source": [
    "# EchoPro Python Workflow <a class=\"tocSkip\">"
   ]
  },
  {
   "cell_type": "markdown",
   "id": "ccaef1d6",
   "metadata": {},
   "source": [
    "# Import libraries and configure the Jupyter notebook"
   ]
  },
  {
   "cell_type": "code",
   "execution_count": 1,
   "id": "66ad49aa",
   "metadata": {},
   "outputs": [],
   "source": [
    "# libraries used in the Notebook\n",
    "import matplotlib.pyplot as plt\n",
    "import numpy as np\n",
    "import pandas as pd \n",
    "\n",
    "# Python version of EchoPro\n",
    "import EchoPro\n",
    "\n",
    "# Allows us to grab the SemiVariogram class so we can use its models\n",
    "from EchoPro.semivariogram import SemiVariogram as SV\n",
    "\n",
    "# Allows us to easily use matplotlib widgets in our Notebook\n",
    "%matplotlib widget\n",
    "# %matplotlib inline"
   ]
  },
  {
   "cell_type": "code",
   "execution_count": 2,
   "id": "059a8a59",
   "metadata": {},
   "outputs": [
    {
     "name": "stdout",
     "output_type": "stream",
     "text": [
      "A check of the initialization file needs to be done!\n",
      "A check of the survey year file needs to be done!\n",
      "CPU times: user 10.8 ms, sys: 1.74 ms, total: 12.5 ms\n",
      "Wall time: 11.3 ms\n"
     ]
    }
   ],
   "source": [
    "%%time\n",
    "survey_2019 = EchoPro.Survey(init_file_path='../config_files/initialization_config.yml',\n",
    "                             survey_year_file_path='../config_files/survey_year_2019_config.yml',\n",
    "                             source=3, \n",
    "                             exclude_age1=True)"
   ]
  },
  {
   "cell_type": "code",
   "execution_count": 3,
   "id": "8c0d730c",
   "metadata": {},
   "outputs": [
    {
     "name": "stdout",
     "output_type": "stream",
     "text": [
      "CPU times: user 1.8 s, sys: 28.1 ms, total: 1.83 s\n",
      "Wall time: 1.85 s\n"
     ]
    }
   ],
   "source": [
    "%%time \n",
    "survey_2019.load_survey_data() "
   ]
  },
  {
   "cell_type": "code",
   "execution_count": 4,
   "id": "e5c4dd6f",
   "metadata": {},
   "outputs": [],
   "source": [
    "TX_selected = [4,5,11,14,17,19,20,22,34,39,47,49,53,55,61,69,79,82,85,\n",
    "               87,89,93,95,97,100,103,105,111,123,125,131,133,135,137,\n",
    "               140,13,18,31,50,73,74,77,80,38,66]"
   ]
  },
  {
   "cell_type": "code",
   "execution_count": 33,
   "id": "f1f97092",
   "metadata": {},
   "outputs": [
    {
     "data": {
      "text/plain": [
       "100"
      ]
     },
     "execution_count": 33,
     "metadata": {},
     "output_type": "execute_result"
    }
   ],
   "source": [
    "len(survey_2019.gear_df.index.unique())"
   ]
  },
  {
   "cell_type": "code",
   "execution_count": null,
   "id": "ecf67838",
   "metadata": {},
   "outputs": [],
   "source": []
  },
  {
   "cell_type": "code",
   "execution_count": null,
   "id": "12274ac9",
   "metadata": {},
   "outputs": [],
   "source": []
  },
  {
   "cell_type": "code",
   "execution_count": 46,
   "id": "b7e02861",
   "metadata": {},
   "outputs": [],
   "source": [
    "# calculate stratum based off of Latitdue column in nasc_df\n",
    "lat_inpfc = (np.NINF, 36, 40.5, 43.000, 45.7667, 48.5, 55.0000)\n",
    "nasc_calc_stratum = pd.cut(survey_2019.nasc_df[\"Latitude\"],\n",
    "                           lat_inpfc,\n",
    "                           labels=range(len(lat_inpfc) - 1),\n",
    "                           right=False)"
   ]
  },
  {
   "cell_type": "code",
   "execution_count": 64,
   "id": "b1a23804",
   "metadata": {},
   "outputs": [
    {
     "data": {
      "text/plain": [
       "array([False, False, False, ..., False, False, False])"
      ]
     },
     "execution_count": 64,
     "metadata": {},
     "output_type": "execute_result"
    }
   ],
   "source": [
    "are_they_equal = nasc_calc_stratum.values.to_numpy() == survey_2019.nasc_df[\"Stratum\"].values\n",
    "are_they_equal"
   ]
  },
  {
   "cell_type": "code",
   "execution_count": 67,
   "id": "57001c16",
   "metadata": {},
   "outputs": [
    {
     "data": {
      "text/plain": [
       "1253"
      ]
     },
     "execution_count": 67,
     "metadata": {},
     "output_type": "execute_result"
    }
   ],
   "source": [
    "num_equal = np.count_nonzero(are_they_equal)\n",
    "num_equal"
   ]
  },
  {
   "cell_type": "code",
   "execution_count": 70,
   "id": "94e047b0",
   "metadata": {},
   "outputs": [
    {
     "data": {
      "text/plain": [
       "8025"
      ]
     },
     "execution_count": 70,
     "metadata": {},
     "output_type": "execute_result"
    }
   ],
   "source": [
    "num_not_equal = are_they_equal.size - num_equal\n",
    "num_not_equal"
   ]
  },
  {
   "cell_type": "code",
   "execution_count": 78,
   "id": "db4effd1",
   "metadata": {},
   "outputs": [
    {
     "name": "stdout",
     "output_type": "stream",
     "text": [
      "Percent that do not equal algorithmic way = 86.49493425307179 %\n"
     ]
    }
   ],
   "source": [
    "print(f\"Percent that do not equal algorithmic way = {(num_not_equal/are_they_equal.size)*100} %\")"
   ]
  },
  {
   "cell_type": "code",
   "execution_count": null,
   "id": "3cb5dba5",
   "metadata": {},
   "outputs": [],
   "source": []
  },
  {
   "cell_type": "code",
   "execution_count": null,
   "id": "2c7027ab",
   "metadata": {},
   "outputs": [],
   "source": []
  },
  {
   "cell_type": "code",
   "execution_count": null,
   "id": "dc7e62f0",
   "metadata": {},
   "outputs": [],
   "source": []
  },
  {
   "cell_type": "code",
   "execution_count": null,
   "id": "00a2e02f",
   "metadata": {},
   "outputs": [],
   "source": []
  },
  {
   "cell_type": "markdown",
   "id": "75ecf293",
   "metadata": {},
   "source": [
    "## Compute the normalized biomass density\n",
    "* The biomass density is stored in `survey_2019`"
   ]
  },
  {
   "cell_type": "code",
   "execution_count": 5,
   "id": "1a648765",
   "metadata": {},
   "outputs": [
    {
     "name": "stdout",
     "output_type": "stream",
     "text": [
      "CPU times: user 133 ms, sys: 6.14 ms, total: 139 ms\n",
      "Wall time: 145 ms\n"
     ]
    }
   ],
   "source": [
    "%%time\n",
    "survey_2019.compute_biomass_density(selected_transects=TX_selected)"
   ]
  },
  {
   "cell_type": "code",
   "execution_count": 6,
   "id": "33d094a7",
   "metadata": {},
   "outputs": [
    {
     "data": {
      "text/html": [
       "<div>\n",
       "<style scoped>\n",
       "    .dataframe tbody tr th:only-of-type {\n",
       "        vertical-align: middle;\n",
       "    }\n",
       "\n",
       "    .dataframe tbody tr th {\n",
       "        vertical-align: top;\n",
       "    }\n",
       "\n",
       "    .dataframe thead th {\n",
       "        text-align: right;\n",
       "    }\n",
       "</style>\n",
       "<table border=\"1\" class=\"dataframe\">\n",
       "  <thead>\n",
       "    <tr style=\"text-align: right;\">\n",
       "      <th></th>\n",
       "      <th>Latitude</th>\n",
       "      <th>Longitude</th>\n",
       "      <th>Stratum</th>\n",
       "      <th>Spacing</th>\n",
       "      <th>normalized_biomass_density</th>\n",
       "      <th>geometry</th>\n",
       "    </tr>\n",
       "    <tr>\n",
       "      <th>Transect</th>\n",
       "      <th></th>\n",
       "      <th></th>\n",
       "      <th></th>\n",
       "      <th></th>\n",
       "      <th></th>\n",
       "      <th></th>\n",
       "    </tr>\n",
       "  </thead>\n",
       "  <tbody>\n",
       "    <tr>\n",
       "      <th>13</th>\n",
       "      <td>36.397522</td>\n",
       "      <td>-122.363901</td>\n",
       "      <td>4</td>\n",
       "      <td>9.982472</td>\n",
       "      <td>6825.042890</td>\n",
       "      <td>POINT (-122.36390 36.39752)</td>\n",
       "    </tr>\n",
       "    <tr>\n",
       "      <th>13</th>\n",
       "      <td>36.397543</td>\n",
       "      <td>-122.353500</td>\n",
       "      <td>4</td>\n",
       "      <td>9.982472</td>\n",
       "      <td>35925.942494</td>\n",
       "      <td>POINT (-122.35350 36.39754)</td>\n",
       "    </tr>\n",
       "    <tr>\n",
       "      <th>13</th>\n",
       "      <td>36.397519</td>\n",
       "      <td>-122.343364</td>\n",
       "      <td>4</td>\n",
       "      <td>9.982472</td>\n",
       "      <td>38194.892945</td>\n",
       "      <td>POINT (-122.34336 36.39752)</td>\n",
       "    </tr>\n",
       "    <tr>\n",
       "      <th>13</th>\n",
       "      <td>36.397537</td>\n",
       "      <td>-122.332960</td>\n",
       "      <td>4</td>\n",
       "      <td>9.982472</td>\n",
       "      <td>48387.470681</td>\n",
       "      <td>POINT (-122.33296 36.39754)</td>\n",
       "    </tr>\n",
       "    <tr>\n",
       "      <th>13</th>\n",
       "      <td>36.397492</td>\n",
       "      <td>-122.322726</td>\n",
       "      <td>4</td>\n",
       "      <td>9.982472</td>\n",
       "      <td>94905.891709</td>\n",
       "      <td>POINT (-122.32273 36.39749)</td>\n",
       "    </tr>\n",
       "  </tbody>\n",
       "</table>\n",
       "</div>"
      ],
      "text/plain": [
       "           Latitude   Longitude  Stratum   Spacing  \\\n",
       "Transect                                             \n",
       "13        36.397522 -122.363901        4  9.982472   \n",
       "13        36.397543 -122.353500        4  9.982472   \n",
       "13        36.397519 -122.343364        4  9.982472   \n",
       "13        36.397537 -122.332960        4  9.982472   \n",
       "13        36.397492 -122.322726        4  9.982472   \n",
       "\n",
       "          normalized_biomass_density                     geometry  \n",
       "Transect                                                           \n",
       "13                       6825.042890  POINT (-122.36390 36.39752)  \n",
       "13                      35925.942494  POINT (-122.35350 36.39754)  \n",
       "13                      38194.892945  POINT (-122.34336 36.39752)  \n",
       "13                      48387.470681  POINT (-122.33296 36.39754)  \n",
       "13                      94905.891709  POINT (-122.32273 36.39749)  "
      ]
     },
     "execution_count": 6,
     "metadata": {},
     "output_type": "execute_result"
    }
   ],
   "source": [
    "survey_2019.bio_calc.final_biomass_table.head()"
   ]
  },
  {
   "cell_type": "code",
   "execution_count": 12,
   "id": "f82724ee",
   "metadata": {},
   "outputs": [
    {
     "data": {
      "text/plain": [
       "Transect\n",
       "13     4.000000\n",
       "14     4.000000\n",
       "15     4.000000\n",
       "17     4.000000\n",
       "18     4.000000\n",
       "19     4.000000\n",
       "20     4.000000\n",
       "21     4.250000\n",
       "22     5.000000\n",
       "31     5.250000\n",
       "38     5.000000\n",
       "39     5.000000\n",
       "47     5.000000\n",
       "49     5.000000\n",
       "50     5.000000\n",
       "51     5.000000\n",
       "53     5.000000\n",
       "54     5.000000\n",
       "55     5.000000\n",
       "62     5.000000\n",
       "63     5.000000\n",
       "65     5.000000\n",
       "66     5.000000\n",
       "67     5.000000\n",
       "69     5.000000\n",
       "70     5.000000\n",
       "71     5.000000\n",
       "73     5.000000\n",
       "76     5.000000\n",
       "78     5.000000\n",
       "79     5.000000\n",
       "80     5.000000\n",
       "81     5.000000\n",
       "83     7.000000\n",
       "85     7.000000\n",
       "86     7.000000\n",
       "87     7.390244\n",
       "89     7.000000\n",
       "90     7.000000\n",
       "91     7.000000\n",
       "92     7.000000\n",
       "94     7.000000\n",
       "95     7.000000\n",
       "97     7.000000\n",
       "98     7.000000\n",
       "99     7.000000\n",
       "100    7.000000\n",
       "Name: Stratum, dtype: float64"
      ]
     },
     "execution_count": 12,
     "metadata": {},
     "output_type": "execute_result"
    }
   ],
   "source": [
    "survey_2019.bio_calc.final_biomass_table[\"Stratum\"].groupby(level=0).mean()"
   ]
  },
  {
   "cell_type": "code",
   "execution_count": 10,
   "id": "256b5440",
   "metadata": {},
   "outputs": [
    {
     "data": {
      "text/plain": [
       "Int64Index([ 13,  14,  15,  17,  18,  19,  21,  20,  22,  31,  38,  39,  47,\n",
       "             49,  50,  51,  53,  54,  55,  62,  63,  65,  66,  67,  69,  70,\n",
       "             71,  73,  76,  78,  79,  80,  81,  83,  85,  86,  87,  89,  91,\n",
       "             92,  90,  94,  95,  97,  98,  99, 100],\n",
       "           dtype='int64', name='Transect')"
      ]
     },
     "execution_count": 10,
     "metadata": {},
     "output_type": "execute_result"
    }
   ],
   "source": [
    "survey_2019.bio_calc.final_biomass_table.index.unique()"
   ]
  },
  {
   "cell_type": "code",
   "execution_count": 8,
   "id": "64d16a70",
   "metadata": {},
   "outputs": [
    {
     "data": {
      "text/plain": [
       "100846365.90314913"
      ]
     },
     "execution_count": 8,
     "metadata": {},
     "output_type": "execute_result"
    }
   ],
   "source": [
    "survey_2019.bio_calc.final_biomass_table[\"normalized_biomass_density\"].sum()\n",
    "# normal 298438694.4207147"
   ]
  },
  {
   "cell_type": "markdown",
   "id": "013e62b5",
   "metadata": {},
   "source": [
    "# Jolly-Hampton CV Analysis\n",
    "\n",
    "* Compute the mean of the Jolly-Hampton CV value on data that has not been Kriged\n",
    "* Note: the algorithm used to compute this value is random in nature"
   ]
  },
  {
   "cell_type": "code",
   "execution_count": 9,
   "id": "a7bb465e",
   "metadata": {},
   "outputs": [
    {
     "ename": "ValueError",
     "evalue": "Grouper and axis must be same length",
     "output_type": "error",
     "traceback": [
      "\u001b[0;31m---------------------------------------------------------------------------\u001b[0m",
      "\u001b[0;31mValueError\u001b[0m                                Traceback (most recent call last)",
      "File \u001b[0;32m<timed exec>:1\u001b[0m, in \u001b[0;36m<module>\u001b[0;34m\u001b[0m\n",
      "File \u001b[0;32m~/UW_work/EchoPro_work/EchoPro/EchoPro/survey/survey.py:292\u001b[0m, in \u001b[0;36mSurvey.run_cv_analysis\u001b[0;34m(self, lat_inpfc, kriged_data, seed)\u001b[0m\n\u001b[1;32m    289\u001b[0m     \u001b[38;5;28;01mif\u001b[39;00m \u001b[38;5;28mself\u001b[39m\u001b[38;5;241m.\u001b[39mbio_calc\u001b[38;5;241m.\u001b[39mfinal_biomass_table \u001b[38;5;129;01mis\u001b[39;00m \u001b[38;5;28;01mNone\u001b[39;00m:\n\u001b[1;32m    290\u001b[0m         \u001b[38;5;28;01mraise\u001b[39;00m \u001b[38;5;167;01mRuntimeError\u001b[39;00m(\u001b[38;5;124m\"\u001b[39m\u001b[38;5;124mThe biomass density must be calculated before performing CV anlysis on data!\u001b[39m\u001b[38;5;124m\"\u001b[39m)\n\u001b[0;32m--> 292\u001b[0m \u001b[38;5;28;01mreturn\u001b[39;00m \u001b[43mcv_analysis\u001b[49m\u001b[38;5;241;43m.\u001b[39;49m\u001b[43mrun_jolly_hampton\u001b[49m\u001b[43m(\u001b[49m\u001b[38;5;28;43mself\u001b[39;49m\u001b[43m,\u001b[49m\u001b[43m \u001b[49m\u001b[43mnr\u001b[49m\u001b[43m,\u001b[49m\u001b[43m \u001b[49m\u001b[43mlat_inpfc\u001b[49m\u001b[43m,\u001b[49m\u001b[43m \u001b[49m\u001b[43mseed\u001b[49m\u001b[43m,\u001b[49m\u001b[43m \u001b[49m\u001b[43mkriged_data\u001b[49m\u001b[43m)\u001b[49m\n",
      "File \u001b[0;32m~/UW_work/EchoPro_work/EchoPro/EchoPro/cv_analysis/cv_analysis.py:196\u001b[0m, in \u001b[0;36mrun_jolly_hampton\u001b[0;34m(survey, nr, lat_inpfc, seed, kriged_data)\u001b[0m\n\u001b[1;32m    193\u001b[0m     transect_info, strata_info \u001b[38;5;241m=\u001b[39m get_transect_strata_info_kriged(lat_inpfc,\n\u001b[1;32m    194\u001b[0m                                                                  survey\u001b[38;5;241m.\u001b[39mbio_calc\u001b[38;5;241m.\u001b[39mkrig_results_gdf)\n\u001b[1;32m    195\u001b[0m \u001b[38;5;28;01melse\u001b[39;00m:\n\u001b[0;32m--> 196\u001b[0m     transect_info, strata_info \u001b[38;5;241m=\u001b[39m \u001b[43mget_transect_strata_info_no_kriging\u001b[49m\u001b[43m(\u001b[49m\u001b[43mlat_inpfc\u001b[49m\u001b[43m,\u001b[49m\n\u001b[1;32m    197\u001b[0m \u001b[43m                                                                     \u001b[49m\u001b[43msurvey\u001b[49m\u001b[38;5;241;43m.\u001b[39;49m\u001b[43mbio_calc\u001b[49m\u001b[38;5;241;43m.\u001b[39;49m\u001b[43mfinal_biomass_table\u001b[49m\u001b[43m)\u001b[49m\n\u001b[1;32m    199\u001b[0m \u001b[38;5;66;03m# get numpy form of dataframe values, so we can use Numba\u001b[39;00m\n\u001b[1;32m    200\u001b[0m transect_distances \u001b[38;5;241m=\u001b[39m transect_info[\u001b[38;5;124m'\u001b[39m\u001b[38;5;124mdistance\u001b[39m\u001b[38;5;124m'\u001b[39m]\u001b[38;5;241m.\u001b[39mvalues\u001b[38;5;241m.\u001b[39mflatten()\n",
      "File \u001b[0;32m~/UW_work/EchoPro_work/EchoPro/EchoPro/cv_analysis/cv_analysis.py:66\u001b[0m, in \u001b[0;36mget_transect_strata_info_no_kriging\u001b[0;34m(lat_inpfc, biomass_table)\u001b[0m\n\u001b[1;32m     57\u001b[0m transect_info[\u001b[38;5;124m\"\u001b[39m\u001b[38;5;124marea\u001b[39m\u001b[38;5;124m\"\u001b[39m] \u001b[38;5;241m=\u001b[39m transect_info\u001b[38;5;241m.\u001b[39mapply(\u001b[38;5;28;01mlambda\u001b[39;00m x: x[\u001b[38;5;124m\"\u001b[39m\u001b[38;5;124mdistance\u001b[39m\u001b[38;5;124m\"\u001b[39m] \u001b[38;5;241m*\u001b[39m x[\u001b[38;5;124m\"\u001b[39m\u001b[38;5;124mmean_spacing\u001b[39m\u001b[38;5;124m\"\u001b[39m], axis\u001b[38;5;241m=\u001b[39m\u001b[38;5;241m1\u001b[39m)\n\u001b[1;32m     59\u001b[0m \u001b[38;5;66;03m# bin the mean latitude using lat_inpfc, each bin represents a stratum\u001b[39;00m\n\u001b[1;32m     60\u001b[0m \u001b[38;5;66;03m# strata_lat_stratum = pd.cut(transect_info['mean_latitude'],\u001b[39;00m\n\u001b[1;32m     61\u001b[0m \u001b[38;5;66;03m#                             lat_inpfc,\u001b[39;00m\n\u001b[0;32m   (...)\u001b[0m\n\u001b[1;32m     64\u001b[0m \n\u001b[1;32m     65\u001b[0m \u001b[38;5;66;03m# strata_info = transect_info[\"area\"].groupby(strata_lat_stratum).agg(['count', 'sum'])\u001b[39;00m\n\u001b[0;32m---> 66\u001b[0m strata_info \u001b[38;5;241m=\u001b[39m \u001b[43mtransect_info\u001b[49m\u001b[43m[\u001b[49m\u001b[38;5;124;43m\"\u001b[39;49m\u001b[38;5;124;43marea\u001b[39;49m\u001b[38;5;124;43m\"\u001b[39;49m\u001b[43m]\u001b[49m\u001b[38;5;241;43m.\u001b[39;49m\u001b[43mgroupby\u001b[49m\u001b[43m(\u001b[49m\u001b[43mbiomass_table\u001b[49m\u001b[43m[\u001b[49m\u001b[38;5;124;43m'\u001b[39;49m\u001b[38;5;124;43mStratum\u001b[39;49m\u001b[38;5;124;43m'\u001b[39;49m\u001b[43m]\u001b[49m\u001b[38;5;241;43m.\u001b[39;49m\u001b[43munique\u001b[49m\u001b[43m(\u001b[49m\u001b[43m)\u001b[49m\u001b[43m)\u001b[49m\u001b[38;5;241m.\u001b[39magg([\u001b[38;5;124m'\u001b[39m\u001b[38;5;124mcount\u001b[39m\u001b[38;5;124m'\u001b[39m, \u001b[38;5;124m'\u001b[39m\u001b[38;5;124msum\u001b[39m\u001b[38;5;124m'\u001b[39m])\n\u001b[1;32m     67\u001b[0m strata_info \u001b[38;5;241m=\u001b[39m strata_info\u001b[38;5;241m.\u001b[39mrename(columns\u001b[38;5;241m=\u001b[39m{\u001b[38;5;124m'\u001b[39m\u001b[38;5;124mcount\u001b[39m\u001b[38;5;124m'\u001b[39m: \u001b[38;5;124m'\u001b[39m\u001b[38;5;124mnum_transects\u001b[39m\u001b[38;5;124m'\u001b[39m, \u001b[38;5;124m'\u001b[39m\u001b[38;5;124msum\u001b[39m\u001b[38;5;124m'\u001b[39m: \u001b[38;5;124m'\u001b[39m\u001b[38;5;124mtotal_transect_area\u001b[39m\u001b[38;5;124m'\u001b[39m})\n\u001b[1;32m     69\u001b[0m \u001b[38;5;28;01mreturn\u001b[39;00m transect_info, strata_info\n",
      "File \u001b[0;32m~/opt/anaconda3/envs/echopro_conda/lib/python3.9/site-packages/pandas/core/series.py:1922\u001b[0m, in \u001b[0;36mSeries.groupby\u001b[0;34m(self, by, axis, level, as_index, sort, group_keys, squeeze, observed, dropna)\u001b[0m\n\u001b[1;32m   1918\u001b[0m axis \u001b[38;5;241m=\u001b[39m \u001b[38;5;28mself\u001b[39m\u001b[38;5;241m.\u001b[39m_get_axis_number(axis)\n\u001b[1;32m   1920\u001b[0m \u001b[38;5;66;03m# error: Argument \"squeeze\" to \"SeriesGroupBy\" has incompatible type\u001b[39;00m\n\u001b[1;32m   1921\u001b[0m \u001b[38;5;66;03m# \"Union[bool, NoDefault]\"; expected \"bool\"\u001b[39;00m\n\u001b[0;32m-> 1922\u001b[0m \u001b[38;5;28;01mreturn\u001b[39;00m \u001b[43mSeriesGroupBy\u001b[49m\u001b[43m(\u001b[49m\n\u001b[1;32m   1923\u001b[0m \u001b[43m    \u001b[49m\u001b[43mobj\u001b[49m\u001b[38;5;241;43m=\u001b[39;49m\u001b[38;5;28;43mself\u001b[39;49m\u001b[43m,\u001b[49m\n\u001b[1;32m   1924\u001b[0m \u001b[43m    \u001b[49m\u001b[43mkeys\u001b[49m\u001b[38;5;241;43m=\u001b[39;49m\u001b[43mby\u001b[49m\u001b[43m,\u001b[49m\n\u001b[1;32m   1925\u001b[0m \u001b[43m    \u001b[49m\u001b[43maxis\u001b[49m\u001b[38;5;241;43m=\u001b[39;49m\u001b[43maxis\u001b[49m\u001b[43m,\u001b[49m\n\u001b[1;32m   1926\u001b[0m \u001b[43m    \u001b[49m\u001b[43mlevel\u001b[49m\u001b[38;5;241;43m=\u001b[39;49m\u001b[43mlevel\u001b[49m\u001b[43m,\u001b[49m\n\u001b[1;32m   1927\u001b[0m \u001b[43m    \u001b[49m\u001b[43mas_index\u001b[49m\u001b[38;5;241;43m=\u001b[39;49m\u001b[43mas_index\u001b[49m\u001b[43m,\u001b[49m\n\u001b[1;32m   1928\u001b[0m \u001b[43m    \u001b[49m\u001b[43msort\u001b[49m\u001b[38;5;241;43m=\u001b[39;49m\u001b[43msort\u001b[49m\u001b[43m,\u001b[49m\n\u001b[1;32m   1929\u001b[0m \u001b[43m    \u001b[49m\u001b[43mgroup_keys\u001b[49m\u001b[38;5;241;43m=\u001b[39;49m\u001b[43mgroup_keys\u001b[49m\u001b[43m,\u001b[49m\n\u001b[1;32m   1930\u001b[0m \u001b[43m    \u001b[49m\u001b[43msqueeze\u001b[49m\u001b[38;5;241;43m=\u001b[39;49m\u001b[43msqueeze\u001b[49m\u001b[43m,\u001b[49m\u001b[43m  \u001b[49m\u001b[38;5;66;43;03m# type: ignore[arg-type]\u001b[39;49;00m\n\u001b[1;32m   1931\u001b[0m \u001b[43m    \u001b[49m\u001b[43mobserved\u001b[49m\u001b[38;5;241;43m=\u001b[39;49m\u001b[43mobserved\u001b[49m\u001b[43m,\u001b[49m\n\u001b[1;32m   1932\u001b[0m \u001b[43m    \u001b[49m\u001b[43mdropna\u001b[49m\u001b[38;5;241;43m=\u001b[39;49m\u001b[43mdropna\u001b[49m\u001b[43m,\u001b[49m\n\u001b[1;32m   1933\u001b[0m \u001b[43m\u001b[49m\u001b[43m)\u001b[49m\n",
      "File \u001b[0;32m~/opt/anaconda3/envs/echopro_conda/lib/python3.9/site-packages/pandas/core/groupby/groupby.py:882\u001b[0m, in \u001b[0;36mGroupBy.__init__\u001b[0;34m(self, obj, keys, axis, level, grouper, exclusions, selection, as_index, sort, group_keys, squeeze, observed, mutated, dropna)\u001b[0m\n\u001b[1;32m    879\u001b[0m \u001b[38;5;28;01mif\u001b[39;00m grouper \u001b[38;5;129;01mis\u001b[39;00m \u001b[38;5;28;01mNone\u001b[39;00m:\n\u001b[1;32m    880\u001b[0m     \u001b[38;5;28;01mfrom\u001b[39;00m \u001b[38;5;21;01mpandas\u001b[39;00m\u001b[38;5;21;01m.\u001b[39;00m\u001b[38;5;21;01mcore\u001b[39;00m\u001b[38;5;21;01m.\u001b[39;00m\u001b[38;5;21;01mgroupby\u001b[39;00m\u001b[38;5;21;01m.\u001b[39;00m\u001b[38;5;21;01mgrouper\u001b[39;00m \u001b[38;5;28;01mimport\u001b[39;00m get_grouper\n\u001b[0;32m--> 882\u001b[0m     grouper, exclusions, obj \u001b[38;5;241m=\u001b[39m \u001b[43mget_grouper\u001b[49m\u001b[43m(\u001b[49m\n\u001b[1;32m    883\u001b[0m \u001b[43m        \u001b[49m\u001b[43mobj\u001b[49m\u001b[43m,\u001b[49m\n\u001b[1;32m    884\u001b[0m \u001b[43m        \u001b[49m\u001b[43mkeys\u001b[49m\u001b[43m,\u001b[49m\n\u001b[1;32m    885\u001b[0m \u001b[43m        \u001b[49m\u001b[43maxis\u001b[49m\u001b[38;5;241;43m=\u001b[39;49m\u001b[43maxis\u001b[49m\u001b[43m,\u001b[49m\n\u001b[1;32m    886\u001b[0m \u001b[43m        \u001b[49m\u001b[43mlevel\u001b[49m\u001b[38;5;241;43m=\u001b[39;49m\u001b[43mlevel\u001b[49m\u001b[43m,\u001b[49m\n\u001b[1;32m    887\u001b[0m \u001b[43m        \u001b[49m\u001b[43msort\u001b[49m\u001b[38;5;241;43m=\u001b[39;49m\u001b[43msort\u001b[49m\u001b[43m,\u001b[49m\n\u001b[1;32m    888\u001b[0m \u001b[43m        \u001b[49m\u001b[43mobserved\u001b[49m\u001b[38;5;241;43m=\u001b[39;49m\u001b[43mobserved\u001b[49m\u001b[43m,\u001b[49m\n\u001b[1;32m    889\u001b[0m \u001b[43m        \u001b[49m\u001b[43mmutated\u001b[49m\u001b[38;5;241;43m=\u001b[39;49m\u001b[38;5;28;43mself\u001b[39;49m\u001b[38;5;241;43m.\u001b[39;49m\u001b[43mmutated\u001b[49m\u001b[43m,\u001b[49m\n\u001b[1;32m    890\u001b[0m \u001b[43m        \u001b[49m\u001b[43mdropna\u001b[49m\u001b[38;5;241;43m=\u001b[39;49m\u001b[38;5;28;43mself\u001b[39;49m\u001b[38;5;241;43m.\u001b[39;49m\u001b[43mdropna\u001b[49m\u001b[43m,\u001b[49m\n\u001b[1;32m    891\u001b[0m \u001b[43m    \u001b[49m\u001b[43m)\u001b[49m\n\u001b[1;32m    893\u001b[0m \u001b[38;5;28mself\u001b[39m\u001b[38;5;241m.\u001b[39mobj \u001b[38;5;241m=\u001b[39m obj\n\u001b[1;32m    894\u001b[0m \u001b[38;5;28mself\u001b[39m\u001b[38;5;241m.\u001b[39maxis \u001b[38;5;241m=\u001b[39m obj\u001b[38;5;241m.\u001b[39m_get_axis_number(axis)\n",
      "File \u001b[0;32m~/opt/anaconda3/envs/echopro_conda/lib/python3.9/site-packages/pandas/core/groupby/grouper.py:893\u001b[0m, in \u001b[0;36mget_grouper\u001b[0;34m(obj, key, axis, level, sort, observed, mutated, validate, dropna)\u001b[0m\n\u001b[1;32m    888\u001b[0m         in_axis \u001b[38;5;241m=\u001b[39m \u001b[38;5;28;01mFalse\u001b[39;00m\n\u001b[1;32m    890\u001b[0m     \u001b[38;5;66;03m# create the Grouping\u001b[39;00m\n\u001b[1;32m    891\u001b[0m     \u001b[38;5;66;03m# allow us to passing the actual Grouping as the gpr\u001b[39;00m\n\u001b[1;32m    892\u001b[0m     ping \u001b[38;5;241m=\u001b[39m (\n\u001b[0;32m--> 893\u001b[0m         \u001b[43mGrouping\u001b[49m\u001b[43m(\u001b[49m\n\u001b[1;32m    894\u001b[0m \u001b[43m            \u001b[49m\u001b[43mgroup_axis\u001b[49m\u001b[43m,\u001b[49m\n\u001b[1;32m    895\u001b[0m \u001b[43m            \u001b[49m\u001b[43mgpr\u001b[49m\u001b[43m,\u001b[49m\n\u001b[1;32m    896\u001b[0m \u001b[43m            \u001b[49m\u001b[43mobj\u001b[49m\u001b[38;5;241;43m=\u001b[39;49m\u001b[43mobj\u001b[49m\u001b[43m,\u001b[49m\n\u001b[1;32m    897\u001b[0m \u001b[43m            \u001b[49m\u001b[43mlevel\u001b[49m\u001b[38;5;241;43m=\u001b[39;49m\u001b[43mlevel\u001b[49m\u001b[43m,\u001b[49m\n\u001b[1;32m    898\u001b[0m \u001b[43m            \u001b[49m\u001b[43msort\u001b[49m\u001b[38;5;241;43m=\u001b[39;49m\u001b[43msort\u001b[49m\u001b[43m,\u001b[49m\n\u001b[1;32m    899\u001b[0m \u001b[43m            \u001b[49m\u001b[43mobserved\u001b[49m\u001b[38;5;241;43m=\u001b[39;49m\u001b[43mobserved\u001b[49m\u001b[43m,\u001b[49m\n\u001b[1;32m    900\u001b[0m \u001b[43m            \u001b[49m\u001b[43min_axis\u001b[49m\u001b[38;5;241;43m=\u001b[39;49m\u001b[43min_axis\u001b[49m\u001b[43m,\u001b[49m\n\u001b[1;32m    901\u001b[0m \u001b[43m            \u001b[49m\u001b[43mdropna\u001b[49m\u001b[38;5;241;43m=\u001b[39;49m\u001b[43mdropna\u001b[49m\u001b[43m,\u001b[49m\n\u001b[1;32m    902\u001b[0m \u001b[43m        \u001b[49m\u001b[43m)\u001b[49m\n\u001b[1;32m    903\u001b[0m         \u001b[38;5;28;01mif\u001b[39;00m \u001b[38;5;129;01mnot\u001b[39;00m \u001b[38;5;28misinstance\u001b[39m(gpr, Grouping)\n\u001b[1;32m    904\u001b[0m         \u001b[38;5;28;01melse\u001b[39;00m gpr\n\u001b[1;32m    905\u001b[0m     )\n\u001b[1;32m    907\u001b[0m     groupings\u001b[38;5;241m.\u001b[39mappend(ping)\n\u001b[1;32m    909\u001b[0m \u001b[38;5;28;01mif\u001b[39;00m \u001b[38;5;28mlen\u001b[39m(groupings) \u001b[38;5;241m==\u001b[39m \u001b[38;5;241m0\u001b[39m \u001b[38;5;129;01mand\u001b[39;00m \u001b[38;5;28mlen\u001b[39m(obj):\n",
      "File \u001b[0;32m~/opt/anaconda3/envs/echopro_conda/lib/python3.9/site-packages/pandas/core/groupby/grouper.py:481\u001b[0m, in \u001b[0;36mGrouping.__init__\u001b[0;34m(self, index, grouper, obj, level, sort, observed, in_axis, dropna)\u001b[0m\n\u001b[1;32m    479\u001b[0m \u001b[38;5;28mself\u001b[39m\u001b[38;5;241m.\u001b[39mlevel \u001b[38;5;241m=\u001b[39m level\n\u001b[1;32m    480\u001b[0m \u001b[38;5;28mself\u001b[39m\u001b[38;5;241m.\u001b[39m_orig_grouper \u001b[38;5;241m=\u001b[39m grouper\n\u001b[0;32m--> 481\u001b[0m \u001b[38;5;28mself\u001b[39m\u001b[38;5;241m.\u001b[39mgrouping_vector \u001b[38;5;241m=\u001b[39m \u001b[43m_convert_grouper\u001b[49m\u001b[43m(\u001b[49m\u001b[43mindex\u001b[49m\u001b[43m,\u001b[49m\u001b[43m \u001b[49m\u001b[43mgrouper\u001b[49m\u001b[43m)\u001b[49m\n\u001b[1;32m    482\u001b[0m \u001b[38;5;28mself\u001b[39m\u001b[38;5;241m.\u001b[39m_all_grouper \u001b[38;5;241m=\u001b[39m \u001b[38;5;28;01mNone\u001b[39;00m\n\u001b[1;32m    483\u001b[0m \u001b[38;5;28mself\u001b[39m\u001b[38;5;241m.\u001b[39m_index \u001b[38;5;241m=\u001b[39m index\n",
      "File \u001b[0;32m~/opt/anaconda3/envs/echopro_conda/lib/python3.9/site-packages/pandas/core/groupby/grouper.py:937\u001b[0m, in \u001b[0;36m_convert_grouper\u001b[0;34m(axis, grouper)\u001b[0m\n\u001b[1;32m    935\u001b[0m \u001b[38;5;28;01melif\u001b[39;00m \u001b[38;5;28misinstance\u001b[39m(grouper, (\u001b[38;5;28mlist\u001b[39m, \u001b[38;5;28mtuple\u001b[39m, Index, Categorical, np\u001b[38;5;241m.\u001b[39mndarray)):\n\u001b[1;32m    936\u001b[0m     \u001b[38;5;28;01mif\u001b[39;00m \u001b[38;5;28mlen\u001b[39m(grouper) \u001b[38;5;241m!=\u001b[39m \u001b[38;5;28mlen\u001b[39m(axis):\n\u001b[0;32m--> 937\u001b[0m         \u001b[38;5;28;01mraise\u001b[39;00m \u001b[38;5;167;01mValueError\u001b[39;00m(\u001b[38;5;124m\"\u001b[39m\u001b[38;5;124mGrouper and axis must be same length\u001b[39m\u001b[38;5;124m\"\u001b[39m)\n\u001b[1;32m    939\u001b[0m     \u001b[38;5;28;01mif\u001b[39;00m \u001b[38;5;28misinstance\u001b[39m(grouper, (\u001b[38;5;28mlist\u001b[39m, \u001b[38;5;28mtuple\u001b[39m)):\n\u001b[1;32m    940\u001b[0m         grouper \u001b[38;5;241m=\u001b[39m com\u001b[38;5;241m.\u001b[39masarray_tuplesafe(grouper)\n",
      "\u001b[0;31mValueError\u001b[0m: Grouper and axis must be same length"
     ]
    }
   ],
   "source": [
    "%%time\n",
    "CV_JH_mean = survey_2019.run_cv_analysis(kriged_data=False)"
   ]
  },
  {
   "cell_type": "code",
   "execution_count": null,
   "id": "78c776bd",
   "metadata": {},
   "outputs": [],
   "source": [
    "print(f\"Mean Jolly-Hampton CV: {CV_JH_mean:.4f}\")"
   ]
  },
  {
   "cell_type": "markdown",
   "id": "c5bd6ad7",
   "metadata": {},
   "source": [
    "# Obtain Kriging Mesh Data"
   ]
  },
  {
   "cell_type": "markdown",
   "id": "f26756c4",
   "metadata": {},
   "source": [
    "## Access Kriging mesh object\n",
    "* Reads mesh data files specified by `survey_2019` "
   ]
  },
  {
   "cell_type": "code",
   "execution_count": null,
   "id": "c976b0b9",
   "metadata": {},
   "outputs": [],
   "source": [
    "krig_mesh = survey_2019.get_kriging_mesh()"
   ]
  },
  {
   "cell_type": "markdown",
   "id": "b8b3fe9b",
   "metadata": {},
   "source": [
    "### Plot the Mesh, Transects and smoothed isobath contour\n",
    "\n",
    "* Generate interactive map using the Folium package\n",
    "* Mesh points are in gray\n",
    "* Transect points are represented by a changing color gradient\n",
    "* Smoothed contour points (200m isobath) are in blue "
   ]
  },
  {
   "cell_type": "code",
   "execution_count": null,
   "id": "9c80331b-9bd5-4ccb-b564-b744a41b4d61",
   "metadata": {},
   "outputs": [],
   "source": [
    "fmap = krig_mesh.plot_layered_points()\n",
    "fmap"
   ]
  },
  {
   "cell_type": "markdown",
   "id": "5c9580b0-40f1-47b0-b947-c410fdbd3fd2",
   "metadata": {},
   "source": [
    "## Apply coordinate transformations\n",
    "* Longitude transformation\n",
    "* Lat/Lon to distance"
   ]
  },
  {
   "cell_type": "markdown",
   "id": "1c2a3a9b",
   "metadata": {},
   "source": [
    "### Transect points"
   ]
  },
  {
   "cell_type": "code",
   "execution_count": null,
   "id": "9d447533",
   "metadata": {},
   "outputs": [],
   "source": [
    "krig_mesh.apply_coordinate_transformation(coord_type='transect')"
   ]
  },
  {
   "cell_type": "markdown",
   "id": "de1067f9-c508-4033-80f3-ef11f5e1f1f7",
   "metadata": {},
   "source": [
    "### Mesh points"
   ]
  },
  {
   "cell_type": "code",
   "execution_count": null,
   "id": "de7071d8",
   "metadata": {},
   "outputs": [],
   "source": [
    "krig_mesh.apply_coordinate_transformation(coord_type='mesh')"
   ]
  },
  {
   "cell_type": "code",
   "execution_count": null,
   "id": "13445d63",
   "metadata": {},
   "outputs": [],
   "source": [
    "# plot the transformed mesh points \n",
    "plt.plot(krig_mesh.transformed_mesh_df.x_mesh, \n",
    "         krig_mesh.transformed_mesh_df.y_mesh, 'r*', markersize=1.25)\n",
    "plt.show()"
   ]
  },
  {
   "cell_type": "markdown",
   "id": "09e17c81",
   "metadata": {},
   "source": [
    "# Compute biomass density Semi-Variogram and fit a model\n",
    "\n",
    "* Compute the normalized semi-variogram using the normalized biomass density\n",
    "* Fit a model to the semi-variogram values"
   ]
  },
  {
   "cell_type": "markdown",
   "id": "44b1346d",
   "metadata": {},
   "source": [
    "## Compute the semi-variogram"
   ]
  },
  {
   "cell_type": "markdown",
   "id": "4340fbab",
   "metadata": {},
   "source": [
    "### Initialize semi-variogram calculation\n",
    "* Transformed transect points\n",
    "* Parameters specific to semi-variogram algorithm"
   ]
  },
  {
   "cell_type": "code",
   "execution_count": null,
   "id": "39f0ac8c",
   "metadata": {},
   "outputs": [],
   "source": [
    "semi_vario = survey_2019.get_semi_variogram(\n",
    "    krig_mesh,\n",
    "    params=dict(nlag=30, lag_res=0.002)\n",
    ")"
   ]
  },
  {
   "cell_type": "markdown",
   "id": "f4fb890b",
   "metadata": {},
   "source": [
    "### Compute the normalized semi-variogram"
   ]
  },
  {
   "cell_type": "code",
   "execution_count": null,
   "id": "e6f9146f",
   "metadata": {},
   "outputs": [],
   "source": [
    "%%time\n",
    "semi_vario.calculate_semi_variogram()"
   ]
  },
  {
   "cell_type": "markdown",
   "id": "0024c1f6",
   "metadata": {},
   "source": [
    "## Fit a model to the semi-variogram\n",
    "\n",
    "* A widget to easily fit the model"
   ]
  },
  {
   "cell_type": "code",
   "execution_count": null,
   "id": "475b4f4c",
   "metadata": {},
   "outputs": [],
   "source": [
    "semi_vario.get_widget()"
   ]
  },
  {
   "cell_type": "markdown",
   "id": "31f02e21",
   "metadata": {},
   "source": [
    "# Perform Ordinary Kriging of biomass density\n",
    "\n",
    "* transformed mesh points\n",
    "* semi-variogram model\n",
    "* normalized biomass density "
   ]
  },
  {
   "cell_type": "markdown",
   "id": "1b5ed3cf",
   "metadata": {},
   "source": [
    "## Initialize Kriging routine"
   ]
  },
  {
   "cell_type": "code",
   "execution_count": null,
   "id": "9a973aaf-cf95-476e-85c1-944603bd8635",
   "metadata": {},
   "outputs": [],
   "source": [
    "kriging_params = dict(\n",
    "    # kriging parameters\n",
    "    k_max=10,\n",
    "    k_min=3,\n",
    "    R=0.0226287,\n",
    "    ratio=0.001,\n",
    "    \n",
    "    # parameters for semi-variogram model\n",
    "    s_v_params={'nugget': 0.0, 'sill': 0.95279, 'ls': 0.0075429,\n",
    "                'exp_pow': 1.5, 'ls_hole_eff': 0.0},\n",
    "    \n",
    "    # grab appropriate semi-variogram model\n",
    "    s_v_model=SV.generalized_exp_bessel\n",
    ")\n",
    "\n",
    "# uncomment to use widget values \n",
    "# kriging_params.update(semi_vario.get_params_for_kriging())\n",
    "\n",
    "# initalize kriging routine\n",
    "krig = survey_2019.get_kriging(kriging_params)"
   ]
  },
  {
   "cell_type": "markdown",
   "id": "3afe14d3",
   "metadata": {},
   "source": [
    "## Perform Kriging\n",
    "* Also generates total biomass at mesh points"
   ]
  },
  {
   "cell_type": "code",
   "execution_count": null,
   "id": "105b5d2f",
   "metadata": {},
   "outputs": [],
   "source": [
    "%%time\n",
    "krig.run_biomass_kriging(krig_mesh)"
   ]
  },
  {
   "cell_type": "code",
   "execution_count": null,
   "id": "ae97a73c-81b4-4615-babd-b32eb098ee33",
   "metadata": {},
   "outputs": [],
   "source": [
    "print(f\"Total Kriged Biomass Estimate: {1e-6*survey_2019.krig_results_gdf.krig_biomass_vals.sum():.3f} kmt\")"
   ]
  },
  {
   "cell_type": "markdown",
   "id": "bce6391a",
   "metadata": {},
   "source": [
    "## Plot Kriged Biomass estimate in kmt"
   ]
  },
  {
   "cell_type": "code",
   "execution_count": null,
   "id": "81dfac65-baad-4487-8059-26f41ce026ac",
   "metadata": {},
   "outputs": [],
   "source": [
    "# plot all mesh points\n",
    "survey_2019.krig_results_gdf.krig_biomass_vals = 1e-6 * survey_2019.krig_results_gdf.krig_biomass_vals\n",
    "krig.plot_kriging_results(survey_2019.krig_results_gdf, krig_field_name=\"krig_biomass_vals\")"
   ]
  },
  {
   "cell_type": "code",
   "execution_count": null,
   "id": "3efb6fa5",
   "metadata": {},
   "outputs": [],
   "source": []
  }
 ],
 "metadata": {
  "kernelspec": {
   "display_name": "echopro_conda",
   "language": "python",
   "name": "echopro_conda"
  },
  "language_info": {
   "codemirror_mode": {
    "name": "ipython",
    "version": 3
   },
   "file_extension": ".py",
   "mimetype": "text/x-python",
   "name": "python",
   "nbconvert_exporter": "python",
   "pygments_lexer": "ipython3",
   "version": "3.9.12"
  },
  "toc": {
   "base_numbering": 1,
   "nav_menu": {
    "height": "332px",
    "width": "838px"
   },
   "number_sections": true,
   "sideBar": true,
   "skip_h1_title": false,
   "title_cell": "Table of Contents",
   "title_sidebar": "Contents",
   "toc_cell": false,
   "toc_position": {
    "height": "calc(100% - 180px)",
    "left": "10px",
    "top": "150px",
    "width": "217.2px"
   },
   "toc_section_display": true,
   "toc_window_display": true
  },
  "toc-autonumbering": true
 },
 "nbformat": 4,
 "nbformat_minor": 5
}
