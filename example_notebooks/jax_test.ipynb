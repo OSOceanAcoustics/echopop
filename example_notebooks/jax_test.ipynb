{
 "cells": [
  {
   "cell_type": "code",
   "execution_count": 1,
   "id": "bd052a8d",
   "metadata": {},
   "outputs": [],
   "source": [
    "%reset -f"
   ]
  },
  {
   "cell_type": "code",
   "execution_count": 5,
   "id": "d441b04e",
   "metadata": {},
   "outputs": [],
   "source": [
    "import jax.numpy as jnp\n",
    "import jax \n",
    "import numpy as np\n",
    "import math "
   ]
  },
  {
   "cell_type": "code",
   "execution_count": 3,
   "id": "f72f0caa",
   "metadata": {},
   "outputs": [],
   "source": [
    "x = np.random.random((10000, 10000))"
   ]
  },
  {
   "cell_type": "code",
   "execution_count": 4,
   "id": "25a79d3a",
   "metadata": {},
   "outputs": [
    {
     "name": "stdout",
     "output_type": "stream",
     "text": [
      "CPU times: user 90.4 ms, sys: 143 ms, total: 233 ms\n",
      "Wall time: 231 ms\n"
     ]
    },
    {
     "data": {
      "text/plain": [
       "array([[0.71459453, 0.379275  , 0.02161448, ..., 0.67716963, 0.69808482,\n",
       "        0.10660898],\n",
       "       [0.76929053, 0.29703027, 0.36705668, ..., 0.16501754, 0.96553673,\n",
       "        0.78262311],\n",
       "       [0.54645176, 0.6220347 , 0.79019991, ..., 0.06312728, 0.01350925,\n",
       "        0.00308195],\n",
       "       ...,\n",
       "       [0.00585662, 0.11680051, 0.78830875, ..., 0.33509552, 0.45142436,\n",
       "        0.49745091],\n",
       "       [0.01580798, 0.10313705, 0.11165886, ..., 0.27906755, 0.43428106,\n",
       "        0.08620464],\n",
       "       [0.43663208, 0.13041846, 0.90904323, ..., 0.72632934, 0.050711  ,\n",
       "        0.02582808]])"
      ]
     },
     "execution_count": 4,
     "metadata": {},
     "output_type": "execute_result"
    }
   ],
   "source": [
    "%time x*x"
   ]
  },
  {
   "cell_type": "code",
   "execution_count": 11,
   "id": "88b89071",
   "metadata": {},
   "outputs": [],
   "source": [
    "@jax.jit\n",
    "def square(x):\n",
    "    return x*x "
   ]
  },
  {
   "cell_type": "code",
   "execution_count": 12,
   "id": "436745b7",
   "metadata": {},
   "outputs": [
    {
     "name": "stdout",
     "output_type": "stream",
     "text": [
      "CPU times: user 204 ms, sys: 648 ms, total: 851 ms\n",
      "Wall time: 1.12 s\n"
     ]
    },
    {
     "data": {
      "text/plain": [
       "DeviceArray([[0.7145945 , 0.379275  , 0.02161448, ..., 0.6771696 ,\n",
       "              0.69808483, 0.10660898],\n",
       "             [0.7692905 , 0.29703027, 0.36705667, ..., 0.16501753,\n",
       "              0.96553665, 0.7826231 ],\n",
       "             [0.5464518 , 0.62203467, 0.7901999 , ..., 0.06312728,\n",
       "              0.01350925, 0.00308195],\n",
       "             ...,\n",
       "             [0.00585662, 0.11680052, 0.78830874, ..., 0.33509552,\n",
       "              0.45142436, 0.49745092],\n",
       "             [0.01580798, 0.10313704, 0.11165886, ..., 0.27906758,\n",
       "              0.43428105, 0.08620463],\n",
       "             [0.43663213, 0.13041845, 0.9090432 , ..., 0.7263293 ,\n",
       "              0.05071101, 0.02582808]], dtype=float32)"
      ]
     },
     "execution_count": 12,
     "metadata": {},
     "output_type": "execute_result"
    }
   ],
   "source": [
    "%time square(x)"
   ]
  },
  {
   "cell_type": "code",
   "execution_count": null,
   "id": "4b254af8",
   "metadata": {},
   "outputs": [],
   "source": []
  }
 ],
 "metadata": {
  "kernelspec": {
   "display_name": "jax_env",
   "language": "python",
   "name": "jax_env"
  },
  "language_info": {
   "codemirror_mode": {
    "name": "ipython",
    "version": 3
   },
   "file_extension": ".py",
   "mimetype": "text/x-python",
   "name": "python",
   "nbconvert_exporter": "python",
   "pygments_lexer": "ipython3",
   "version": "3.9.12"
  },
  "toc": {
   "base_numbering": 1,
   "nav_menu": {},
   "number_sections": false,
   "sideBar": true,
   "skip_h1_title": true,
   "title_cell": "Table of Contents",
   "title_sidebar": "Contents",
   "toc_cell": false,
   "toc_position": {},
   "toc_section_display": true,
   "toc_window_display": false
  }
 },
 "nbformat": 4,
 "nbformat_minor": 5
}
