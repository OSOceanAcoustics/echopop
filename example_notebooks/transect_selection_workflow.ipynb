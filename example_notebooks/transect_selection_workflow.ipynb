{
 "cells": [
  {
   "cell_type": "markdown",
   "id": "f0aa0cbe",
   "metadata": {},
   "source": [
    "# EchoPro Transect Subset Workflow"
   ]
  },
  {
   "cell_type": "markdown",
   "id": "ccaef1d6",
   "metadata": {},
   "source": [
    "## Import libraries and configure the Jupyter notebook"
   ]
  },
  {
   "cell_type": "code",
   "execution_count": null,
   "id": "66ad49aa",
   "metadata": {
    "execution": {
     "iopub.execute_input": "2023-01-05T10:11:50.837286Z",
     "iopub.status.busy": "2023-01-05T10:11:50.836847Z",
     "iopub.status.idle": "2023-01-05T10:11:52.412823Z",
     "shell.execute_reply": "2023-01-05T10:11:52.412388Z"
    }
   },
   "outputs": [],
   "source": [
    "# libraries used in the Notebook\n",
    "import matplotlib.pyplot as plt\n",
    "import math \n",
    "import numpy as np \n",
    "\n",
    "# Python version of EchoPro\n",
    "import EchoPro\n",
    "\n",
    "# Allows us to grab the SemiVariogram class so we can use its models\n",
    "from EchoPro.computation import SemiVariogram as SV\n",
    "\n",
    "# obtain all visualization routines\n",
    "from EchoPro.visualization import plot_layered_points, plot_kriging_results\n",
    "\n",
    "# Allows us to easily use matplotlib widgets in our Notebook\n",
    "# %matplotlib widget"
   ]
  },
  {
   "cell_type": "markdown",
   "id": "62ccae43",
   "metadata": {},
   "source": [
    "## Set up  EchoPro for a specific survey year"
   ]
  },
  {
   "cell_type": "markdown",
   "id": "866dbb16",
   "metadata": {},
   "source": [
    "### Initialize EchoPro object  using configuration files\n",
    "\n",
    "* `initialization_config.yml` -- parameters independent of survey year\n",
    "* `survey_year_2019_config.yml` -- parameters specific to survey year\n",
    "* `source` -- Define the region of data to use e.g. US, CAN, US & CAN\n",
    "* `exclude_age1` -- States whether age 1 hake should be included in analysis."
   ]
  },
  {
   "cell_type": "code",
   "execution_count": null,
   "id": "059a8a59",
   "metadata": {
    "execution": {
     "iopub.execute_input": "2023-01-05T10:11:52.415064Z",
     "iopub.status.busy": "2023-01-05T10:11:52.414886Z",
     "iopub.status.idle": "2023-01-05T10:11:52.423066Z",
     "shell.execute_reply": "2023-01-05T10:11:52.422722Z"
    }
   },
   "outputs": [],
   "source": [
    "%%time\n",
    "survey_2019 = EchoPro.Survey(init_file_path='../config_files/initialization_config.yml',\n",
    "                             survey_year_file_path='../config_files/survey_year_2019_config.yml',\n",
    "                             source=3, \n",
    "                             exclude_age1=True)"
   ]
  },
  {
   "cell_type": "markdown",
   "id": "81e28c67",
   "metadata": {},
   "source": [
    "### Load and process input data \n",
    "* This data is stored in `survey_2019`"
   ]
  },
  {
   "cell_type": "code",
   "execution_count": null,
   "id": "8c0d730c",
   "metadata": {
    "execution": {
     "iopub.execute_input": "2023-01-05T10:11:52.424664Z",
     "iopub.status.busy": "2023-01-05T10:11:52.424522Z",
     "iopub.status.idle": "2023-01-05T10:11:53.731590Z",
     "shell.execute_reply": "2023-01-05T10:11:53.731107Z"
    }
   },
   "outputs": [],
   "source": [
    "%%time \n",
    "survey_2019.load_survey_data()"
   ]
  },
  {
   "cell_type": "code",
   "execution_count": null,
   "id": "4eebe739",
   "metadata": {
    "execution": {
     "iopub.execute_input": "2023-01-05T10:11:53.733698Z",
     "iopub.status.busy": "2023-01-05T10:11:53.733515Z",
     "iopub.status.idle": "2023-01-05T10:11:53.741987Z",
     "shell.execute_reply": "2023-01-05T10:11:53.741443Z"
    }
   },
   "outputs": [],
   "source": [
    "survey_2019.nasc_df.head()"
   ]
  },
  {
   "cell_type": "markdown",
   "id": "cbabb21a",
   "metadata": {},
   "source": [
    "### Select a subset of the available transects to analyze"
   ]
  },
  {
   "cell_type": "code",
   "execution_count": null,
   "id": "d4a39830",
   "metadata": {
    "execution": {
     "iopub.execute_input": "2023-01-05T10:11:53.743664Z",
     "iopub.status.busy": "2023-01-05T10:11:53.743512Z",
     "iopub.status.idle": "2023-01-05T10:11:53.745711Z",
     "shell.execute_reply": "2023-01-05T10:11:53.745451Z"
    }
   },
   "outputs": [],
   "source": [
    "# obtain all unique transects in nasc_df\n",
    "unique_transects = survey_2019.nasc_df.index.unique().values"
   ]
  },
  {
   "cell_type": "code",
   "execution_count": null,
   "id": "3713cefb",
   "metadata": {
    "execution": {
     "iopub.execute_input": "2023-01-05T10:11:53.747438Z",
     "iopub.status.busy": "2023-01-05T10:11:53.747319Z",
     "iopub.status.idle": "2023-01-05T10:11:53.750228Z",
     "shell.execute_reply": "2023-01-05T10:11:53.749781Z"
    }
   },
   "outputs": [],
   "source": [
    "# set the percentage of transects that should be removed\n",
    "removal_percentage = 50.0\n",
    "\n",
    "# determine the number of transects that should be selected\n",
    "num_sel_transects = math.floor(len(unique_transects) * (1.0 - removal_percentage / 100.0))\n",
    "\n",
    "# initialize the random number generator object and fix the seed\n",
    "rng = np.random.default_rng(seed=1234)\n",
    "\n",
    "# randomly select transects without replacement\n",
    "selected_transects = list(rng.choice(unique_transects, num_sel_transects, replace=False))"
   ]
  },
  {
   "cell_type": "markdown",
   "id": "75ecf293",
   "metadata": {},
   "source": [
    "### Compute the areal biomass density on subset of transects\n",
    "* The areal biomass density is stored in `survey_2019.bio_calc.transect_results_gdf` as `biomass_density_adult`"
   ]
  },
  {
   "cell_type": "code",
   "execution_count": null,
   "id": "1a648765",
   "metadata": {
    "execution": {
     "iopub.execute_input": "2023-01-05T10:11:53.751934Z",
     "iopub.status.busy": "2023-01-05T10:11:53.751765Z",
     "iopub.status.idle": "2023-01-05T10:11:53.868852Z",
     "shell.execute_reply": "2023-01-05T10:11:53.868187Z"
    }
   },
   "outputs": [],
   "source": [
    "%%time\n",
    "survey_2019.compute_transect_results(selected_transects=selected_transects)"
   ]
  },
  {
   "cell_type": "code",
   "execution_count": null,
   "id": "33d094a7",
   "metadata": {
    "execution": {
     "iopub.execute_input": "2023-01-05T10:11:53.870619Z",
     "iopub.status.busy": "2023-01-05T10:11:53.870512Z",
     "iopub.status.idle": "2023-01-05T10:11:53.877077Z",
     "shell.execute_reply": "2023-01-05T10:11:53.876728Z"
    }
   },
   "outputs": [],
   "source": [
    "survey_2019.bio_calc.transect_results_gdf.head()"
   ]
  },
  {
   "cell_type": "code",
   "execution_count": null,
   "id": "e53852f5",
   "metadata": {},
   "outputs": [],
   "source": [
    "print(f\"Total Biomass Estimate without Kriging: {1e-6*survey_2019.bio_calc.transect_results_gdf.biomass_adult.sum():.3f} kmt\")"
   ]
  },
  {
   "cell_type": "markdown",
   "id": "a876746b",
   "metadata": {},
   "source": [
    "**Note:**\n",
    "\n",
    "**After the biomass density has been calculated using the selected transects, all steps that we have previously ran can be completed. However, it is important to note that it is suggested that one computes the semi-variogram parameters using the full data set, rather than a subset of transects. To remind the user of this, a warning will be raised if the user chooses to run the semi-variogram routine (we will demonstrate this later).** "
   ]
  },
  {
   "cell_type": "markdown",
   "id": "013e62b5",
   "metadata": {},
   "source": [
    "## Jolly-Hampton CV Analysis\n",
    "\n",
    "* Compute the mean of the Jolly-Hampton CV value on data that has not been Kriged\n",
    "* Note: the algorithm used to compute this value is random in nature"
   ]
  },
  {
   "cell_type": "code",
   "execution_count": null,
   "id": "a7bb465e",
   "metadata": {
    "execution": {
     "iopub.execute_input": "2023-01-05T10:11:53.878690Z",
     "iopub.status.busy": "2023-01-05T10:11:53.878590Z",
     "iopub.status.idle": "2023-01-05T10:11:55.126068Z",
     "shell.execute_reply": "2023-01-05T10:11:55.125464Z"
    }
   },
   "outputs": [],
   "source": [
    "%%time\n",
    "CV_JH_mean = survey_2019.run_cv_analysis(kriged_data=False)"
   ]
  },
  {
   "cell_type": "code",
   "execution_count": null,
   "id": "78c776bd",
   "metadata": {
    "execution": {
     "iopub.execute_input": "2023-01-05T10:11:55.128049Z",
     "iopub.status.busy": "2023-01-05T10:11:55.127904Z",
     "iopub.status.idle": "2023-01-05T10:11:55.130500Z",
     "shell.execute_reply": "2023-01-05T10:11:55.130133Z"
    }
   },
   "outputs": [],
   "source": [
    "print(f\"Mean Jolly-Hampton CV: {CV_JH_mean:.4f}\")"
   ]
  },
  {
   "cell_type": "markdown",
   "id": "c5bd6ad7",
   "metadata": {},
   "source": [
    "## Obtain Kriging Mesh Data"
   ]
  },
  {
   "cell_type": "markdown",
   "id": "f26756c4",
   "metadata": {},
   "source": [
    "### Access Kriging mesh object\n",
    "* Reads mesh data files specified by `survey_2019` "
   ]
  },
  {
   "cell_type": "code",
   "execution_count": null,
   "id": "c976b0b9",
   "metadata": {
    "execution": {
     "iopub.execute_input": "2023-01-05T10:11:55.132087Z",
     "iopub.status.busy": "2023-01-05T10:11:55.131996Z",
     "iopub.status.idle": "2023-01-05T10:11:56.261832Z",
     "shell.execute_reply": "2023-01-05T10:11:56.261264Z"
    }
   },
   "outputs": [],
   "source": [
    "krig_mesh = survey_2019.get_kriging_mesh()"
   ]
  },
  {
   "cell_type": "markdown",
   "id": "b8b3fe9b",
   "metadata": {},
   "source": [
    "#### Plot the Mesh, Transects and smoothed isobath contour\n",
    "\n",
    "* Generate interactive map using the Folium package\n",
    "* Mesh points are in gray\n",
    "* Transect points are represented by a changing color gradient\n",
    "* Smoothed contour points (200m isobath) are in blue "
   ]
  },
  {
   "cell_type": "code",
   "execution_count": null,
   "id": "9c80331b-9bd5-4ccb-b564-b744a41b4d61",
   "metadata": {
    "execution": {
     "iopub.execute_input": "2023-01-05T10:11:56.263983Z",
     "iopub.status.busy": "2023-01-05T10:11:56.263870Z",
     "iopub.status.idle": "2023-01-05T10:11:57.215391Z",
     "shell.execute_reply": "2023-01-05T10:11:57.214810Z"
    }
   },
   "outputs": [],
   "source": [
    "fmap = plot_layered_points(krig_mesh, plot_mesh_points=False)\n",
    "fmap"
   ]
  },
  {
   "cell_type": "markdown",
   "id": "5c9580b0-40f1-47b0-b947-c410fdbd3fd2",
   "metadata": {},
   "source": [
    "## Apply coordinate transformations\n",
    "* Longitude transformation\n",
    "* Lat/Lon to distance"
   ]
  },
  {
   "cell_type": "markdown",
   "id": "1c2a3a9b",
   "metadata": {},
   "source": [
    "### Transect points"
   ]
  },
  {
   "cell_type": "code",
   "execution_count": null,
   "id": "9d447533",
   "metadata": {
    "execution": {
     "iopub.execute_input": "2023-01-05T10:11:57.228382Z",
     "iopub.status.busy": "2023-01-05T10:11:57.228224Z",
     "iopub.status.idle": "2023-01-05T10:11:57.442215Z",
     "shell.execute_reply": "2023-01-05T10:11:57.441525Z"
    }
   },
   "outputs": [],
   "source": [
    "krig_mesh.apply_coordinate_transformation(coord_type='transect')"
   ]
  },
  {
   "cell_type": "markdown",
   "id": "de1067f9-c508-4033-80f3-ef11f5e1f1f7",
   "metadata": {},
   "source": [
    "### Mesh points"
   ]
  },
  {
   "cell_type": "code",
   "execution_count": null,
   "id": "de7071d8",
   "metadata": {
    "execution": {
     "iopub.execute_input": "2023-01-05T10:11:57.444316Z",
     "iopub.status.busy": "2023-01-05T10:11:57.444176Z",
     "iopub.status.idle": "2023-01-05T10:11:58.318782Z",
     "shell.execute_reply": "2023-01-05T10:11:58.318313Z"
    }
   },
   "outputs": [],
   "source": [
    "krig_mesh.apply_coordinate_transformation(coord_type='mesh')"
   ]
  },
  {
   "cell_type": "code",
   "execution_count": null,
   "id": "13445d63",
   "metadata": {
    "execution": {
     "iopub.execute_input": "2023-01-05T10:11:58.321257Z",
     "iopub.status.busy": "2023-01-05T10:11:58.321124Z",
     "iopub.status.idle": "2023-01-05T10:11:58.450008Z",
     "shell.execute_reply": "2023-01-05T10:11:58.449412Z"
    }
   },
   "outputs": [],
   "source": [
    "# plot the transformed mesh points \n",
    "plt.plot(krig_mesh.transformed_mesh_df.x_mesh, \n",
    "         krig_mesh.transformed_mesh_df.y_mesh, 'r*', markersize=1.25)\n",
    "plt.show()"
   ]
  },
  {
   "cell_type": "markdown",
   "id": "09e17c81",
   "metadata": {},
   "source": [
    "## Try to initialize the Semi-Variogram"
   ]
  },
  {
   "cell_type": "code",
   "execution_count": null,
   "id": "39f0ac8c",
   "metadata": {
    "execution": {
     "iopub.execute_input": "2023-01-05T10:11:58.451946Z",
     "iopub.status.busy": "2023-01-05T10:11:58.451812Z",
     "iopub.status.idle": "2023-01-05T10:11:58.454550Z",
     "shell.execute_reply": "2023-01-05T10:11:58.454251Z"
    }
   },
   "outputs": [],
   "source": [
    "semi_vario = survey_2019.get_semi_variogram(\n",
    "    krig_mesh,\n",
    "    params=dict(nlag=30, lag_res=0.002)\n",
    ")"
   ]
  },
  {
   "cell_type": "markdown",
   "id": "9e487ccc",
   "metadata": {},
   "source": [
    "**As expected, a warning pops up and reminds us not to run the semi-variogram calculation and model fitting using the data that was generated from a subset of the full data set.**"
   ]
  },
  {
   "cell_type": "markdown",
   "id": "31f02e21",
   "metadata": {},
   "source": [
    "## Perform Ordinary Kriging of areal biomass density\n",
    "\n",
    "* transformed mesh points\n",
    "* semi-variogram model\n",
    "* areal biomass density"
   ]
  },
  {
   "cell_type": "markdown",
   "id": "1b5ed3cf",
   "metadata": {},
   "source": [
    "### Initialize Kriging routine"
   ]
  },
  {
   "cell_type": "code",
   "execution_count": null,
   "id": "9a973aaf-cf95-476e-85c1-944603bd8635",
   "metadata": {
    "execution": {
     "iopub.execute_input": "2023-01-05T10:11:58.456291Z",
     "iopub.status.busy": "2023-01-05T10:11:58.456197Z",
     "iopub.status.idle": "2023-01-05T10:11:58.458573Z",
     "shell.execute_reply": "2023-01-05T10:11:58.458209Z"
    }
   },
   "outputs": [],
   "source": [
    "kriging_params = dict(\n",
    "    # kriging parameters\n",
    "    k_max=10,\n",
    "    k_min=3,\n",
    "    R=0.0226287,\n",
    "    ratio=0.001,\n",
    "    \n",
    "    # parameters for semi-variogram model\n",
    "    s_v_params={'nugget': 0.0, 'sill': 0.95279, 'ls': 0.0075429,\n",
    "                'exp_pow': 1.5, 'ls_hole_eff': 0.0},\n",
    "    \n",
    "    # grab appropriate semi-variogram model\n",
    "    s_v_model=SV.generalized_exp_bessel\n",
    ")\n",
    "\n",
    "# initalize kriging routine\n",
    "krig = survey_2019.get_kriging(kriging_params)"
   ]
  },
  {
   "cell_type": "markdown",
   "id": "3afe14d3",
   "metadata": {},
   "source": [
    "### Perform Kriging\n",
    "* Also generates total biomass at mesh points"
   ]
  },
  {
   "cell_type": "code",
   "execution_count": null,
   "id": "105b5d2f",
   "metadata": {
    "execution": {
     "iopub.execute_input": "2023-01-05T10:11:58.460348Z",
     "iopub.status.busy": "2023-01-05T10:11:58.460245Z",
     "iopub.status.idle": "2023-01-05T10:12:00.778527Z",
     "shell.execute_reply": "2023-01-05T10:12:00.777942Z"
    }
   },
   "outputs": [],
   "source": [
    "%%time\n",
    "krig.run_biomass_kriging(krig_mesh)"
   ]
  },
  {
   "cell_type": "code",
   "execution_count": null,
   "id": "52a2e9a4",
   "metadata": {
    "execution": {
     "iopub.execute_input": "2023-01-05T10:12:00.780299Z",
     "iopub.status.busy": "2023-01-05T10:12:00.780182Z",
     "iopub.status.idle": "2023-01-05T10:12:00.782410Z",
     "shell.execute_reply": "2023-01-05T10:12:00.782104Z"
    }
   },
   "outputs": [],
   "source": [
    "krig_results = survey_2019.bio_calc.kriging_results_gdf"
   ]
  },
  {
   "cell_type": "markdown",
   "id": "ea61525b",
   "metadata": {},
   "source": [
    "Convert from kg to kmt"
   ]
  },
  {
   "cell_type": "code",
   "execution_count": null,
   "id": "eabe0fa0",
   "metadata": {},
   "outputs": [],
   "source": [
    "print(f\"Total Kriged Biomass Estimate: {1e-6*krig_results.biomass_adult.sum():.3f} kmt\")"
   ]
  },
  {
   "cell_type": "markdown",
   "id": "6bab3551",
   "metadata": {},
   "source": [
    "## Jolly-Hampton CV Analysis for Kriged data \n",
    "\n",
    "* Compute the mean of the Jolly-Hampton CV value on data that has not been Kriged\n",
    "* Note: the algorithm used to compute this value is random in nature"
   ]
  },
  {
   "cell_type": "code",
   "execution_count": null,
   "id": "3efb6fa5",
   "metadata": {},
   "outputs": [],
   "source": [
    "CV_JH_mean_kriged = survey_2019.run_cv_analysis(kriged_data=True)"
   ]
  },
  {
   "cell_type": "code",
   "execution_count": null,
   "id": "7abe830a",
   "metadata": {},
   "outputs": [],
   "source": [
    "print(f\"Mean Jolly-Hampton CV for data with Kriging: {CV_JH_mean_kriged:.4f}\")"
   ]
  },
  {
   "cell_type": "markdown",
   "id": "bce6391a",
   "metadata": {},
   "source": [
    "### Plot Kriged Biomass estimate in kmt"
   ]
  },
  {
   "cell_type": "code",
   "execution_count": null,
   "id": "81dfac65-baad-4487-8059-26f41ce026ac",
   "metadata": {
    "execution": {
     "iopub.execute_input": "2023-01-05T10:12:00.787930Z",
     "iopub.status.busy": "2023-01-05T10:12:00.787713Z",
     "iopub.status.idle": "2023-01-05T10:12:01.363148Z",
     "shell.execute_reply": "2023-01-05T10:12:01.362635Z"
    },
    "scrolled": false
   },
   "outputs": [],
   "source": [
    "# plot mesh points with biomass values > 0\n",
    "krig_results.biomass_adult = 1e-6 * krig_results.biomass_adult\n",
    "plot_kriging_results(krig_results, krig_field_name=\"biomass_adult\", greater_than_0=True)"
   ]
  }
 ],
 "metadata": {
  "kernelspec": {
   "display_name": "echopro_conda",
   "language": "python",
   "name": "echopro_conda"
  },
  "language_info": {
   "codemirror_mode": {
    "name": "ipython",
    "version": 3
   },
   "file_extension": ".py",
   "mimetype": "text/x-python",
   "name": "python",
   "nbconvert_exporter": "python",
   "pygments_lexer": "ipython3",
   "version": "3.9.12"
  },
  "toc": {
   "base_numbering": 1,
   "nav_menu": {
    "height": "332px",
    "width": "838px"
   },
   "number_sections": true,
   "sideBar": true,
   "skip_h1_title": false,
   "title_cell": "Table of Contents",
   "title_sidebar": "Contents",
   "toc_cell": false,
   "toc_position": {
    "height": "calc(100% - 180px)",
    "left": "10px",
    "top": "150px",
    "width": "217.2px"
   },
   "toc_section_display": true,
   "toc_window_display": true
  },
  "toc-autonumbering": true,
  "widgets": {
   "application/vnd.jupyter.widget-state+json": {
    "state": {
     "8f8590db60f64de786861711c4959a41": {
      "model_module": "jupyter-matplotlib",
      "model_module_version": "^0.10.5",
      "model_name": "MPLCanvasModel",
      "state": {
       "_cursor": "pointer",
       "_data_url": "data:image/png;base64,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",
       "_dom_classes": [],
       "_figure_label": "Figure",
       "_image_mode": "full",
       "_message": "",
       "_model_module": "jupyter-matplotlib",
       "_model_module_version": "^0.10.5",
       "_model_name": "MPLCanvasModel",
       "_rubberband_height": 0,
       "_rubberband_width": 0,
       "_rubberband_x": 0,
       "_rubberband_y": 0,
       "_size": [
        640,
        480
       ],
       "_view_count": null,
       "_view_module": "jupyter-matplotlib",
       "_view_module_version": "^0.10.5",
       "_view_name": "MPLCanvasView",
       "capture_scroll": false,
       "footer_visible": true,
       "header_visible": true,
       "layout": "IPY_MODEL_f3ae0d6395984e0fac2d126d12a10361",
       "pan_zoom_throttle": 33,
       "resizable": true,
       "toolbar": null,
       "toolbar_position": "left",
       "toolbar_visible": "fade-in-fade-out"
      }
     },
     "f3ae0d6395984e0fac2d126d12a10361": {
      "model_module": "@jupyter-widgets/base",
      "model_module_version": "1.2.0",
      "model_name": "LayoutModel",
      "state": {
       "_model_module": "@jupyter-widgets/base",
       "_model_module_version": "1.2.0",
       "_model_name": "LayoutModel",
       "_view_count": null,
       "_view_module": "@jupyter-widgets/base",
       "_view_module_version": "1.2.0",
       "_view_name": "LayoutView",
       "align_content": null,
       "align_items": null,
       "align_self": null,
       "border": null,
       "bottom": null,
       "display": null,
       "flex": null,
       "flex_flow": null,
       "grid_area": null,
       "grid_auto_columns": null,
       "grid_auto_flow": null,
       "grid_auto_rows": null,
       "grid_column": null,
       "grid_gap": null,
       "grid_row": null,
       "grid_template_areas": null,
       "grid_template_columns": null,
       "grid_template_rows": null,
       "height": null,
       "justify_content": null,
       "justify_items": null,
       "left": null,
       "margin": null,
       "max_height": null,
       "max_width": null,
       "min_height": null,
       "min_width": null,
       "object_fit": null,
       "object_position": null,
       "order": null,
       "overflow": null,
       "overflow_x": null,
       "overflow_y": null,
       "padding": null,
       "right": null,
       "top": null,
       "visibility": null,
       "width": null
      }
     }
    },
    "version_major": 2,
    "version_minor": 0
   }
  }
 },
 "nbformat": 4,
 "nbformat_minor": 5
}
