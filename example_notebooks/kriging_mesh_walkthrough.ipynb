{
 "cells": [
  {
   "cell_type": "markdown",
   "id": "c3ef086a",
   "metadata": {},
   "source": [
    "# EchoPro Kriging mesh Workflow <a class=\"tocSkip\">"
   ]
  },
  {
   "cell_type": "markdown",
   "id": "9c774b6f",
   "metadata": {},
   "source": [
    "# Import libraries and configure the Jupyter notebook"
   ]
  },
  {
   "cell_type": "code",
   "execution_count": null,
   "id": "ce0b125b",
   "metadata": {},
   "outputs": [],
   "source": [
    "# libraries used in the Notebook\n",
    "import matplotlib.pyplot as plt\n",
    "import geopandas\n",
    "import folium\n",
    "\n",
    "# Python version of EchoPro\n",
    "import EchoPro\n",
    "\n",
    "# obtain all visualization routines\n",
    "from EchoPro.export import plot_layered_points, plot_points"
   ]
  },
  {
   "cell_type": "markdown",
   "id": "659a6546",
   "metadata": {},
   "source": [
    "# Set up  EchoPro for a specific survey year"
   ]
  },
  {
   "cell_type": "markdown",
   "id": "7a8d5fb8",
   "metadata": {},
   "source": [
    "## Initialize EchoPro object  using configuration files\n",
    "\n",
    "* `initialization_config.yml` -- parameters independent of survey year\n",
    "* `survey_year_2019_config.yml` -- parameters specific to survey year\n",
    "* `source` -- Define the region of data to use e.g. US, CAN, US & CAN\n",
    "* `exclude_age1` -- States whether age 1 hake should be included in analysis."
   ]
  },
  {
   "cell_type": "code",
   "execution_count": null,
   "id": "3ca74684-6735-45e0-a55b-f5e3f56b0988",
   "metadata": {},
   "outputs": [],
   "source": [
    "%%time \n",
    "survey_2019 = EchoPro.Survey(init_file_path='../config_files/initialization_config.yml',\n",
    "                             survey_year_file_path='../config_files/survey_year_2019_config.yml',\n",
    "                             source=3,\n",
    "                             exclude_age1=True)"
   ]
  },
  {
   "cell_type": "markdown",
   "id": "cf7deaa0",
   "metadata": {},
   "source": [
    "## Load and process input data \n",
    "* This data is stored in `survey_2019`"
   ]
  },
  {
   "cell_type": "code",
   "execution_count": null,
   "id": "9b023b2b",
   "metadata": {},
   "outputs": [],
   "source": [
    "%%time \n",
    "survey_2019.load_survey_data()"
   ]
  },
  {
   "cell_type": "markdown",
   "id": "0eff49a3",
   "metadata": {},
   "source": [
    "## Compute the areal biomass density\n",
    "* The areal biomass density is stored in `survey_2019`"
   ]
  },
  {
   "cell_type": "code",
   "execution_count": null,
   "id": "b61dc289",
   "metadata": {},
   "outputs": [],
   "source": [
    "%%time\n",
    "survey_2019.compute_biomass_density()"
   ]
  },
  {
   "cell_type": "markdown",
   "id": "d446bb02",
   "metadata": {},
   "source": [
    "# Obtain Kriging Mesh Data"
   ]
  },
  {
   "cell_type": "markdown",
   "id": "e9763c18",
   "metadata": {},
   "source": [
    "## Access Kriging mesh object\n",
    "* Reads mesh data files specified by `survey_2019` "
   ]
  },
  {
   "cell_type": "code",
   "execution_count": null,
   "id": "093ce61a",
   "metadata": {},
   "outputs": [],
   "source": [
    "krig_mesh = survey_2019.get_kriging_mesh()"
   ]
  },
  {
   "cell_type": "markdown",
   "id": "c9f56f5e",
   "metadata": {},
   "source": [
    "### Plot the Mesh, Transects and smoothed isobath contour\n",
    "\n",
    "* Generate interactive map using the Folium package\n",
    "* Mesh points are in gray\n",
    "* Transect points are represented by a changing color gradient\n",
    "* Smoothed contour points (200m isobath) are in blue "
   ]
  },
  {
   "cell_type": "code",
   "execution_count": null,
   "id": "d8b2dc8b",
   "metadata": {},
   "outputs": [],
   "source": [
    "fmap = plot_layered_points(krig_mesh)\n",
    "fmap"
   ]
  },
  {
   "cell_type": "markdown",
   "id": "20a27072",
   "metadata": {},
   "source": [
    "## Obtain reduced mesh \n",
    "- EchoPro allows the user to select only those mesh points that are contained in a polygon surrounding the transect points\n",
    "    - For more information on the method, please see the `Notes` section in the doc string for `KrigingMesh.get_polygon_of_transects`"
   ]
  },
  {
   "cell_type": "code",
   "execution_count": null,
   "id": "af0b5b3a",
   "metadata": {},
   "outputs": [],
   "source": [
    "# obtain the polygon of the transects \n",
    "transect_polygon = krig_mesh.get_polygon_of_transects(survey_2019.bio_calc.final_biomass_table, \n",
    "                                                      n_close=4, nm_to_buffer=1.25)"
   ]
  },
  {
   "cell_type": "code",
   "execution_count": null,
   "id": "3b17f5cf",
   "metadata": {},
   "outputs": [],
   "source": [
    "# plot transect points \n",
    "fmap_polygon = plot_points(survey_2019.bio_calc.final_biomass_table, cmap_column='transect_num', color='hex')\n",
    "\n",
    "# Add polygon to folium map and display it\n",
    "fmap_polygon.add_child(folium.GeoJson(transect_polygon))"
   ]
  },
  {
   "cell_type": "markdown",
   "id": "44c4f60e",
   "metadata": {},
   "source": [
    "### Select mesh points within polygon\n",
    "- Using the constructed polygon we can get those mesh points that are within it"
   ]
  },
  {
   "cell_type": "code",
   "execution_count": null,
   "id": "5fa6c687",
   "metadata": {},
   "outputs": [],
   "source": [
    "# get reduced mesh based off of a polygon\n",
    "reduced_mesh_gdf = krig_mesh.reduce_grid_points(transect_polygon)"
   ]
  },
  {
   "cell_type": "code",
   "execution_count": null,
   "id": "20d6fe3d",
   "metadata": {},
   "outputs": [],
   "source": [
    "# plot the reduced mesh points\n",
    "fmap_reduced = plot_points(reduced_mesh_gdf, color='red')\n",
    "\n",
    "# plot the transect points \n",
    "fmap_reduced = plot_points(survey_2019.bio_calc.final_biomass_table, fmap_reduced, \n",
    "                           cmap_column='transect_num', color='hex')\n",
    "\n",
    "# display transects and reduced mesh\n",
    "fmap_reduced"
   ]
  },
  {
   "cell_type": "code",
   "execution_count": null,
   "id": "9a45c095",
   "metadata": {},
   "outputs": [],
   "source": []
  }
 ],
 "metadata": {
  "kernelspec": {
   "display_name": "echopro_conda",
   "language": "python",
   "name": "echopro_conda"
  },
  "language_info": {
   "codemirror_mode": {
    "name": "ipython",
    "version": 3
   },
   "file_extension": ".py",
   "mimetype": "text/x-python",
   "name": "python",
   "nbconvert_exporter": "python",
   "pygments_lexer": "ipython3",
   "version": "3.9.12"
  },
  "toc": {
   "base_numbering": 1,
   "nav_menu": {},
   "number_sections": false,
   "sideBar": true,
   "skip_h1_title": true,
   "title_cell": "Table of Contents",
   "title_sidebar": "Contents",
   "toc_cell": false,
   "toc_position": {},
   "toc_section_display": true,
   "toc_window_display": false
  }
 },
 "nbformat": 4,
 "nbformat_minor": 5
}
